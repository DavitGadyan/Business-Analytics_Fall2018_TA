{
 "cells": [
  {
   "cell_type": "markdown",
   "metadata": {},
   "source": [
    "<h1>Linear Regression-Consumer confidence index for a specific bank</h1>\n",
    "<p>This notebook provides an example code of analyzing <b>Consumer confidence index</b> for customers of a specific bank using linear regression. The dependent variable which we will use in OLS model is <b>Consumer confidence index</b>. We would like to understand what variables have significant relationship with consumers' confidence.\n",
    "    \n",
    "The general sequence of steps that we will follow is the following:\n",
    "<ol>\n",
    "<li>Describing the data (checking for NAs, outliers,summary statistics of our variables, etc)\n",
    "<li>Checking for correlations between the variables, and drop one of correlated variables \n",
    "<li>Visualize the relationship between dependent variable (consumer conf. index) and some of variables which are highly correlated to consumer conf. index\n",
    "<li>Run OLS using statsmodel package\n",
    "<li>Get summary of the model\n",
    "<li>Interpret the results\n",
    "    <li><b>Model diagnostics</b>\n",
    "<li><b>Training, testing</b>\n",
    "</ol>\n",
    "</p>"
   ]
  },
  {
   "cell_type": "code",
   "execution_count": 1,
   "metadata": {},
   "outputs": [],
   "source": [
    "import pandas as pd\n",
    "import matplotlib.pyplot as plt\n",
    "import numpy as np\n",
    "from statsmodels.api import qqplot\n",
    "import statsmodels.stats as sms #for BP test\n",
    "from statsmodels.formula.api import ols #for linear regression\n",
    "import seaborn as sns #for heatmap\n",
    "from scipy import stats\n",
    "from sklearn.model_selection import train_test_split\n",
    "from sklearn import metrics\n",
    "from scipy.stats import shapiro\n",
    "from sklearn.metrics import r2_score"
   ]
  },
  {
   "cell_type": "markdown",
   "metadata": {},
   "source": [
    "# Description of Data"
   ]
  },
  {
   "cell_type": "code",
   "execution_count": 2,
   "metadata": {},
   "outputs": [],
   "source": [
    "#read the data\n",
    "data=pd.read_csv(\"bank_1.csv\")"
   ]
  },
  {
   "cell_type": "code",
   "execution_count": 3,
   "metadata": {},
   "outputs": [
    {
     "data": {
      "text/html": [
       "<div>\n",
       "<style scoped>\n",
       "    .dataframe tbody tr th:only-of-type {\n",
       "        vertical-align: middle;\n",
       "    }\n",
       "\n",
       "    .dataframe tbody tr th {\n",
       "        vertical-align: top;\n",
       "    }\n",
       "\n",
       "    .dataframe thead th {\n",
       "        text-align: right;\n",
       "    }\n",
       "</style>\n",
       "<table border=\"1\" class=\"dataframe\">\n",
       "  <thead>\n",
       "    <tr style=\"text-align: right;\">\n",
       "      <th></th>\n",
       "      <th>age</th>\n",
       "      <th>job</th>\n",
       "      <th>marital</th>\n",
       "      <th>education</th>\n",
       "      <th>default</th>\n",
       "      <th>housing</th>\n",
       "      <th>loan</th>\n",
       "      <th>contact</th>\n",
       "      <th>month</th>\n",
       "      <th>day_of_week</th>\n",
       "      <th>...</th>\n",
       "      <th>campaign</th>\n",
       "      <th>pdays</th>\n",
       "      <th>previous</th>\n",
       "      <th>poutcome</th>\n",
       "      <th>emp_var_rate</th>\n",
       "      <th>cons_price_idx</th>\n",
       "      <th>cons_conf_idx2</th>\n",
       "      <th>euribor3m</th>\n",
       "      <th>nr_employed</th>\n",
       "      <th>term_deposit</th>\n",
       "    </tr>\n",
       "  </thead>\n",
       "  <tbody>\n",
       "    <tr>\n",
       "      <th>0</th>\n",
       "      <td>30</td>\n",
       "      <td>blue-collar</td>\n",
       "      <td>married</td>\n",
       "      <td>basic.9y</td>\n",
       "      <td>no</td>\n",
       "      <td>yes</td>\n",
       "      <td>no</td>\n",
       "      <td>cellular</td>\n",
       "      <td>may</td>\n",
       "      <td>fri</td>\n",
       "      <td>...</td>\n",
       "      <td>2</td>\n",
       "      <td>999</td>\n",
       "      <td>0</td>\n",
       "      <td>nonexistent</td>\n",
       "      <td>-1.8</td>\n",
       "      <td>92.893</td>\n",
       "      <td>46.2</td>\n",
       "      <td>1.313</td>\n",
       "      <td>5099.1</td>\n",
       "      <td>no</td>\n",
       "    </tr>\n",
       "    <tr>\n",
       "      <th>1</th>\n",
       "      <td>39</td>\n",
       "      <td>services</td>\n",
       "      <td>single</td>\n",
       "      <td>high.school</td>\n",
       "      <td>no</td>\n",
       "      <td>no</td>\n",
       "      <td>no</td>\n",
       "      <td>telephone</td>\n",
       "      <td>may</td>\n",
       "      <td>fri</td>\n",
       "      <td>...</td>\n",
       "      <td>4</td>\n",
       "      <td>999</td>\n",
       "      <td>0</td>\n",
       "      <td>nonexistent</td>\n",
       "      <td>1.1</td>\n",
       "      <td>93.994</td>\n",
       "      <td>36.4</td>\n",
       "      <td>4.855</td>\n",
       "      <td>5191.0</td>\n",
       "      <td>no</td>\n",
       "    </tr>\n",
       "    <tr>\n",
       "      <th>2</th>\n",
       "      <td>25</td>\n",
       "      <td>services</td>\n",
       "      <td>married</td>\n",
       "      <td>high.school</td>\n",
       "      <td>no</td>\n",
       "      <td>yes</td>\n",
       "      <td>no</td>\n",
       "      <td>telephone</td>\n",
       "      <td>jun</td>\n",
       "      <td>wed</td>\n",
       "      <td>...</td>\n",
       "      <td>1</td>\n",
       "      <td>999</td>\n",
       "      <td>0</td>\n",
       "      <td>nonexistent</td>\n",
       "      <td>1.4</td>\n",
       "      <td>94.465</td>\n",
       "      <td>41.8</td>\n",
       "      <td>4.962</td>\n",
       "      <td>5228.1</td>\n",
       "      <td>no</td>\n",
       "    </tr>\n",
       "    <tr>\n",
       "      <th>3</th>\n",
       "      <td>47</td>\n",
       "      <td>admin.</td>\n",
       "      <td>married</td>\n",
       "      <td>university.degree</td>\n",
       "      <td>no</td>\n",
       "      <td>yes</td>\n",
       "      <td>no</td>\n",
       "      <td>cellular</td>\n",
       "      <td>nov</td>\n",
       "      <td>mon</td>\n",
       "      <td>...</td>\n",
       "      <td>1</td>\n",
       "      <td>999</td>\n",
       "      <td>0</td>\n",
       "      <td>nonexistent</td>\n",
       "      <td>-0.1</td>\n",
       "      <td>93.200</td>\n",
       "      <td>42.0</td>\n",
       "      <td>4.191</td>\n",
       "      <td>5195.8</td>\n",
       "      <td>no</td>\n",
       "    </tr>\n",
       "    <tr>\n",
       "      <th>4</th>\n",
       "      <td>32</td>\n",
       "      <td>services</td>\n",
       "      <td>single</td>\n",
       "      <td>university.degree</td>\n",
       "      <td>no</td>\n",
       "      <td>no</td>\n",
       "      <td>no</td>\n",
       "      <td>cellular</td>\n",
       "      <td>sep</td>\n",
       "      <td>thu</td>\n",
       "      <td>...</td>\n",
       "      <td>3</td>\n",
       "      <td>999</td>\n",
       "      <td>2</td>\n",
       "      <td>failure</td>\n",
       "      <td>-1.1</td>\n",
       "      <td>94.199</td>\n",
       "      <td>37.5</td>\n",
       "      <td>0.884</td>\n",
       "      <td>4963.6</td>\n",
       "      <td>no</td>\n",
       "    </tr>\n",
       "  </tbody>\n",
       "</table>\n",
       "<p>5 rows × 21 columns</p>\n",
       "</div>"
      ],
      "text/plain": [
       "   age          job  marital          education default housing loan  \\\n",
       "0   30  blue-collar  married           basic.9y      no     yes   no   \n",
       "1   39     services   single        high.school      no      no   no   \n",
       "2   25     services  married        high.school      no     yes   no   \n",
       "3   47       admin.  married  university.degree      no     yes   no   \n",
       "4   32     services   single  university.degree      no      no   no   \n",
       "\n",
       "     contact month day_of_week      ...       campaign  pdays  previous  \\\n",
       "0   cellular   may         fri      ...              2    999         0   \n",
       "1  telephone   may         fri      ...              4    999         0   \n",
       "2  telephone   jun         wed      ...              1    999         0   \n",
       "3   cellular   nov         mon      ...              1    999         0   \n",
       "4   cellular   sep         thu      ...              3    999         2   \n",
       "\n",
       "      poutcome emp_var_rate  cons_price_idx  cons_conf_idx2  euribor3m  \\\n",
       "0  nonexistent         -1.8          92.893            46.2      1.313   \n",
       "1  nonexistent          1.1          93.994            36.4      4.855   \n",
       "2  nonexistent          1.4          94.465            41.8      4.962   \n",
       "3  nonexistent         -0.1          93.200            42.0      4.191   \n",
       "4      failure         -1.1          94.199            37.5      0.884   \n",
       "\n",
       "   nr_employed  term_deposit  \n",
       "0       5099.1            no  \n",
       "1       5191.0            no  \n",
       "2       5228.1            no  \n",
       "3       5195.8            no  \n",
       "4       4963.6            no  \n",
       "\n",
       "[5 rows x 21 columns]"
      ]
     },
     "execution_count": 3,
     "metadata": {},
     "output_type": "execute_result"
    }
   ],
   "source": [
    "#lets see how the data looks \n",
    "data.head()"
   ]
  },
  {
   "cell_type": "code",
   "execution_count": 4,
   "metadata": {},
   "outputs": [
    {
     "data": {
      "text/plain": [
       "False"
      ]
     },
     "execution_count": 4,
     "metadata": {},
     "output_type": "execute_result"
    }
   ],
   "source": [
    "#let's check for NA's\n",
    "data.isnull().values.any()"
   ]
  },
  {
   "cell_type": "code",
   "execution_count": 5,
   "metadata": {},
   "outputs": [
    {
     "name": "stdout",
     "output_type": "stream",
     "text": [
      "<class 'pandas.core.frame.DataFrame'>\n",
      "RangeIndex: 3235 entries, 0 to 3234\n",
      "Data columns (total 21 columns):\n",
      "age               3235 non-null int64\n",
      "job               3235 non-null object\n",
      "marital           3235 non-null object\n",
      "education         3235 non-null object\n",
      "default           3235 non-null object\n",
      "housing           3235 non-null object\n",
      "loan              3235 non-null object\n",
      "contact           3235 non-null object\n",
      "month             3235 non-null object\n",
      "day_of_week       3235 non-null object\n",
      "duration          3235 non-null int64\n",
      "campaign          3235 non-null int64\n",
      "pdays             3235 non-null int64\n",
      "previous          3235 non-null int64\n",
      "poutcome          3235 non-null object\n",
      "emp_var_rate      3235 non-null float64\n",
      "cons_price_idx    3235 non-null float64\n",
      "cons_conf_idx2    3235 non-null float64\n",
      "euribor3m         3235 non-null float64\n",
      "nr_employed       3235 non-null float64\n",
      "term_deposit      3235 non-null object\n",
      "dtypes: float64(5), int64(5), object(11)\n",
      "memory usage: 530.8+ KB\n"
     ]
    }
   ],
   "source": [
    "#let's get info about all the variables and the types of them\n",
    "data.info()"
   ]
  },
  {
   "cell_type": "code",
   "execution_count": 6,
   "metadata": {},
   "outputs": [
    {
     "data": {
      "text/html": [
       "<div>\n",
       "<style scoped>\n",
       "    .dataframe tbody tr th:only-of-type {\n",
       "        vertical-align: middle;\n",
       "    }\n",
       "\n",
       "    .dataframe tbody tr th {\n",
       "        vertical-align: top;\n",
       "    }\n",
       "\n",
       "    .dataframe thead th {\n",
       "        text-align: right;\n",
       "    }\n",
       "</style>\n",
       "<table border=\"1\" class=\"dataframe\">\n",
       "  <thead>\n",
       "    <tr style=\"text-align: right;\">\n",
       "      <th></th>\n",
       "      <th>age</th>\n",
       "      <th>duration</th>\n",
       "      <th>campaign</th>\n",
       "      <th>pdays</th>\n",
       "      <th>previous</th>\n",
       "      <th>emp_var_rate</th>\n",
       "      <th>cons_price_idx</th>\n",
       "      <th>cons_conf_idx2</th>\n",
       "      <th>euribor3m</th>\n",
       "      <th>nr_employed</th>\n",
       "    </tr>\n",
       "  </thead>\n",
       "  <tbody>\n",
       "    <tr>\n",
       "      <th>count</th>\n",
       "      <td>3235.000000</td>\n",
       "      <td>3235.000000</td>\n",
       "      <td>3235.000000</td>\n",
       "      <td>3235.000000</td>\n",
       "      <td>3235.000000</td>\n",
       "      <td>3235.000000</td>\n",
       "      <td>3235.000000</td>\n",
       "      <td>3235.000000</td>\n",
       "      <td>3235.000000</td>\n",
       "      <td>3235.000000</td>\n",
       "    </tr>\n",
       "    <tr>\n",
       "      <th>mean</th>\n",
       "      <td>39.311901</td>\n",
       "      <td>259.800927</td>\n",
       "      <td>2.509428</td>\n",
       "      <td>952.026584</td>\n",
       "      <td>0.212056</td>\n",
       "      <td>-0.061206</td>\n",
       "      <td>93.531650</td>\n",
       "      <td>40.558887</td>\n",
       "      <td>3.466875</td>\n",
       "      <td>5160.250974</td>\n",
       "    </tr>\n",
       "    <tr>\n",
       "      <th>std</th>\n",
       "      <td>10.303260</td>\n",
       "      <td>262.956331</td>\n",
       "      <td>2.585368</td>\n",
       "      <td>210.859618</td>\n",
       "      <td>0.572653</td>\n",
       "      <td>1.604765</td>\n",
       "      <td>0.587567</td>\n",
       "      <td>4.755493</td>\n",
       "      <td>1.777472</td>\n",
       "      <td>76.953731</td>\n",
       "    </tr>\n",
       "    <tr>\n",
       "      <th>min</th>\n",
       "      <td>18.000000</td>\n",
       "      <td>0.000000</td>\n",
       "      <td>1.000000</td>\n",
       "      <td>0.000000</td>\n",
       "      <td>0.000000</td>\n",
       "      <td>-3.400000</td>\n",
       "      <td>92.201000</td>\n",
       "      <td>26.900000</td>\n",
       "      <td>0.635000</td>\n",
       "      <td>4963.600000</td>\n",
       "    </tr>\n",
       "    <tr>\n",
       "      <th>25%</th>\n",
       "      <td>31.500000</td>\n",
       "      <td>105.000000</td>\n",
       "      <td>1.000000</td>\n",
       "      <td>999.000000</td>\n",
       "      <td>0.000000</td>\n",
       "      <td>-1.800000</td>\n",
       "      <td>93.075000</td>\n",
       "      <td>36.400000</td>\n",
       "      <td>1.313000</td>\n",
       "      <td>5099.100000</td>\n",
       "    </tr>\n",
       "    <tr>\n",
       "      <th>50%</th>\n",
       "      <td>37.000000</td>\n",
       "      <td>182.000000</td>\n",
       "      <td>2.000000</td>\n",
       "      <td>999.000000</td>\n",
       "      <td>0.000000</td>\n",
       "      <td>1.100000</td>\n",
       "      <td>93.444000</td>\n",
       "      <td>41.800000</td>\n",
       "      <td>4.856000</td>\n",
       "      <td>5191.000000</td>\n",
       "    </tr>\n",
       "    <tr>\n",
       "      <th>75%</th>\n",
       "      <td>46.000000</td>\n",
       "      <td>316.000000</td>\n",
       "      <td>3.000000</td>\n",
       "      <td>999.000000</td>\n",
       "      <td>0.000000</td>\n",
       "      <td>1.400000</td>\n",
       "      <td>93.994000</td>\n",
       "      <td>42.700000</td>\n",
       "      <td>4.961000</td>\n",
       "      <td>5228.100000</td>\n",
       "    </tr>\n",
       "    <tr>\n",
       "      <th>max</th>\n",
       "      <td>88.000000</td>\n",
       "      <td>3643.000000</td>\n",
       "      <td>35.000000</td>\n",
       "      <td>999.000000</td>\n",
       "      <td>6.000000</td>\n",
       "      <td>1.400000</td>\n",
       "      <td>94.767000</td>\n",
       "      <td>50.800000</td>\n",
       "      <td>5.045000</td>\n",
       "      <td>5228.100000</td>\n",
       "    </tr>\n",
       "  </tbody>\n",
       "</table>\n",
       "</div>"
      ],
      "text/plain": [
       "               age     duration     campaign        pdays     previous  \\\n",
       "count  3235.000000  3235.000000  3235.000000  3235.000000  3235.000000   \n",
       "mean     39.311901   259.800927     2.509428   952.026584     0.212056   \n",
       "std      10.303260   262.956331     2.585368   210.859618     0.572653   \n",
       "min      18.000000     0.000000     1.000000     0.000000     0.000000   \n",
       "25%      31.500000   105.000000     1.000000   999.000000     0.000000   \n",
       "50%      37.000000   182.000000     2.000000   999.000000     0.000000   \n",
       "75%      46.000000   316.000000     3.000000   999.000000     0.000000   \n",
       "max      88.000000  3643.000000    35.000000   999.000000     6.000000   \n",
       "\n",
       "       emp_var_rate  cons_price_idx  cons_conf_idx2    euribor3m  nr_employed  \n",
       "count   3235.000000     3235.000000     3235.000000  3235.000000  3235.000000  \n",
       "mean      -0.061206       93.531650       40.558887     3.466875  5160.250974  \n",
       "std        1.604765        0.587567        4.755493     1.777472    76.953731  \n",
       "min       -3.400000       92.201000       26.900000     0.635000  4963.600000  \n",
       "25%       -1.800000       93.075000       36.400000     1.313000  5099.100000  \n",
       "50%        1.100000       93.444000       41.800000     4.856000  5191.000000  \n",
       "75%        1.400000       93.994000       42.700000     4.961000  5228.100000  \n",
       "max        1.400000       94.767000       50.800000     5.045000  5228.100000  "
      ]
     },
     "execution_count": 6,
     "metadata": {},
     "output_type": "execute_result"
    }
   ],
   "source": [
    "#Getting summary statistics of numeric variables\n",
    "data.describe()"
   ]
  },
  {
   "cell_type": "code",
   "execution_count": 7,
   "metadata": {},
   "outputs": [],
   "source": [
    "#let's separate numeric and object variables\n",
    "data_numeric = data.select_dtypes(exclude=[\"object\"])\n",
    "data_object = data.select_dtypes(include=[\"object\"])"
   ]
  },
  {
   "cell_type": "code",
   "execution_count": 8,
   "metadata": {},
   "outputs": [
    {
     "name": "stdout",
     "output_type": "stream",
     "text": [
      "job \n",
      " admin.           876\n",
      "technician       591\n",
      "blue-collar      579\n",
      "services         288\n",
      "management       277\n",
      "self-employed    130\n",
      "retired          124\n",
      "entrepreneur     111\n",
      "unemployed        90\n",
      "housemaid         78\n",
      "student           70\n",
      "unknown           21\n",
      "Name: job, dtype: int64 \n",
      " \n",
      "\n",
      "--------------------\n",
      "marital \n",
      " married     1867\n",
      "single       996\n",
      "divorced     362\n",
      "unknown       10\n",
      "Name: marital, dtype: int64 \n",
      " \n",
      "\n",
      "--------------------\n",
      "education \n",
      " university.degree      1114\n",
      "high.school             732\n",
      "professional.course     456\n",
      "basic.9y                412\n",
      "basic.4y                251\n",
      "basic.6y                151\n",
      "unknown                 118\n",
      "illiterate                1\n",
      "Name: education, dtype: int64 \n",
      " \n",
      "\n",
      "--------------------\n",
      "default \n",
      " no     3234\n",
      "yes       1\n",
      "Name: default, dtype: int64 \n",
      " \n",
      "\n",
      "--------------------\n",
      "housing \n",
      " yes    1761\n",
      "no     1474\n",
      "Name: housing, dtype: int64 \n",
      " \n",
      "\n",
      "--------------------\n",
      "loan \n",
      " no     2703\n",
      "yes     532\n",
      "Name: loan, dtype: int64 \n",
      " \n",
      "\n",
      "--------------------\n",
      "contact \n",
      " cellular     2202\n",
      "telephone    1033\n",
      "Name: contact, dtype: int64 \n",
      " \n",
      "\n",
      "--------------------\n",
      "month \n",
      " may    1028\n",
      "jul     537\n",
      "aug     518\n",
      "nov     398\n",
      "jun     383\n",
      "apr     179\n",
      "oct      65\n",
      "sep      60\n",
      "mar      45\n",
      "dec      22\n",
      "Name: month, dtype: int64 \n",
      " \n",
      "\n",
      "--------------------\n",
      "day_of_week \n",
      " thu    666\n",
      "mon    665\n",
      "tue    650\n",
      "wed    649\n",
      "fri    605\n",
      "Name: day_of_week, dtype: int64 \n",
      " \n",
      "\n",
      "--------------------\n",
      "poutcome \n",
      " nonexistent    2719\n",
      "failure         379\n",
      "success         137\n",
      "Name: poutcome, dtype: int64 \n",
      " \n",
      "\n",
      "--------------------\n",
      "term_deposit \n",
      " no     2841\n",
      "yes     394\n",
      "Name: term_deposit, dtype: int64 \n",
      " \n",
      "\n",
      "--------------------\n"
     ]
    }
   ],
   "source": [
    "#let's see categories and number of observations in each category for object variables\n",
    "for i in data_object.columns:\n",
    "    j=data[i].value_counts()\n",
    "    print(i,\"\\n\",j,\"\\n\",\"\\n\")\n",
    "    print(\"--------------------\")"
   ]
  },
  {
   "cell_type": "code",
   "execution_count": 9,
   "metadata": {},
   "outputs": [
    {
     "data": {
      "text/plain": [
       "age               False\n",
       "duration          False\n",
       "campaign          False\n",
       "pdays             False\n",
       "previous          False\n",
       "emp_var_rate      False\n",
       "cons_price_idx    False\n",
       "cons_conf_idx2    False\n",
       "euribor3m         False\n",
       "nr_employed       False\n",
       "dtype: bool"
      ]
     },
     "execution_count": 9,
     "metadata": {},
     "output_type": "execute_result"
    }
   ],
   "source": [
    "#let's check variables with zero variance(i.e. we have same values for all observations), \n",
    "#if there is any we will not include in our further analysis\n",
    "data_numeric.var()==0"
   ]
  },
  {
   "cell_type": "code",
   "execution_count": 10,
   "metadata": {},
   "outputs": [
    {
     "data": {
      "text/html": [
       "<div>\n",
       "<style scoped>\n",
       "    .dataframe tbody tr th:only-of-type {\n",
       "        vertical-align: middle;\n",
       "    }\n",
       "\n",
       "    .dataframe tbody tr th {\n",
       "        vertical-align: top;\n",
       "    }\n",
       "\n",
       "    .dataframe thead th {\n",
       "        text-align: right;\n",
       "    }\n",
       "</style>\n",
       "<table border=\"1\" class=\"dataframe\">\n",
       "  <thead>\n",
       "    <tr style=\"text-align: right;\">\n",
       "      <th></th>\n",
       "      <th>age</th>\n",
       "      <th>duration</th>\n",
       "      <th>campaign</th>\n",
       "      <th>pdays</th>\n",
       "      <th>previous</th>\n",
       "      <th>emp_var_rate</th>\n",
       "      <th>cons_price_idx</th>\n",
       "      <th>cons_conf_idx2</th>\n",
       "      <th>euribor3m</th>\n",
       "      <th>nr_employed</th>\n",
       "    </tr>\n",
       "  </thead>\n",
       "  <tbody>\n",
       "    <tr>\n",
       "      <th>age</th>\n",
       "      <td>1.000000</td>\n",
       "      <td>0.045538</td>\n",
       "      <td>-0.029682</td>\n",
       "      <td>-0.052030</td>\n",
       "      <td>0.057965</td>\n",
       "      <td>-0.054194</td>\n",
       "      <td>-0.035078</td>\n",
       "      <td>-0.090193</td>\n",
       "      <td>-0.045302</td>\n",
       "      <td>-0.065456</td>\n",
       "    </tr>\n",
       "    <tr>\n",
       "      <th>duration</th>\n",
       "      <td>0.045538</td>\n",
       "      <td>1.000000</td>\n",
       "      <td>-0.079506</td>\n",
       "      <td>-0.049401</td>\n",
       "      <td>0.024897</td>\n",
       "      <td>-0.026449</td>\n",
       "      <td>0.021763</td>\n",
       "      <td>0.036209</td>\n",
       "      <td>-0.028623</td>\n",
       "      <td>-0.040999</td>\n",
       "    </tr>\n",
       "    <tr>\n",
       "      <th>campaign</th>\n",
       "      <td>-0.029682</td>\n",
       "      <td>-0.079506</td>\n",
       "      <td>1.000000</td>\n",
       "      <td>0.059174</td>\n",
       "      <td>-0.090114</td>\n",
       "      <td>0.187081</td>\n",
       "      <td>0.147280</td>\n",
       "      <td>-0.015909</td>\n",
       "      <td>0.169425</td>\n",
       "      <td>0.166415</td>\n",
       "    </tr>\n",
       "    <tr>\n",
       "      <th>pdays</th>\n",
       "      <td>-0.052030</td>\n",
       "      <td>-0.049401</td>\n",
       "      <td>0.059174</td>\n",
       "      <td>1.000000</td>\n",
       "      <td>-0.593919</td>\n",
       "      <td>0.273313</td>\n",
       "      <td>0.051777</td>\n",
       "      <td>0.105049</td>\n",
       "      <td>0.306111</td>\n",
       "      <td>0.384571</td>\n",
       "    </tr>\n",
       "    <tr>\n",
       "      <th>previous</th>\n",
       "      <td>0.057965</td>\n",
       "      <td>0.024897</td>\n",
       "      <td>-0.090114</td>\n",
       "      <td>-0.593919</td>\n",
       "      <td>1.000000</td>\n",
       "      <td>-0.396073</td>\n",
       "      <td>-0.135186</td>\n",
       "      <td>0.026082</td>\n",
       "      <td>-0.442465</td>\n",
       "      <td>-0.500932</td>\n",
       "    </tr>\n",
       "    <tr>\n",
       "      <th>emp_var_rate</th>\n",
       "      <td>-0.054194</td>\n",
       "      <td>-0.026449</td>\n",
       "      <td>0.187081</td>\n",
       "      <td>0.273313</td>\n",
       "      <td>-0.396073</td>\n",
       "      <td>1.000000</td>\n",
       "      <td>0.741836</td>\n",
       "      <td>-0.147191</td>\n",
       "      <td>0.967303</td>\n",
       "      <td>0.890301</td>\n",
       "    </tr>\n",
       "    <tr>\n",
       "      <th>cons_price_idx</th>\n",
       "      <td>-0.035078</td>\n",
       "      <td>0.021763</td>\n",
       "      <td>0.147280</td>\n",
       "      <td>0.051777</td>\n",
       "      <td>-0.135186</td>\n",
       "      <td>0.741836</td>\n",
       "      <td>1.000000</td>\n",
       "      <td>-0.000698</td>\n",
       "      <td>0.630503</td>\n",
       "      <td>0.433317</td>\n",
       "    </tr>\n",
       "    <tr>\n",
       "      <th>cons_conf_idx2</th>\n",
       "      <td>-0.090193</td>\n",
       "      <td>0.036209</td>\n",
       "      <td>-0.015909</td>\n",
       "      <td>0.105049</td>\n",
       "      <td>0.026082</td>\n",
       "      <td>-0.147191</td>\n",
       "      <td>-0.000698</td>\n",
       "      <td>1.000000</td>\n",
       "      <td>-0.234345</td>\n",
       "      <td>-0.077489</td>\n",
       "    </tr>\n",
       "    <tr>\n",
       "      <th>euribor3m</th>\n",
       "      <td>-0.045302</td>\n",
       "      <td>-0.028623</td>\n",
       "      <td>0.169425</td>\n",
       "      <td>0.306111</td>\n",
       "      <td>-0.442465</td>\n",
       "      <td>0.967303</td>\n",
       "      <td>0.630503</td>\n",
       "      <td>-0.234345</td>\n",
       "      <td>1.000000</td>\n",
       "      <td>0.942567</td>\n",
       "    </tr>\n",
       "    <tr>\n",
       "      <th>nr_employed</th>\n",
       "      <td>-0.065456</td>\n",
       "      <td>-0.040999</td>\n",
       "      <td>0.166415</td>\n",
       "      <td>0.384571</td>\n",
       "      <td>-0.500932</td>\n",
       "      <td>0.890301</td>\n",
       "      <td>0.433317</td>\n",
       "      <td>-0.077489</td>\n",
       "      <td>0.942567</td>\n",
       "      <td>1.000000</td>\n",
       "    </tr>\n",
       "  </tbody>\n",
       "</table>\n",
       "</div>"
      ],
      "text/plain": [
       "                     age  duration  campaign     pdays  previous  \\\n",
       "age             1.000000  0.045538 -0.029682 -0.052030  0.057965   \n",
       "duration        0.045538  1.000000 -0.079506 -0.049401  0.024897   \n",
       "campaign       -0.029682 -0.079506  1.000000  0.059174 -0.090114   \n",
       "pdays          -0.052030 -0.049401  0.059174  1.000000 -0.593919   \n",
       "previous        0.057965  0.024897 -0.090114 -0.593919  1.000000   \n",
       "emp_var_rate   -0.054194 -0.026449  0.187081  0.273313 -0.396073   \n",
       "cons_price_idx -0.035078  0.021763  0.147280  0.051777 -0.135186   \n",
       "cons_conf_idx2 -0.090193  0.036209 -0.015909  0.105049  0.026082   \n",
       "euribor3m      -0.045302 -0.028623  0.169425  0.306111 -0.442465   \n",
       "nr_employed    -0.065456 -0.040999  0.166415  0.384571 -0.500932   \n",
       "\n",
       "                emp_var_rate  cons_price_idx  cons_conf_idx2  euribor3m  \\\n",
       "age                -0.054194       -0.035078       -0.090193  -0.045302   \n",
       "duration           -0.026449        0.021763        0.036209  -0.028623   \n",
       "campaign            0.187081        0.147280       -0.015909   0.169425   \n",
       "pdays               0.273313        0.051777        0.105049   0.306111   \n",
       "previous           -0.396073       -0.135186        0.026082  -0.442465   \n",
       "emp_var_rate        1.000000        0.741836       -0.147191   0.967303   \n",
       "cons_price_idx      0.741836        1.000000       -0.000698   0.630503   \n",
       "cons_conf_idx2     -0.147191       -0.000698        1.000000  -0.234345   \n",
       "euribor3m           0.967303        0.630503       -0.234345   1.000000   \n",
       "nr_employed         0.890301        0.433317       -0.077489   0.942567   \n",
       "\n",
       "                nr_employed  \n",
       "age               -0.065456  \n",
       "duration          -0.040999  \n",
       "campaign           0.166415  \n",
       "pdays              0.384571  \n",
       "previous          -0.500932  \n",
       "emp_var_rate       0.890301  \n",
       "cons_price_idx     0.433317  \n",
       "cons_conf_idx2    -0.077489  \n",
       "euribor3m          0.942567  \n",
       "nr_employed        1.000000  "
      ]
     },
     "execution_count": 10,
     "metadata": {},
     "output_type": "execute_result"
    }
   ],
   "source": [
    "data.corr()"
   ]
  },
  {
   "cell_type": "code",
   "execution_count": 11,
   "metadata": {},
   "outputs": [
    {
     "data": {
      "text/plain": [
       "<matplotlib.axes._subplots.AxesSubplot at 0x2811f40dac8>"
      ]
     },
     "execution_count": 11,
     "metadata": {},
     "output_type": "execute_result"
    },
    {
     "data": {
      "image/png": "[encoded data removed]",
      "text/plain": [
       "<Figure size 432x288 with 2 Axes>"
      ]
     },
     "metadata": {},
     "output_type": "display_data"
    }
   ],
   "source": [
    "sns.heatmap(data.corr().abs().round(2), annot=True)"
   ]
  },
  {
   "cell_type": "code",
   "execution_count": 12,
   "metadata": {},
   "outputs": [
    {
     "data": {
      "text/plain": [
       "<matplotlib.axes._subplots.AxesSubplot at 0x2811f8a3f60>"
      ]
     },
     "execution_count": 12,
     "metadata": {},
     "output_type": "execute_result"
    },
    {
     "data": {
      "image/png": "[encoded data removed]",
      "text/plain": [
       "<Figure size 432x288 with 2 Axes>"
      ]
     },
     "metadata": {},
     "output_type": "display_data"
    }
   ],
   "source": [
    "#plot correlation heatmap to see any correlations above or equal to 75% in absolute values\n",
    "sns.heatmap(data_numeric.corr().abs()>=0.75)"
   ]
  },
  {
   "cell_type": "code",
   "execution_count": 13,
   "metadata": {},
   "outputs": [],
   "source": [
    "#let's remove one of the following variables \"nr_employed\" as it is highly correlated with two variables: \"euribor3m\" and \"emp_var_rate\"\n",
    "del data_numeric[\"nr_employed\"]"
   ]
  },
  {
   "cell_type": "code",
   "execution_count": 14,
   "metadata": {},
   "outputs": [],
   "source": [
    "del data_numeric[\"euribor3m\"]"
   ]
  },
  {
   "cell_type": "markdown",
   "metadata": {},
   "source": [
    "# OLS Method"
   ]
  },
  {
   "cell_type": "code",
   "execution_count": 15,
   "metadata": {},
   "outputs": [],
   "source": [
    "#after making necessary changes in numeric and object datasets(in our example no change was needed), \n",
    "#we will combine back the datasets\n",
    "data_new=data_numeric.join(data_object,how='outer')"
   ]
  },
  {
   "cell_type": "code",
   "execution_count": 16,
   "metadata": {},
   "outputs": [
    {
     "data": {
      "text/plain": [
       "['age',\n",
       " 'duration',\n",
       " 'campaign',\n",
       " 'pdays',\n",
       " 'previous',\n",
       " 'emp_var_rate',\n",
       " 'cons_price_idx',\n",
       " 'cons_conf_idx2',\n",
       " 'job',\n",
       " 'marital',\n",
       " 'education',\n",
       " 'default',\n",
       " 'housing',\n",
       " 'loan',\n",
       " 'contact',\n",
       " 'month',\n",
       " 'day_of_week',\n",
       " 'poutcome',\n",
       " 'term_deposit']"
      ]
     },
     "execution_count": 16,
     "metadata": {},
     "output_type": "execute_result"
    }
   ],
   "source": [
    "var=data_new.columns.tolist()\n",
    "var"
   ]
  },
  {
   "cell_type": "code",
   "execution_count": 17,
   "metadata": {},
   "outputs": [],
   "source": [
    "del var[7]"
   ]
  },
  {
   "cell_type": "code",
   "execution_count": 18,
   "metadata": {},
   "outputs": [
    {
     "data": {
      "text/plain": [
       "'cons_conf_idx2~age+duration+campaign+pdays+previous+emp_var_rate+cons_price_idx+job+marital+education+default+housing+loan+contact+month+day_of_week+poutcome+term_deposit'"
      ]
     },
     "execution_count": 18,
     "metadata": {},
     "output_type": "execute_result"
    }
   ],
   "source": [
    "#as there are many variables, not to input all manually let's create formula \n",
    "formula=\"+\".join(var)\n",
    "formula='cons_conf_idx2~'+formula\n",
    "formula"
   ]
  },
  {
   "cell_type": "code",
   "execution_count": 19,
   "metadata": {},
   "outputs": [],
   "source": [
    "#first let's include all the explaining variables in the model(high correlated ones are already excluded)\n",
    "model_ols1=ols(formula=formula, data=data_new)"
   ]
  },
  {
   "cell_type": "code",
   "execution_count": 20,
   "metadata": {},
   "outputs": [
    {
     "data": {
      "text/html": [
       "<table class=\"simpletable\">\n",
       "<caption>OLS Regression Results</caption>\n",
       "<tr>\n",
       "  <th>Dep. Variable:</th>     <td>cons_conf_idx2</td>  <th>  R-squared:         </th> <td>   0.557</td> \n",
       "</tr>\n",
       "<tr>\n",
       "  <th>Model:</th>                   <td>OLS</td>       <th>  Adj. R-squared:    </th> <td>   0.550</td> \n",
       "</tr>\n",
       "<tr>\n",
       "  <th>Method:</th>             <td>Least Squares</td>  <th>  F-statistic:       </th> <td>   83.39</td> \n",
       "</tr>\n",
       "<tr>\n",
       "  <th>Date:</th>             <td>Sat, 06 Oct 2018</td> <th>  Prob (F-statistic):</th>  <td>  0.00</td>  \n",
       "</tr>\n",
       "<tr>\n",
       "  <th>Time:</th>                 <td>21:28:13</td>     <th>  Log-Likelihood:    </th> <td> -8317.9</td> \n",
       "</tr>\n",
       "<tr>\n",
       "  <th>No. Observations:</th>      <td>  3235</td>      <th>  AIC:               </th> <td>1.673e+04</td>\n",
       "</tr>\n",
       "<tr>\n",
       "  <th>Df Residuals:</th>          <td>  3186</td>      <th>  BIC:               </th> <td>1.703e+04</td>\n",
       "</tr>\n",
       "<tr>\n",
       "  <th>Df Model:</th>              <td>    48</td>      <th>                     </th>     <td> </td>    \n",
       "</tr>\n",
       "<tr>\n",
       "  <th>Covariance Type:</th>      <td>nonrobust</td>    <th>                     </th>     <td> </td>    \n",
       "</tr>\n",
       "</table>\n",
       "<table class=\"simpletable\">\n",
       "<tr>\n",
       "                  <td></td>                    <th>coef</th>     <th>std err</th>      <th>t</th>      <th>P>|t|</th>  <th>[0.025</th>    <th>0.975]</th>  \n",
       "</tr>\n",
       "<tr>\n",
       "  <th>Intercept</th>                        <td> -153.2136</td> <td>   20.516</td> <td>   -7.468</td> <td> 0.000</td> <td> -193.440</td> <td> -112.987</td>\n",
       "</tr>\n",
       "<tr>\n",
       "  <th>job[T.blue-collar]</th>               <td>    0.3286</td> <td>    0.218</td> <td>    1.510</td> <td> 0.131</td> <td>   -0.098</td> <td>    0.755</td>\n",
       "</tr>\n",
       "<tr>\n",
       "  <th>job[T.entrepreneur]</th>              <td>   -0.3158</td> <td>    0.328</td> <td>   -0.963</td> <td> 0.336</td> <td>   -0.959</td> <td>    0.328</td>\n",
       "</tr>\n",
       "<tr>\n",
       "  <th>job[T.housemaid]</th>                 <td>   -0.0660</td> <td>    0.395</td> <td>   -0.167</td> <td> 0.867</td> <td>   -0.839</td> <td>    0.708</td>\n",
       "</tr>\n",
       "<tr>\n",
       "  <th>job[T.management]</th>                <td>    0.1265</td> <td>    0.226</td> <td>    0.559</td> <td> 0.576</td> <td>   -0.317</td> <td>    0.570</td>\n",
       "</tr>\n",
       "<tr>\n",
       "  <th>job[T.retired]</th>                   <td>   -0.8987</td> <td>    0.354</td> <td>   -2.540</td> <td> 0.011</td> <td>   -1.593</td> <td>   -0.205</td>\n",
       "</tr>\n",
       "<tr>\n",
       "  <th>job[T.self-employed]</th>             <td>   -0.1943</td> <td>    0.304</td> <td>   -0.639</td> <td> 0.523</td> <td>   -0.790</td> <td>    0.402</td>\n",
       "</tr>\n",
       "<tr>\n",
       "  <th>job[T.services]</th>                  <td>    0.0338</td> <td>    0.233</td> <td>    0.145</td> <td> 0.884</td> <td>   -0.422</td> <td>    0.490</td>\n",
       "</tr>\n",
       "<tr>\n",
       "  <th>job[T.student]</th>                   <td>   -0.6232</td> <td>    0.426</td> <td>   -1.462</td> <td> 0.144</td> <td>   -1.459</td> <td>    0.213</td>\n",
       "</tr>\n",
       "<tr>\n",
       "  <th>job[T.technician]</th>                <td>   -0.0095</td> <td>    0.191</td> <td>   -0.050</td> <td> 0.960</td> <td>   -0.385</td> <td>    0.366</td>\n",
       "</tr>\n",
       "<tr>\n",
       "  <th>job[T.unemployed]</th>                <td>    0.4068</td> <td>    0.362</td> <td>    1.124</td> <td> 0.261</td> <td>   -0.303</td> <td>    1.116</td>\n",
       "</tr>\n",
       "<tr>\n",
       "  <th>job[T.unknown]</th>                   <td>   -1.0521</td> <td>    0.719</td> <td>   -1.463</td> <td> 0.144</td> <td>   -2.462</td> <td>    0.358</td>\n",
       "</tr>\n",
       "<tr>\n",
       "  <th>marital[T.married]</th>               <td>    0.0496</td> <td>    0.186</td> <td>    0.267</td> <td> 0.789</td> <td>   -0.314</td> <td>    0.414</td>\n",
       "</tr>\n",
       "<tr>\n",
       "  <th>marital[T.single]</th>                <td>    0.1874</td> <td>    0.212</td> <td>    0.884</td> <td> 0.377</td> <td>   -0.228</td> <td>    0.603</td>\n",
       "</tr>\n",
       "<tr>\n",
       "  <th>marital[T.unknown]</th>               <td>   -0.7419</td> <td>    1.028</td> <td>   -0.722</td> <td> 0.470</td> <td>   -2.757</td> <td>    1.273</td>\n",
       "</tr>\n",
       "<tr>\n",
       "  <th>education[T.basic.6y]</th>            <td>    0.2333</td> <td>    0.336</td> <td>    0.694</td> <td> 0.488</td> <td>   -0.426</td> <td>    0.892</td>\n",
       "</tr>\n",
       "<tr>\n",
       "  <th>education[T.basic.9y]</th>            <td>   -0.0460</td> <td>    0.266</td> <td>   -0.173</td> <td> 0.863</td> <td>   -0.567</td> <td>    0.475</td>\n",
       "</tr>\n",
       "<tr>\n",
       "  <th>education[T.high.school]</th>         <td>   -0.2085</td> <td>    0.265</td> <td>   -0.788</td> <td> 0.431</td> <td>   -0.727</td> <td>    0.310</td>\n",
       "</tr>\n",
       "<tr>\n",
       "  <th>education[T.illiterate]</th>          <td>   -2.8530</td> <td>    3.228</td> <td>   -0.884</td> <td> 0.377</td> <td>   -9.182</td> <td>    3.475</td>\n",
       "</tr>\n",
       "<tr>\n",
       "  <th>education[T.professional.course]</th> <td>   -0.4211</td> <td>    0.286</td> <td>   -1.472</td> <td> 0.141</td> <td>   -0.982</td> <td>    0.140</td>\n",
       "</tr>\n",
       "<tr>\n",
       "  <th>education[T.university.degree]</th>   <td>   -0.5354</td> <td>    0.264</td> <td>   -2.027</td> <td> 0.043</td> <td>   -1.053</td> <td>   -0.017</td>\n",
       "</tr>\n",
       "<tr>\n",
       "  <th>education[T.unknown]</th>             <td>   -1.2067</td> <td>    0.371</td> <td>   -3.251</td> <td> 0.001</td> <td>   -1.934</td> <td>   -0.479</td>\n",
       "</tr>\n",
       "<tr>\n",
       "  <th>default[T.yes]</th>                   <td>   -0.3543</td> <td>    3.222</td> <td>   -0.110</td> <td> 0.912</td> <td>   -6.672</td> <td>    5.963</td>\n",
       "</tr>\n",
       "<tr>\n",
       "  <th>housing[T.yes]</th>                   <td>    0.3321</td> <td>    0.114</td> <td>    2.910</td> <td> 0.004</td> <td>    0.108</td> <td>    0.556</td>\n",
       "</tr>\n",
       "<tr>\n",
       "  <th>loan[T.yes]</th>                      <td>    0.0146</td> <td>    0.152</td> <td>    0.096</td> <td> 0.924</td> <td>   -0.284</td> <td>    0.314</td>\n",
       "</tr>\n",
       "<tr>\n",
       "  <th>contact[T.telephone]</th>             <td>   -5.6092</td> <td>    0.184</td> <td>  -30.431</td> <td> 0.000</td> <td>   -5.971</td> <td>   -5.248</td>\n",
       "</tr>\n",
       "<tr>\n",
       "  <th>month[T.aug]</th>                     <td>  -10.3047</td> <td>    0.338</td> <td>  -30.516</td> <td> 0.000</td> <td>  -10.967</td> <td>   -9.643</td>\n",
       "</tr>\n",
       "<tr>\n",
       "  <th>month[T.dec]</th>                     <td>  -11.0336</td> <td>    0.733</td> <td>  -15.052</td> <td> 0.000</td> <td>  -12.471</td> <td>   -9.596</td>\n",
       "</tr>\n",
       "<tr>\n",
       "  <th>month[T.jul]</th>                     <td>   -4.3939</td> <td>    0.320</td> <td>  -13.732</td> <td> 0.000</td> <td>   -5.021</td> <td>   -3.767</td>\n",
       "</tr>\n",
       "<tr>\n",
       "  <th>month[T.jun]</th>                     <td>   -2.2377</td> <td>    0.319</td> <td>   -7.005</td> <td> 0.000</td> <td>   -2.864</td> <td>   -1.611</td>\n",
       "</tr>\n",
       "<tr>\n",
       "  <th>month[T.mar]</th>                     <td>   -2.3174</td> <td>    0.546</td> <td>   -4.243</td> <td> 0.000</td> <td>   -3.388</td> <td>   -1.246</td>\n",
       "</tr>\n",
       "<tr>\n",
       "  <th>month[T.may]</th>                     <td>   -2.9664</td> <td>    0.272</td> <td>  -10.899</td> <td> 0.000</td> <td>   -3.500</td> <td>   -2.433</td>\n",
       "</tr>\n",
       "<tr>\n",
       "  <th>month[T.nov]</th>                     <td>   -4.4877</td> <td>    0.307</td> <td>  -14.626</td> <td> 0.000</td> <td>   -5.089</td> <td>   -3.886</td>\n",
       "</tr>\n",
       "<tr>\n",
       "  <th>month[T.oct]</th>                     <td>  -10.4577</td> <td>    0.471</td> <td>  -22.206</td> <td> 0.000</td> <td>  -11.381</td> <td>   -9.534</td>\n",
       "</tr>\n",
       "<tr>\n",
       "  <th>month[T.sep]</th>                     <td>  -11.0452</td> <td>    0.490</td> <td>  -22.546</td> <td> 0.000</td> <td>  -12.006</td> <td>  -10.085</td>\n",
       "</tr>\n",
       "<tr>\n",
       "  <th>day_of_week[T.mon]</th>               <td>    0.4063</td> <td>    0.180</td> <td>    2.254</td> <td> 0.024</td> <td>    0.053</td> <td>    0.760</td>\n",
       "</tr>\n",
       "<tr>\n",
       "  <th>day_of_week[T.thu]</th>               <td>    0.1406</td> <td>    0.181</td> <td>    0.779</td> <td> 0.436</td> <td>   -0.213</td> <td>    0.495</td>\n",
       "</tr>\n",
       "<tr>\n",
       "  <th>day_of_week[T.tue]</th>               <td>   -0.1108</td> <td>    0.182</td> <td>   -0.609</td> <td> 0.543</td> <td>   -0.467</td> <td>    0.246</td>\n",
       "</tr>\n",
       "<tr>\n",
       "  <th>day_of_week[T.wed]</th>               <td>   -0.0058</td> <td>    0.182</td> <td>   -0.032</td> <td> 0.975</td> <td>   -0.363</td> <td>    0.352</td>\n",
       "</tr>\n",
       "<tr>\n",
       "  <th>poutcome[T.nonexistent]</th>          <td>   -0.0684</td> <td>    0.314</td> <td>   -0.218</td> <td> 0.828</td> <td>   -0.685</td> <td>    0.548</td>\n",
       "</tr>\n",
       "<tr>\n",
       "  <th>poutcome[T.success]</th>              <td>   -0.6046</td> <td>    0.885</td> <td>   -0.683</td> <td> 0.495</td> <td>   -2.340</td> <td>    1.131</td>\n",
       "</tr>\n",
       "<tr>\n",
       "  <th>term_deposit[T.yes]</th>              <td>   -1.2936</td> <td>    0.215</td> <td>   -6.004</td> <td> 0.000</td> <td>   -1.716</td> <td>   -0.871</td>\n",
       "</tr>\n",
       "<tr>\n",
       "  <th>age</th>                              <td>   -0.0051</td> <td>    0.007</td> <td>   -0.723</td> <td> 0.470</td> <td>   -0.019</td> <td>    0.009</td>\n",
       "</tr>\n",
       "<tr>\n",
       "  <th>duration</th>                         <td>    0.0005</td> <td>    0.000</td> <td>    1.947</td> <td> 0.052</td> <td>-3.39e-06</td> <td>    0.001</td>\n",
       "</tr>\n",
       "<tr>\n",
       "  <th>campaign</th>                         <td>    0.0339</td> <td>    0.022</td> <td>    1.511</td> <td> 0.131</td> <td>   -0.010</td> <td>    0.078</td>\n",
       "</tr>\n",
       "<tr>\n",
       "  <th>pdays</th>                            <td>    0.0018</td> <td>    0.001</td> <td>    1.987</td> <td> 0.047</td> <td> 2.31e-05</td> <td>    0.004</td>\n",
       "</tr>\n",
       "<tr>\n",
       "  <th>previous</th>                         <td>    0.1727</td> <td>    0.215</td> <td>    0.804</td> <td> 0.422</td> <td>   -0.249</td> <td>    0.594</td>\n",
       "</tr>\n",
       "<tr>\n",
       "  <th>emp_var_rate</th>                     <td>   -0.3903</td> <td>    0.087</td> <td>   -4.475</td> <td> 0.000</td> <td>   -0.561</td> <td>   -0.219</td>\n",
       "</tr>\n",
       "<tr>\n",
       "  <th>cons_price_idx</th>                   <td>    2.1243</td> <td>    0.220</td> <td>    9.669</td> <td> 0.000</td> <td>    1.693</td> <td>    2.555</td>\n",
       "</tr>\n",
       "</table>\n",
       "<table class=\"simpletable\">\n",
       "<tr>\n",
       "  <th>Omnibus:</th>       <td>265.063</td> <th>  Durbin-Watson:     </th> <td>   1.967</td>\n",
       "</tr>\n",
       "<tr>\n",
       "  <th>Prob(Omnibus):</th> <td> 0.000</td>  <th>  Jarque-Bera (JB):  </th> <td>1601.417</td>\n",
       "</tr>\n",
       "<tr>\n",
       "  <th>Skew:</th>          <td> 0.004</td>  <th>  Prob(JB):          </th> <td>    0.00</td>\n",
       "</tr>\n",
       "<tr>\n",
       "  <th>Kurtosis:</th>      <td> 6.447</td>  <th>  Cond. No.          </th> <td>3.71e+05</td>\n",
       "</tr>\n",
       "</table><br/><br/>Warnings:<br/>[1] Standard Errors assume that the covariance matrix of the errors is correctly specified.<br/>[2] The condition number is large, 3.71e+05. This might indicate that there are<br/>strong multicollinearity or other numerical problems."
      ],
      "text/plain": [
       "<class 'statsmodels.iolib.summary.Summary'>\n",
       "\"\"\"\n",
       "                            OLS Regression Results                            \n",
       "==============================================================================\n",
       "Dep. Variable:         cons_conf_idx2   R-squared:                       0.557\n",
       "Model:                            OLS   Adj. R-squared:                  0.550\n",
       "Method:                 Least Squares   F-statistic:                     83.39\n",
       "Date:                Sat, 06 Oct 2018   Prob (F-statistic):               0.00\n",
       "Time:                        21:28:13   Log-Likelihood:                -8317.9\n",
       "No. Observations:                3235   AIC:                         1.673e+04\n",
       "Df Residuals:                    3186   BIC:                         1.703e+04\n",
       "Df Model:                          48                                         \n",
       "Covariance Type:            nonrobust                                         \n",
       "====================================================================================================\n",
       "                                       coef    std err          t      P>|t|      [0.025      0.975]\n",
       "----------------------------------------------------------------------------------------------------\n",
       "Intercept                         -153.2136     20.516     -7.468      0.000    -193.440    -112.987\n",
       "job[T.blue-collar]                   0.3286      0.218      1.510      0.131      -0.098       0.755\n",
       "job[T.entrepreneur]                 -0.3158      0.328     -0.963      0.336      -0.959       0.328\n",
       "job[T.housemaid]                    -0.0660      0.395     -0.167      0.867      -0.839       0.708\n",
       "job[T.management]                    0.1265      0.226      0.559      0.576      -0.317       0.570\n",
       "job[T.retired]                      -0.8987      0.354     -2.540      0.011      -1.593      -0.205\n",
       "job[T.self-employed]                -0.1943      0.304     -0.639      0.523      -0.790       0.402\n",
       "job[T.services]                      0.0338      0.233      0.145      0.884      -0.422       0.490\n",
       "job[T.student]                      -0.6232      0.426     -1.462      0.144      -1.459       0.213\n",
       "job[T.technician]                   -0.0095      0.191     -0.050      0.960      -0.385       0.366\n",
       "job[T.unemployed]                    0.4068      0.362      1.124      0.261      -0.303       1.116\n",
       "job[T.unknown]                      -1.0521      0.719     -1.463      0.144      -2.462       0.358\n",
       "marital[T.married]                   0.0496      0.186      0.267      0.789      -0.314       0.414\n",
       "marital[T.single]                    0.1874      0.212      0.884      0.377      -0.228       0.603\n",
       "marital[T.unknown]                  -0.7419      1.028     -0.722      0.470      -2.757       1.273\n",
       "education[T.basic.6y]                0.2333      0.336      0.694      0.488      -0.426       0.892\n",
       "education[T.basic.9y]               -0.0460      0.266     -0.173      0.863      -0.567       0.475\n",
       "education[T.high.school]            -0.2085      0.265     -0.788      0.431      -0.727       0.310\n",
       "education[T.illiterate]             -2.8530      3.228     -0.884      0.377      -9.182       3.475\n",
       "education[T.professional.course]    -0.4211      0.286     -1.472      0.141      -0.982       0.140\n",
       "education[T.university.degree]      -0.5354      0.264     -2.027      0.043      -1.053      -0.017\n",
       "education[T.unknown]                -1.2067      0.371     -3.251      0.001      -1.934      -0.479\n",
       "default[T.yes]                      -0.3543      3.222     -0.110      0.912      -6.672       5.963\n",
       "housing[T.yes]                       0.3321      0.114      2.910      0.004       0.108       0.556\n",
       "loan[T.yes]                          0.0146      0.152      0.096      0.924      -0.284       0.314\n",
       "contact[T.telephone]                -5.6092      0.184    -30.431      0.000      -5.971      -5.248\n",
       "month[T.aug]                       -10.3047      0.338    -30.516      0.000     -10.967      -9.643\n",
       "month[T.dec]                       -11.0336      0.733    -15.052      0.000     -12.471      -9.596\n",
       "month[T.jul]                        -4.3939      0.320    -13.732      0.000      -5.021      -3.767\n",
       "month[T.jun]                        -2.2377      0.319     -7.005      0.000      -2.864      -1.611\n",
       "month[T.mar]                        -2.3174      0.546     -4.243      0.000      -3.388      -1.246\n",
       "month[T.may]                        -2.9664      0.272    -10.899      0.000      -3.500      -2.433\n",
       "month[T.nov]                        -4.4877      0.307    -14.626      0.000      -5.089      -3.886\n",
       "month[T.oct]                       -10.4577      0.471    -22.206      0.000     -11.381      -9.534\n",
       "month[T.sep]                       -11.0452      0.490    -22.546      0.000     -12.006     -10.085\n",
       "day_of_week[T.mon]                   0.4063      0.180      2.254      0.024       0.053       0.760\n",
       "day_of_week[T.thu]                   0.1406      0.181      0.779      0.436      -0.213       0.495\n",
       "day_of_week[T.tue]                  -0.1108      0.182     -0.609      0.543      -0.467       0.246\n",
       "day_of_week[T.wed]                  -0.0058      0.182     -0.032      0.975      -0.363       0.352\n",
       "poutcome[T.nonexistent]             -0.0684      0.314     -0.218      0.828      -0.685       0.548\n",
       "poutcome[T.success]                 -0.6046      0.885     -0.683      0.495      -2.340       1.131\n",
       "term_deposit[T.yes]                 -1.2936      0.215     -6.004      0.000      -1.716      -0.871\n",
       "age                                 -0.0051      0.007     -0.723      0.470      -0.019       0.009\n",
       "duration                             0.0005      0.000      1.947      0.052   -3.39e-06       0.001\n",
       "campaign                             0.0339      0.022      1.511      0.131      -0.010       0.078\n",
       "pdays                                0.0018      0.001      1.987      0.047    2.31e-05       0.004\n",
       "previous                             0.1727      0.215      0.804      0.422      -0.249       0.594\n",
       "emp_var_rate                        -0.3903      0.087     -4.475      0.000      -0.561      -0.219\n",
       "cons_price_idx                       2.1243      0.220      9.669      0.000       1.693       2.555\n",
       "==============================================================================\n",
       "Omnibus:                      265.063   Durbin-Watson:                   1.967\n",
       "Prob(Omnibus):                  0.000   Jarque-Bera (JB):             1601.417\n",
       "Skew:                           0.004   Prob(JB):                         0.00\n",
       "Kurtosis:                       6.447   Cond. No.                     3.71e+05\n",
       "==============================================================================\n",
       "\n",
       "Warnings:\n",
       "[1] Standard Errors assume that the covariance matrix of the errors is correctly specified.\n",
       "[2] The condition number is large, 3.71e+05. This might indicate that there are\n",
       "strong multicollinearity or other numerical problems.\n",
       "\"\"\""
      ]
     },
     "execution_count": 20,
     "metadata": {},
     "output_type": "execute_result"
    }
   ],
   "source": [
    "results=model_ols1.fit()\n",
    "results.summary()"
   ]
  },
  {
   "cell_type": "markdown",
   "metadata": {},
   "source": [
    "# Model diagnostics"
   ]
  },
  {
   "cell_type": "markdown",
   "metadata": {},
   "source": [
    "<h2> Cecking for Linearity and Equal variance</h2>\n",
    "\n",
    "Residuals of the model will be used to test for linearity and for other assumptions as well.\n",
    "\n",
    "1. Both linearity and equal variance can be tested by plotting residuals vs. predictions (residuals are prediction errors)\n",
    "2. We will use <b>Harvey collier</b> test for linearity\n",
    "3. <b>Breusch-Pagan</b> test for homoscedasticity\n"
   ]
  },
  {
   "cell_type": "code",
   "execution_count": 21,
   "metadata": {},
   "outputs": [
    {
     "data": {
      "text/plain": [
       "0    1.846690\n",
       "1   -2.855660\n",
       "2    0.829266\n",
       "3   -0.088590\n",
       "4   -0.707879\n",
       "5   -0.967385\n",
       "6    0.334675\n",
       "7   -0.401288\n",
       "8   -2.509853\n",
       "9    0.265323\n",
       "dtype: float64"
      ]
     },
     "execution_count": 21,
     "metadata": {},
     "output_type": "execute_result"
    }
   ],
   "source": [
    "#residuals of the model\n",
    "residuals=results.resid\n",
    "residuals.head(10)"
   ]
  },
  {
   "cell_type": "code",
   "execution_count": 22,
   "metadata": {},
   "outputs": [],
   "source": [
    "#let's actually get residual values\n",
    "#first, we need to get predicted values from the results of the model\n",
    "#second, we should calculate the difference between predicted and true values of cons. conf. index\n",
    "pred_values=results.predict()\n",
    "true_values=data_new.cons_conf_idx2\n",
    "resid=true_values-pred_values"
   ]
  },
  {
   "cell_type": "code",
   "execution_count": 23,
   "metadata": {
    "scrolled": true
   },
   "outputs": [
    {
     "data": {
      "text/plain": [
       "0    1.846690\n",
       "1   -2.855660\n",
       "2    0.829266\n",
       "3   -0.088590\n",
       "4   -0.707879\n",
       "5   -0.967385\n",
       "6    0.334675\n",
       "7   -0.401288\n",
       "8   -2.509853\n",
       "9    0.265323\n",
       "Name: cons_conf_idx2, dtype: float64"
      ]
     },
     "execution_count": 23,
     "metadata": {},
     "output_type": "execute_result"
    }
   ],
   "source": [
    "#we can see that we got the same results\n",
    "resid.head(10)"
   ]
  },
  {
   "cell_type": "code",
   "execution_count": 24,
   "metadata": {},
   "outputs": [
    {
     "data": {
      "image/png": "[encoded data removed]",
      "text/plain": [
       "<Figure size 720x360 with 1 Axes>"
      ]
     },
     "metadata": {},
     "output_type": "display_data"
    }
   ],
   "source": [
    "#lets plot predicted values vs residuals\n",
    "plt.figure(figsize=(10,5))\n",
    "plt.scatter(pred_values,residuals)\n",
    "plt.axhline(y=0, c=\"red\")\n",
    "plt.title(\"Residual vs Pred values\")\n",
    "plt.ylabel(\"Residuals\")\n",
    "plt.xlabel(\"Predicted values\")\n",
    "plt.show()"
   ]
  },
  {
   "cell_type": "code",
   "execution_count": 25,
   "metadata": {},
   "outputs": [
    {
     "data": {
      "text/plain": [
       "(1542.8335255627721, 9.688101520449531e-292, 60.517435374250965, 0.0)"
      ]
     },
     "execution_count": 25,
     "metadata": {},
     "output_type": "execute_result"
    }
   ],
   "source": [
    "#Breusch-Pagan test for homoscedasticity\n",
    "#The null hypothesis assumes homoskedasticity\n",
    "#Small p-value shows that there is violation of homoscedasticity\n",
    "sms.diagnostic.het_breuschpagan(residuals,model_ols1.exog)"
   ]
  },
  {
   "cell_type": "markdown",
   "metadata": {},
   "source": [
    "<h2>Normality</h2>"
   ]
  },
  {
   "cell_type": "code",
   "execution_count": 26,
   "metadata": {},
   "outputs": [
    {
     "data": {
      "image/png": "[encoded data removed]",
      "text/plain": [
       "<Figure size 432x288 with 1 Axes>"
      ]
     },
     "metadata": {},
     "output_type": "display_data"
    }
   ],
   "source": [
    "#visual presentation- histogram\n",
    "plt.hist(residuals)\n",
    "plt.show()"
   ]
  },
  {
   "cell_type": "code",
   "execution_count": 27,
   "metadata": {},
   "outputs": [
    {
     "data": {
      "image/png": "[encoded data removed]",
      "text/plain": [
       "<Figure size 432x288 with 1 Axes>"
      ]
     },
     "metadata": {},
     "output_type": "display_data"
    }
   ],
   "source": [
    "#QQ plot\n",
    "qqplot(residuals,fit=True, line='45')\n",
    "plt.show()"
   ]
  },
  {
   "cell_type": "markdown",
   "metadata": {},
   "source": [
    "<b>Jarque-Bera normality test values are given in the model summary above. From where we could conclude that normality was violated. However, let's run another test of normality: Shapiro-Wilk test.</b>\n"
   ]
  },
  {
   "cell_type": "code",
   "execution_count": 28,
   "metadata": {},
   "outputs": [
    {
     "name": "stdout",
     "output_type": "stream",
     "text": [
      "0.9370357990264893 5.377484874716274e-35\n"
     ]
    }
   ],
   "source": [
    "#Shapiro-Wilk normality test. \n",
    "#The null-hypothesis of this test is that the data was drawn from a normal distribution\n",
    "#We reject the Null hypothesis which means that we can state with 95% confidence that our data is not normal\n",
    "stat,p = shapiro(residuals)\n",
    "print(stat,p)"
   ]
  },
  {
   "cell_type": "markdown",
   "metadata": {},
   "source": [
    "# Training, Testing"
   ]
  },
  {
   "cell_type": "code",
   "execution_count": 29,
   "metadata": {},
   "outputs": [],
   "source": [
    "train,test=train_test_split(data_new,test_size=0.25,random_state=42)"
   ]
  },
  {
   "cell_type": "code",
   "execution_count": 30,
   "metadata": {},
   "outputs": [
    {
     "name": "stdout",
     "output_type": "stream",
     "text": [
      "<class 'pandas.core.frame.DataFrame'>\n",
      "Int64Index: 2426 entries, 2770 to 3174\n",
      "Data columns (total 19 columns):\n",
      "age               2426 non-null int64\n",
      "duration          2426 non-null int64\n",
      "campaign          2426 non-null int64\n",
      "pdays             2426 non-null int64\n",
      "previous          2426 non-null int64\n",
      "emp_var_rate      2426 non-null float64\n",
      "cons_price_idx    2426 non-null float64\n",
      "cons_conf_idx2    2426 non-null float64\n",
      "job               2426 non-null object\n",
      "marital           2426 non-null object\n",
      "education         2426 non-null object\n",
      "default           2426 non-null object\n",
      "housing           2426 non-null object\n",
      "loan              2426 non-null object\n",
      "contact           2426 non-null object\n",
      "month             2426 non-null object\n",
      "day_of_week       2426 non-null object\n",
      "poutcome          2426 non-null object\n",
      "term_deposit      2426 non-null object\n",
      "dtypes: float64(3), int64(5), object(11)\n",
      "memory usage: 379.1+ KB\n"
     ]
    }
   ],
   "source": [
    "train.info()"
   ]
  },
  {
   "cell_type": "code",
   "execution_count": 31,
   "metadata": {},
   "outputs": [],
   "source": [
    "#train\n",
    "model_linear=ols(formula=formula, data=train).fit()"
   ]
  },
  {
   "cell_type": "code",
   "execution_count": 32,
   "metadata": {},
   "outputs": [],
   "source": [
    "#test\n",
    "prediction=model_linear.predict(test)"
   ]
  },
  {
   "cell_type": "code",
   "execution_count": 33,
   "metadata": {},
   "outputs": [
    {
     "data": {
      "text/plain": [
       "1334    39.499125\n",
       "1756    38.567420\n",
       "3031    35.745921\n",
       "321     43.253611\n",
       "2517    42.885023\n",
       "dtype: float64"
      ]
     },
     "execution_count": 33,
     "metadata": {},
     "output_type": "execute_result"
    }
   ],
   "source": [
    "prediction.head()"
   ]
  },
  {
   "cell_type": "code",
   "execution_count": 34,
   "metadata": {},
   "outputs": [
    {
     "name": "stdout",
     "output_type": "stream",
     "text": [
      "0.5714610019674364\n"
     ]
    }
   ],
   "source": [
    "#let's calculate R^2\n",
    "r2_sc=r2_score(test.cons_conf_idx2,prediction)\n",
    "print(r2_sc)"
   ]
  }
 ],
 "metadata": {
  "kernelspec": {
   "display_name": "Python 3",
   "language": "python",
   "name": "python3"
  },
  "language_info": {
   "codemirror_mode": {
    "name": "ipython",
    "version": 3
   },
   "file_extension": ".py",
   "mimetype": "text/x-python",
   "name": "python",
   "nbconvert_exporter": "python",
   "pygments_lexer": "ipython3",
   "version": "3.6.5"
  }
 },
 "nbformat": 4,
 "nbformat_minor": 2
}
