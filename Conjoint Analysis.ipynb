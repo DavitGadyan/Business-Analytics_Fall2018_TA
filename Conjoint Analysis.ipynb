{
 "cells": [
  {
   "cell_type": "markdown",
   "metadata": {},
   "source": [
    "# Conjoint Analysis"
   ]
  },
  {
   "cell_type": "markdown",
   "metadata": {},
   "source": [
    "<p>There are 5 stages for conducting the analysis:</p>\n",
    "<ol>\n",
    "<li> defining the profiles - understand what are the characteristics that you want to compare and what are the levels of each of those features.\n",
    "<li> survey - use one of the survey tools, e.g. Google forms, to ask your customers to rank/rate the listed profiles (attention: not all theoretically possible profiles should be listed, choose only those that are reasonable).\n",
    "<li> data transformation - use a data analysis tool (Excvel in our case) to trnasform the data into \"analysis friendly\" form (0s and 1s in our case).\n",
    "<li> <b>estimation - use the transformed data to estimate utilities (using Python and statsmodels library in our case).</b>\n",
    "<li> calculation of importance - use the results of the analysis to calculate the importanc of each feature.\n",
    "</ol>\n",
    "\n",
    "The estimation can be conducted using different econometric/data science algorithms (Linear Regression, PLS, ordered logit, ANOVA etc.).  This notebooks shows how to perform analysis using **Linear Regression** technique, as it's one of the simpliest methods, yet still the most popular technique used."
   ]
  },
  {
   "cell_type": "markdown",
   "metadata": {},
   "source": [
    "# Linear Regression"
   ]
  },
  {
   "cell_type": "code",
   "execution_count": 1,
   "metadata": {},
   "outputs": [],
   "source": [
    "from statsmodels.formula.api import ols"
   ]
  },
  {
   "cell_type": "code",
   "execution_count": 3,
   "metadata": {},
   "outputs": [
    {
     "name": "stderr",
     "output_type": "stream",
     "text": [
      "C:\\Users\\HP\\Anaconda3\\lib\\site-packages\\pandas\\io\\excel.py:329: FutureWarning: The `sheetname` keyword is deprecated, use `sheet_name` instead\n",
      "  **kwds)\n"
     ]
    },
    {
     "data": {
      "text/html": [
       "<div>\n",
       "<style scoped>\n",
       "    .dataframe tbody tr th:only-of-type {\n",
       "        vertical-align: middle;\n",
       "    }\n",
       "\n",
       "    .dataframe tbody tr th {\n",
       "        vertical-align: top;\n",
       "    }\n",
       "\n",
       "    .dataframe thead th {\n",
       "        text-align: right;\n",
       "    }\n",
       "</style>\n",
       "<table border=\"1\" class=\"dataframe\">\n",
       "  <thead>\n",
       "    <tr style=\"text-align: right;\">\n",
       "      <th></th>\n",
       "      <th>Rank</th>\n",
       "      <th>A1</th>\n",
       "      <th>A2</th>\n",
       "      <th>A3</th>\n",
       "      <th>B1</th>\n",
       "      <th>B2</th>\n",
       "      <th>C1</th>\n",
       "      <th>C2</th>\n",
       "      <th>C3</th>\n",
       "    </tr>\n",
       "  </thead>\n",
       "  <tbody>\n",
       "    <tr>\n",
       "      <th>0</th>\n",
       "      <td>2</td>\n",
       "      <td>1</td>\n",
       "      <td>0</td>\n",
       "      <td>0</td>\n",
       "      <td>1</td>\n",
       "      <td>0</td>\n",
       "      <td>1</td>\n",
       "      <td>0</td>\n",
       "      <td>0</td>\n",
       "    </tr>\n",
       "    <tr>\n",
       "      <th>1</th>\n",
       "      <td>3</td>\n",
       "      <td>1</td>\n",
       "      <td>0</td>\n",
       "      <td>0</td>\n",
       "      <td>1</td>\n",
       "      <td>0</td>\n",
       "      <td>0</td>\n",
       "      <td>1</td>\n",
       "      <td>0</td>\n",
       "    </tr>\n",
       "    <tr>\n",
       "      <th>2</th>\n",
       "      <td>1</td>\n",
       "      <td>1</td>\n",
       "      <td>0</td>\n",
       "      <td>0</td>\n",
       "      <td>1</td>\n",
       "      <td>0</td>\n",
       "      <td>0</td>\n",
       "      <td>0</td>\n",
       "      <td>1</td>\n",
       "    </tr>\n",
       "    <tr>\n",
       "      <th>3</th>\n",
       "      <td>5</td>\n",
       "      <td>1</td>\n",
       "      <td>0</td>\n",
       "      <td>0</td>\n",
       "      <td>0</td>\n",
       "      <td>1</td>\n",
       "      <td>1</td>\n",
       "      <td>0</td>\n",
       "      <td>0</td>\n",
       "    </tr>\n",
       "    <tr>\n",
       "      <th>4</th>\n",
       "      <td>6</td>\n",
       "      <td>1</td>\n",
       "      <td>0</td>\n",
       "      <td>0</td>\n",
       "      <td>0</td>\n",
       "      <td>1</td>\n",
       "      <td>0</td>\n",
       "      <td>1</td>\n",
       "      <td>0</td>\n",
       "    </tr>\n",
       "  </tbody>\n",
       "</table>\n",
       "</div>"
      ],
      "text/plain": [
       "   Rank  A1  A2  A3  B1  B2  C1  C2  C3\n",
       "0     2   1   0   0   1   0   1   0   0\n",
       "1     3   1   0   0   1   0   0   1   0\n",
       "2     1   1   0   0   1   0   0   0   1\n",
       "3     5   1   0   0   0   1   1   0   0\n",
       "4     6   1   0   0   0   1   0   1   0"
      ]
     },
     "execution_count": 3,
     "metadata": {},
     "output_type": "execute_result"
    }
   ],
   "source": [
    "import pandas as pd\n",
    "Conjoint_data=pd.read_excel(\"conjoint_data.xlsx\", sheetname=\"Inputs\")\n",
    "Conjoint_data.head()"
   ]
  },
  {
   "cell_type": "code",
   "execution_count": 4,
   "metadata": {},
   "outputs": [],
   "source": [
    "# now, let's specify the linear model using hte imported ols() function\n",
    "# the function gets two arguments: the model specification and the data used\n",
    "model_ols = ols(formula=\"Rank ~ A1 + A2 + A3 +B1 + B2 + C1 + C2 + C3\", data=Conjoint_data)"
   ]
  },
  {
   "cell_type": "code",
   "execution_count": 7,
   "metadata": {},
   "outputs": [],
   "source": [
    "# let's used the model above to fit it to our data\n",
    "our_results = model_ols.fit()"
   ]
  },
  {
   "cell_type": "code",
   "execution_count": 8,
   "metadata": {},
   "outputs": [
    {
     "name": "stderr",
     "output_type": "stream",
     "text": [
      "C:\\Users\\HP\\Anaconda3\\lib\\site-packages\\scipy\\stats\\stats.py:1394: UserWarning: kurtosistest only valid for n>=20 ... continuing anyway, n=18\n",
      "  \"anyway, n=%i\" % int(n))\n"
     ]
    },
    {
     "data": {
      "text/html": [
       "<table class=\"simpletable\">\n",
       "<caption>OLS Regression Results</caption>\n",
       "<tr>\n",
       "  <th>Dep. Variable:</th>          <td>Rank</td>       <th>  R-squared:         </th> <td>   1.000</td> \n",
       "</tr>\n",
       "<tr>\n",
       "  <th>Model:</th>                   <td>OLS</td>       <th>  Adj. R-squared:    </th> <td>   1.000</td> \n",
       "</tr>\n",
       "<tr>\n",
       "  <th>Method:</th>             <td>Least Squares</td>  <th>  F-statistic:       </th> <td>3.524e+30</td>\n",
       "</tr>\n",
       "<tr>\n",
       "  <th>Date:</th>             <td>Fri, 14 Sep 2018</td> <th>  Prob (F-statistic):</th> <td>1.46e-180</td>\n",
       "</tr>\n",
       "<tr>\n",
       "  <th>Time:</th>                 <td>21:24:12</td>     <th>  Log-Likelihood:    </th> <td>  569.98</td> \n",
       "</tr>\n",
       "<tr>\n",
       "  <th>No. Observations:</th>      <td>    18</td>      <th>  AIC:               </th> <td>  -1128.</td> \n",
       "</tr>\n",
       "<tr>\n",
       "  <th>Df Residuals:</th>          <td>    12</td>      <th>  BIC:               </th> <td>  -1123.</td> \n",
       "</tr>\n",
       "<tr>\n",
       "  <th>Df Model:</th>              <td>     5</td>      <th>                     </th>     <td> </td>    \n",
       "</tr>\n",
       "<tr>\n",
       "  <th>Covariance Type:</th>      <td>nonrobust</td>    <th>                     </th>     <td> </td>    \n",
       "</tr>\n",
       "</table>\n",
       "<table class=\"simpletable\">\n",
       "<tr>\n",
       "      <td></td>         <th>coef</th>     <th>std err</th>      <th>t</th>      <th>P>|t|</th>  <th>[0.025</th>    <th>0.975]</th>  \n",
       "</tr>\n",
       "<tr>\n",
       "  <th>Intercept</th> <td>    4.3846</td> <td>  5.7e-16</td> <td> 7.69e+15</td> <td> 0.000</td> <td>    4.385</td> <td>    4.385</td>\n",
       "</tr>\n",
       "<tr>\n",
       "  <th>A1</th>        <td>   -4.5385</td> <td> 1.76e-15</td> <td>-2.58e+15</td> <td> 0.000</td> <td>   -4.538</td> <td>   -4.538</td>\n",
       "</tr>\n",
       "<tr>\n",
       "  <th>A2</th>        <td>    1.4615</td> <td> 1.76e-15</td> <td> 8.31e+14</td> <td> 0.000</td> <td>    1.462</td> <td>    1.462</td>\n",
       "</tr>\n",
       "<tr>\n",
       "  <th>A3</th>        <td>    7.4615</td> <td> 1.76e-15</td> <td> 4.24e+15</td> <td> 0.000</td> <td>    7.462</td> <td>    7.462</td>\n",
       "</tr>\n",
       "<tr>\n",
       "  <th>B1</th>        <td>    0.6923</td> <td> 1.27e-15</td> <td> 5.46e+14</td> <td> 0.000</td> <td>    0.692</td> <td>    0.692</td>\n",
       "</tr>\n",
       "<tr>\n",
       "  <th>B2</th>        <td>    3.6923</td> <td> 1.27e-15</td> <td> 2.91e+15</td> <td> 0.000</td> <td>    3.692</td> <td>    3.692</td>\n",
       "</tr>\n",
       "<tr>\n",
       "  <th>C1</th>        <td>    1.4615</td> <td> 1.76e-15</td> <td> 8.31e+14</td> <td> 0.000</td> <td>    1.462</td> <td>    1.462</td>\n",
       "</tr>\n",
       "<tr>\n",
       "  <th>C2</th>        <td>    2.4615</td> <td> 1.76e-15</td> <td>  1.4e+15</td> <td> 0.000</td> <td>    2.462</td> <td>    2.462</td>\n",
       "</tr>\n",
       "<tr>\n",
       "  <th>C3</th>        <td>    0.4615</td> <td> 1.76e-15</td> <td> 2.62e+14</td> <td> 0.000</td> <td>    0.462</td> <td>    0.462</td>\n",
       "</tr>\n",
       "</table>\n",
       "<table class=\"simpletable\">\n",
       "<tr>\n",
       "  <th>Omnibus:</th>       <td> 3.315</td> <th>  Durbin-Watson:     </th> <td>   0.609</td>\n",
       "</tr>\n",
       "<tr>\n",
       "  <th>Prob(Omnibus):</th> <td> 0.191</td> <th>  Jarque-Bera (JB):  </th> <td>   1.430</td>\n",
       "</tr>\n",
       "<tr>\n",
       "  <th>Skew:</th>          <td> 0.290</td> <th>  Prob(JB):          </th> <td>   0.489</td>\n",
       "</tr>\n",
       "<tr>\n",
       "  <th>Kurtosis:</th>      <td> 1.747</td> <th>  Cond. No.          </th> <td>9.92e+16</td>\n",
       "</tr>\n",
       "</table><br/><br/>Warnings:<br/>[1] Standard Errors assume that the covariance matrix of the errors is correctly specified.<br/>[2] The smallest eigenvalue is 3.96e-33. This might indicate that there are<br/>strong multicollinearity problems or that the design matrix is singular."
      ],
      "text/plain": [
       "<class 'statsmodels.iolib.summary.Summary'>\n",
       "\"\"\"\n",
       "                            OLS Regression Results                            \n",
       "==============================================================================\n",
       "Dep. Variable:                   Rank   R-squared:                       1.000\n",
       "Model:                            OLS   Adj. R-squared:                  1.000\n",
       "Method:                 Least Squares   F-statistic:                 3.524e+30\n",
       "Date:                Fri, 14 Sep 2018   Prob (F-statistic):          1.46e-180\n",
       "Time:                        21:24:12   Log-Likelihood:                 569.98\n",
       "No. Observations:                  18   AIC:                            -1128.\n",
       "Df Residuals:                      12   BIC:                            -1123.\n",
       "Df Model:                           5                                         \n",
       "Covariance Type:            nonrobust                                         \n",
       "==============================================================================\n",
       "                 coef    std err          t      P>|t|      [0.025      0.975]\n",
       "------------------------------------------------------------------------------\n",
       "Intercept      4.3846    5.7e-16   7.69e+15      0.000       4.385       4.385\n",
       "A1            -4.5385   1.76e-15  -2.58e+15      0.000      -4.538      -4.538\n",
       "A2             1.4615   1.76e-15   8.31e+14      0.000       1.462       1.462\n",
       "A3             7.4615   1.76e-15   4.24e+15      0.000       7.462       7.462\n",
       "B1             0.6923   1.27e-15   5.46e+14      0.000       0.692       0.692\n",
       "B2             3.6923   1.27e-15   2.91e+15      0.000       3.692       3.692\n",
       "C1             1.4615   1.76e-15   8.31e+14      0.000       1.462       1.462\n",
       "C2             2.4615   1.76e-15    1.4e+15      0.000       2.462       2.462\n",
       "C3             0.4615   1.76e-15   2.62e+14      0.000       0.462       0.462\n",
       "==============================================================================\n",
       "Omnibus:                        3.315   Durbin-Watson:                   0.609\n",
       "Prob(Omnibus):                  0.191   Jarque-Bera (JB):                1.430\n",
       "Skew:                           0.290   Prob(JB):                        0.489\n",
       "Kurtosis:                       1.747   Cond. No.                     9.92e+16\n",
       "==============================================================================\n",
       "\n",
       "Warnings:\n",
       "[1] Standard Errors assume that the covariance matrix of the errors is correctly specified.\n",
       "[2] The smallest eigenvalue is 3.96e-33. This might indicate that there are\n",
       "strong multicollinearity problems or that the design matrix is singular.\n",
       "\"\"\""
      ]
     },
     "execution_count": 8,
     "metadata": {},
     "output_type": "execute_result"
    }
   ],
   "source": [
    "# it fitted, thus, we can see the summary of the results now\n",
    "our_results.summary()"
   ]
  },
  {
   "cell_type": "code",
   "execution_count": 9,
   "metadata": {},
   "outputs": [],
   "source": [
    "# for conjoint analysis what we are interested in most are the estimated coefficients/parameters\n",
    "# so let's get the parameters and save them as a new variable\n",
    "coef = our_results.params"
   ]
  },
  {
   "cell_type": "code",
   "execution_count": 10,
   "metadata": {},
   "outputs": [],
   "source": [
    "# the type of this variable is not a DataFrame. Let's convert it.\n",
    "coef_DF = pd.DataFrame(coef)"
   ]
  },
  {
   "cell_type": "code",
   "execution_count": 11,
   "metadata": {},
   "outputs": [],
   "source": [
    "#once it is a DataFrame, we can already save it and continue to analyse in Excel\n",
    "coef_DF.to_excel(\"coef.xlsx\")"
   ]
  }
 ],
 "metadata": {
  "kernelspec": {
   "display_name": "Python 3",
   "language": "python",
   "name": "python3"
  },
  "language_info": {
   "codemirror_mode": {
    "name": "ipython",
    "version": 3
   },
   "file_extension": ".py",
   "mimetype": "text/x-python",
   "name": "python",
   "nbconvert_exporter": "python",
   "pygments_lexer": "ipython3",
   "version": "3.6.5"
  }
 },
 "nbformat": 4,
 "nbformat_minor": 2
}
