{
 "cells": [
  {
   "cell_type": "markdown",
   "metadata": {},
   "source": [
    "<h1>Session 12 - Fully tuned Decision Tree - Churn</h1>"
   ]
  },
  {
   "cell_type": "code",
   "execution_count": 1,
   "metadata": {},
   "outputs": [],
   "source": [
    "import numpy as np\n",
    "import pandas as pd\n",
    "import matplotlib.pyplot as plt\n",
    "import seaborn as sns\n",
    "from sklearn.tree import DecisionTreeClassifier\n",
    "from sklearn.model_selection import train_test_split\n",
    "from statsmodels.discrete.discrete_model import Logit \n",
    "from sklearn.tree import export_graphviz\n",
    "from sklearn.metrics import confusion_matrix, classification_report\n",
    "from sklearn.model_selection import GridSearchCV\n",
    "from  sklearn.metrics import recall_score"
   ]
  },
  {
   "cell_type": "code",
   "execution_count": 2,
   "metadata": {},
   "outputs": [
    {
     "data": {
      "text/html": [
       "<div>\n",
       "<style scoped>\n",
       "    .dataframe tbody tr th:only-of-type {\n",
       "        vertical-align: middle;\n",
       "    }\n",
       "\n",
       "    .dataframe tbody tr th {\n",
       "        vertical-align: top;\n",
       "    }\n",
       "\n",
       "    .dataframe thead th {\n",
       "        text-align: right;\n",
       "    }\n",
       "</style>\n",
       "<table border=\"1\" class=\"dataframe\">\n",
       "  <thead>\n",
       "    <tr style=\"text-align: right;\">\n",
       "      <th></th>\n",
       "      <th>Account Length</th>\n",
       "      <th>VMail Message</th>\n",
       "      <th>Day Mins</th>\n",
       "      <th>Eve Mins</th>\n",
       "      <th>Night Mins</th>\n",
       "      <th>Intl Mins</th>\n",
       "      <th>CustServ Calls</th>\n",
       "      <th>Churn</th>\n",
       "      <th>Int'l Plan</th>\n",
       "      <th>VMail Plan</th>\n",
       "      <th>...</th>\n",
       "      <th>Day Charge</th>\n",
       "      <th>Eve Calls</th>\n",
       "      <th>Eve Charge</th>\n",
       "      <th>Night Calls</th>\n",
       "      <th>Night Charge</th>\n",
       "      <th>Intl Calls</th>\n",
       "      <th>Intl Charge</th>\n",
       "      <th>State</th>\n",
       "      <th>Area Code</th>\n",
       "      <th>Phone</th>\n",
       "    </tr>\n",
       "  </thead>\n",
       "  <tbody>\n",
       "    <tr>\n",
       "      <th>0</th>\n",
       "      <td>128</td>\n",
       "      <td>25</td>\n",
       "      <td>265.1</td>\n",
       "      <td>197.4</td>\n",
       "      <td>244.7</td>\n",
       "      <td>10.0</td>\n",
       "      <td>1</td>\n",
       "      <td>0</td>\n",
       "      <td>0</td>\n",
       "      <td>1</td>\n",
       "      <td>...</td>\n",
       "      <td>45.07</td>\n",
       "      <td>99</td>\n",
       "      <td>16.78</td>\n",
       "      <td>91</td>\n",
       "      <td>11.01</td>\n",
       "      <td>3</td>\n",
       "      <td>2.70</td>\n",
       "      <td>KS</td>\n",
       "      <td>415</td>\n",
       "      <td>382-4657</td>\n",
       "    </tr>\n",
       "    <tr>\n",
       "      <th>1</th>\n",
       "      <td>107</td>\n",
       "      <td>26</td>\n",
       "      <td>161.6</td>\n",
       "      <td>195.5</td>\n",
       "      <td>254.4</td>\n",
       "      <td>13.7</td>\n",
       "      <td>1</td>\n",
       "      <td>0</td>\n",
       "      <td>0</td>\n",
       "      <td>1</td>\n",
       "      <td>...</td>\n",
       "      <td>27.47</td>\n",
       "      <td>103</td>\n",
       "      <td>16.62</td>\n",
       "      <td>103</td>\n",
       "      <td>11.45</td>\n",
       "      <td>3</td>\n",
       "      <td>3.70</td>\n",
       "      <td>OH</td>\n",
       "      <td>415</td>\n",
       "      <td>371-7191</td>\n",
       "    </tr>\n",
       "    <tr>\n",
       "      <th>2</th>\n",
       "      <td>137</td>\n",
       "      <td>0</td>\n",
       "      <td>243.4</td>\n",
       "      <td>121.2</td>\n",
       "      <td>162.6</td>\n",
       "      <td>12.2</td>\n",
       "      <td>0</td>\n",
       "      <td>0</td>\n",
       "      <td>0</td>\n",
       "      <td>0</td>\n",
       "      <td>...</td>\n",
       "      <td>41.38</td>\n",
       "      <td>110</td>\n",
       "      <td>10.30</td>\n",
       "      <td>104</td>\n",
       "      <td>7.32</td>\n",
       "      <td>5</td>\n",
       "      <td>3.29</td>\n",
       "      <td>NJ</td>\n",
       "      <td>415</td>\n",
       "      <td>358-1921</td>\n",
       "    </tr>\n",
       "    <tr>\n",
       "      <th>3</th>\n",
       "      <td>84</td>\n",
       "      <td>0</td>\n",
       "      <td>299.4</td>\n",
       "      <td>61.9</td>\n",
       "      <td>196.9</td>\n",
       "      <td>6.6</td>\n",
       "      <td>2</td>\n",
       "      <td>0</td>\n",
       "      <td>1</td>\n",
       "      <td>0</td>\n",
       "      <td>...</td>\n",
       "      <td>50.90</td>\n",
       "      <td>88</td>\n",
       "      <td>5.26</td>\n",
       "      <td>89</td>\n",
       "      <td>8.86</td>\n",
       "      <td>7</td>\n",
       "      <td>1.78</td>\n",
       "      <td>OH</td>\n",
       "      <td>408</td>\n",
       "      <td>375-9999</td>\n",
       "    </tr>\n",
       "    <tr>\n",
       "      <th>4</th>\n",
       "      <td>75</td>\n",
       "      <td>0</td>\n",
       "      <td>166.7</td>\n",
       "      <td>148.3</td>\n",
       "      <td>186.9</td>\n",
       "      <td>10.1</td>\n",
       "      <td>3</td>\n",
       "      <td>0</td>\n",
       "      <td>1</td>\n",
       "      <td>0</td>\n",
       "      <td>...</td>\n",
       "      <td>28.34</td>\n",
       "      <td>122</td>\n",
       "      <td>12.61</td>\n",
       "      <td>121</td>\n",
       "      <td>8.41</td>\n",
       "      <td>3</td>\n",
       "      <td>2.73</td>\n",
       "      <td>OK</td>\n",
       "      <td>415</td>\n",
       "      <td>330-6626</td>\n",
       "    </tr>\n",
       "  </tbody>\n",
       "</table>\n",
       "<p>5 rows × 21 columns</p>\n",
       "</div>"
      ],
      "text/plain": [
       "   Account Length  VMail Message  Day Mins  Eve Mins  Night Mins  Intl Mins  \\\n",
       "0             128             25     265.1     197.4       244.7       10.0   \n",
       "1             107             26     161.6     195.5       254.4       13.7   \n",
       "2             137              0     243.4     121.2       162.6       12.2   \n",
       "3              84              0     299.4      61.9       196.9        6.6   \n",
       "4              75              0     166.7     148.3       186.9       10.1   \n",
       "\n",
       "   CustServ Calls  Churn  Int'l Plan  VMail Plan    ...     Day Charge  \\\n",
       "0               1      0           0           1    ...          45.07   \n",
       "1               1      0           0           1    ...          27.47   \n",
       "2               0      0           0           0    ...          41.38   \n",
       "3               2      0           1           0    ...          50.90   \n",
       "4               3      0           1           0    ...          28.34   \n",
       "\n",
       "   Eve Calls  Eve Charge  Night Calls  Night Charge  Intl Calls  Intl Charge  \\\n",
       "0         99       16.78           91         11.01           3         2.70   \n",
       "1        103       16.62          103         11.45           3         3.70   \n",
       "2        110       10.30          104          7.32           5         3.29   \n",
       "3         88        5.26           89          8.86           7         1.78   \n",
       "4        122       12.61          121          8.41           3         2.73   \n",
       "\n",
       "   State Area Code     Phone  \n",
       "0     KS       415  382-4657  \n",
       "1     OH       415  371-7191  \n",
       "2     NJ       415  358-1921  \n",
       "3     OH       408  375-9999  \n",
       "4     OK       415  330-6626  \n",
       "\n",
       "[5 rows x 21 columns]"
      ]
     },
     "execution_count": 2,
     "metadata": {},
     "output_type": "execute_result"
    }
   ],
   "source": [
    "data=pd.read_excel('Churn.xls')\n",
    "data.head()"
   ]
  },
  {
   "cell_type": "code",
   "execution_count": 3,
   "metadata": {},
   "outputs": [
    {
     "name": "stdout",
     "output_type": "stream",
     "text": [
      "<class 'pandas.core.frame.DataFrame'>\n",
      "RangeIndex: 3333 entries, 0 to 3332\n",
      "Data columns (total 21 columns):\n",
      "Account Length    3333 non-null int64\n",
      "VMail Message     3333 non-null int64\n",
      "Day Mins          3333 non-null float64\n",
      "Eve Mins          3333 non-null float64\n",
      "Night Mins        3333 non-null float64\n",
      "Intl Mins         3333 non-null float64\n",
      "CustServ Calls    3333 non-null int64\n",
      "Churn             3333 non-null int64\n",
      "Int'l Plan        3333 non-null int64\n",
      "VMail Plan        3333 non-null int64\n",
      "Day Calls         3333 non-null int64\n",
      "Day Charge        3333 non-null float64\n",
      "Eve Calls         3333 non-null int64\n",
      "Eve Charge        3333 non-null float64\n",
      "Night Calls       3333 non-null int64\n",
      "Night Charge      3333 non-null float64\n",
      "Intl Calls        3333 non-null int64\n",
      "Intl Charge       3333 non-null float64\n",
      "State             3333 non-null object\n",
      "Area Code         3333 non-null int64\n",
      "Phone             3333 non-null object\n",
      "dtypes: float64(8), int64(11), object(2)\n",
      "memory usage: 546.9+ KB\n"
     ]
    }
   ],
   "source": [
    "#no missing values\n",
    "data.info()"
   ]
  },
  {
   "cell_type": "code",
   "execution_count": 4,
   "metadata": {},
   "outputs": [],
   "source": [
    "data_numeric = data.select_dtypes(exclude=\"object\")\n",
    "data_object = data.select_dtypes(include=\"object\")"
   ]
  },
  {
   "cell_type": "code",
   "execution_count": 5,
   "metadata": {},
   "outputs": [
    {
     "name": "stdout",
     "output_type": "stream",
     "text": [
      "Account Length    False\n",
      "VMail Message     False\n",
      "Day Mins          False\n",
      "Eve Mins          False\n",
      "Night Mins        False\n",
      "Intl Mins         False\n",
      "CustServ Calls    False\n",
      "Churn             False\n",
      "Int'l Plan        False\n",
      "VMail Plan        False\n",
      "Day Calls         False\n",
      "Day Charge        False\n",
      "Eve Calls         False\n",
      "Eve Charge        False\n",
      "Night Calls       False\n",
      "Night Charge      False\n",
      "Intl Calls        False\n",
      "Intl Charge       False\n",
      "Area Code         False\n",
      "dtype: bool\n"
     ]
    }
   ],
   "source": [
    "#checking for 0 variance\n",
    "#there is no variable with 0 var, so we will keep all numeric variables\n",
    "print(data_numeric.var()==0)"
   ]
  },
  {
   "cell_type": "code",
   "execution_count": 6,
   "metadata": {},
   "outputs": [
    {
     "name": "stdout",
     "output_type": "stream",
     "text": [
      "['KS' 'OH' 'NJ' 'OK' 'AL' 'MA' 'MO' 'LA' 'WV' 'IN' 'RI' 'IA' 'MT' 'NY'\n",
      " 'ID' 'VT' 'VA' 'TX' 'FL' 'CO' 'AZ' 'SC' 'NE' 'WY' 'HI' 'IL' 'NH' 'GA'\n",
      " 'AK' 'MD' 'AR' 'WI' 'OR' 'MI' 'DE' 'UT' 'CA' 'MN' 'SD' 'NC' 'WA' 'NM'\n",
      " 'NV' 'DC' 'KY' 'ME' 'MS' 'TN' 'PA' 'CT' 'ND']\n",
      "['382-4657' '371-7191' '358-1921' ... '328-8230' '364-6381' '400-4344']\n"
     ]
    }
   ],
   "source": [
    "#checking to see whether there is object variable with one category, if there is one, we should remove\n",
    "for i in data_object.columns:\n",
    "    print(data_object[i].unique())"
   ]
  },
  {
   "cell_type": "code",
   "execution_count": 7,
   "metadata": {},
   "outputs": [],
   "source": [
    "data_object=data_object.drop(columns=\"Phone\")"
   ]
  },
  {
   "cell_type": "code",
   "execution_count": 8,
   "metadata": {},
   "outputs": [],
   "source": [
    "#converting object variables into dummy variables\n",
    "data_dummies=pd.get_dummies(data_object,prefix=data_object.columns,drop_first=True)\n",
    "data_final=data_numeric.join(data_dummies)"
   ]
  },
  {
   "cell_type": "markdown",
   "metadata": {},
   "source": [
    "# Decision Tree"
   ]
  },
  {
   "cell_type": "code",
   "execution_count": 10,
   "metadata": {},
   "outputs": [
    {
     "name": "stdout",
     "output_type": "stream",
     "text": [
      "0    85.508551\n",
      "1    14.491449\n",
      "Name: Churn, dtype: float64\n"
     ]
    }
   ],
   "source": [
    "#let's see percenatage of employees who didn't churn,\n",
    "#and percenatage of employees who churned \n",
    "print(data_final.Churn.value_counts()/len(data_final)*100)"
   ]
  },
  {
   "cell_type": "markdown",
   "metadata": {},
   "source": [
    "<b>About 85.5% of customers didn't churn.This means that without any model we will probably clasify a new record (a new customer) as 0 with accuracy of 85.5%, but we want to do better than this very naive classification.</b>"
   ]
  },
  {
   "cell_type": "code",
   "execution_count": 11,
   "metadata": {},
   "outputs": [
    {
     "data": {
      "image/png": "[encoded data removed]",
      "text/plain": [
       "<Figure size 504x288 with 2 Axes>"
      ]
     },
     "metadata": {},
     "output_type": "display_data"
    }
   ],
   "source": [
    "plt.figure(figsize=(7,4))\n",
    "sns.heatmap(data.corr())\n",
    "plt.show()"
   ]
  },
  {
   "cell_type": "markdown",
   "metadata": {},
   "source": [
    "# Train, Test Split"
   ]
  },
  {
   "cell_type": "code",
   "execution_count": 12,
   "metadata": {},
   "outputs": [],
   "source": [
    "Y=data_final.Churn\n",
    "X=data_final.drop(\"Churn\",axis=1)\n",
    "x_train,x_test,y_train,y_test=train_test_split(X,Y,test_size=0.25,random_state=42)"
   ]
  },
  {
   "cell_type": "markdown",
   "metadata": {},
   "source": [
    "# Tree 1- With Default Parameters"
   ]
  },
  {
   "cell_type": "code",
   "execution_count": 13,
   "metadata": {},
   "outputs": [
    {
     "data": {
      "text/plain": [
       "DecisionTreeClassifier(class_weight=None, criterion='gini', max_depth=None,\n",
       "            max_features=None, max_leaf_nodes=None,\n",
       "            min_impurity_decrease=0.0, min_impurity_split=None,\n",
       "            min_samples_leaf=1, min_samples_split=2,\n",
       "            min_weight_fraction_leaf=0.0, presort=False, random_state=42,\n",
       "            splitter='best')"
      ]
     },
     "execution_count": 13,
     "metadata": {},
     "output_type": "execute_result"
    }
   ],
   "source": [
    "#running and fitting DT\n",
    "tree_1=DecisionTreeClassifier(random_state=42)\n",
    "tree_1.fit(x_train,y_train)"
   ]
  },
  {
   "cell_type": "code",
   "execution_count": 14,
   "metadata": {},
   "outputs": [
    {
     "name": "stdout",
     "output_type": "stream",
     "text": [
      "Train: 100.0\n",
      "Test: 91.0\n"
     ]
    }
   ],
   "source": [
    "#to check accuracy scores for training and testing data to see that testing set solves overfitting problem\n",
    "print(\"Train:\",tree_1.score(x_train,y_train)*100)\n",
    "print(\"Test:\",tree_1.score(x_test,y_test).round(2)*100)"
   ]
  },
  {
   "cell_type": "code",
   "execution_count": 21,
   "metadata": {},
   "outputs": [],
   "source": [
    "#to calculate before constructing confusion matrix\n",
    "y_pred = tree_1.predict(x_test)"
   ]
  },
  {
   "cell_type": "code",
   "execution_count": 22,
   "metadata": {},
   "outputs": [],
   "source": [
    "cm=confusion_matrix(y_test, y_pred)"
   ]
  },
  {
   "cell_type": "code",
   "execution_count": 31,
   "metadata": {},
   "outputs": [
    {
     "name": "stdout",
     "output_type": "stream",
     "text": [
      "             Real_0  Real_1\n",
      "Predicted_0     669      33\n",
      "Predicted_1      40      92\n"
     ]
    }
   ],
   "source": [
    "cm=pd.DataFrame(cm,columns=[\"Predicted_0\", \"Predicted_1\"], index=[\"Real_0\", \"Real_1\"]).T\n",
    "print(cm)"
   ]
  },
  {
   "cell_type": "code",
   "execution_count": 42,
   "metadata": {},
   "outputs": [
    {
     "name": "stdout",
     "output_type": "stream",
     "text": [
      "Recall or TPR or Sensitivity calculated manually: 73.6\n"
     ]
    }
   ],
   "source": [
    "#manually calculating True Positive Rate (Sensitivity/Recall)\n",
    "recall=cm.Real_1.iloc[1]/(sum(cm.Real_1))*100\n",
    "print(\"Recall or TPR or Sensitivity calculated manually:\",recall)"
   ]
  },
  {
   "cell_type": "code",
   "execution_count": 50,
   "metadata": {},
   "outputs": [
    {
     "name": "stdout",
     "output_type": "stream",
     "text": [
      "Recall or TPR or Sensitivity: 73.6\n"
     ]
    }
   ],
   "source": [
    "#sensitivity (TPR) from recall_score() function\n",
    "print(\"Recall or TPR or Sensitivity:\",recall_score(y_test,y_pred)*100)"
   ]
  },
  {
   "cell_type": "code",
   "execution_count": 59,
   "metadata": {},
   "outputs": [
    {
     "name": "stdout",
     "output_type": "stream",
     "text": [
      "             precision    recall  f1-score   support\n",
      "\n",
      "          0       0.95      0.94      0.95       709\n",
      "          1       0.70      0.74      0.72       125\n",
      "\n",
      "avg / total       0.91      0.91      0.91       834\n",
      "\n"
     ]
    }
   ],
   "source": [
    "#confusion matrix, recall (1) is sensitivity (TPR) and recall(0) is specificity (TNR)\n",
    "print(classification_report(y_test, y_pred))"
   ]
  },
  {
   "cell_type": "markdown",
   "metadata": {},
   "source": [
    "# Tree 2 - Parameters of tree are set manually"
   ]
  },
  {
   "cell_type": "code",
   "execution_count": 60,
   "metadata": {},
   "outputs": [
    {
     "name": "stdout",
     "output_type": "stream",
     "text": [
      "Train: 92.0\n",
      "Test: 90.0\n"
     ]
    }
   ],
   "source": [
    "#let's cut the tree and check accuarcy again, the values for max_depth and min_samples_leaf were chosen just arbitrary\n",
    "tree_2=DecisionTreeClassifier(max_depth=5,min_samples_leaf=50,random_state=42)\n",
    "tree_2.fit(x_train,y_train)\n",
    "print(\"Train:\", tree_2.score(x_train,y_train).round(2)*100)\n",
    "print(\"Test:\", tree_2.score(x_test,y_test).round(2)*100)"
   ]
  },
  {
   "cell_type": "code",
   "execution_count": 61,
   "metadata": {},
   "outputs": [
    {
     "name": "stdout",
     "output_type": "stream",
     "text": [
      "Recall2 71.2\n"
     ]
    }
   ],
   "source": [
    "y_pred2=tree_2.predict(x_test)\n",
    "print(\"Recall2\",recall_score(y_test, y_pred2)*100)"
   ]
  },
  {
   "cell_type": "markdown",
   "metadata": {},
   "source": [
    "# Tree 3- Using cross-validation to get best hyper-parametrs: max_depth and min_samples_leaf"
   ]
  },
  {
   "cell_type": "code",
   "execution_count": 62,
   "metadata": {},
   "outputs": [
    {
     "data": {
      "text/plain": [
       "GridSearchCV(cv=5, error_score='raise',\n",
       "       estimator=DecisionTreeClassifier(class_weight=None, criterion='gini', max_depth=None,\n",
       "            max_features=None, max_leaf_nodes=None,\n",
       "            min_impurity_decrease=0.0, min_impurity_split=None,\n",
       "            min_samples_leaf=1, min_samples_split=2,\n",
       "            min_weight_fraction_leaf=0.0, presort=False, random_state=None,\n",
       "            splitter='best'),\n",
       "       fit_params=None, iid=True, n_jobs=-1,\n",
       "       param_grid={'max_depth': range(3, 10), 'min_samples_leaf': range(10, 100)},\n",
       "       pre_dispatch='2*n_jobs', refit=True, return_train_score='warn',\n",
       "       scoring=None, verbose=0)"
      ]
     },
     "execution_count": 62,
     "metadata": {},
     "output_type": "execute_result"
    }
   ],
   "source": [
    "#let's use GridSearchCV to get best values for parameters in defined ranges\n",
    "tree3=DecisionTreeClassifier()\n",
    "grid_search=GridSearchCV(estimator=tree3,param_grid={'max_depth': range(3,10),\"min_samples_leaf\":range(10,100)},cv=5, n_jobs=-1)\n",
    "grid_search.fit(X,Y) #as the CV is splitting the data into training and testing sets, the whole data should be inputted here"
   ]
  },
  {
   "cell_type": "code",
   "execution_count": 72,
   "metadata": {},
   "outputs": [
    {
     "name": "stdout",
     "output_type": "stream",
     "text": [
      "Best Score: 94.0\n",
      "Best params: {'max_depth': 8, 'min_samples_leaf': 10}\n"
     ]
    }
   ],
   "source": [
    "#getting best parameters and best score for that parameters on training set \n",
    "print(\"Best Score: {0}\".format(grid_search.best_score_.round(2)*100,grid_search.best_params_))\n",
    "print(\"Best params: {0}\".format(grid_search.best_params_))"
   ]
  },
  {
   "cell_type": "code",
   "execution_count": 73,
   "metadata": {},
   "outputs": [
    {
     "name": "stdout",
     "output_type": "stream",
     "text": [
      "Train: 95.0\n",
      "Test: 94.0\n"
     ]
    }
   ],
   "source": [
    "#let's again run model with best parameters and get accuarcy score\n",
    "tree3_1=DecisionTreeClassifier(max_depth=8,min_samples_leaf=10,random_state=42)\n",
    "tree3_1=tree3_1.fit(x_train,y_train)\n",
    "print(\"Train:\", tree3_1.score(x_train,y_train).round(2)*100)\n",
    "print(\"Test:\", tree3_1.score(x_test,y_test).round(2)*100)"
   ]
  },
  {
   "cell_type": "code",
   "execution_count": 74,
   "metadata": {},
   "outputs": [
    {
     "name": "stdout",
     "output_type": "stream",
     "text": [
      "73.0\n"
     ]
    }
   ],
   "source": [
    "#let's get recall value\n",
    "y_pred3=tree3_1.predict(x_test)\n",
    "print(recall_score(y_test,y_pred3).round(2)*100)"
   ]
  },
  {
   "cell_type": "markdown",
   "metadata": {},
   "source": [
    "# Tree 4 - With Balanced class_weight"
   ]
  },
  {
   "cell_type": "code",
   "execution_count": 75,
   "metadata": {},
   "outputs": [
    {
     "name": "stdout",
     "output_type": "stream",
     "text": [
      "Train: 93.0\n",
      "Test: 90.0\n"
     ]
    }
   ],
   "source": [
    "#let's again run model with best parameters and with balanced class weights \n",
    "tree4=DecisionTreeClassifier(max_depth=8,min_samples_leaf=10,class_weight=\"balanced\",random_state=42)\n",
    "tree4=tree4.fit(x_train,y_train)\n",
    "print(\"Train:\", tree4.score(x_train,y_train).round(2)*100)\n",
    "print(\"Test:\", tree4.score(x_test,y_test).round(2)*100)"
   ]
  },
  {
   "cell_type": "code",
   "execution_count": 76,
   "metadata": {},
   "outputs": [
    {
     "name": "stdout",
     "output_type": "stream",
     "text": [
      "82.0\n"
     ]
    }
   ],
   "source": [
    "#let's get recall value\n",
    "y_pred4=tree4.predict(x_test)\n",
    "print(recall_score(y_test,y_pred4).round(2)*100)"
   ]
  },
  {
   "cell_type": "markdown",
   "metadata": {},
   "source": [
    "# Tree 5 - Removing from the tree not important features(X)"
   ]
  },
  {
   "cell_type": "code",
   "execution_count": 77,
   "metadata": {},
   "outputs": [],
   "source": [
    "#let's get feature importances\n",
    "imp=pd.DataFrame(data=tree4.feature_importances_,index=X.columns,columns=['importances'])"
   ]
  },
  {
   "cell_type": "code",
   "execution_count": 79,
   "metadata": {},
   "outputs": [
    {
     "name": "stdout",
     "output_type": "stream",
     "text": [
      "                importances\n",
      "Day Charge         0.254311\n",
      "CustServ Calls     0.224474\n",
      "Int'l Plan         0.206286\n",
      "Intl Calls         0.078386\n",
      "Eve Charge         0.062769\n",
      "Intl Charge        0.042803\n",
      "Eve Mins           0.040907\n",
      "VMail Message      0.031054\n",
      "Night Mins         0.015169\n",
      "Account Length     0.012417\n",
      "Day Mins           0.009940\n",
      "Night Calls        0.008422\n",
      "Intl Mins          0.007975\n",
      "State_DC           0.004435\n",
      "Day Calls          0.000479\n",
      "Night Charge       0.000172\n",
      "VMail Plan         0.000000\n",
      "Eve Calls          0.000000\n",
      "Area Code          0.000000\n",
      "State_AL           0.000000\n",
      "State_AR           0.000000\n",
      "State_FL           0.000000\n",
      "State_AZ           0.000000\n",
      "State_CA           0.000000\n",
      "State_CO           0.000000\n",
      "State_CT           0.000000\n",
      "State_DE           0.000000\n",
      "State_LA           0.000000\n",
      "State_GA           0.000000\n",
      "State_HI           0.000000\n",
      "...                     ...\n",
      "State_ME           0.000000\n",
      "State_MI           0.000000\n",
      "State_MN           0.000000\n",
      "State_MS           0.000000\n",
      "State_KY           0.000000\n",
      "State_MT           0.000000\n",
      "State_ND           0.000000\n",
      "State_OR           0.000000\n",
      "State_NC           0.000000\n",
      "State_NE           0.000000\n",
      "State_NH           0.000000\n",
      "State_NJ           0.000000\n",
      "State_NM           0.000000\n",
      "State_NV           0.000000\n",
      "State_NY           0.000000\n",
      "State_OH           0.000000\n",
      "State_OK           0.000000\n",
      "State_UT           0.000000\n",
      "State_PA           0.000000\n",
      "State_RI           0.000000\n",
      "State_SC           0.000000\n",
      "State_SD           0.000000\n",
      "State_TN           0.000000\n",
      "State_TX           0.000000\n",
      "State_VA           0.000000\n",
      "State_VT           0.000000\n",
      "State_WA           0.000000\n",
      "State_WI           0.000000\n",
      "State_WV           0.000000\n",
      "State_WY           0.000000\n",
      "\n",
      "[68 rows x 1 columns]\n"
     ]
    }
   ],
   "source": [
    "imp=imp.sort_values(by=\"importances\",ascending=False)\n",
    "print(imp)"
   ]
  },
  {
   "cell_type": "code",
   "execution_count": 86,
   "metadata": {},
   "outputs": [
    {
     "name": "stdout",
     "output_type": "stream",
     "text": [
      "                importances\n",
      "Day Charge         0.254311\n",
      "CustServ Calls     0.224474\n",
      "Int'l Plan         0.206286\n",
      "Intl Calls         0.078386\n",
      "Eve Charge         0.062769\n",
      "Intl Charge        0.042803\n",
      "Eve Mins           0.040907\n",
      "VMail Message      0.031054\n",
      "Night Mins         0.015169\n",
      "Account Length     0.012417\n",
      "Day Mins           0.009940\n",
      "Night Calls        0.008422\n",
      "Intl Mins          0.007975\n",
      "State_DC           0.004435\n",
      "Day Calls          0.000479\n",
      "Night Charge       0.000172\n"
     ]
    }
   ],
   "source": [
    "#let's keep only important variables\n",
    "most_imp=imp[imp.importances>=0.000172]\n",
    "print(most_imp)"
   ]
  },
  {
   "cell_type": "code",
   "execution_count": 88,
   "metadata": {},
   "outputs": [
    {
     "name": "stdout",
     "output_type": "stream",
     "text": [
      "['Day Charge', 'CustServ Calls', \"Int'l Plan\", 'Intl Calls', 'Eve Charge', 'Intl Charge', 'Eve Mins', 'VMail Message', 'Night Mins', 'Account Length', 'Day Mins', 'Night Calls', 'Intl Mins', 'State_DC', 'Day Calls', 'Night Charge']\n"
     ]
    }
   ],
   "source": [
    "list_var=most_imp.index.tolist()\n",
    "print(list_var)"
   ]
  },
  {
   "cell_type": "code",
   "execution_count": 90,
   "metadata": {},
   "outputs": [
    {
     "data": {
      "text/html": [
       "<div>\n",
       "<style scoped>\n",
       "    .dataframe tbody tr th:only-of-type {\n",
       "        vertical-align: middle;\n",
       "    }\n",
       "\n",
       "    .dataframe tbody tr th {\n",
       "        vertical-align: top;\n",
       "    }\n",
       "\n",
       "    .dataframe thead th {\n",
       "        text-align: right;\n",
       "    }\n",
       "</style>\n",
       "<table border=\"1\" class=\"dataframe\">\n",
       "  <thead>\n",
       "    <tr style=\"text-align: right;\">\n",
       "      <th></th>\n",
       "      <th>Day Charge</th>\n",
       "      <th>CustServ Calls</th>\n",
       "      <th>Int'l Plan</th>\n",
       "      <th>Intl Calls</th>\n",
       "      <th>Eve Charge</th>\n",
       "      <th>Intl Charge</th>\n",
       "      <th>Eve Mins</th>\n",
       "      <th>VMail Message</th>\n",
       "      <th>Night Mins</th>\n",
       "      <th>Account Length</th>\n",
       "      <th>Day Mins</th>\n",
       "      <th>Night Calls</th>\n",
       "      <th>Intl Mins</th>\n",
       "      <th>State_DC</th>\n",
       "      <th>Day Calls</th>\n",
       "      <th>Night Charge</th>\n",
       "    </tr>\n",
       "  </thead>\n",
       "  <tbody>\n",
       "    <tr>\n",
       "      <th>367</th>\n",
       "      <td>13.29</td>\n",
       "      <td>1</td>\n",
       "      <td>0</td>\n",
       "      <td>3</td>\n",
       "      <td>21.54</td>\n",
       "      <td>4.86</td>\n",
       "      <td>253.4</td>\n",
       "      <td>0</td>\n",
       "      <td>255.0</td>\n",
       "      <td>45</td>\n",
       "      <td>78.2</td>\n",
       "      <td>100</td>\n",
       "      <td>18.0</td>\n",
       "      <td>0</td>\n",
       "      <td>127</td>\n",
       "      <td>11.48</td>\n",
       "    </tr>\n",
       "    <tr>\n",
       "      <th>3103</th>\n",
       "      <td>33.30</td>\n",
       "      <td>2</td>\n",
       "      <td>0</td>\n",
       "      <td>1</td>\n",
       "      <td>19.30</td>\n",
       "      <td>3.56</td>\n",
       "      <td>227.0</td>\n",
       "      <td>0</td>\n",
       "      <td>313.2</td>\n",
       "      <td>115</td>\n",
       "      <td>195.9</td>\n",
       "      <td>113</td>\n",
       "      <td>13.2</td>\n",
       "      <td>0</td>\n",
       "      <td>111</td>\n",
       "      <td>14.09</td>\n",
       "    </tr>\n",
       "    <tr>\n",
       "      <th>549</th>\n",
       "      <td>40.31</td>\n",
       "      <td>4</td>\n",
       "      <td>0</td>\n",
       "      <td>5</td>\n",
       "      <td>17.48</td>\n",
       "      <td>2.73</td>\n",
       "      <td>205.6</td>\n",
       "      <td>31</td>\n",
       "      <td>196.7</td>\n",
       "      <td>121</td>\n",
       "      <td>237.1</td>\n",
       "      <td>85</td>\n",
       "      <td>10.1</td>\n",
       "      <td>0</td>\n",
       "      <td>63</td>\n",
       "      <td>8.85</td>\n",
       "    </tr>\n",
       "    <tr>\n",
       "      <th>2531</th>\n",
       "      <td>24.36</td>\n",
       "      <td>1</td>\n",
       "      <td>0</td>\n",
       "      <td>4</td>\n",
       "      <td>15.34</td>\n",
       "      <td>2.73</td>\n",
       "      <td>180.5</td>\n",
       "      <td>0</td>\n",
       "      <td>184.2</td>\n",
       "      <td>180</td>\n",
       "      <td>143.3</td>\n",
       "      <td>87</td>\n",
       "      <td>10.1</td>\n",
       "      <td>0</td>\n",
       "      <td>134</td>\n",
       "      <td>8.29</td>\n",
       "    </tr>\n",
       "    <tr>\n",
       "      <th>2378</th>\n",
       "      <td>35.05</td>\n",
       "      <td>3</td>\n",
       "      <td>0</td>\n",
       "      <td>7</td>\n",
       "      <td>13.98</td>\n",
       "      <td>3.40</td>\n",
       "      <td>164.5</td>\n",
       "      <td>0</td>\n",
       "      <td>140.3</td>\n",
       "      <td>112</td>\n",
       "      <td>206.2</td>\n",
       "      <td>101</td>\n",
       "      <td>12.6</td>\n",
       "      <td>0</td>\n",
       "      <td>122</td>\n",
       "      <td>6.31</td>\n",
       "    </tr>\n",
       "  </tbody>\n",
       "</table>\n",
       "</div>"
      ],
      "text/plain": [
       "      Day Charge  CustServ Calls  Int'l Plan  Intl Calls  Eve Charge  \\\n",
       "367        13.29               1           0           3       21.54   \n",
       "3103       33.30               2           0           1       19.30   \n",
       "549        40.31               4           0           5       17.48   \n",
       "2531       24.36               1           0           4       15.34   \n",
       "2378       35.05               3           0           7       13.98   \n",
       "\n",
       "      Intl Charge  Eve Mins  VMail Message  Night Mins  Account Length  \\\n",
       "367          4.86     253.4              0       255.0              45   \n",
       "3103         3.56     227.0              0       313.2             115   \n",
       "549          2.73     205.6             31       196.7             121   \n",
       "2531         2.73     180.5              0       184.2             180   \n",
       "2378         3.40     164.5              0       140.3             112   \n",
       "\n",
       "      Day Mins  Night Calls  Intl Mins  State_DC  Day Calls  Night Charge  \n",
       "367       78.2          100       18.0         0        127         11.48  \n",
       "3103     195.9          113       13.2         0        111         14.09  \n",
       "549      237.1           85       10.1         0         63          8.85  \n",
       "2531     143.3           87       10.1         0        134          8.29  \n",
       "2378     206.2          101       12.6         0        122          6.31  "
      ]
     },
     "execution_count": 90,
     "metadata": {},
     "output_type": "execute_result"
    }
   ],
   "source": [
    "#new training and testing x datasets for only most important variables\n",
    "x_train2=x_train[list_var]\n",
    "x_test2=x_test[list_var]\n",
    "x_train2.head()"
   ]
  },
  {
   "cell_type": "code",
   "execution_count": 91,
   "metadata": {},
   "outputs": [
    {
     "name": "stdout",
     "output_type": "stream",
     "text": [
      "Train: 93.0\n",
      "Test: 90.0\n"
     ]
    }
   ],
   "source": [
    "#let's run model with best parameters again\n",
    "tree5=DecisionTreeClassifier(max_depth=8,min_samples_leaf=10,class_weight=\"balanced\",random_state=42)\n",
    "tree5=tree5.fit(x_train2,y_train)\n",
    "print(\"Train:\", tree5.score(x_train2,y_train).round(2)*100)\n",
    "print(\"Test:\", tree5.score(x_test2,y_test).round(2)*100)"
   ]
  },
  {
   "cell_type": "code",
   "execution_count": 92,
   "metadata": {},
   "outputs": [
    {
     "data": {
      "text/plain": [
       "0.82"
      ]
     },
     "execution_count": 92,
     "metadata": {},
     "output_type": "execute_result"
    }
   ],
   "source": [
    "y_pred5=tree5.predict(x_test2)\n",
    "recall_score(y_test,y_pred5).round(2)"
   ]
  },
  {
   "cell_type": "code",
   "execution_count": null,
   "metadata": {},
   "outputs": [],
   "source": []
  }
 ],
 "metadata": {
  "kernelspec": {
   "display_name": "Python 3",
   "language": "python",
   "name": "python3"
  },
  "language_info": {
   "codemirror_mode": {
    "name": "ipython",
    "version": 3
   },
   "file_extension": ".py",
   "mimetype": "text/x-python",
   "name": "python",
   "nbconvert_exporter": "python",
   "pygments_lexer": "ipython3",
   "version": "3.6.5"
  }
 },
 "nbformat": 4,
 "nbformat_minor": 2
}
