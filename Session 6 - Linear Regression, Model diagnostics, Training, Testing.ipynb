{
 "cells": [
  {
   "cell_type": "markdown",
   "metadata": {},
   "source": [
    "<h1>Linear Regression - Customer Lifetime value</h1>\n",
    "<p>This notebook provides an example code of analyzing <b>Customer lifetime value</b> using linear regression. The dependent variable which we will use in OLS model is <b>Customer lifetime value</b>. We would like to understand the realtionship between CLV and other variables in the dataset.\n",
    "    \n",
    "The general sequence of steps that we will follow is the following:\n",
    "<ol>\n",
    "<li>Describing the data (checking for NAs, outliers,summary statistics of our variables, etc)\n",
    "<li>Checking for correlations between the variables, and drop one of correlated variables \n",
    "<li>Visualize the relationship between dependent variable (CLV) and some of variables which are highly correlated to CLV\n",
    "<li>Construct the OLS model using statsmodel package\n",
    "<li>Get summary of the model\n",
    "<li>Interpret the results\n",
    "<li><b>Model diagnostics</b>\n",
    "<li><b>Training, testing</b>\n",
    "</ol>\n",
    "</p>"
   ]
  },
  {
   "cell_type": "code",
   "execution_count": 1,
   "metadata": {},
   "outputs": [],
   "source": [
    "import pandas as pd\n",
    "import matplotlib.pyplot as plt\n",
    "import numpy as np\n",
    "from statsmodels.api import qqplot\n",
    "from statsmodels.formula.api import ols #for linear regression\n",
    "import seaborn as sns #for heatmap\n",
    "from sklearn.model_selection import train_test_split\n",
    "from scipy.stats import shapiro\n",
    "from sklearn.metrics import r2_score\n",
    "from statsmodels.stats.diagnostic import linear_rainbow\n",
    "from statsmodels.stats.diagnostic import het_breuschpagan"
   ]
  },
  {
   "cell_type": "markdown",
   "metadata": {},
   "source": [
    "# Description of Data"
   ]
  },
  {
   "cell_type": "code",
   "execution_count": 2,
   "metadata": {},
   "outputs": [],
   "source": [
    "#read the data\n",
    "data=pd.read_excel(\"CLV.xlsx\")"
   ]
  },
  {
   "cell_type": "code",
   "execution_count": 3,
   "metadata": {},
   "outputs": [
    {
     "data": {
      "text/html": [
       "<div>\n",
       "<style scoped>\n",
       "    .dataframe tbody tr th:only-of-type {\n",
       "        vertical-align: middle;\n",
       "    }\n",
       "\n",
       "    .dataframe tbody tr th {\n",
       "        vertical-align: top;\n",
       "    }\n",
       "\n",
       "    .dataframe thead th {\n",
       "        text-align: right;\n",
       "    }\n",
       "</style>\n",
       "<table border=\"1\" class=\"dataframe\">\n",
       "  <thead>\n",
       "    <tr style=\"text-align: right;\">\n",
       "      <th></th>\n",
       "      <th>Customer</th>\n",
       "      <th>State</th>\n",
       "      <th>Customer_Lifetime_Value</th>\n",
       "      <th>Response</th>\n",
       "      <th>Coverage</th>\n",
       "      <th>Education</th>\n",
       "      <th>Effective_To_Date</th>\n",
       "      <th>EmploymentStatus</th>\n",
       "      <th>Gender</th>\n",
       "      <th>Income</th>\n",
       "      <th>...</th>\n",
       "      <th>Months_Since_Policy_Inception</th>\n",
       "      <th>Number_of_Open_Complaints</th>\n",
       "      <th>Number_of_Policies</th>\n",
       "      <th>Policy_Type</th>\n",
       "      <th>Policy</th>\n",
       "      <th>Renew_Offer_Type</th>\n",
       "      <th>Sales_Channel</th>\n",
       "      <th>Total_Claim_Amount</th>\n",
       "      <th>Vehicle_Class</th>\n",
       "      <th>Vehicle_Size</th>\n",
       "    </tr>\n",
       "  </thead>\n",
       "  <tbody>\n",
       "    <tr>\n",
       "      <th>0</th>\n",
       "      <td>BU79786</td>\n",
       "      <td>Washington</td>\n",
       "      <td>2763.519279</td>\n",
       "      <td>No</td>\n",
       "      <td>Basic</td>\n",
       "      <td>Bachelor</td>\n",
       "      <td>2011-02-24</td>\n",
       "      <td>Employed</td>\n",
       "      <td>F</td>\n",
       "      <td>56274</td>\n",
       "      <td>...</td>\n",
       "      <td>5</td>\n",
       "      <td>0</td>\n",
       "      <td>1</td>\n",
       "      <td>Corporate Auto</td>\n",
       "      <td>Corporate L3</td>\n",
       "      <td>Offer1</td>\n",
       "      <td>Agent</td>\n",
       "      <td>384.811147</td>\n",
       "      <td>Two-Door Car</td>\n",
       "      <td>Medsize</td>\n",
       "    </tr>\n",
       "    <tr>\n",
       "      <th>1</th>\n",
       "      <td>QZ44356</td>\n",
       "      <td>Arizona</td>\n",
       "      <td>6979.535903</td>\n",
       "      <td>No</td>\n",
       "      <td>Extended</td>\n",
       "      <td>Bachelor</td>\n",
       "      <td>2011-01-31</td>\n",
       "      <td>Unemployed</td>\n",
       "      <td>F</td>\n",
       "      <td>0</td>\n",
       "      <td>...</td>\n",
       "      <td>42</td>\n",
       "      <td>0</td>\n",
       "      <td>8</td>\n",
       "      <td>Personal Auto</td>\n",
       "      <td>Personal L3</td>\n",
       "      <td>Offer3</td>\n",
       "      <td>Agent</td>\n",
       "      <td>1131.464935</td>\n",
       "      <td>Four-Door Car</td>\n",
       "      <td>Medsize</td>\n",
       "    </tr>\n",
       "    <tr>\n",
       "      <th>2</th>\n",
       "      <td>AI49188</td>\n",
       "      <td>Nevada</td>\n",
       "      <td>12887.431650</td>\n",
       "      <td>No</td>\n",
       "      <td>Premium</td>\n",
       "      <td>Bachelor</td>\n",
       "      <td>2011-02-19</td>\n",
       "      <td>Employed</td>\n",
       "      <td>F</td>\n",
       "      <td>48767</td>\n",
       "      <td>...</td>\n",
       "      <td>38</td>\n",
       "      <td>0</td>\n",
       "      <td>2</td>\n",
       "      <td>Personal Auto</td>\n",
       "      <td>Personal L3</td>\n",
       "      <td>Offer1</td>\n",
       "      <td>Agent</td>\n",
       "      <td>566.472247</td>\n",
       "      <td>Two-Door Car</td>\n",
       "      <td>Medsize</td>\n",
       "    </tr>\n",
       "    <tr>\n",
       "      <th>3</th>\n",
       "      <td>WW63253</td>\n",
       "      <td>California</td>\n",
       "      <td>7645.861827</td>\n",
       "      <td>No</td>\n",
       "      <td>Basic</td>\n",
       "      <td>Bachelor</td>\n",
       "      <td>2011-01-20</td>\n",
       "      <td>Unemployed</td>\n",
       "      <td>M</td>\n",
       "      <td>0</td>\n",
       "      <td>...</td>\n",
       "      <td>65</td>\n",
       "      <td>0</td>\n",
       "      <td>7</td>\n",
       "      <td>Corporate Auto</td>\n",
       "      <td>Corporate L2</td>\n",
       "      <td>Offer1</td>\n",
       "      <td>Call Center</td>\n",
       "      <td>529.881344</td>\n",
       "      <td>SUV</td>\n",
       "      <td>Medsize</td>\n",
       "    </tr>\n",
       "    <tr>\n",
       "      <th>4</th>\n",
       "      <td>HB64268</td>\n",
       "      <td>Washington</td>\n",
       "      <td>2813.692575</td>\n",
       "      <td>No</td>\n",
       "      <td>Basic</td>\n",
       "      <td>Bachelor</td>\n",
       "      <td>2011-02-03</td>\n",
       "      <td>Employed</td>\n",
       "      <td>M</td>\n",
       "      <td>43836</td>\n",
       "      <td>...</td>\n",
       "      <td>44</td>\n",
       "      <td>0</td>\n",
       "      <td>1</td>\n",
       "      <td>Personal Auto</td>\n",
       "      <td>Personal L1</td>\n",
       "      <td>Offer1</td>\n",
       "      <td>Agent</td>\n",
       "      <td>138.130879</td>\n",
       "      <td>Four-Door Car</td>\n",
       "      <td>Medsize</td>\n",
       "    </tr>\n",
       "  </tbody>\n",
       "</table>\n",
       "<p>5 rows × 24 columns</p>\n",
       "</div>"
      ],
      "text/plain": [
       "  Customer       State  Customer_Lifetime_Value Response  Coverage Education  \\\n",
       "0  BU79786  Washington              2763.519279       No     Basic  Bachelor   \n",
       "1  QZ44356     Arizona              6979.535903       No  Extended  Bachelor   \n",
       "2  AI49188      Nevada             12887.431650       No   Premium  Bachelor   \n",
       "3  WW63253  California              7645.861827       No     Basic  Bachelor   \n",
       "4  HB64268  Washington              2813.692575       No     Basic  Bachelor   \n",
       "\n",
       "  Effective_To_Date EmploymentStatus Gender  Income     ...       \\\n",
       "0        2011-02-24         Employed      F   56274     ...        \n",
       "1        2011-01-31       Unemployed      F       0     ...        \n",
       "2        2011-02-19         Employed      F   48767     ...        \n",
       "3        2011-01-20       Unemployed      M       0     ...        \n",
       "4        2011-02-03         Employed      M   43836     ...        \n",
       "\n",
       "  Months_Since_Policy_Inception Number_of_Open_Complaints  Number_of_Policies  \\\n",
       "0                             5                         0                   1   \n",
       "1                            42                         0                   8   \n",
       "2                            38                         0                   2   \n",
       "3                            65                         0                   7   \n",
       "4                            44                         0                   1   \n",
       "\n",
       "      Policy_Type        Policy  Renew_Offer_Type  Sales_Channel  \\\n",
       "0  Corporate Auto  Corporate L3            Offer1          Agent   \n",
       "1   Personal Auto   Personal L3            Offer3          Agent   \n",
       "2   Personal Auto   Personal L3            Offer1          Agent   \n",
       "3  Corporate Auto  Corporate L2            Offer1    Call Center   \n",
       "4   Personal Auto   Personal L1            Offer1          Agent   \n",
       "\n",
       "  Total_Claim_Amount  Vehicle_Class Vehicle_Size  \n",
       "0         384.811147   Two-Door Car      Medsize  \n",
       "1        1131.464935  Four-Door Car      Medsize  \n",
       "2         566.472247   Two-Door Car      Medsize  \n",
       "3         529.881344            SUV      Medsize  \n",
       "4         138.130879  Four-Door Car      Medsize  \n",
       "\n",
       "[5 rows x 24 columns]"
      ]
     },
     "execution_count": 3,
     "metadata": {},
     "output_type": "execute_result"
    }
   ],
   "source": [
    "#lets see how the data looks \n",
    "data.head()"
   ]
  },
  {
   "cell_type": "code",
   "execution_count": 4,
   "metadata": {},
   "outputs": [
    {
     "data": {
      "text/plain": [
       "False"
      ]
     },
     "execution_count": 4,
     "metadata": {},
     "output_type": "execute_result"
    }
   ],
   "source": [
    "#let's check for NA's\n",
    "data.isnull().values.any()"
   ]
  },
  {
   "cell_type": "code",
   "execution_count": 5,
   "metadata": {},
   "outputs": [
    {
     "name": "stdout",
     "output_type": "stream",
     "text": [
      "<class 'pandas.core.frame.DataFrame'>\n",
      "RangeIndex: 9134 entries, 0 to 9133\n",
      "Data columns (total 24 columns):\n",
      "Customer                         9134 non-null object\n",
      "State                            9134 non-null object\n",
      "Customer_Lifetime_Value          9134 non-null float64\n",
      "Response                         9134 non-null object\n",
      "Coverage                         9134 non-null object\n",
      "Education                        9134 non-null object\n",
      "Effective_To_Date                9134 non-null datetime64[ns]\n",
      "EmploymentStatus                 9134 non-null object\n",
      "Gender                           9134 non-null object\n",
      "Income                           9134 non-null int64\n",
      "Location_Code                    9134 non-null object\n",
      "Marital_Status                   9134 non-null object\n",
      "Monthly_Premium_Auto             9134 non-null int64\n",
      "Months_Since_Last_Claim          9134 non-null int64\n",
      "Months_Since_Policy_Inception    9134 non-null int64\n",
      "Number_of_Open_Complaints        9134 non-null int64\n",
      "Number_of_Policies               9134 non-null int64\n",
      "Policy_Type                      9134 non-null object\n",
      "Policy                           9134 non-null object\n",
      "Renew_Offer_Type                 9134 non-null object\n",
      "Sales_Channel                    9134 non-null object\n",
      "Total_Claim_Amount               9134 non-null float64\n",
      "Vehicle_Class                    9134 non-null object\n",
      "Vehicle_Size                     9134 non-null object\n",
      "dtypes: datetime64[ns](1), float64(2), int64(6), object(15)\n",
      "memory usage: 1.7+ MB\n"
     ]
    }
   ],
   "source": [
    "#let's get info about all the variables and the types of them\n",
    "data.info()"
   ]
  },
  {
   "cell_type": "code",
   "execution_count": 6,
   "metadata": {},
   "outputs": [],
   "source": [
    "#let's separate numeric and object variables\n",
    "data_numeric = data.select_dtypes(exclude=[\"object\", \"datetime64\"])\n",
    "data_object = data.select_dtypes(include=[\"object\"])"
   ]
  },
  {
   "cell_type": "code",
   "execution_count": 7,
   "metadata": {},
   "outputs": [
    {
     "data": {
      "text/html": [
       "<div>\n",
       "<style scoped>\n",
       "    .dataframe tbody tr th:only-of-type {\n",
       "        vertical-align: middle;\n",
       "    }\n",
       "\n",
       "    .dataframe tbody tr th {\n",
       "        vertical-align: top;\n",
       "    }\n",
       "\n",
       "    .dataframe thead th {\n",
       "        text-align: right;\n",
       "    }\n",
       "</style>\n",
       "<table border=\"1\" class=\"dataframe\">\n",
       "  <thead>\n",
       "    <tr style=\"text-align: right;\">\n",
       "      <th></th>\n",
       "      <th>Customer</th>\n",
       "      <th>State</th>\n",
       "      <th>Response</th>\n",
       "      <th>Coverage</th>\n",
       "      <th>Education</th>\n",
       "      <th>EmploymentStatus</th>\n",
       "      <th>Gender</th>\n",
       "      <th>Location_Code</th>\n",
       "      <th>Marital_Status</th>\n",
       "      <th>Policy_Type</th>\n",
       "      <th>Policy</th>\n",
       "      <th>Renew_Offer_Type</th>\n",
       "      <th>Sales_Channel</th>\n",
       "      <th>Vehicle_Class</th>\n",
       "      <th>Vehicle_Size</th>\n",
       "    </tr>\n",
       "  </thead>\n",
       "  <tbody>\n",
       "    <tr>\n",
       "      <th>0</th>\n",
       "      <td>BU79786</td>\n",
       "      <td>Washington</td>\n",
       "      <td>No</td>\n",
       "      <td>Basic</td>\n",
       "      <td>Bachelor</td>\n",
       "      <td>Employed</td>\n",
       "      <td>F</td>\n",
       "      <td>Suburban</td>\n",
       "      <td>Married</td>\n",
       "      <td>Corporate Auto</td>\n",
       "      <td>Corporate L3</td>\n",
       "      <td>Offer1</td>\n",
       "      <td>Agent</td>\n",
       "      <td>Two-Door Car</td>\n",
       "      <td>Medsize</td>\n",
       "    </tr>\n",
       "    <tr>\n",
       "      <th>1</th>\n",
       "      <td>QZ44356</td>\n",
       "      <td>Arizona</td>\n",
       "      <td>No</td>\n",
       "      <td>Extended</td>\n",
       "      <td>Bachelor</td>\n",
       "      <td>Unemployed</td>\n",
       "      <td>F</td>\n",
       "      <td>Suburban</td>\n",
       "      <td>Single</td>\n",
       "      <td>Personal Auto</td>\n",
       "      <td>Personal L3</td>\n",
       "      <td>Offer3</td>\n",
       "      <td>Agent</td>\n",
       "      <td>Four-Door Car</td>\n",
       "      <td>Medsize</td>\n",
       "    </tr>\n",
       "    <tr>\n",
       "      <th>2</th>\n",
       "      <td>AI49188</td>\n",
       "      <td>Nevada</td>\n",
       "      <td>No</td>\n",
       "      <td>Premium</td>\n",
       "      <td>Bachelor</td>\n",
       "      <td>Employed</td>\n",
       "      <td>F</td>\n",
       "      <td>Suburban</td>\n",
       "      <td>Married</td>\n",
       "      <td>Personal Auto</td>\n",
       "      <td>Personal L3</td>\n",
       "      <td>Offer1</td>\n",
       "      <td>Agent</td>\n",
       "      <td>Two-Door Car</td>\n",
       "      <td>Medsize</td>\n",
       "    </tr>\n",
       "    <tr>\n",
       "      <th>3</th>\n",
       "      <td>WW63253</td>\n",
       "      <td>California</td>\n",
       "      <td>No</td>\n",
       "      <td>Basic</td>\n",
       "      <td>Bachelor</td>\n",
       "      <td>Unemployed</td>\n",
       "      <td>M</td>\n",
       "      <td>Suburban</td>\n",
       "      <td>Married</td>\n",
       "      <td>Corporate Auto</td>\n",
       "      <td>Corporate L2</td>\n",
       "      <td>Offer1</td>\n",
       "      <td>Call Center</td>\n",
       "      <td>SUV</td>\n",
       "      <td>Medsize</td>\n",
       "    </tr>\n",
       "    <tr>\n",
       "      <th>4</th>\n",
       "      <td>HB64268</td>\n",
       "      <td>Washington</td>\n",
       "      <td>No</td>\n",
       "      <td>Basic</td>\n",
       "      <td>Bachelor</td>\n",
       "      <td>Employed</td>\n",
       "      <td>M</td>\n",
       "      <td>Rural</td>\n",
       "      <td>Single</td>\n",
       "      <td>Personal Auto</td>\n",
       "      <td>Personal L1</td>\n",
       "      <td>Offer1</td>\n",
       "      <td>Agent</td>\n",
       "      <td>Four-Door Car</td>\n",
       "      <td>Medsize</td>\n",
       "    </tr>\n",
       "  </tbody>\n",
       "</table>\n",
       "</div>"
      ],
      "text/plain": [
       "  Customer       State Response  Coverage Education EmploymentStatus Gender  \\\n",
       "0  BU79786  Washington       No     Basic  Bachelor         Employed      F   \n",
       "1  QZ44356     Arizona       No  Extended  Bachelor       Unemployed      F   \n",
       "2  AI49188      Nevada       No   Premium  Bachelor         Employed      F   \n",
       "3  WW63253  California       No     Basic  Bachelor       Unemployed      M   \n",
       "4  HB64268  Washington       No     Basic  Bachelor         Employed      M   \n",
       "\n",
       "  Location_Code Marital_Status     Policy_Type        Policy Renew_Offer_Type  \\\n",
       "0      Suburban        Married  Corporate Auto  Corporate L3           Offer1   \n",
       "1      Suburban         Single   Personal Auto   Personal L3           Offer3   \n",
       "2      Suburban        Married   Personal Auto   Personal L3           Offer1   \n",
       "3      Suburban        Married  Corporate Auto  Corporate L2           Offer1   \n",
       "4         Rural         Single   Personal Auto   Personal L1           Offer1   \n",
       "\n",
       "  Sales_Channel  Vehicle_Class Vehicle_Size  \n",
       "0         Agent   Two-Door Car      Medsize  \n",
       "1         Agent  Four-Door Car      Medsize  \n",
       "2         Agent   Two-Door Car      Medsize  \n",
       "3   Call Center            SUV      Medsize  \n",
       "4         Agent  Four-Door Car      Medsize  "
      ]
     },
     "execution_count": 7,
     "metadata": {},
     "output_type": "execute_result"
    }
   ],
   "source": [
    "data_object.head()"
   ]
  },
  {
   "cell_type": "code",
   "execution_count": 8,
   "metadata": {},
   "outputs": [],
   "source": [
    "del data_object[\"Customer\"]"
   ]
  },
  {
   "cell_type": "code",
   "execution_count": 9,
   "metadata": {},
   "outputs": [
    {
     "name": "stdout",
     "output_type": "stream",
     "text": [
      "State \n",
      " California    3150\n",
      "Oregon        2601\n",
      "Arizona       1703\n",
      "Nevada         882\n",
      "Washington     798\n",
      "Name: State, dtype: int64 \n",
      " \n",
      "\n",
      "--------------------\n",
      "Response \n",
      " No     7826\n",
      "Yes    1308\n",
      "Name: Response, dtype: int64 \n",
      " \n",
      "\n",
      "--------------------\n",
      "Coverage \n",
      " Basic       5568\n",
      "Extended    2742\n",
      "Premium      824\n",
      "Name: Coverage, dtype: int64 \n",
      " \n",
      "\n",
      "--------------------\n",
      "Education \n",
      " Bachelor                2748\n",
      "College                 2681\n",
      "High School or Below    2622\n",
      "Master                   741\n",
      "Doctor                   342\n",
      "Name: Education, dtype: int64 \n",
      " \n",
      "\n",
      "--------------------\n",
      "EmploymentStatus \n",
      " Employed         5698\n",
      "Unemployed       2317\n",
      "Medical Leave     432\n",
      "Disabled          405\n",
      "Retired           282\n",
      "Name: EmploymentStatus, dtype: int64 \n",
      " \n",
      "\n",
      "--------------------\n",
      "Gender \n",
      " F    4658\n",
      "M    4476\n",
      "Name: Gender, dtype: int64 \n",
      " \n",
      "\n",
      "--------------------\n",
      "Location_Code \n",
      " Suburban    5779\n",
      "Rural       1773\n",
      "Urban       1582\n",
      "Name: Location_Code, dtype: int64 \n",
      " \n",
      "\n",
      "--------------------\n",
      "Marital_Status \n",
      " Married     5298\n",
      "Single      2467\n",
      "Divorced    1369\n",
      "Name: Marital_Status, dtype: int64 \n",
      " \n",
      "\n",
      "--------------------\n",
      "Policy_Type \n",
      " Personal Auto     6788\n",
      "Corporate Auto    1968\n",
      "Special Auto       378\n",
      "Name: Policy_Type, dtype: int64 \n",
      " \n",
      "\n",
      "--------------------\n",
      "Policy \n",
      " Personal L3     3426\n",
      "Personal L2     2122\n",
      "Personal L1     1240\n",
      "Corporate L3    1014\n",
      "Corporate L2     595\n",
      "Corporate L1     359\n",
      "Special L2       164\n",
      "Special L3       148\n",
      "Special L1        66\n",
      "Name: Policy, dtype: int64 \n",
      " \n",
      "\n",
      "--------------------\n",
      "Renew_Offer_Type \n",
      " Offer1    3752\n",
      "Offer2    2926\n",
      "Offer3    1432\n",
      "Offer4    1024\n",
      "Name: Renew_Offer_Type, dtype: int64 \n",
      " \n",
      "\n",
      "--------------------\n",
      "Sales_Channel \n",
      " Agent          3477\n",
      "Branch         2567\n",
      "Call Center    1765\n",
      "Web            1325\n",
      "Name: Sales_Channel, dtype: int64 \n",
      " \n",
      "\n",
      "--------------------\n",
      "Vehicle_Class \n",
      " Four-Door Car    4621\n",
      "Two-Door Car     1886\n",
      "SUV              1796\n",
      "Sports Car        484\n",
      "Luxury SUV        184\n",
      "Luxury Car        163\n",
      "Name: Vehicle_Class, dtype: int64 \n",
      " \n",
      "\n",
      "--------------------\n",
      "Vehicle_Size \n",
      " Medsize    6424\n",
      "Small      1764\n",
      "Large       946\n",
      "Name: Vehicle_Size, dtype: int64 \n",
      " \n",
      "\n",
      "--------------------\n"
     ]
    }
   ],
   "source": [
    "#let's see categories and number of observations in each category for object variables\n",
    "for i in data_object.columns:\n",
    "    j=data[i].value_counts()\n",
    "    print(i,\"\\n\",j,\"\\n\",\"\\n\")\n",
    "    print(\"--------------------\")"
   ]
  },
  {
   "cell_type": "code",
   "execution_count": 10,
   "metadata": {},
   "outputs": [
    {
     "data": {
      "text/plain": [
       "Customer_Lifetime_Value          False\n",
       "Income                           False\n",
       "Monthly_Premium_Auto             False\n",
       "Months_Since_Last_Claim          False\n",
       "Months_Since_Policy_Inception    False\n",
       "Number_of_Open_Complaints        False\n",
       "Number_of_Policies               False\n",
       "Total_Claim_Amount               False\n",
       "dtype: bool"
      ]
     },
     "execution_count": 10,
     "metadata": {},
     "output_type": "execute_result"
    }
   ],
   "source": [
    "#let's check variables with zero variance(i.e. we have same values for all observations), \n",
    "#if there is any we will not include in our further analysis\n",
    "data_numeric.var()==0"
   ]
  },
  {
   "cell_type": "code",
   "execution_count": 11,
   "metadata": {},
   "outputs": [
    {
     "data": {
      "text/html": [
       "<div>\n",
       "<style scoped>\n",
       "    .dataframe tbody tr th:only-of-type {\n",
       "        vertical-align: middle;\n",
       "    }\n",
       "\n",
       "    .dataframe tbody tr th {\n",
       "        vertical-align: top;\n",
       "    }\n",
       "\n",
       "    .dataframe thead th {\n",
       "        text-align: right;\n",
       "    }\n",
       "</style>\n",
       "<table border=\"1\" class=\"dataframe\">\n",
       "  <thead>\n",
       "    <tr style=\"text-align: right;\">\n",
       "      <th></th>\n",
       "      <th>Customer_Lifetime_Value</th>\n",
       "      <th>Income</th>\n",
       "      <th>Monthly_Premium_Auto</th>\n",
       "      <th>Months_Since_Last_Claim</th>\n",
       "      <th>Months_Since_Policy_Inception</th>\n",
       "      <th>Number_of_Open_Complaints</th>\n",
       "      <th>Number_of_Policies</th>\n",
       "      <th>Total_Claim_Amount</th>\n",
       "    </tr>\n",
       "  </thead>\n",
       "  <tbody>\n",
       "    <tr>\n",
       "      <th>Customer_Lifetime_Value</th>\n",
       "      <td>1.000000</td>\n",
       "      <td>0.024366</td>\n",
       "      <td>0.396262</td>\n",
       "      <td>0.011517</td>\n",
       "      <td>0.009418</td>\n",
       "      <td>-0.036343</td>\n",
       "      <td>0.021955</td>\n",
       "      <td>0.226451</td>\n",
       "    </tr>\n",
       "    <tr>\n",
       "      <th>Income</th>\n",
       "      <td>0.024366</td>\n",
       "      <td>1.000000</td>\n",
       "      <td>-0.016665</td>\n",
       "      <td>-0.026715</td>\n",
       "      <td>-0.000875</td>\n",
       "      <td>0.006408</td>\n",
       "      <td>-0.008656</td>\n",
       "      <td>-0.355254</td>\n",
       "    </tr>\n",
       "    <tr>\n",
       "      <th>Monthly_Premium_Auto</th>\n",
       "      <td>0.396262</td>\n",
       "      <td>-0.016665</td>\n",
       "      <td>1.000000</td>\n",
       "      <td>0.005026</td>\n",
       "      <td>0.020257</td>\n",
       "      <td>-0.013122</td>\n",
       "      <td>-0.011233</td>\n",
       "      <td>0.632017</td>\n",
       "    </tr>\n",
       "    <tr>\n",
       "      <th>Months_Since_Last_Claim</th>\n",
       "      <td>0.011517</td>\n",
       "      <td>-0.026715</td>\n",
       "      <td>0.005026</td>\n",
       "      <td>1.000000</td>\n",
       "      <td>-0.042959</td>\n",
       "      <td>0.005354</td>\n",
       "      <td>0.009136</td>\n",
       "      <td>0.007563</td>\n",
       "    </tr>\n",
       "    <tr>\n",
       "      <th>Months_Since_Policy_Inception</th>\n",
       "      <td>0.009418</td>\n",
       "      <td>-0.000875</td>\n",
       "      <td>0.020257</td>\n",
       "      <td>-0.042959</td>\n",
       "      <td>1.000000</td>\n",
       "      <td>-0.001158</td>\n",
       "      <td>-0.013333</td>\n",
       "      <td>0.003335</td>\n",
       "    </tr>\n",
       "    <tr>\n",
       "      <th>Number_of_Open_Complaints</th>\n",
       "      <td>-0.036343</td>\n",
       "      <td>0.006408</td>\n",
       "      <td>-0.013122</td>\n",
       "      <td>0.005354</td>\n",
       "      <td>-0.001158</td>\n",
       "      <td>1.000000</td>\n",
       "      <td>0.001498</td>\n",
       "      <td>-0.014241</td>\n",
       "    </tr>\n",
       "    <tr>\n",
       "      <th>Number_of_Policies</th>\n",
       "      <td>0.021955</td>\n",
       "      <td>-0.008656</td>\n",
       "      <td>-0.011233</td>\n",
       "      <td>0.009136</td>\n",
       "      <td>-0.013333</td>\n",
       "      <td>0.001498</td>\n",
       "      <td>1.000000</td>\n",
       "      <td>-0.002354</td>\n",
       "    </tr>\n",
       "    <tr>\n",
       "      <th>Total_Claim_Amount</th>\n",
       "      <td>0.226451</td>\n",
       "      <td>-0.355254</td>\n",
       "      <td>0.632017</td>\n",
       "      <td>0.007563</td>\n",
       "      <td>0.003335</td>\n",
       "      <td>-0.014241</td>\n",
       "      <td>-0.002354</td>\n",
       "      <td>1.000000</td>\n",
       "    </tr>\n",
       "  </tbody>\n",
       "</table>\n",
       "</div>"
      ],
      "text/plain": [
       "                               Customer_Lifetime_Value    Income  \\\n",
       "Customer_Lifetime_Value                       1.000000  0.024366   \n",
       "Income                                        0.024366  1.000000   \n",
       "Monthly_Premium_Auto                          0.396262 -0.016665   \n",
       "Months_Since_Last_Claim                       0.011517 -0.026715   \n",
       "Months_Since_Policy_Inception                 0.009418 -0.000875   \n",
       "Number_of_Open_Complaints                    -0.036343  0.006408   \n",
       "Number_of_Policies                            0.021955 -0.008656   \n",
       "Total_Claim_Amount                            0.226451 -0.355254   \n",
       "\n",
       "                               Monthly_Premium_Auto  Months_Since_Last_Claim  \\\n",
       "Customer_Lifetime_Value                    0.396262                 0.011517   \n",
       "Income                                    -0.016665                -0.026715   \n",
       "Monthly_Premium_Auto                       1.000000                 0.005026   \n",
       "Months_Since_Last_Claim                    0.005026                 1.000000   \n",
       "Months_Since_Policy_Inception              0.020257                -0.042959   \n",
       "Number_of_Open_Complaints                 -0.013122                 0.005354   \n",
       "Number_of_Policies                        -0.011233                 0.009136   \n",
       "Total_Claim_Amount                         0.632017                 0.007563   \n",
       "\n",
       "                               Months_Since_Policy_Inception  \\\n",
       "Customer_Lifetime_Value                             0.009418   \n",
       "Income                                             -0.000875   \n",
       "Monthly_Premium_Auto                                0.020257   \n",
       "Months_Since_Last_Claim                            -0.042959   \n",
       "Months_Since_Policy_Inception                       1.000000   \n",
       "Number_of_Open_Complaints                          -0.001158   \n",
       "Number_of_Policies                                 -0.013333   \n",
       "Total_Claim_Amount                                  0.003335   \n",
       "\n",
       "                               Number_of_Open_Complaints  Number_of_Policies  \\\n",
       "Customer_Lifetime_Value                        -0.036343            0.021955   \n",
       "Income                                          0.006408           -0.008656   \n",
       "Monthly_Premium_Auto                           -0.013122           -0.011233   \n",
       "Months_Since_Last_Claim                         0.005354            0.009136   \n",
       "Months_Since_Policy_Inception                  -0.001158           -0.013333   \n",
       "Number_of_Open_Complaints                       1.000000            0.001498   \n",
       "Number_of_Policies                              0.001498            1.000000   \n",
       "Total_Claim_Amount                             -0.014241           -0.002354   \n",
       "\n",
       "                               Total_Claim_Amount  \n",
       "Customer_Lifetime_Value                  0.226451  \n",
       "Income                                  -0.355254  \n",
       "Monthly_Premium_Auto                     0.632017  \n",
       "Months_Since_Last_Claim                  0.007563  \n",
       "Months_Since_Policy_Inception            0.003335  \n",
       "Number_of_Open_Complaints               -0.014241  \n",
       "Number_of_Policies                      -0.002354  \n",
       "Total_Claim_Amount                       1.000000  "
      ]
     },
     "execution_count": 11,
     "metadata": {},
     "output_type": "execute_result"
    }
   ],
   "source": [
    "data_numeric.corr()"
   ]
  },
  {
   "cell_type": "code",
   "execution_count": 12,
   "metadata": {},
   "outputs": [
    {
     "data": {
      "image/png": "[encoded data removed]",
      "text/plain": [
       "<Figure size 432x288 with 2 Axes>"
      ]
     },
     "metadata": {},
     "output_type": "display_data"
    }
   ],
   "source": [
    "sns.heatmap(data_numeric.corr().abs().round(2), annot=True)\n",
    "plt.show()"
   ]
  },
  {
   "cell_type": "markdown",
   "metadata": {},
   "source": [
    "<b>We will not exclude any variable as the corr between variables is less than 0.75.</b>"
   ]
  },
  {
   "cell_type": "code",
   "execution_count": 13,
   "metadata": {},
   "outputs": [
    {
     "data": {
      "image/png": "[encoded data removed]",
      "text/plain": [
       "<Figure size 432x288 with 1 Axes>"
      ]
     },
     "metadata": {},
     "output_type": "display_data"
    }
   ],
   "source": [
    "#as can be seen from the first heatmap, CLV has the highest correlation with Monthly Premium Auto\n",
    "#the shape of graph gives us a hint that we may have heteroscedasticity in the model\n",
    "plt.scatter(data_numeric.Monthly_Premium_Auto,data_numeric.Customer_Lifetime_Value)\n",
    "plt.show()"
   ]
  },
  {
   "cell_type": "markdown",
   "metadata": {},
   "source": [
    "# OLS Method"
   ]
  },
  {
   "cell_type": "code",
   "execution_count": 14,
   "metadata": {},
   "outputs": [],
   "source": [
    "#after making necessary changes in numeric and object datasets(in our example no change was needed), \n",
    "#we will combine back the datasets\n",
    "data_new=data_numeric.join(data_object,how='outer')"
   ]
  },
  {
   "cell_type": "code",
   "execution_count": 15,
   "metadata": {},
   "outputs": [
    {
     "data": {
      "text/plain": [
       "['Customer_Lifetime_Value',\n",
       " 'Income',\n",
       " 'Monthly_Premium_Auto',\n",
       " 'Months_Since_Last_Claim',\n",
       " 'Months_Since_Policy_Inception',\n",
       " 'Number_of_Open_Complaints',\n",
       " 'Number_of_Policies',\n",
       " 'Total_Claim_Amount',\n",
       " 'State',\n",
       " 'Response',\n",
       " 'Coverage',\n",
       " 'Education',\n",
       " 'EmploymentStatus',\n",
       " 'Gender',\n",
       " 'Location_Code',\n",
       " 'Marital_Status',\n",
       " 'Policy_Type',\n",
       " 'Policy',\n",
       " 'Renew_Offer_Type',\n",
       " 'Sales_Channel',\n",
       " 'Vehicle_Class',\n",
       " 'Vehicle_Size']"
      ]
     },
     "execution_count": 15,
     "metadata": {},
     "output_type": "execute_result"
    }
   ],
   "source": [
    "var=data_new.columns.tolist()\n",
    "var"
   ]
  },
  {
   "cell_type": "code",
   "execution_count": 16,
   "metadata": {},
   "outputs": [],
   "source": [
    "#removing Customer_Lifetime_Value\n",
    "#removing Customer ID(as it doesn't give any meaningful info)\n",
    "del var[0]"
   ]
  },
  {
   "cell_type": "code",
   "execution_count": 17,
   "metadata": {},
   "outputs": [
    {
     "data": {
      "text/plain": [
       "['Income',\n",
       " 'Monthly_Premium_Auto',\n",
       " 'Months_Since_Last_Claim',\n",
       " 'Months_Since_Policy_Inception',\n",
       " 'Number_of_Open_Complaints',\n",
       " 'Number_of_Policies',\n",
       " 'Total_Claim_Amount',\n",
       " 'State',\n",
       " 'Response',\n",
       " 'Coverage',\n",
       " 'Education',\n",
       " 'EmploymentStatus',\n",
       " 'Gender',\n",
       " 'Location_Code',\n",
       " 'Marital_Status',\n",
       " 'Policy_Type',\n",
       " 'Policy',\n",
       " 'Renew_Offer_Type',\n",
       " 'Sales_Channel',\n",
       " 'Vehicle_Class',\n",
       " 'Vehicle_Size']"
      ]
     },
     "execution_count": 17,
     "metadata": {},
     "output_type": "execute_result"
    }
   ],
   "source": [
    "var"
   ]
  },
  {
   "cell_type": "code",
   "execution_count": 18,
   "metadata": {},
   "outputs": [
    {
     "data": {
      "text/plain": [
       "'Customer_Lifetime_Value~Income+Monthly_Premium_Auto+Months_Since_Last_Claim+Months_Since_Policy_Inception+Number_of_Open_Complaints+Number_of_Policies+Total_Claim_Amount+State+Response+Coverage+Education+EmploymentStatus+Gender+Location_Code+Marital_Status+Policy_Type+Policy+Renew_Offer_Type+Sales_Channel+Vehicle_Class+Vehicle_Size'"
      ]
     },
     "execution_count": 18,
     "metadata": {},
     "output_type": "execute_result"
    }
   ],
   "source": [
    "#as there are many variables, not to input all manually let's create formula \n",
    "formula=\"+\".join(var)\n",
    "formula=\"Customer_Lifetime_Value~\"+formula\n",
    "formula"
   ]
  },
  {
   "cell_type": "code",
   "execution_count": 19,
   "metadata": {},
   "outputs": [],
   "source": [
    "#first let's include all the explaining variables in the model(high correlated ones are already excluded)\n",
    "model1=ols(formula=formula, data=data_new)"
   ]
  },
  {
   "cell_type": "code",
   "execution_count": 20,
   "metadata": {},
   "outputs": [
    {
     "data": {
      "text/html": [
       "<table class=\"simpletable\">\n",
       "<caption>OLS Regression Results</caption>\n",
       "<tr>\n",
       "  <th>Dep. Variable:</th>    <td>Customer_Lifetime_Value</td> <th>  R-squared:         </th> <td>   0.169</td> \n",
       "</tr>\n",
       "<tr>\n",
       "  <th>Model:</th>                      <td>OLS</td>           <th>  Adj. R-squared:    </th> <td>   0.165</td> \n",
       "</tr>\n",
       "<tr>\n",
       "  <th>Method:</th>                <td>Least Squares</td>      <th>  F-statistic:       </th> <td>   38.60</td> \n",
       "</tr>\n",
       "<tr>\n",
       "  <th>Date:</th>                <td>Tue, 09 Oct 2018</td>     <th>  Prob (F-statistic):</th> <td>6.92e-323</td>\n",
       "</tr>\n",
       "<tr>\n",
       "  <th>Time:</th>                    <td>17:15:12</td>         <th>  Log-Likelihood:    </th> <td> -92812.</td> \n",
       "</tr>\n",
       "<tr>\n",
       "  <th>No. Observations:</th>         <td>  9134</td>          <th>  AIC:               </th> <td>1.857e+05</td>\n",
       "</tr>\n",
       "<tr>\n",
       "  <th>Df Residuals:</th>             <td>  9085</td>          <th>  BIC:               </th> <td>1.861e+05</td>\n",
       "</tr>\n",
       "<tr>\n",
       "  <th>Df Model:</th>                 <td>    48</td>          <th>                     </th>     <td> </td>    \n",
       "</tr>\n",
       "<tr>\n",
       "  <th>Covariance Type:</th>         <td>nonrobust</td>        <th>                     </th>     <td> </td>    \n",
       "</tr>\n",
       "</table>\n",
       "<table class=\"simpletable\">\n",
       "<tr>\n",
       "                  <td></td>                     <th>coef</th>     <th>std err</th>      <th>t</th>      <th>P>|t|</th>  <th>[0.025</th>    <th>0.975]</th>  \n",
       "</tr>\n",
       "<tr>\n",
       "  <th>Intercept</th>                         <td> 1486.6386</td> <td>  903.661</td> <td>    1.645</td> <td> 0.100</td> <td> -284.740</td> <td> 3258.017</td>\n",
       "</tr>\n",
       "<tr>\n",
       "  <th>State[T.California]</th>               <td>   39.9647</td> <td>  189.426</td> <td>    0.211</td> <td> 0.833</td> <td> -331.354</td> <td>  411.283</td>\n",
       "</tr>\n",
       "<tr>\n",
       "  <th>State[T.Nevada]</th>                   <td>   45.7021</td> <td>  261.160</td> <td>    0.175</td> <td> 0.861</td> <td> -466.231</td> <td>  557.635</td>\n",
       "</tr>\n",
       "<tr>\n",
       "  <th>State[T.Oregon]</th>                   <td>   84.9912</td> <td>  196.050</td> <td>    0.434</td> <td> 0.665</td> <td> -299.312</td> <td>  469.294</td>\n",
       "</tr>\n",
       "<tr>\n",
       "  <th>State[T.Washington]</th>               <td>  164.3324</td> <td>  269.980</td> <td>    0.609</td> <td> 0.543</td> <td> -364.888</td> <td>  693.553</td>\n",
       "</tr>\n",
       "<tr>\n",
       "  <th>Response[T.Yes]</th>                   <td> -215.9162</td> <td>  207.436</td> <td>   -1.041</td> <td> 0.298</td> <td> -622.538</td> <td>  190.705</td>\n",
       "</tr>\n",
       "<tr>\n",
       "  <th>Coverage[T.Extended]</th>              <td>  130.1678</td> <td>  249.287</td> <td>    0.522</td> <td> 0.602</td> <td> -358.490</td> <td>  618.826</td>\n",
       "</tr>\n",
       "<tr>\n",
       "  <th>Coverage[T.Premium]</th>               <td>   61.7491</td> <td>  527.605</td> <td>    0.117</td> <td> 0.907</td> <td> -972.476</td> <td> 1095.974</td>\n",
       "</tr>\n",
       "<tr>\n",
       "  <th>Education[T.College]</th>              <td>   -1.5962</td> <td>  171.219</td> <td>   -0.009</td> <td> 0.993</td> <td> -337.225</td> <td>  334.032</td>\n",
       "</tr>\n",
       "<tr>\n",
       "  <th>Education[T.Doctor]</th>               <td> -197.9744</td> <td>  362.976</td> <td>   -0.545</td> <td> 0.585</td> <td> -909.488</td> <td>  513.540</td>\n",
       "</tr>\n",
       "<tr>\n",
       "  <th>Education[T.High School or Below]</th> <td>  388.9735</td> <td>  173.415</td> <td>    2.243</td> <td> 0.025</td> <td>   49.041</td> <td>  728.906</td>\n",
       "</tr>\n",
       "<tr>\n",
       "  <th>Education[T.Master]</th>               <td>  157.9503</td> <td>  262.899</td> <td>    0.601</td> <td> 0.548</td> <td> -357.390</td> <td>  673.291</td>\n",
       "</tr>\n",
       "<tr>\n",
       "  <th>EmploymentStatus[T.Employed]</th>      <td>  700.4418</td> <td>  354.477</td> <td>    1.976</td> <td> 0.048</td> <td>    5.587</td> <td> 1395.296</td>\n",
       "</tr>\n",
       "<tr>\n",
       "  <th>EmploymentStatus[T.Medical Leave]</th> <td>  210.8226</td> <td>  436.143</td> <td>    0.483</td> <td> 0.629</td> <td> -644.116</td> <td> 1065.761</td>\n",
       "</tr>\n",
       "<tr>\n",
       "  <th>EmploymentStatus[T.Retired]</th>       <td>   64.6393</td> <td>  502.732</td> <td>    0.129</td> <td> 0.898</td> <td> -920.829</td> <td> 1050.108</td>\n",
       "</tr>\n",
       "<tr>\n",
       "  <th>EmploymentStatus[T.Unemployed]</th>    <td>    9.1563</td> <td>  357.613</td> <td>    0.026</td> <td> 0.980</td> <td> -691.846</td> <td>  710.158</td>\n",
       "</tr>\n",
       "<tr>\n",
       "  <th>Gender[T.M]</th>                       <td> -143.5239</td> <td>  132.973</td> <td>   -1.079</td> <td> 0.280</td> <td> -404.181</td> <td>  117.133</td>\n",
       "</tr>\n",
       "<tr>\n",
       "  <th>Location_Code[T.Suburban]</th>         <td>  -73.7895</td> <td>  263.381</td> <td>   -0.280</td> <td> 0.779</td> <td> -590.076</td> <td>  442.497</td>\n",
       "</tr>\n",
       "<tr>\n",
       "  <th>Location_Code[T.Urban]</th>            <td>  128.8756</td> <td>  241.416</td> <td>    0.534</td> <td> 0.593</td> <td> -344.355</td> <td>  602.106</td>\n",
       "</tr>\n",
       "<tr>\n",
       "  <th>Marital_Status[T.Married]</th>         <td> -177.6388</td> <td>  194.800</td> <td>   -0.912</td> <td> 0.362</td> <td> -559.490</td> <td>  204.212</td>\n",
       "</tr>\n",
       "<tr>\n",
       "  <th>Marital_Status[T.Single]</th>          <td> -490.7108</td> <td>  225.714</td> <td>   -2.174</td> <td> 0.030</td> <td> -933.161</td> <td>  -48.260</td>\n",
       "</tr>\n",
       "<tr>\n",
       "  <th>Policy_Type[T.Personal Auto]</th>      <td> -305.6726</td> <td>  256.741</td> <td>   -1.191</td> <td> 0.234</td> <td> -808.943</td> <td>  197.598</td>\n",
       "</tr>\n",
       "<tr>\n",
       "  <th>Policy_Type[T.Special Auto]</th>       <td>  165.6132</td> <td>  362.670</td> <td>    0.457</td> <td> 0.648</td> <td> -545.301</td> <td>  876.527</td>\n",
       "</tr>\n",
       "<tr>\n",
       "  <th>Policy[T.Corporate L2]</th>            <td>-1007.2895</td> <td>  420.508</td> <td>   -2.395</td> <td> 0.017</td> <td>-1831.581</td> <td> -182.998</td>\n",
       "</tr>\n",
       "<tr>\n",
       "  <th>Policy[T.Corporate L3]</th>            <td> -668.9524</td> <td>  386.386</td> <td>   -1.731</td> <td> 0.083</td> <td>-1426.357</td> <td>   88.452</td>\n",
       "</tr>\n",
       "<tr>\n",
       "  <th>Policy[T.Personal L1]</th>             <td> -161.3307</td> <td>  163.621</td> <td>   -0.986</td> <td> 0.324</td> <td> -482.065</td> <td>  159.404</td>\n",
       "</tr>\n",
       "<tr>\n",
       "  <th>Policy[T.Personal L2]</th>             <td>   -6.5954</td> <td>  141.822</td> <td>   -0.047</td> <td> 0.963</td> <td> -284.598</td> <td>  271.408</td>\n",
       "</tr>\n",
       "<tr>\n",
       "  <th>Policy[T.Personal L3]</th>             <td> -137.7465</td> <td>  128.664</td> <td>   -1.071</td> <td> 0.284</td> <td> -389.957</td> <td>  114.464</td>\n",
       "</tr>\n",
       "<tr>\n",
       "  <th>Policy[T.Special L1]</th>              <td>   27.9113</td> <td>  613.988</td> <td>    0.045</td> <td> 0.964</td> <td>-1175.643</td> <td> 1231.465</td>\n",
       "</tr>\n",
       "<tr>\n",
       "  <th>Policy[T.Special L2]</th>              <td> -334.1257</td> <td>  443.941</td> <td>   -0.753</td> <td> 0.452</td> <td>-1204.351</td> <td>  536.099</td>\n",
       "</tr>\n",
       "<tr>\n",
       "  <th>Policy[T.Special L3]</th>              <td>  471.8275</td> <td>  458.306</td> <td>    1.030</td> <td> 0.303</td> <td> -426.556</td> <td> 1370.211</td>\n",
       "</tr>\n",
       "<tr>\n",
       "  <th>Renew_Offer_Type[T.Offer2]</th>        <td> -965.7715</td> <td>  165.363</td> <td>   -5.840</td> <td> 0.000</td> <td>-1289.920</td> <td> -641.623</td>\n",
       "</tr>\n",
       "<tr>\n",
       "  <th>Renew_Offer_Type[T.Offer3]</th>        <td> -535.2550</td> <td>  200.282</td> <td>   -2.673</td> <td> 0.008</td> <td> -927.853</td> <td> -142.657</td>\n",
       "</tr>\n",
       "<tr>\n",
       "  <th>Renew_Offer_Type[T.Offer4]</th>        <td>-1196.6484</td> <td>  233.357</td> <td>   -5.128</td> <td> 0.000</td> <td>-1654.080</td> <td> -739.217</td>\n",
       "</tr>\n",
       "<tr>\n",
       "  <th>Sales_Channel[T.Branch]</th>           <td>  227.6845</td> <td>  164.822</td> <td>    1.381</td> <td> 0.167</td> <td>  -95.404</td> <td>  550.773</td>\n",
       "</tr>\n",
       "<tr>\n",
       "  <th>Sales_Channel[T.Call Center]</th>      <td>  350.0434</td> <td>  186.196</td> <td>    1.880</td> <td> 0.060</td> <td>  -14.942</td> <td>  715.029</td>\n",
       "</tr>\n",
       "<tr>\n",
       "  <th>Sales_Channel[T.Web]</th>              <td>   56.3085</td> <td>  206.103</td> <td>    0.273</td> <td> 0.785</td> <td> -347.701</td> <td>  460.318</td>\n",
       "</tr>\n",
       "<tr>\n",
       "  <th>Vehicle_Class[T.Luxury Car]</th>       <td> 1193.8204</td> <td> 1384.216</td> <td>    0.862</td> <td> 0.388</td> <td>-1519.555</td> <td> 3907.196</td>\n",
       "</tr>\n",
       "<tr>\n",
       "  <th>Vehicle_Class[T.Luxury SUV]</th>       <td> 1160.9889</td> <td> 1372.147</td> <td>    0.846</td> <td> 0.398</td> <td>-1528.728</td> <td> 3850.706</td>\n",
       "</tr>\n",
       "<tr>\n",
       "  <th>Vehicle_Class[T.SUV]</th>              <td>  790.4905</td> <td>  457.031</td> <td>    1.730</td> <td> 0.084</td> <td> -105.394</td> <td> 1686.375</td>\n",
       "</tr>\n",
       "<tr>\n",
       "  <th>Vehicle_Class[T.Sports Car]</th>       <td> 1020.0479</td> <td>  526.252</td> <td>    1.938</td> <td> 0.053</td> <td>  -11.524</td> <td> 2051.620</td>\n",
       "</tr>\n",
       "<tr>\n",
       "  <th>Vehicle_Class[T.Two-Door Car]</th>     <td>  110.3101</td> <td>  172.088</td> <td>    0.641</td> <td> 0.522</td> <td> -227.021</td> <td>  447.642</td>\n",
       "</tr>\n",
       "<tr>\n",
       "  <th>Vehicle_Size[T.Medsize]</th>           <td>  304.2439</td> <td>  219.734</td> <td>    1.385</td> <td> 0.166</td> <td> -126.483</td> <td>  734.971</td>\n",
       "</tr>\n",
       "<tr>\n",
       "  <th>Vehicle_Size[T.Small]</th>             <td>  438.6969</td> <td>  255.673</td> <td>    1.716</td> <td> 0.086</td> <td>  -62.480</td> <td>  939.874</td>\n",
       "</tr>\n",
       "<tr>\n",
       "  <th>Income</th>                            <td>   -0.0012</td> <td>    0.004</td> <td>   -0.307</td> <td> 0.759</td> <td>   -0.009</td> <td>    0.006</td>\n",
       "</tr>\n",
       "<tr>\n",
       "  <th>Monthly_Premium_Auto</th>              <td>   69.5779</td> <td>   10.026</td> <td>    6.940</td> <td> 0.000</td> <td>   49.926</td> <td>   89.230</td>\n",
       "</tr>\n",
       "<tr>\n",
       "  <th>Months_Since_Last_Claim</th>           <td>    7.0626</td> <td>    6.554</td> <td>    1.078</td> <td> 0.281</td> <td>   -5.785</td> <td>   19.911</td>\n",
       "</tr>\n",
       "<tr>\n",
       "  <th>Months_Since_Policy_Inception</th>     <td>   -1.3200</td> <td>    2.380</td> <td>   -0.555</td> <td> 0.579</td> <td>   -5.985</td> <td>    3.345</td>\n",
       "</tr>\n",
       "<tr>\n",
       "  <th>Number_of_Open_Complaints</th>         <td> -264.2647</td> <td>   72.496</td> <td>   -3.645</td> <td> 0.000</td> <td> -406.373</td> <td> -122.157</td>\n",
       "</tr>\n",
       "<tr>\n",
       "  <th>Number_of_Policies</th>                <td>   57.7126</td> <td>   27.753</td> <td>    2.080</td> <td> 0.038</td> <td>    3.311</td> <td>  112.114</td>\n",
       "</tr>\n",
       "<tr>\n",
       "  <th>Total_Claim_Amount</th>                <td>   -0.2268</td> <td>    0.474</td> <td>   -0.478</td> <td> 0.632</td> <td>   -1.156</td> <td>    0.703</td>\n",
       "</tr>\n",
       "</table>\n",
       "<table class=\"simpletable\">\n",
       "<tr>\n",
       "  <th>Omnibus:</th>       <td>5666.276</td> <th>  Durbin-Watson:     </th> <td>   1.995</td> \n",
       "</tr>\n",
       "<tr>\n",
       "  <th>Prob(Omnibus):</th>  <td> 0.000</td>  <th>  Jarque-Bera (JB):  </th> <td>65051.545</td>\n",
       "</tr>\n",
       "<tr>\n",
       "  <th>Skew:</th>           <td> 2.849</td>  <th>  Prob(JB):          </th> <td>    0.00</td> \n",
       "</tr>\n",
       "<tr>\n",
       "  <th>Kurtosis:</th>       <td>14.767</td>  <th>  Cond. No.          </th> <td>1.29e+16</td> \n",
       "</tr>\n",
       "</table><br/><br/>Warnings:<br/>[1] Standard Errors assume that the covariance matrix of the errors is correctly specified.<br/>[2] The smallest eigenvalue is 1.29e-19. This might indicate that there are<br/>strong multicollinearity problems or that the design matrix is singular."
      ],
      "text/plain": [
       "<class 'statsmodels.iolib.summary.Summary'>\n",
       "\"\"\"\n",
       "                               OLS Regression Results                              \n",
       "===================================================================================\n",
       "Dep. Variable:     Customer_Lifetime_Value   R-squared:                       0.169\n",
       "Model:                                 OLS   Adj. R-squared:                  0.165\n",
       "Method:                      Least Squares   F-statistic:                     38.60\n",
       "Date:                     Tue, 09 Oct 2018   Prob (F-statistic):          6.92e-323\n",
       "Time:                             17:15:12   Log-Likelihood:                -92812.\n",
       "No. Observations:                     9134   AIC:                         1.857e+05\n",
       "Df Residuals:                         9085   BIC:                         1.861e+05\n",
       "Df Model:                               48                                         \n",
       "Covariance Type:                 nonrobust                                         \n",
       "=====================================================================================================\n",
       "                                        coef    std err          t      P>|t|      [0.025      0.975]\n",
       "-----------------------------------------------------------------------------------------------------\n",
       "Intercept                          1486.6386    903.661      1.645      0.100    -284.740    3258.017\n",
       "State[T.California]                  39.9647    189.426      0.211      0.833    -331.354     411.283\n",
       "State[T.Nevada]                      45.7021    261.160      0.175      0.861    -466.231     557.635\n",
       "State[T.Oregon]                      84.9912    196.050      0.434      0.665    -299.312     469.294\n",
       "State[T.Washington]                 164.3324    269.980      0.609      0.543    -364.888     693.553\n",
       "Response[T.Yes]                    -215.9162    207.436     -1.041      0.298    -622.538     190.705\n",
       "Coverage[T.Extended]                130.1678    249.287      0.522      0.602    -358.490     618.826\n",
       "Coverage[T.Premium]                  61.7491    527.605      0.117      0.907    -972.476    1095.974\n",
       "Education[T.College]                 -1.5962    171.219     -0.009      0.993    -337.225     334.032\n",
       "Education[T.Doctor]                -197.9744    362.976     -0.545      0.585    -909.488     513.540\n",
       "Education[T.High School or Below]   388.9735    173.415      2.243      0.025      49.041     728.906\n",
       "Education[T.Master]                 157.9503    262.899      0.601      0.548    -357.390     673.291\n",
       "EmploymentStatus[T.Employed]        700.4418    354.477      1.976      0.048       5.587    1395.296\n",
       "EmploymentStatus[T.Medical Leave]   210.8226    436.143      0.483      0.629    -644.116    1065.761\n",
       "EmploymentStatus[T.Retired]          64.6393    502.732      0.129      0.898    -920.829    1050.108\n",
       "EmploymentStatus[T.Unemployed]        9.1563    357.613      0.026      0.980    -691.846     710.158\n",
       "Gender[T.M]                        -143.5239    132.973     -1.079      0.280    -404.181     117.133\n",
       "Location_Code[T.Suburban]           -73.7895    263.381     -0.280      0.779    -590.076     442.497\n",
       "Location_Code[T.Urban]              128.8756    241.416      0.534      0.593    -344.355     602.106\n",
       "Marital_Status[T.Married]          -177.6388    194.800     -0.912      0.362    -559.490     204.212\n",
       "Marital_Status[T.Single]           -490.7108    225.714     -2.174      0.030    -933.161     -48.260\n",
       "Policy_Type[T.Personal Auto]       -305.6726    256.741     -1.191      0.234    -808.943     197.598\n",
       "Policy_Type[T.Special Auto]         165.6132    362.670      0.457      0.648    -545.301     876.527\n",
       "Policy[T.Corporate L2]            -1007.2895    420.508     -2.395      0.017   -1831.581    -182.998\n",
       "Policy[T.Corporate L3]             -668.9524    386.386     -1.731      0.083   -1426.357      88.452\n",
       "Policy[T.Personal L1]              -161.3307    163.621     -0.986      0.324    -482.065     159.404\n",
       "Policy[T.Personal L2]                -6.5954    141.822     -0.047      0.963    -284.598     271.408\n",
       "Policy[T.Personal L3]              -137.7465    128.664     -1.071      0.284    -389.957     114.464\n",
       "Policy[T.Special L1]                 27.9113    613.988      0.045      0.964   -1175.643    1231.465\n",
       "Policy[T.Special L2]               -334.1257    443.941     -0.753      0.452   -1204.351     536.099\n",
       "Policy[T.Special L3]                471.8275    458.306      1.030      0.303    -426.556    1370.211\n",
       "Renew_Offer_Type[T.Offer2]         -965.7715    165.363     -5.840      0.000   -1289.920    -641.623\n",
       "Renew_Offer_Type[T.Offer3]         -535.2550    200.282     -2.673      0.008    -927.853    -142.657\n",
       "Renew_Offer_Type[T.Offer4]        -1196.6484    233.357     -5.128      0.000   -1654.080    -739.217\n",
       "Sales_Channel[T.Branch]             227.6845    164.822      1.381      0.167     -95.404     550.773\n",
       "Sales_Channel[T.Call Center]        350.0434    186.196      1.880      0.060     -14.942     715.029\n",
       "Sales_Channel[T.Web]                 56.3085    206.103      0.273      0.785    -347.701     460.318\n",
       "Vehicle_Class[T.Luxury Car]        1193.8204   1384.216      0.862      0.388   -1519.555    3907.196\n",
       "Vehicle_Class[T.Luxury SUV]        1160.9889   1372.147      0.846      0.398   -1528.728    3850.706\n",
       "Vehicle_Class[T.SUV]                790.4905    457.031      1.730      0.084    -105.394    1686.375\n",
       "Vehicle_Class[T.Sports Car]        1020.0479    526.252      1.938      0.053     -11.524    2051.620\n",
       "Vehicle_Class[T.Two-Door Car]       110.3101    172.088      0.641      0.522    -227.021     447.642\n",
       "Vehicle_Size[T.Medsize]             304.2439    219.734      1.385      0.166    -126.483     734.971\n",
       "Vehicle_Size[T.Small]               438.6969    255.673      1.716      0.086     -62.480     939.874\n",
       "Income                               -0.0012      0.004     -0.307      0.759      -0.009       0.006\n",
       "Monthly_Premium_Auto                 69.5779     10.026      6.940      0.000      49.926      89.230\n",
       "Months_Since_Last_Claim               7.0626      6.554      1.078      0.281      -5.785      19.911\n",
       "Months_Since_Policy_Inception        -1.3200      2.380     -0.555      0.579      -5.985       3.345\n",
       "Number_of_Open_Complaints          -264.2647     72.496     -3.645      0.000    -406.373    -122.157\n",
       "Number_of_Policies                   57.7126     27.753      2.080      0.038       3.311     112.114\n",
       "Total_Claim_Amount                   -0.2268      0.474     -0.478      0.632      -1.156       0.703\n",
       "==============================================================================\n",
       "Omnibus:                     5666.276   Durbin-Watson:                   1.995\n",
       "Prob(Omnibus):                  0.000   Jarque-Bera (JB):            65051.545\n",
       "Skew:                           2.849   Prob(JB):                         0.00\n",
       "Kurtosis:                      14.767   Cond. No.                     1.29e+16\n",
       "==============================================================================\n",
       "\n",
       "Warnings:\n",
       "[1] Standard Errors assume that the covariance matrix of the errors is correctly specified.\n",
       "[2] The smallest eigenvalue is 1.29e-19. This might indicate that there are\n",
       "strong multicollinearity problems or that the design matrix is singular.\n",
       "\"\"\""
      ]
     },
     "execution_count": 20,
     "metadata": {},
     "output_type": "execute_result"
    }
   ],
   "source": [
    "results=model1.fit()\n",
    "results.summary()"
   ]
  },
  {
   "cell_type": "markdown",
   "metadata": {},
   "source": [
    "# Model diagnostics"
   ]
  },
  {
   "cell_type": "markdown",
   "metadata": {},
   "source": [
    "<h2> Cecking for Linearity and Equal variance</h2>\n",
    "\n",
    "Residuals of the model will be used to test for linearity and for other assumptions as well.\n",
    "\n",
    "1. Both linearity and equal variance can be tested by plotting residuals vs. predictions (residuals are prediction errors)\n",
    "2. We will use <b>Harvey collier</b> test for linearity\n",
    "3. <b>Breusch-Pagan</b> test for homoscedasticity\n"
   ]
  },
  {
   "cell_type": "code",
   "execution_count": 21,
   "metadata": {},
   "outputs": [
    {
     "data": {
      "text/plain": [
       "0    -4006.075515\n",
       "1     -189.280585\n",
       "2     3352.672758\n",
       "3    -1632.830500\n",
       "4    -3821.003601\n",
       "5     2535.728535\n",
       "6    -1082.944224\n",
       "7     -715.449474\n",
       "8    18132.299230\n",
       "9    -1273.953623\n",
       "dtype: float64"
      ]
     },
     "execution_count": 21,
     "metadata": {},
     "output_type": "execute_result"
    }
   ],
   "source": [
    "#residuals of the model\n",
    "residuals=results.resid\n",
    "residuals.head(10)"
   ]
  },
  {
   "cell_type": "code",
   "execution_count": 22,
   "metadata": {},
   "outputs": [],
   "source": [
    "#let's actually get residual values\n",
    "#first, we need to get predicted values from the results of the model\n",
    "#second, we should calculate the difference between predicted and true values of cons. conf. index\n",
    "pred_values=results.predict()\n",
    "true_values=data_new.Customer_Lifetime_Value\n",
    "resid=true_values-pred_values"
   ]
  },
  {
   "cell_type": "code",
   "execution_count": 23,
   "metadata": {},
   "outputs": [
    {
     "data": {
      "text/plain": [
       "0    -4006.075515\n",
       "1     -189.280585\n",
       "2     3352.672758\n",
       "3    -1632.830500\n",
       "4    -3821.003601\n",
       "5     2535.728535\n",
       "6    -1082.944224\n",
       "7     -715.449474\n",
       "8    18132.299230\n",
       "9    -1273.953623\n",
       "Name: Customer_Lifetime_Value, dtype: float64"
      ]
     },
     "execution_count": 23,
     "metadata": {},
     "output_type": "execute_result"
    }
   ],
   "source": [
    "#we can see that we got the same results\n",
    "resid.head(10)"
   ]
  },
  {
   "cell_type": "code",
   "execution_count": 24,
   "metadata": {},
   "outputs": [
    {
     "data": {
      "image/png": "[encoded data removed]",
      "text/plain": [
       "<Figure size 720x360 with 1 Axes>"
      ]
     },
     "metadata": {},
     "output_type": "display_data"
    }
   ],
   "source": [
    "#lets plot predicted values vs residuals\n",
    "plt.figure(figsize=(10,5))\n",
    "plt.scatter(pred_values,residuals)\n",
    "plt.axhline(y=0, c=\"red\")\n",
    "plt.title(\"Residual vs Pred values\")\n",
    "plt.ylabel(\"Residuals\")\n",
    "plt.xlabel(\"Predicted values\")\n",
    "plt.show()"
   ]
  },
  {
   "cell_type": "code",
   "execution_count": 25,
   "metadata": {},
   "outputs": [
    {
     "data": {
      "text/plain": [
       "(1.016497272996893, 0.2907128743692436)"
      ]
     },
     "execution_count": 25,
     "metadata": {},
     "output_type": "execute_result"
    }
   ],
   "source": [
    "#Rainbow test for linearity\n",
    "#The Null hypothesis is that the regression is correctly modelled as linear\n",
    "linear_rainbow(results)"
   ]
  },
  {
   "cell_type": "markdown",
   "metadata": {},
   "source": [
    "<b>2nd value presents p-value</b>"
   ]
  },
  {
   "cell_type": "code",
   "execution_count": 26,
   "metadata": {},
   "outputs": [
    {
     "data": {
      "text/plain": [
       "(553.6378918541901,\n",
       " 4.3478807978761946e-86,\n",
       " 12.212480526512033,\n",
       " 2.5858596519147796e-90)"
      ]
     },
     "execution_count": 26,
     "metadata": {},
     "output_type": "execute_result"
    }
   ],
   "source": [
    "#Breusch-Pagan test for homoscedasticity\n",
    "#The null hypothesis assumes homoskedasticity\n",
    "#Small p-value shows that there is violation of homoscedasticity\n",
    "het_breuschpagan(residuals,model1.exog)"
   ]
  },
  {
   "cell_type": "markdown",
   "metadata": {},
   "source": [
    "<b>2nd and 4th values are p-values</b>"
   ]
  },
  {
   "cell_type": "markdown",
   "metadata": {},
   "source": [
    "<h2>Normality</h2>"
   ]
  },
  {
   "cell_type": "code",
   "execution_count": 36,
   "metadata": {},
   "outputs": [
    {
     "data": {
      "image/png": "[encoded data removed]",
      "text/plain": [
       "<Figure size 432x288 with 1 Axes>"
      ]
     },
     "metadata": {},
     "output_type": "display_data"
    }
   ],
   "source": [
    "#visual presentation- histogram\n",
    "plt.hist(residuals)\n",
    "plt.show()"
   ]
  },
  {
   "cell_type": "code",
   "execution_count": 28,
   "metadata": {},
   "outputs": [
    {
     "data": {
      "image/png": "[encoded data removed]",
      "text/plain": [
       "<Figure size 432x288 with 1 Axes>"
      ]
     },
     "metadata": {},
     "output_type": "display_data"
    }
   ],
   "source": [
    "#QQ plot\n",
    "qqplot(residuals,fit=True, line='45')\n",
    "plt.show()"
   ]
  },
  {
   "cell_type": "markdown",
   "metadata": {},
   "source": [
    "<b>Jarque-Bera normality test values are given in the model summary above. From where we could conclude that normality was violated. However, let's run another test of normality: Shapiro-Wilk test.</b>\n"
   ]
  },
  {
   "cell_type": "code",
   "execution_count": 29,
   "metadata": {},
   "outputs": [
    {
     "name": "stdout",
     "output_type": "stream",
     "text": [
      "0.7270915508270264 0.0\n"
     ]
    },
    {
     "name": "stderr",
     "output_type": "stream",
     "text": [
      "C:\\Users\\HP\\Anaconda3\\lib\\site-packages\\scipy\\stats\\morestats.py:1309: UserWarning: p-value may not be accurate for N > 5000.\n",
      "  warnings.warn(\"p-value may not be accurate for N > 5000.\")\n"
     ]
    }
   ],
   "source": [
    "#Shapiro-Wilk normality test. \n",
    "#The null-hypothesis of this test is that the data was drawn from a normal distribution\n",
    "#We reject the Null hypothesis which means that we can state with 95% confidence that our data is not normal\n",
    "stat,p_value = shapiro(residuals)\n",
    "print(stat,p_value)"
   ]
  },
  {
   "cell_type": "markdown",
   "metadata": {},
   "source": [
    "# Training, Testing"
   ]
  },
  {
   "cell_type": "code",
   "execution_count": 30,
   "metadata": {},
   "outputs": [],
   "source": [
    "train,test=train_test_split(data_new,test_size=0.25,random_state=42)"
   ]
  },
  {
   "cell_type": "code",
   "execution_count": 31,
   "metadata": {},
   "outputs": [],
   "source": [
    "#train\n",
    "model_linear=ols(formula=formula, data=train).fit()"
   ]
  },
  {
   "cell_type": "code",
   "execution_count": 32,
   "metadata": {},
   "outputs": [],
   "source": [
    "#test\n",
    "prediction=model_linear.predict(test)"
   ]
  },
  {
   "cell_type": "code",
   "execution_count": 33,
   "metadata": {},
   "outputs": [
    {
     "data": {
      "text/plain": [
       "708     9553.114913\n",
       "47      5678.521863\n",
       "3995    7281.278804\n",
       "1513    9291.580399\n",
       "3686    7215.763007\n",
       "dtype: float64"
      ]
     },
     "execution_count": 33,
     "metadata": {},
     "output_type": "execute_result"
    }
   ],
   "source": [
    "prediction.head()"
   ]
  },
  {
   "cell_type": "code",
   "execution_count": 34,
   "metadata": {},
   "outputs": [
    {
     "name": "stdout",
     "output_type": "stream",
     "text": [
      "0.1476485530363032\n"
     ]
    }
   ],
   "source": [
    "#let's calculate R^2\n",
    "r2_sc=r2_score(test.Customer_Lifetime_Value,prediction)\n",
    "print(r2_sc)"
   ]
  },
  {
   "cell_type": "code",
   "execution_count": null,
   "metadata": {},
   "outputs": [],
   "source": []
  }
 ],
 "metadata": {
  "kernelspec": {
   "display_name": "Python 3",
   "language": "python",
   "name": "python3"
  },
  "language_info": {
   "codemirror_mode": {
    "name": "ipython",
    "version": 3
   },
   "file_extension": ".py",
   "mimetype": "text/x-python",
   "name": "python",
   "nbconvert_exporter": "python",
   "pygments_lexer": "ipython3",
   "version": "3.6.5"
  }
 },
 "nbformat": 4,
 "nbformat_minor": 2
}
