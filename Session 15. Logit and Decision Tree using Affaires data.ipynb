{
 "cells": [
  {
   "cell_type": "markdown",
   "metadata": {},
   "source": [
    "<h1>Session 15. Logit and Decision Tree using Affaires data</h1>"
   ]
  },
  {
   "cell_type": "markdown",
   "metadata": {},
   "source": [
    "<p>This notebook provides an example code of predicting whether a person will have an affair. \n",
    "<br>\n",
    "<b>Dependent variable</b> - Did a person have an affair? (1-yes, 0-no)\n",
    "\n",
    "<br><br>\n",
    "The general sequence of steps that we will follow is the following:\n",
    "<ol>\n",
    "<li>Describing the data (checking for NAs, 0 variance,summary statistics of our variables, etc)\n",
    "<li>Separate data into numeric and objec datasets, so to be able to create dummy variables\n",
    "<li>Checking for correlations between numeric variables\n",
    "<li>Devide data into training and testing sets \n",
    "<li><b> Model 1. Logistic Regression from statsmodel and interpretation of marginal effects</b>\n",
    "<li><b> Model 2. Logistic Regression scaled the data</b>\n",
    "<li><b> Model 3. Decision tree with scaled data</b>\n",
    "<li> Summarising results\n",
    "<li> Predicting for new individual using constructed models\n",
    "</ol>\n",
    "</p>"
   ]
  },
  {
   "cell_type": "code",
   "execution_count": 1,
   "metadata": {},
   "outputs": [],
   "source": [
    "import numpy as np\n",
    "import pandas as pd\n",
    "import matplotlib.pyplot as plt\n",
    "import seaborn as sns\n",
    "from sklearn.tree import DecisionTreeClassifier,export_graphviz \n",
    "from sklearn.model_selection import train_test_split\n",
    "from statsmodels.discrete.discrete_model import Logit\n",
    "from sklearn.linear_model import LogisticRegression\n",
    "from sklearn.metrics import confusion_matrix, classification_report\n",
    "from sklearn.model_selection import GridSearchCV\n",
    "from sklearn.metrics import recall_score, roc_auc_score, roc_curve\n",
    "from sklearn.preprocessing import StandardScaler"
   ]
  },
  {
   "cell_type": "code",
   "execution_count": 2,
   "metadata": {},
   "outputs": [],
   "source": [
    "data=pd.read_excel(\"Affairs.xlsx\")"
   ]
  },
  {
   "cell_type": "code",
   "execution_count": 3,
   "metadata": {},
   "outputs": [
    {
     "name": "stdout",
     "output_type": "stream",
     "text": [
      "<class 'pandas.core.frame.DataFrame'>\n",
      "RangeIndex: 601 entries, 0 to 600\n",
      "Data columns (total 10 columns):\n",
      "ID               601 non-null int64\n",
      "affairs          601 non-null int64\n",
      "gender           601 non-null object\n",
      "age              601 non-null float64\n",
      "yearsmarried     601 non-null float64\n",
      "children         601 non-null object\n",
      "religiousness    601 non-null int64\n",
      "education        601 non-null int64\n",
      "occupation       601 non-null int64\n",
      "rating           601 non-null int64\n",
      "dtypes: float64(2), int64(6), object(2)\n",
      "memory usage: 47.0+ KB\n"
     ]
    }
   ],
   "source": [
    "data.info()"
   ]
  },
  {
   "cell_type": "code",
   "execution_count": 4,
   "metadata": {},
   "outputs": [
    {
     "data": {
      "text/html": [
       "<div>\n",
       "<style scoped>\n",
       "    .dataframe tbody tr th:only-of-type {\n",
       "        vertical-align: middle;\n",
       "    }\n",
       "\n",
       "    .dataframe tbody tr th {\n",
       "        vertical-align: top;\n",
       "    }\n",
       "\n",
       "    .dataframe thead th {\n",
       "        text-align: right;\n",
       "    }\n",
       "</style>\n",
       "<table border=\"1\" class=\"dataframe\">\n",
       "  <thead>\n",
       "    <tr style=\"text-align: right;\">\n",
       "      <th></th>\n",
       "      <th>ID</th>\n",
       "      <th>affairs</th>\n",
       "      <th>age</th>\n",
       "      <th>yearsmarried</th>\n",
       "      <th>religiousness</th>\n",
       "      <th>education</th>\n",
       "      <th>occupation</th>\n",
       "      <th>rating</th>\n",
       "    </tr>\n",
       "  </thead>\n",
       "  <tbody>\n",
       "    <tr>\n",
       "      <th>count</th>\n",
       "      <td>601.000000</td>\n",
       "      <td>601.000000</td>\n",
       "      <td>601.000000</td>\n",
       "      <td>601.000000</td>\n",
       "      <td>601.000000</td>\n",
       "      <td>601.000000</td>\n",
       "      <td>601.000000</td>\n",
       "      <td>601.000000</td>\n",
       "    </tr>\n",
       "    <tr>\n",
       "      <th>mean</th>\n",
       "      <td>1059.722130</td>\n",
       "      <td>0.249584</td>\n",
       "      <td>32.487521</td>\n",
       "      <td>8.177696</td>\n",
       "      <td>3.116473</td>\n",
       "      <td>16.166389</td>\n",
       "      <td>4.194676</td>\n",
       "      <td>3.931780</td>\n",
       "    </tr>\n",
       "    <tr>\n",
       "      <th>std</th>\n",
       "      <td>914.904611</td>\n",
       "      <td>0.433133</td>\n",
       "      <td>9.288762</td>\n",
       "      <td>5.571303</td>\n",
       "      <td>1.167509</td>\n",
       "      <td>2.402555</td>\n",
       "      <td>1.819443</td>\n",
       "      <td>1.103179</td>\n",
       "    </tr>\n",
       "    <tr>\n",
       "      <th>min</th>\n",
       "      <td>4.000000</td>\n",
       "      <td>0.000000</td>\n",
       "      <td>17.500000</td>\n",
       "      <td>0.125000</td>\n",
       "      <td>1.000000</td>\n",
       "      <td>9.000000</td>\n",
       "      <td>1.000000</td>\n",
       "      <td>1.000000</td>\n",
       "    </tr>\n",
       "    <tr>\n",
       "      <th>25%</th>\n",
       "      <td>528.000000</td>\n",
       "      <td>0.000000</td>\n",
       "      <td>27.000000</td>\n",
       "      <td>4.000000</td>\n",
       "      <td>2.000000</td>\n",
       "      <td>14.000000</td>\n",
       "      <td>3.000000</td>\n",
       "      <td>3.000000</td>\n",
       "    </tr>\n",
       "    <tr>\n",
       "      <th>50%</th>\n",
       "      <td>1009.000000</td>\n",
       "      <td>0.000000</td>\n",
       "      <td>32.000000</td>\n",
       "      <td>7.000000</td>\n",
       "      <td>3.000000</td>\n",
       "      <td>16.000000</td>\n",
       "      <td>5.000000</td>\n",
       "      <td>4.000000</td>\n",
       "    </tr>\n",
       "    <tr>\n",
       "      <th>75%</th>\n",
       "      <td>1453.000000</td>\n",
       "      <td>0.000000</td>\n",
       "      <td>37.000000</td>\n",
       "      <td>15.000000</td>\n",
       "      <td>4.000000</td>\n",
       "      <td>18.000000</td>\n",
       "      <td>6.000000</td>\n",
       "      <td>5.000000</td>\n",
       "    </tr>\n",
       "    <tr>\n",
       "      <th>max</th>\n",
       "      <td>9029.000000</td>\n",
       "      <td>1.000000</td>\n",
       "      <td>57.000000</td>\n",
       "      <td>15.000000</td>\n",
       "      <td>5.000000</td>\n",
       "      <td>20.000000</td>\n",
       "      <td>7.000000</td>\n",
       "      <td>5.000000</td>\n",
       "    </tr>\n",
       "  </tbody>\n",
       "</table>\n",
       "</div>"
      ],
      "text/plain": [
       "                ID     affairs         age  yearsmarried  religiousness  \\\n",
       "count   601.000000  601.000000  601.000000    601.000000     601.000000   \n",
       "mean   1059.722130    0.249584   32.487521      8.177696       3.116473   \n",
       "std     914.904611    0.433133    9.288762      5.571303       1.167509   \n",
       "min       4.000000    0.000000   17.500000      0.125000       1.000000   \n",
       "25%     528.000000    0.000000   27.000000      4.000000       2.000000   \n",
       "50%    1009.000000    0.000000   32.000000      7.000000       3.000000   \n",
       "75%    1453.000000    0.000000   37.000000     15.000000       4.000000   \n",
       "max    9029.000000    1.000000   57.000000     15.000000       5.000000   \n",
       "\n",
       "        education  occupation      rating  \n",
       "count  601.000000  601.000000  601.000000  \n",
       "mean    16.166389    4.194676    3.931780  \n",
       "std      2.402555    1.819443    1.103179  \n",
       "min      9.000000    1.000000    1.000000  \n",
       "25%     14.000000    3.000000    3.000000  \n",
       "50%     16.000000    5.000000    4.000000  \n",
       "75%     18.000000    6.000000    5.000000  \n",
       "max     20.000000    7.000000    5.000000  "
      ]
     },
     "execution_count": 4,
     "metadata": {},
     "output_type": "execute_result"
    }
   ],
   "source": [
    "data.describe()"
   ]
  },
  {
   "cell_type": "code",
   "execution_count": 5,
   "metadata": {},
   "outputs": [],
   "source": [
    "data_object=data.select_dtypes(include=\"object\")\n",
    "data_numeric=data.select_dtypes(exclude=\"object\")"
   ]
  },
  {
   "cell_type": "code",
   "execution_count": 6,
   "metadata": {},
   "outputs": [
    {
     "name": "stdout",
     "output_type": "stream",
     "text": [
      "['male' 'female']\n",
      "['no' 'yes']\n"
     ]
    }
   ],
   "source": [
    "for i in data_object.columns:\n",
    "    print(data_object[i].unique())"
   ]
  },
  {
   "cell_type": "code",
   "execution_count": 7,
   "metadata": {},
   "outputs": [
    {
     "name": "stdout",
     "output_type": "stream",
     "text": [
      "gender      2\n",
      "children    2\n",
      "dtype: int64\n"
     ]
    }
   ],
   "source": [
    "#another way of finding number of unique values of each object variable\n",
    "print(data_object.nunique())"
   ]
  },
  {
   "cell_type": "code",
   "execution_count": 8,
   "metadata": {},
   "outputs": [
    {
     "data": {
      "text/plain": [
       "ID               False\n",
       "affairs          False\n",
       "age              False\n",
       "yearsmarried     False\n",
       "religiousness    False\n",
       "education        False\n",
       "occupation       False\n",
       "rating           False\n",
       "dtype: bool"
      ]
     },
     "execution_count": 8,
     "metadata": {},
     "output_type": "execute_result"
    }
   ],
   "source": [
    "#let's check for 0 variance\n",
    "data_numeric.var()==0"
   ]
  },
  {
   "cell_type": "code",
   "execution_count": 9,
   "metadata": {},
   "outputs": [
    {
     "data": {
      "image/png": "[encoded data removed]",
      "text/plain": [
       "<Figure size 432x288 with 1 Axes>"
      ]
     },
     "metadata": {},
     "output_type": "display_data"
    }
   ],
   "source": [
    "#let's see whether there is diiference in distribution of education by those who had and didn't have affairs\n",
    "sns.set_style(\"darkgrid\")\n",
    "sns.boxplot(data.affairs,data.education,showmeans=True)\n",
    "plt.show()"
   ]
  },
  {
   "cell_type": "markdown",
   "metadata": {},
   "source": [
    "<b>We see that median value of years of education is slightly higher for those who had affair compared to those who didn't.</b>"
   ]
  },
  {
   "cell_type": "code",
   "execution_count": 10,
   "metadata": {},
   "outputs": [
    {
     "data": {
      "image/png": "[encoded data removed]",
      "text/plain": [
       "<Figure size 360x432 with 1 Axes>"
      ]
     },
     "metadata": {},
     "output_type": "display_data"
    }
   ],
   "source": [
    "#let's see whether there is diiference in distribution of years married by those who had and didn't have affairs\n",
    "plt.figure(figsize=(5,6))\n",
    "sns.set_style(\"darkgrid\")\n",
    "sns.boxplot(data.affairs,data.yearsmarried,showmeans=True)\n",
    "plt.ylim(0,20)\n",
    "plt.show()"
   ]
  },
  {
   "cell_type": "code",
   "execution_count": 11,
   "metadata": {},
   "outputs": [
    {
     "name": "stderr",
     "output_type": "stream",
     "text": [
      "C:\\Users\\HP\\Anaconda3\\lib\\site-packages\\matplotlib\\axes\\_axes.py:6462: UserWarning: The 'normed' kwarg is deprecated, and has been replaced by the 'density' kwarg.\n",
      "  warnings.warn(\"The 'normed' kwarg is deprecated, and has been \"\n"
     ]
    },
    {
     "data": {
      "image/png": "[encoded data removed]",
      "text/plain": [
       "<Figure size 432x288 with 1 Axes>"
      ]
     },
     "metadata": {},
     "output_type": "display_data"
    }
   ],
   "source": [
    "#plot the distribution using seaborn\n",
    "sns.distplot(data.education)\n",
    "plt.show()"
   ]
  },
  {
   "cell_type": "code",
   "execution_count": 12,
   "metadata": {},
   "outputs": [
    {
     "data": {
      "text/plain": [
       "<matplotlib.axes._subplots.AxesSubplot at 0x20979183518>"
      ]
     },
     "execution_count": 12,
     "metadata": {},
     "output_type": "execute_result"
    },
    {
     "data": {
      "image/png": "[encoded data removed]",
      "text/plain": [
       "<Figure size 432x288 with 1 Axes>"
      ]
     },
     "metadata": {},
     "output_type": "display_data"
    }
   ],
   "source": [
    "#plot the distribution without using seaborn\n",
    "data.plot(y=\"yearsmarried\",kind=\"density\")"
   ]
  },
  {
   "cell_type": "code",
   "execution_count": 13,
   "metadata": {},
   "outputs": [
    {
     "data": {
      "image/png": "[encoded data removed]",
      "text/plain": [
       "<Figure size 432x288 with 2 Axes>"
      ]
     },
     "metadata": {},
     "output_type": "display_data"
    }
   ],
   "source": [
    "#let's check for correlation between variables\n",
    "sns.heatmap(data_numeric.corr().abs().round(2),annot=True)\n",
    "plt.show()"
   ]
  },
  {
   "cell_type": "code",
   "execution_count": 14,
   "metadata": {},
   "outputs": [
    {
     "name": "stderr",
     "output_type": "stream",
     "text": [
      "C:\\Users\\HP\\Anaconda3\\lib\\site-packages\\pandas\\core\\frame.py:3694: SettingWithCopyWarning: \n",
      "A value is trying to be set on a copy of a slice from a DataFrame\n",
      "\n",
      "See the caveats in the documentation: http://pandas.pydata.org/pandas-docs/stable/indexing.html#indexing-view-versus-copy\n",
      "  errors=errors)\n"
     ]
    }
   ],
   "source": [
    "#let's drop ID because it doesn't give any valuable information\n",
    "#let's drop age as it has higher correlation with yearsmarried\n",
    "data_numeric.drop([\"ID\",\"age\"],axis=1,inplace=True)"
   ]
  },
  {
   "cell_type": "code",
   "execution_count": 15,
   "metadata": {},
   "outputs": [
    {
     "data": {
      "image/png": "[encoded data removed]",
      "text/plain": [
       "<Figure size 432x288 with 2 Axes>"
      ]
     },
     "metadata": {},
     "output_type": "display_data"
    }
   ],
   "source": [
    "#no correlation anymore\n",
    "sns.heatmap(data_numeric.corr().abs().round(2),annot=True)\n",
    "plt.show()"
   ]
  },
  {
   "cell_type": "code",
   "execution_count": 16,
   "metadata": {},
   "outputs": [],
   "source": [
    "#let's do train, test splitting, 75%-train data, 25%-test data\n",
    "data_dummies=pd.get_dummies(data_object,prefix=data_object.columns,drop_first=True)\n",
    "data_final=data_dummies.join(data_numeric)\n",
    "X=data_final.drop(\"affairs\",axis=1)\n",
    "Y=data_final.affairs\n",
    "x_train,x_test,y_train,y_test=train_test_split(X,Y,test_size=0.25,random_state=42)"
   ]
  },
  {
   "cell_type": "code",
   "execution_count": 17,
   "metadata": {},
   "outputs": [
    {
     "name": "stdout",
     "output_type": "stream",
     "text": [
      "<class 'pandas.core.frame.DataFrame'>\n",
      "Int64Index: 450 entries, 531 to 102\n",
      "Data columns (total 7 columns):\n",
      "gender_male      450 non-null uint8\n",
      "children_yes     450 non-null uint8\n",
      "yearsmarried     450 non-null float64\n",
      "religiousness    450 non-null int64\n",
      "education        450 non-null int64\n",
      "occupation       450 non-null int64\n",
      "rating           450 non-null int64\n",
      "dtypes: float64(1), int64(4), uint8(2)\n",
      "memory usage: 22.0 KB\n",
      "None\n",
      "-------------------------------\n",
      "<class 'pandas.core.frame.DataFrame'>\n",
      "RangeIndex: 601 entries, 0 to 600\n",
      "Data columns (total 6 columns):\n",
      "affairs          601 non-null int64\n",
      "yearsmarried     601 non-null float64\n",
      "religiousness    601 non-null int64\n",
      "education        601 non-null int64\n",
      "occupation       601 non-null int64\n",
      "rating           601 non-null int64\n",
      "dtypes: float64(1), int64(5)\n",
      "memory usage: 28.2 KB\n",
      "None\n"
     ]
    }
   ],
   "source": [
    "#we see that in numeric dataset there is a \"affairs\" variable which is not in X_train data\n",
    "print(x_train.info())\n",
    "print(\"-------------------------------\")\n",
    "print(data_numeric.info())"
   ]
  },
  {
   "cell_type": "code",
   "execution_count": 18,
   "metadata": {},
   "outputs": [
    {
     "data": {
      "text/html": [
       "<div>\n",
       "<style scoped>\n",
       "    .dataframe tbody tr th:only-of-type {\n",
       "        vertical-align: middle;\n",
       "    }\n",
       "\n",
       "    .dataframe tbody tr th {\n",
       "        vertical-align: top;\n",
       "    }\n",
       "\n",
       "    .dataframe thead th {\n",
       "        text-align: right;\n",
       "    }\n",
       "</style>\n",
       "<table border=\"1\" class=\"dataframe\">\n",
       "  <thead>\n",
       "    <tr style=\"text-align: right;\">\n",
       "      <th></th>\n",
       "      <th>yearsmarried</th>\n",
       "      <th>religiousness</th>\n",
       "      <th>education</th>\n",
       "      <th>occupation</th>\n",
       "      <th>rating</th>\n",
       "      <th>gender_male</th>\n",
       "      <th>children_yes</th>\n",
       "    </tr>\n",
       "  </thead>\n",
       "  <tbody>\n",
       "    <tr>\n",
       "      <th>0</th>\n",
       "      <td>-0.212044</td>\n",
       "      <td>0.766288</td>\n",
       "      <td>0.342167</td>\n",
       "      <td>-1.744878</td>\n",
       "      <td>0.956682</td>\n",
       "      <td>1</td>\n",
       "      <td>0</td>\n",
       "    </tr>\n",
       "    <tr>\n",
       "      <th>1</th>\n",
       "      <td>0.323895</td>\n",
       "      <td>0.766288</td>\n",
       "      <td>-0.909664</td>\n",
       "      <td>-0.107918</td>\n",
       "      <td>0.956682</td>\n",
       "      <td>0</td>\n",
       "      <td>0</td>\n",
       "    </tr>\n",
       "    <tr>\n",
       "      <th>2</th>\n",
       "      <td>0.323895</td>\n",
       "      <td>0.766288</td>\n",
       "      <td>-0.909664</td>\n",
       "      <td>-1.744878</td>\n",
       "      <td>0.956682</td>\n",
       "      <td>0</td>\n",
       "      <td>1</td>\n",
       "    </tr>\n",
       "    <tr>\n",
       "      <th>3</th>\n",
       "      <td>-0.747983</td>\n",
       "      <td>-0.080959</td>\n",
       "      <td>0.342167</td>\n",
       "      <td>0.983389</td>\n",
       "      <td>0.956682</td>\n",
       "      <td>1</td>\n",
       "      <td>1</td>\n",
       "    </tr>\n",
       "    <tr>\n",
       "      <th>4</th>\n",
       "      <td>-1.194599</td>\n",
       "      <td>0.766288</td>\n",
       "      <td>-0.909664</td>\n",
       "      <td>0.983389</td>\n",
       "      <td>0.956682</td>\n",
       "      <td>1</td>\n",
       "      <td>0</td>\n",
       "    </tr>\n",
       "  </tbody>\n",
       "</table>\n",
       "</div>"
      ],
      "text/plain": [
       "   yearsmarried  religiousness  education  occupation    rating  gender_male  \\\n",
       "0     -0.212044       0.766288   0.342167   -1.744878  0.956682            1   \n",
       "1      0.323895       0.766288  -0.909664   -0.107918  0.956682            0   \n",
       "2      0.323895       0.766288  -0.909664   -1.744878  0.956682            0   \n",
       "3     -0.747983      -0.080959   0.342167    0.983389  0.956682            1   \n",
       "4     -1.194599       0.766288  -0.909664    0.983389  0.956682            1   \n",
       "\n",
       "   children_yes  \n",
       "0             0  \n",
       "1             0  \n",
       "2             1  \n",
       "3             1  \n",
       "4             0  "
      ]
     },
     "execution_count": 18,
     "metadata": {},
     "output_type": "execute_result"
    }
   ],
   "source": [
    "#let's scale data\n",
    "scaler=StandardScaler()\n",
    "scaler.fit(x_train[data_numeric.drop(\"affairs\",axis=1).columns.tolist()]) #lets's take all numeric variables except affairs\n",
    "x_train_scaled=pd.DataFrame(scaler.transform(x_train[data_numeric.drop(\"affairs\",axis=1).columns.tolist()]),\n",
    "             columns=data_numeric.drop(\"affairs\",axis=1).columns.tolist()).join(data_dummies)\n",
    "x_test_scaled=pd.DataFrame(scaler.transform(x_test[data_numeric.drop(\"affairs\",axis=1).columns.tolist()]),\n",
    "             columns=data_numeric.drop(\"affairs\",axis=1).columns.tolist()).join(data_dummies)\n",
    "x_test_scaled.head()"
   ]
  },
  {
   "cell_type": "markdown",
   "metadata": {},
   "source": [
    "# Model 1. Logistic Regression from statsmodel and interpretation of marginal effects"
   ]
  },
  {
   "cell_type": "code",
   "execution_count": 19,
   "metadata": {},
   "outputs": [
    {
     "name": "stdout",
     "output_type": "stream",
     "text": [
      "affairs~gender_male+children_yes+yearsmarried+religiousness+education+occupation+rating\n"
     ]
    }
   ],
   "source": [
    "#let's get formula for logistic regression\n",
    "formula=\"affairs~\"+\"+\".join(X.columns)\n",
    "print(formula)"
   ]
  },
  {
   "cell_type": "code",
   "execution_count": 20,
   "metadata": {},
   "outputs": [
    {
     "name": "stdout",
     "output_type": "stream",
     "text": [
      "Optimization terminated successfully.\n",
      "         Current function value: 0.512203\n",
      "         Iterations 6\n"
     ]
    },
    {
     "data": {
      "text/html": [
       "<table class=\"simpletable\">\n",
       "<caption>Logit Regression Results</caption>\n",
       "<tr>\n",
       "  <th>Dep. Variable:</th>      <td>affairs</td>     <th>  No. Observations:  </th>  <td>   601</td>  \n",
       "</tr>\n",
       "<tr>\n",
       "  <th>Model:</th>               <td>Logit</td>      <th>  Df Residuals:      </th>  <td>   593</td>  \n",
       "</tr>\n",
       "<tr>\n",
       "  <th>Method:</th>               <td>MLE</td>       <th>  Df Model:          </th>  <td>     7</td>  \n",
       "</tr>\n",
       "<tr>\n",
       "  <th>Date:</th>          <td>Sat, 24 Nov 2018</td> <th>  Pseudo R-squ.:     </th>  <td>0.08841</td> \n",
       "</tr>\n",
       "<tr>\n",
       "  <th>Time:</th>              <td>22:08:46</td>     <th>  Log-Likelihood:    </th> <td> -307.83</td> \n",
       "</tr>\n",
       "<tr>\n",
       "  <th>converged:</th>           <td>True</td>       <th>  LL-Null:           </th> <td> -337.69</td> \n",
       "</tr>\n",
       "<tr>\n",
       "  <th> </th>                      <td> </td>        <th>  LLR p-value:       </th> <td>1.725e-10</td>\n",
       "</tr>\n",
       "</table>\n",
       "<table class=\"simpletable\">\n",
       "<tr>\n",
       "        <td></td>           <th>coef</th>     <th>std err</th>      <th>z</th>      <th>P>|z|</th>  <th>[0.025</th>    <th>0.975]</th>  \n",
       "</tr>\n",
       "<tr>\n",
       "  <th>Intercept</th>     <td>    0.5305</td> <td>    0.806</td> <td>    0.658</td> <td> 0.511</td> <td>   -1.050</td> <td>    2.111</td>\n",
       "</tr>\n",
       "<tr>\n",
       "  <th>gender_male</th>   <td>    0.1727</td> <td>    0.233</td> <td>    0.743</td> <td> 0.458</td> <td>   -0.283</td> <td>    0.629</td>\n",
       "</tr>\n",
       "<tr>\n",
       "  <th>children_yes</th>  <td>    0.4229</td> <td>    0.290</td> <td>    1.460</td> <td> 0.144</td> <td>   -0.145</td> <td>    0.990</td>\n",
       "</tr>\n",
       "<tr>\n",
       "  <th>yearsmarried</th>  <td>    0.0379</td> <td>    0.022</td> <td>    1.703</td> <td> 0.089</td> <td>   -0.006</td> <td>    0.081</td>\n",
       "</tr>\n",
       "<tr>\n",
       "  <th>religiousness</th> <td>   -0.3278</td> <td>    0.089</td> <td>   -3.683</td> <td> 0.000</td> <td>   -0.502</td> <td>   -0.153</td>\n",
       "</tr>\n",
       "<tr>\n",
       "  <th>education</th>     <td>    0.0165</td> <td>    0.050</td> <td>    0.332</td> <td> 0.740</td> <td>   -0.081</td> <td>    0.114</td>\n",
       "</tr>\n",
       "<tr>\n",
       "  <th>occupation</th>    <td>    0.0194</td> <td>    0.071</td> <td>    0.273</td> <td> 0.785</td> <td>   -0.120</td> <td>    0.159</td>\n",
       "</tr>\n",
       "<tr>\n",
       "  <th>rating</th>        <td>   -0.4546</td> <td>    0.090</td> <td>   -5.070</td> <td> 0.000</td> <td>   -0.630</td> <td>   -0.279</td>\n",
       "</tr>\n",
       "</table>"
      ],
      "text/plain": [
       "<class 'statsmodels.iolib.summary.Summary'>\n",
       "\"\"\"\n",
       "                           Logit Regression Results                           \n",
       "==============================================================================\n",
       "Dep. Variable:                affairs   No. Observations:                  601\n",
       "Model:                          Logit   Df Residuals:                      593\n",
       "Method:                           MLE   Df Model:                            7\n",
       "Date:                Sat, 24 Nov 2018   Pseudo R-squ.:                 0.08841\n",
       "Time:                        22:08:46   Log-Likelihood:                -307.83\n",
       "converged:                       True   LL-Null:                       -337.69\n",
       "                                        LLR p-value:                 1.725e-10\n",
       "=================================================================================\n",
       "                    coef    std err          z      P>|z|      [0.025      0.975]\n",
       "---------------------------------------------------------------------------------\n",
       "Intercept         0.5305      0.806      0.658      0.511      -1.050       2.111\n",
       "gender_male       0.1727      0.233      0.743      0.458      -0.283       0.629\n",
       "children_yes      0.4229      0.290      1.460      0.144      -0.145       0.990\n",
       "yearsmarried      0.0379      0.022      1.703      0.089      -0.006       0.081\n",
       "religiousness    -0.3278      0.089     -3.683      0.000      -0.502      -0.153\n",
       "education         0.0165      0.050      0.332      0.740      -0.081       0.114\n",
       "occupation        0.0194      0.071      0.273      0.785      -0.120       0.159\n",
       "rating           -0.4546      0.090     -5.070      0.000      -0.630      -0.279\n",
       "=================================================================================\n",
       "\"\"\""
      ]
     },
     "execution_count": 20,
     "metadata": {},
     "output_type": "execute_result"
    }
   ],
   "source": [
    "logit1=Logit.from_formula(formula=formula,data=data_final).fit()\n",
    "logit1.summary()"
   ]
  },
  {
   "cell_type": "markdown",
   "metadata": {},
   "source": [
    "<b>Interpreting for continuous variable</b>\n",
    "If p<=0.05,then there is a statistically significant relationship between affairs and corresponding variable. So, incraese in religiousness will decrease the likelihood(probability) of having affairs. And, increase in rating will decrease the probability of affairs."
   ]
  },
  {
   "cell_type": "code",
   "execution_count": 21,
   "metadata": {},
   "outputs": [
    {
     "data": {
      "text/html": [
       "<table class=\"simpletable\">\n",
       "<caption>Logit Marginal Effects</caption>\n",
       "<tr>\n",
       "  <th>Dep. Variable:</th> <td>affairs</td>\n",
       "</tr>\n",
       "<tr>\n",
       "  <th>Method:</th>         <td>dydx</td>  \n",
       "</tr>\n",
       "<tr>\n",
       "  <th>At:</th>            <td>overall</td>\n",
       "</tr>\n",
       "</table>\n",
       "<table class=\"simpletable\">\n",
       "<tr>\n",
       "        <th></th>           <th>dy/dx</th>    <th>std err</th>      <th>z</th>      <th>P>|z|</th>  <th>[0.025</th>    <th>0.975]</th>  \n",
       "</tr>\n",
       "<tr>\n",
       "  <th>gender_male</th>   <td>    0.0291</td> <td>    0.039</td> <td>    0.743</td> <td> 0.457</td> <td>   -0.048</td> <td>    0.106</td>\n",
       "</tr>\n",
       "<tr>\n",
       "  <th>children_yes</th>  <td>    0.0712</td> <td>    0.049</td> <td>    1.466</td> <td> 0.143</td> <td>   -0.024</td> <td>    0.166</td>\n",
       "</tr>\n",
       "<tr>\n",
       "  <th>yearsmarried</th>  <td>    0.0064</td> <td>    0.004</td> <td>    1.715</td> <td> 0.086</td> <td>   -0.001</td> <td>    0.014</td>\n",
       "</tr>\n",
       "<tr>\n",
       "  <th>religiousness</th> <td>   -0.0552</td> <td>    0.014</td> <td>   -3.812</td> <td> 0.000</td> <td>   -0.084</td> <td>   -0.027</td>\n",
       "</tr>\n",
       "<tr>\n",
       "  <th>education</th>     <td>    0.0028</td> <td>    0.008</td> <td>    0.332</td> <td> 0.740</td> <td>   -0.014</td> <td>    0.019</td>\n",
       "</tr>\n",
       "<tr>\n",
       "  <th>occupation</th>    <td>    0.0033</td> <td>    0.012</td> <td>    0.273</td> <td> 0.785</td> <td>   -0.020</td> <td>    0.027</td>\n",
       "</tr>\n",
       "<tr>\n",
       "  <th>rating</th>        <td>   -0.0766</td> <td>    0.014</td> <td>   -5.460</td> <td> 0.000</td> <td>   -0.104</td> <td>   -0.049</td>\n",
       "</tr>\n",
       "</table>"
      ],
      "text/plain": [
       "<class 'statsmodels.iolib.summary.Summary'>\n",
       "\"\"\"\n",
       "        Logit Marginal Effects       \n",
       "=====================================\n",
       "Dep. Variable:                affairs\n",
       "Method:                          dydx\n",
       "At:                           overall\n",
       "=================================================================================\n",
       "                   dy/dx    std err          z      P>|z|      [0.025      0.975]\n",
       "---------------------------------------------------------------------------------\n",
       "gender_male       0.0291      0.039      0.743      0.457      -0.048       0.106\n",
       "children_yes      0.0712      0.049      1.466      0.143      -0.024       0.166\n",
       "yearsmarried      0.0064      0.004      1.715      0.086      -0.001       0.014\n",
       "religiousness    -0.0552      0.014     -3.812      0.000      -0.084      -0.027\n",
       "education         0.0028      0.008      0.332      0.740      -0.014       0.019\n",
       "occupation        0.0033      0.012      0.273      0.785      -0.020       0.027\n",
       "rating           -0.0766      0.014     -5.460      0.000      -0.104      -0.049\n",
       "=================================================================================\n",
       "\"\"\""
      ]
     },
     "execution_count": 21,
     "metadata": {},
     "output_type": "execute_result"
    }
   ],
   "source": [
    "#we should calculate marginal effects to be able to interpret change of y variable\n",
    "logit1.get_margeff().summary()"
   ]
  },
  {
   "cell_type": "markdown",
   "metadata": {},
   "source": [
    "<b>As p-value of religiousness is less than 0.05, we will interpret the marginal effects of this variable. An incrimental increase in religiousness will decrease the probability of having affairs on average by 5% (0.0552*100%) if other factors hold constant.</b>"
   ]
  },
  {
   "cell_type": "markdown",
   "metadata": {},
   "source": [
    "# Model 2. Logistic Regression with scaled data from sklearn"
   ]
  },
  {
   "cell_type": "code",
   "execution_count": 22,
   "metadata": {},
   "outputs": [],
   "source": [
    "#to concatenate back scaled train and test sets, to be able to run GridSearchCV on whole data\n",
    "X_scaled=pd.concat([x_train_scaled,x_test_scaled])\n",
    "Y_final=pd.concat([y_train,y_test])"
   ]
  },
  {
   "cell_type": "code",
   "execution_count": 23,
   "metadata": {},
   "outputs": [],
   "source": [
    "#with not scaled data\n",
    "gridsearch1=GridSearchCV(LogisticRegression(random_state=42,class_weight=\"balanced\"),param_grid={\"penalty\":[\"l1\",\"l2\"],\"C\":np.linspace(0.0001,50,20)},\n",
    "                        scoring=\"roc_auc\",\n",
    "                        cv=5,n_jobs=-1).fit(X_scaled,Y_final)"
   ]
  },
  {
   "cell_type": "code",
   "execution_count": 24,
   "metadata": {},
   "outputs": [
    {
     "name": "stdout",
     "output_type": "stream",
     "text": [
      "[0.0001, 'l2']\n"
     ]
    }
   ],
   "source": [
    "best=list(gridsearch1.best_params_.values())\n",
    "print(best)"
   ]
  },
  {
   "cell_type": "code",
   "execution_count": 25,
   "metadata": {},
   "outputs": [],
   "source": [
    "logit_scaled=LogisticRegression(C=best[0],penalty=best[1],\n",
    "                                    class_weight=\"balanced\",random_state=42).fit(x_train_scaled,y_train)"
   ]
  },
  {
   "cell_type": "markdown",
   "metadata": {},
   "source": [
    "# Model 3. Decision Tree with  scaled Data"
   ]
  },
  {
   "cell_type": "code",
   "execution_count": 26,
   "metadata": {},
   "outputs": [
    {
     "name": "stdout",
     "output_type": "stream",
     "text": [
      "[5, 50]\n"
     ]
    }
   ],
   "source": [
    "gridsearch2=GridSearchCV(DecisionTreeClassifier(class_weight=\"balanced\",random_state=42),param_grid={\"max_depth\":(5,15),\"min_samples_leaf\":(50,150,25)},\n",
    "                        scoring=\"roc_auc\",\n",
    "                        cv=5,n_jobs=-1).fit(x_train_scaled,y_train)\n",
    "best2=list(gridsearch2.best_params_.values())\n",
    "print(best2)\n",
    "tree_scaled=DecisionTreeClassifier(class_weight=\"balanced\",random_state=42, max_depth=best2[0],\n",
    "                             min_samples_leaf=best2[1]).fit(X_scaled,Y_final)"
   ]
  },
  {
   "cell_type": "markdown",
   "metadata": {},
   "source": [
    "<h1>Summarising results</h1>"
   ]
  },
  {
   "cell_type": "markdown",
   "metadata": {},
   "source": [
    "<h3> Confusion matrix </h3>"
   ]
  },
  {
   "cell_type": "code",
   "execution_count": 27,
   "metadata": {
    "scrolled": false
   },
   "outputs": [
    {
     "data": {
      "image/png": "[encoded data removed]",
      "text/plain": [
       "<Figure size 432x288 with 2 Axes>"
      ]
     },
     "metadata": {},
     "output_type": "display_data"
    },
    {
     "data": {
      "image/png": "[encoded data removed]",
      "text/plain": [
       "<Figure size 432x288 with 2 Axes>"
      ]
     },
     "metadata": {},
     "output_type": "display_data"
    }
   ],
   "source": [
    "#let's print confusion matrix for logit and decision tree\n",
    "for i in [logit_scaled,tree_scaled]:\n",
    "    sns.heatmap(confusion_matrix(y_test,i.predict(x_test_scaled)).T,annot=True)\n",
    "    plt.xlabel(\"Real\")\n",
    "    plt.ylabel(\"predic\")\n",
    "    plt.show()"
   ]
  },
  {
   "cell_type": "markdown",
   "metadata": {},
   "source": [
    "<h3>Recall, Roc_AUC, Accuracy</h3>"
   ]
  },
  {
   "cell_type": "code",
   "execution_count": 28,
   "metadata": {},
   "outputs": [
    {
     "name": "stdout",
     "output_type": "stream",
     "text": [
      "roc_auc= 0.5648411569464202\n",
      "roc_auc= 0.6343053579895686\n",
      "recall= 0.5945945945945946\n",
      "recall= 0.5405405405405406\n",
      "accuracy train= 0.6533333333333333\n",
      "accuracy train= 0.7333333333333333\n",
      "accuracy test= 0.5496688741721855\n",
      "accuracy test= 0.6821192052980133\n"
     ]
    }
   ],
   "source": [
    "for i in [logit_scaled,tree_scaled]:\n",
    "    print(\"roc_auc=\",roc_auc_score(y_test,i.predict(x_test_scaled)))\n",
    "for i in [logit_scaled,tree_scaled]:\n",
    "    print(\"recall=\",recall_score(y_test,i.predict(x_test_scaled)))\n",
    "for i in [logit_scaled,tree_scaled]:\n",
    "    print(\"accuracy train=\",i.score(x_train_scaled,y_train)) \n",
    "for i in [logit_scaled,tree_scaled]:\n",
    "    print(\"accuracy test=\",i.score(x_test_scaled,y_test))"
   ]
  },
  {
   "cell_type": "markdown",
   "metadata": {},
   "source": [
    "<h1>Predicting for new individual</h1>"
   ]
  },
  {
   "cell_type": "code",
   "execution_count": 29,
   "metadata": {},
   "outputs": [
    {
     "data": {
      "text/plain": [
       "array([ 0.32389486,  0.76628813, -0.90966441, -0.10791812, -0.86749945,\n",
       "        1.        ,  0.        ])"
      ]
     },
     "execution_count": 29,
     "metadata": {},
     "output_type": "execute_result"
    }
   ],
   "source": [
    "X_new_num=[[10,4,14,4,3]] #as we scaled only numeric data, we shoud transfrom only numeric variables for new individual\n",
    "X_new_dum=[[1,0]] #values for dummy variables\n",
    "X_new_num=scaler.transform(X_new_num) #let's apply scaler to new data\n",
    "X_new_scaled=np.append(X_new_num,X_new_dum) #let's join scaled numeric variables to dummy variables\n",
    "X_new_scaled"
   ]
  },
  {
   "cell_type": "code",
   "execution_count": 30,
   "metadata": {},
   "outputs": [
    {
     "name": "stdout",
     "output_type": "stream",
     "text": [
      "logit: [1]\n",
      "DT: [0]\n"
     ]
    }
   ],
   "source": [
    "print(\"logit:\",logit_scaled.predict(X_new_scaled.reshape(1,-1))) #as we have data only for 1 individual, reshape() is necessary \n",
    "print(\"DT:\",tree_scaled.predict(X_new_scaled.reshape(1,-1)))"
   ]
  }
 ],
 "metadata": {
  "kernelspec": {
   "display_name": "Python 3",
   "language": "python",
   "name": "python3"
  },
  "language_info": {
   "codemirror_mode": {
    "name": "ipython",
    "version": 3
   },
   "file_extension": ".py",
   "mimetype": "text/x-python",
   "name": "python",
   "nbconvert_exporter": "python",
   "pygments_lexer": "ipython3",
   "version": "3.6.5"
  }
 },
 "nbformat": 4,
 "nbformat_minor": 2
}
