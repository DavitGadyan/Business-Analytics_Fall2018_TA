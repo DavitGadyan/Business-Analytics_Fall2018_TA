{
 "cells": [
  {
   "cell_type": "markdown",
   "metadata": {},
   "source": [
    "<h1>Session 13. Fully tuned Decision Tree and Logistic Regression, ROC AUC Score; Turnover data</h1>\n",
    "<p>This notebook provides an example code of predicting churn of telecom customers by using <b>Decision tree classification</b> with Churn data. \n",
    "<br>\n",
    "\n",
    "The general sequence of steps that we will follow is the following:\n",
    "<ol>\n",
    "<li>Describing the data (checking for NAs, 0 variance,summary statistics of our variables, etc)\n",
    "<li>Separate data into numeric and objec datasets, so to be able to create dummy variables\n",
    "<li>Checking for correlations between numeric variables, and see that there are many correlated variables\n",
    "<li>Devide data into training and testing sets\n",
    "<li>....model headings to be added\n",
    "</ol>\n",
    "</p>"
   ]
  },
  {
   "cell_type": "code",
   "execution_count": 23,
   "metadata": {},
   "outputs": [],
   "source": [
    "import numpy as np\n",
    "import pandas as pd\n",
    "import matplotlib.pyplot as plt\n",
    "import seaborn as sns\n",
    "from sklearn.tree import DecisionTreeClassifier,export_graphviz \n",
    "from sklearn.model_selection import train_test_split\n",
    "from statsmodels.discrete.discrete_model import Logit\n",
    "from sklearn.linear_model import LogisticRegression\n",
    "from sklearn.metrics import confusion_matrix, classification_report\n",
    "from sklearn.model_selection import GridSearchCV\n",
    "from sklearn.metrics import recall_score\n",
    "from sklearn.preprocessing import StandardScaler\n",
    "from sklearn.metrics import roc_auc_score\n",
    "from sklearn.metrics import roc_curve"
   ]
  },
  {
   "cell_type": "code",
   "execution_count": 24,
   "metadata": {},
   "outputs": [],
   "source": [
    "#read data\n",
    "data=pd.read_csv(\"turnover.csv\")"
   ]
  },
  {
   "cell_type": "code",
   "execution_count": 25,
   "metadata": {},
   "outputs": [
    {
     "data": {
      "text/html": [
       "<div>\n",
       "<style scoped>\n",
       "    .dataframe tbody tr th:only-of-type {\n",
       "        vertical-align: middle;\n",
       "    }\n",
       "\n",
       "    .dataframe tbody tr th {\n",
       "        vertical-align: top;\n",
       "    }\n",
       "\n",
       "    .dataframe thead th {\n",
       "        text-align: right;\n",
       "    }\n",
       "</style>\n",
       "<table border=\"1\" class=\"dataframe\">\n",
       "  <thead>\n",
       "    <tr style=\"text-align: right;\">\n",
       "      <th></th>\n",
       "      <th>satisfaction_level</th>\n",
       "      <th>last_evaluation</th>\n",
       "      <th>number_project</th>\n",
       "      <th>average_montly_hours</th>\n",
       "      <th>time_spend_company</th>\n",
       "      <th>work_accident</th>\n",
       "      <th>churn</th>\n",
       "      <th>promotion_last_5years</th>\n",
       "      <th>department</th>\n",
       "      <th>salary</th>\n",
       "    </tr>\n",
       "  </thead>\n",
       "  <tbody>\n",
       "    <tr>\n",
       "      <th>0</th>\n",
       "      <td>0.38</td>\n",
       "      <td>0.53</td>\n",
       "      <td>2</td>\n",
       "      <td>157</td>\n",
       "      <td>3</td>\n",
       "      <td>0</td>\n",
       "      <td>1</td>\n",
       "      <td>0</td>\n",
       "      <td>sales</td>\n",
       "      <td>low</td>\n",
       "    </tr>\n",
       "    <tr>\n",
       "      <th>1</th>\n",
       "      <td>0.80</td>\n",
       "      <td>0.86</td>\n",
       "      <td>5</td>\n",
       "      <td>262</td>\n",
       "      <td>6</td>\n",
       "      <td>0</td>\n",
       "      <td>1</td>\n",
       "      <td>0</td>\n",
       "      <td>sales</td>\n",
       "      <td>medium</td>\n",
       "    </tr>\n",
       "    <tr>\n",
       "      <th>2</th>\n",
       "      <td>0.11</td>\n",
       "      <td>0.88</td>\n",
       "      <td>7</td>\n",
       "      <td>272</td>\n",
       "      <td>4</td>\n",
       "      <td>0</td>\n",
       "      <td>1</td>\n",
       "      <td>0</td>\n",
       "      <td>sales</td>\n",
       "      <td>medium</td>\n",
       "    </tr>\n",
       "    <tr>\n",
       "      <th>3</th>\n",
       "      <td>0.72</td>\n",
       "      <td>0.87</td>\n",
       "      <td>5</td>\n",
       "      <td>223</td>\n",
       "      <td>5</td>\n",
       "      <td>0</td>\n",
       "      <td>1</td>\n",
       "      <td>0</td>\n",
       "      <td>sales</td>\n",
       "      <td>low</td>\n",
       "    </tr>\n",
       "    <tr>\n",
       "      <th>4</th>\n",
       "      <td>0.37</td>\n",
       "      <td>0.52</td>\n",
       "      <td>2</td>\n",
       "      <td>159</td>\n",
       "      <td>3</td>\n",
       "      <td>0</td>\n",
       "      <td>1</td>\n",
       "      <td>0</td>\n",
       "      <td>sales</td>\n",
       "      <td>low</td>\n",
       "    </tr>\n",
       "  </tbody>\n",
       "</table>\n",
       "</div>"
      ],
      "text/plain": [
       "   satisfaction_level  last_evaluation  number_project  average_montly_hours  \\\n",
       "0                0.38             0.53               2                   157   \n",
       "1                0.80             0.86               5                   262   \n",
       "2                0.11             0.88               7                   272   \n",
       "3                0.72             0.87               5                   223   \n",
       "4                0.37             0.52               2                   159   \n",
       "\n",
       "   time_spend_company  work_accident  churn  promotion_last_5years department  \\\n",
       "0                   3              0      1                      0      sales   \n",
       "1                   6              0      1                      0      sales   \n",
       "2                   4              0      1                      0      sales   \n",
       "3                   5              0      1                      0      sales   \n",
       "4                   3              0      1                      0      sales   \n",
       "\n",
       "   salary  \n",
       "0     low  \n",
       "1  medium  \n",
       "2  medium  \n",
       "3     low  \n",
       "4     low  "
      ]
     },
     "execution_count": 25,
     "metadata": {},
     "output_type": "execute_result"
    }
   ],
   "source": [
    "data.head()"
   ]
  },
  {
   "cell_type": "code",
   "execution_count": 26,
   "metadata": {},
   "outputs": [
    {
     "name": "stdout",
     "output_type": "stream",
     "text": [
      "<class 'pandas.core.frame.DataFrame'>\n",
      "RangeIndex: 14999 entries, 0 to 14998\n",
      "Data columns (total 10 columns):\n",
      "satisfaction_level       14999 non-null float64\n",
      "last_evaluation          14999 non-null float64\n",
      "number_project           14999 non-null int64\n",
      "average_montly_hours     14999 non-null int64\n",
      "time_spend_company       14999 non-null int64\n",
      "work_accident            14999 non-null int64\n",
      "churn                    14999 non-null int64\n",
      "promotion_last_5years    14999 non-null int64\n",
      "department               14999 non-null object\n",
      "salary                   14999 non-null object\n",
      "dtypes: float64(2), int64(6), object(2)\n",
      "memory usage: 1.1+ MB\n"
     ]
    }
   ],
   "source": [
    "#checking for missing values\n",
    "data.info()"
   ]
  },
  {
   "cell_type": "code",
   "execution_count": 27,
   "metadata": {},
   "outputs": [],
   "source": [
    "#deviding into numeric and object data\n",
    "data_numeric=data.select_dtypes(exclude=\"object\")\n",
    "data_object=data.select_dtypes(include=\"object\")"
   ]
  },
  {
   "cell_type": "code",
   "execution_count": 28,
   "metadata": {},
   "outputs": [
    {
     "name": "stdout",
     "output_type": "stream",
     "text": [
      "satisfaction_level       False\n",
      "last_evaluation          False\n",
      "number_project           False\n",
      "average_montly_hours     False\n",
      "time_spend_company       False\n",
      "work_accident            False\n",
      "churn                    False\n",
      "promotion_last_5years    False\n",
      "dtype: bool\n"
     ]
    }
   ],
   "source": [
    "#checking for 0 variance\n",
    "print(data_numeric.var()==0)"
   ]
  },
  {
   "cell_type": "code",
   "execution_count": 29,
   "metadata": {},
   "outputs": [
    {
     "name": "stdout",
     "output_type": "stream",
     "text": [
      "['sales' 'accounting' 'hr' 'technical' 'support' 'management' 'IT'\n",
      " 'product_mng' 'marketing' 'RandD']\n",
      "['low' 'medium' 'high']\n"
     ]
    }
   ],
   "source": [
    "for i in data_object.columns:\n",
    "    print(data_object[i].unique())"
   ]
  },
  {
   "cell_type": "code",
   "execution_count": 30,
   "metadata": {},
   "outputs": [],
   "source": [
    "#converting into dummy variables\n",
    "data_dummies=pd.get_dummies(data_object)"
   ]
  },
  {
   "cell_type": "code",
   "execution_count": 31,
   "metadata": {},
   "outputs": [
    {
     "name": "stdout",
     "output_type": "stream",
     "text": [
      "<class 'pandas.core.frame.DataFrame'>\n",
      "RangeIndex: 14999 entries, 0 to 14998\n",
      "Data columns (total 21 columns):\n",
      "satisfaction_level        14999 non-null float64\n",
      "last_evaluation           14999 non-null float64\n",
      "number_project            14999 non-null int64\n",
      "average_montly_hours      14999 non-null int64\n",
      "time_spend_company        14999 non-null int64\n",
      "work_accident             14999 non-null int64\n",
      "churn                     14999 non-null int64\n",
      "promotion_last_5years     14999 non-null int64\n",
      "department_IT             14999 non-null uint8\n",
      "department_RandD          14999 non-null uint8\n",
      "department_accounting     14999 non-null uint8\n",
      "department_hr             14999 non-null uint8\n",
      "department_management     14999 non-null uint8\n",
      "department_marketing      14999 non-null uint8\n",
      "department_product_mng    14999 non-null uint8\n",
      "department_sales          14999 non-null uint8\n",
      "department_support        14999 non-null uint8\n",
      "department_technical      14999 non-null uint8\n",
      "salary_high               14999 non-null uint8\n",
      "salary_low                14999 non-null uint8\n",
      "salary_medium             14999 non-null uint8\n",
      "dtypes: float64(2), int64(6), uint8(13)\n",
      "memory usage: 1.1 MB\n"
     ]
    }
   ],
   "source": [
    "#joining back numeric and dummy data\n",
    "data_final=pd.DataFrame(data_numeric.join(data_dummies))\n",
    "data_final.info()"
   ]
  },
  {
   "cell_type": "markdown",
   "metadata": {},
   "source": [
    "# Model 1. Decision tree without scaling data"
   ]
  },
  {
   "cell_type": "code",
   "execution_count": 33,
   "metadata": {},
   "outputs": [
    {
     "name": "stdout",
     "output_type": "stream",
     "text": [
      "0    76.191746\n",
      "1    23.808254\n",
      "Name: churn, dtype: float64\n"
     ]
    }
   ],
   "source": [
    "#let's see percenatage of employees who didn't churn,\n",
    "#and percenatage of employees who churned\n",
    "print(data_final.churn.value_counts()/len(data)*100)"
   ]
  },
  {
   "cell_type": "code",
   "execution_count": 34,
   "metadata": {},
   "outputs": [],
   "source": [
    "X=data_final.drop(\"churn\",axis=1)\n",
    "Y=data_final.churn\n",
    "x_train,x_test,y_train,y_test=train_test_split(X,Y,test_size=0.25,random_state=42)"
   ]
  },
  {
   "cell_type": "code",
   "execution_count": 60,
   "metadata": {},
   "outputs": [
    {
     "data": {
      "text/plain": [
       "GridSearchCV(cv=5, error_score='raise',\n",
       "       estimator=DecisionTreeClassifier(class_weight='balanced', criterion='gini',\n",
       "            max_depth=None, max_features=None, max_leaf_nodes=None,\n",
       "            min_impurity_decrease=0.0, min_impurity_split=None,\n",
       "            min_samples_leaf=1, min_samples_split=2,\n",
       "            min_weight_fraction_leaf=0.0, presort=False, random_state=42,\n",
       "            splitter='best'),\n",
       "       fit_params=None, iid=True, n_jobs=-1,\n",
       "       param_grid={'max_depth': range(5, 15), 'min_samples_leaf': range(10, 100)},\n",
       "       pre_dispatch='2*n_jobs', refit=True, return_train_score='warn',\n",
       "       scoring=None, verbose=0)"
      ]
     },
     "execution_count": 60,
     "metadata": {},
     "output_type": "execute_result"
    }
   ],
   "source": [
    "#cross validation for DT\n",
    "tree1=DecisionTreeClassifier(class_weight=\"balanced\",random_state=42)\n",
    "grid_search=GridSearchCV(tree1,param_grid={\"max_depth\":range(5,15),\"min_samples_leaf\":range(10,100)},cv=5,n_jobs=-1)\n",
    "grid_search.fit(X,Y)"
   ]
  },
  {
   "cell_type": "code",
   "execution_count": 61,
   "metadata": {},
   "outputs": [
    {
     "name": "stdout",
     "output_type": "stream",
     "text": [
      "Best parameters: {'max_depth': 7, 'min_samples_leaf': 10}\n",
      "Best score: 97.0\n"
     ]
    }
   ],
   "source": [
    "#print best parameters and best score\n",
    "print(\"Best parameters:\",grid_search.best_params_)\n",
    "print(\"Best score:\",grid_search.best_score_.round(2)*100)"
   ]
  },
  {
   "cell_type": "code",
   "execution_count": 62,
   "metadata": {},
   "outputs": [
    {
     "data": {
      "text/plain": [
       "DecisionTreeClassifier(class_weight='balanced', criterion='gini', max_depth=5,\n",
       "            max_features=None, max_leaf_nodes=None,\n",
       "            min_impurity_decrease=0.0, min_impurity_split=None,\n",
       "            min_samples_leaf=10, min_samples_split=2,\n",
       "            min_weight_fraction_leaf=0.0, presort=False, random_state=42,\n",
       "            splitter='best')"
      ]
     },
     "execution_count": 62,
     "metadata": {},
     "output_type": "execute_result"
    }
   ],
   "source": [
    "#Run DT with best parameters\n",
    "tree1_1=DecisionTreeClassifier(max_depth=5,min_samples_leaf=10,class_weight=\"balanced\",random_state=42)\n",
    "tree1_1.fit(x_train,y_train)"
   ]
  },
  {
   "cell_type": "code",
   "execution_count": 63,
   "metadata": {},
   "outputs": [
    {
     "name": "stdout",
     "output_type": "stream",
     "text": [
      "94.0 93.0\n"
     ]
    }
   ],
   "source": [
    "#printing accuracy score for train and test data\n",
    "score_train_DT1=tree1_1.score(x_train,y_train)\n",
    "score_test_DT1=tree1_1.score(x_test,y_test)\n",
    "print(score_train_DT1.round(2)*100,score_test_DT1.round(2)*100)"
   ]
  },
  {
   "cell_type": "code",
   "execution_count": 64,
   "metadata": {},
   "outputs": [
    {
     "name": "stdout",
     "output_type": "stream",
     "text": [
      "Recall for DT 1: 92.0\n"
     ]
    }
   ],
   "source": [
    "#calculating recall\n",
    "ypred1=tree1_1.predict(x_test)\n",
    "recall_DT1=recall_score(y_test,ypred1)\n",
    "print(\"Recall for DT 1:\",recall_DT1.round(2)*100)"
   ]
  },
  {
   "cell_type": "code",
   "execution_count": 65,
   "metadata": {
    "scrolled": true
   },
   "outputs": [
    {
     "name": "stdout",
     "output_type": "stream",
     "text": [
      "             precision    recall  f1-score   support\n",
      "\n",
      "          0       0.97      0.94      0.95      2853\n",
      "          1       0.82      0.92      0.87       897\n",
      "\n",
      "avg / total       0.94      0.93      0.93      3750\n",
      "\n"
     ]
    }
   ],
   "source": [
    "#printing classification report\n",
    "print(classification_report(y_test,ypred1))"
   ]
  },
  {
   "cell_type": "code",
   "execution_count": 66,
   "metadata": {},
   "outputs": [
    {
     "name": "stdout",
     "output_type": "stream",
     "text": [
      "93.0\n"
     ]
    }
   ],
   "source": [
    "#calculating ROC-AUC score\n",
    "roc_auc1=roc_auc_score(y_test,ypred1).round(2)*100\n",
    "print(roc_auc1)"
   ]
  },
  {
   "cell_type": "code",
   "execution_count": 67,
   "metadata": {},
   "outputs": [],
   "source": [
    "#for constructing ROC curve, getting TPR,FPR for different Treshold values \n",
    "roc_curve_values=roc_curve(y_test,ypred1)\n",
    "FPR,TPR,Tresholds=roc_curve_values"
   ]
  },
  {
   "cell_type": "code",
   "execution_count": 68,
   "metadata": {},
   "outputs": [
    {
     "data": {
      "image/png": "[encoded data removed]",
      "text/plain": [
       "<Figure size 432x288 with 1 Axes>"
      ]
     },
     "metadata": {},
     "output_type": "display_data"
    }
   ],
   "source": [
    "#Plotting ROC curve\n",
    "plt.figure()\n",
    "plt.plot(FPR, TPR, color='blue', lw=2, label='ROC AUC = %0.1f'%roc_auc1)\n",
    "plt.plot([0, 1], [0, 1], color='blue', linestyle='--')\n",
    "plt.xlabel('False Positive Rate')\n",
    "plt.ylabel('True Positive Rate')\n",
    "plt.xlim([0.0, 1.0])\n",
    "plt.ylim([0.0, 1.1])\n",
    "plt.title('ROC Curve for Decision Tree 1')\n",
    "plt.legend(loc=\"lower right\")\n",
    "plt.show()"
   ]
  },
  {
   "cell_type": "markdown",
   "metadata": {},
   "source": [
    "<h1>Model 2. Decision tree with scaled data</h1>"
   ]
  },
  {
   "cell_type": "code",
   "execution_count": 142,
   "metadata": {},
   "outputs": [
    {
     "data": {
      "text/plain": [
       "StandardScaler(copy=True, with_mean=True, with_std=True)"
      ]
     },
     "execution_count": 142,
     "metadata": {},
     "output_type": "execute_result"
    }
   ],
   "source": [
    "#scaling data using standard method (MinMAx method can be also used, see: sklearn.preprocessing.MinMaxScaler)\n",
    "#fitting only to the training data,i.e. computing the mean and std  dev to be used for later scaling\n",
    "scaler = StandardScaler()\n",
    "scaler.fit(data_numeric)"
   ]
  },
  {
   "cell_type": "code",
   "execution_count": 146,
   "metadata": {},
   "outputs": [],
   "source": [
    "#let's perform the transformations of the data\n",
    "data_numeric_scaled= pd.DataFrame(scaler.transform(data_numeric),columns=data_numeric.columns)"
   ]
  },
  {
   "cell_type": "code",
   "execution_count": 150,
   "metadata": {},
   "outputs": [],
   "source": [
    "data_final_scaled=data_numeric_scaled.join(data_dummies)\n",
    "X_scaled=data_final_scaled.drop(\"churn\",axis=1)"
   ]
  },
  {
   "cell_type": "code",
   "execution_count": 151,
   "metadata": {},
   "outputs": [],
   "source": [
    "x_train_scaled,x_test_scaled,y_train,y_test=train_test_split(X_scaled,Y,test_size=0.25,random_state=42)"
   ]
  },
  {
   "cell_type": "code",
   "execution_count": 152,
   "metadata": {},
   "outputs": [
    {
     "data": {
      "text/plain": [
       "GridSearchCV(cv=None, error_score='raise',\n",
       "       estimator=DecisionTreeClassifier(class_weight='balanced', criterion='gini',\n",
       "            max_depth=None, max_features=None, max_leaf_nodes=None,\n",
       "            min_impurity_decrease=0.0, min_impurity_split=None,\n",
       "            min_samples_leaf=1, min_samples_split=2,\n",
       "            min_weight_fraction_leaf=0.0, presort=False, random_state=42,\n",
       "            splitter='best'),\n",
       "       fit_params=None, iid=True, n_jobs=-1,\n",
       "       param_grid={'max_depth': range(5, 15), 'min_samples_leaf': range(10, 100)},\n",
       "       pre_dispatch='2*n_jobs', refit=True, return_train_score='warn',\n",
       "       scoring=None, verbose=0)"
      ]
     },
     "execution_count": 152,
     "metadata": {},
     "output_type": "execute_result"
    }
   ],
   "source": [
    "#cross validation for DT\n",
    "tree2=DecisionTreeClassifier(class_weight=\"balanced\",random_state=42)\n",
    "grid_search2=GridSearchCV(tree2,param_grid={\"max_depth\":range(5,15),\"min_samples_leaf\":range(10,100)},n_jobs=-1)\n",
    "grid_search2.fit(X_scaled,Y)"
   ]
  },
  {
   "cell_type": "code",
   "execution_count": 153,
   "metadata": {},
   "outputs": [
    {
     "name": "stdout",
     "output_type": "stream",
     "text": [
      "Best parameters 2: {'max_depth': 7, 'min_samples_leaf': 51}\n",
      "Best score 2: 96.0\n"
     ]
    }
   ],
   "source": [
    "#print best parameters and best score\n",
    "print(\"Best parameters 2:\",grid_search2.best_params_)\n",
    "print(\"Best score 2:\",grid_search2.best_score_.round(2)*100)"
   ]
  },
  {
   "cell_type": "code",
   "execution_count": 157,
   "metadata": {},
   "outputs": [
    {
     "data": {
      "text/plain": [
       "DecisionTreeClassifier(class_weight='balanced', criterion='gini', max_depth=7,\n",
       "            max_features=None, max_leaf_nodes=None,\n",
       "            min_impurity_decrease=0.0, min_impurity_split=None,\n",
       "            min_samples_leaf=51, min_samples_split=2,\n",
       "            min_weight_fraction_leaf=0.0, presort=False, random_state=42,\n",
       "            splitter='best')"
      ]
     },
     "execution_count": 157,
     "metadata": {},
     "output_type": "execute_result"
    }
   ],
   "source": [
    "#Run DT with best parameters\n",
    "tree2_1=DecisionTreeClassifier(max_depth=7,min_samples_leaf=51,class_weight=\"balanced\",random_state=42)\n",
    "tree2_1.fit(x_train_scaled,y_train)"
   ]
  },
  {
   "cell_type": "code",
   "execution_count": 158,
   "metadata": {},
   "outputs": [
    {
     "name": "stdout",
     "output_type": "stream",
     "text": [
      "97.0 97.0\n"
     ]
    }
   ],
   "source": [
    "#printing accuracy score for train and test data\n",
    "score_train_DT2=tree2_1.score(x_train_scaled,y_train)\n",
    "score_test_DT2=tree2_1.score(x_test_scaled,y_test)\n",
    "print(score_train_DT2.round(2)*100,score_test_DT2.round(2)*100)"
   ]
  },
  {
   "cell_type": "code",
   "execution_count": 159,
   "metadata": {},
   "outputs": [
    {
     "name": "stdout",
     "output_type": "stream",
     "text": [
      "Recall for DT 2: 91.0\n"
     ]
    }
   ],
   "source": [
    "#calculating recall\n",
    "ypred2=tree2_1.predict(x_test_scaled)\n",
    "recall_DT2=recall_score(y_test,ypred2)\n",
    "print(\"Recall for DT 2:\",recall_DT2.round(2)*100)"
   ]
  },
  {
   "cell_type": "code",
   "execution_count": 160,
   "metadata": {},
   "outputs": [
    {
     "name": "stdout",
     "output_type": "stream",
     "text": [
      "95.0\n"
     ]
    }
   ],
   "source": [
    "#calculating ROC-AUC score\n",
    "roc_auc2=roc_auc_score(y_test,ypred2).round(2)*100\n",
    "print(roc_auc2)"
   ]
  },
  {
   "cell_type": "markdown",
   "metadata": {},
   "source": [
    "<h1>Model 3. Logistic regression from statsmodel</h1>"
   ]
  },
  {
   "cell_type": "code",
   "execution_count": 44,
   "metadata": {},
   "outputs": [
    {
     "data": {
      "text/plain": [
       "'churn~satisfaction_level+last_evaluation+number_project+average_montly_hours+time_spend_company+work_accident+promotion_last_5years+department_IT+department_RandD+department_accounting+department_hr+department_management+department_marketing+department_product_mng+department_sales+department_support+department_technical+salary_high+salary_low+salary_medium'"
      ]
     },
     "execution_count": 44,
     "metadata": {},
     "output_type": "execute_result"
    }
   ],
   "source": [
    "formula='churn~'+'+'.join(X.columns.tolist())\n",
    "formula"
   ]
  },
  {
   "cell_type": "code",
   "execution_count": 45,
   "metadata": {},
   "outputs": [
    {
     "name": "stdout",
     "output_type": "stream",
     "text": [
      "Warning: Maximum number of iterations has been exceeded.\n",
      "         Current function value: 0.428358\n",
      "         Iterations: 35\n"
     ]
    },
    {
     "name": "stderr",
     "output_type": "stream",
     "text": [
      "C:\\Users\\HP\\Anaconda3\\lib\\site-packages\\statsmodels\\base\\model.py:508: ConvergenceWarning: Maximum Likelihood optimization failed to converge. Check mle_retvals\n",
      "  \"Check mle_retvals\", ConvergenceWarning)\n"
     ]
    }
   ],
   "source": [
    "logit1=Logit.from_formula(formula=formula,data=data_final).fit()"
   ]
  },
  {
   "cell_type": "code",
   "execution_count": 46,
   "metadata": {},
   "outputs": [
    {
     "name": "stderr",
     "output_type": "stream",
     "text": [
      "C:\\Users\\HP\\Anaconda3\\lib\\site-packages\\statsmodels\\base\\model.py:1092: RuntimeWarning: invalid value encountered in sqrt\n",
      "  bse_ = np.sqrt(np.diag(self.cov_params()))\n",
      "C:\\Users\\HP\\Anaconda3\\lib\\site-packages\\scipy\\stats\\_distn_infrastructure.py:879: RuntimeWarning: invalid value encountered in greater\n",
      "  return (self.a < x) & (x < self.b)\n",
      "C:\\Users\\HP\\Anaconda3\\lib\\site-packages\\scipy\\stats\\_distn_infrastructure.py:879: RuntimeWarning: invalid value encountered in less\n",
      "  return (self.a < x) & (x < self.b)\n",
      "C:\\Users\\HP\\Anaconda3\\lib\\site-packages\\scipy\\stats\\_distn_infrastructure.py:1821: RuntimeWarning: invalid value encountered in less_equal\n",
      "  cond2 = cond0 & (x <= self.a)\n"
     ]
    },
    {
     "data": {
      "text/html": [
       "<table class=\"simpletable\">\n",
       "<caption>Logit Regression Results</caption>\n",
       "<tr>\n",
       "  <th>Dep. Variable:</th>       <td>churn</td>      <th>  No. Observations:  </th>  <td> 14999</td> \n",
       "</tr>\n",
       "<tr>\n",
       "  <th>Model:</th>               <td>Logit</td>      <th>  Df Residuals:      </th>  <td> 14980</td> \n",
       "</tr>\n",
       "<tr>\n",
       "  <th>Method:</th>               <td>MLE</td>       <th>  Df Model:          </th>  <td>    18</td> \n",
       "</tr>\n",
       "<tr>\n",
       "  <th>Date:</th>          <td>Sat, 17 Nov 2018</td> <th>  Pseudo R-squ.:     </th>  <td>0.2195</td> \n",
       "</tr>\n",
       "<tr>\n",
       "  <th>Time:</th>              <td>00:00:17</td>     <th>  Log-Likelihood:    </th> <td> -6424.9</td>\n",
       "</tr>\n",
       "<tr>\n",
       "  <th>converged:</th>           <td>False</td>      <th>  LL-Null:           </th> <td> -8232.3</td>\n",
       "</tr>\n",
       "<tr>\n",
       "  <th> </th>                      <td> </td>        <th>  LLR p-value:       </th>  <td> 0.000</td> \n",
       "</tr>\n",
       "</table>\n",
       "<table class=\"simpletable\">\n",
       "<tr>\n",
       "             <td></td>               <th>coef</th>     <th>std err</th>      <th>z</th>      <th>P>|z|</th>  <th>[0.025</th>    <th>0.975]</th>  \n",
       "</tr>\n",
       "<tr>\n",
       "  <th>Intercept</th>              <td>   -0.3234</td> <td>      nan</td> <td>      nan</td> <td>   nan</td> <td>      nan</td> <td>      nan</td>\n",
       "</tr>\n",
       "<tr>\n",
       "  <th>satisfaction_level</th>     <td>   -4.1357</td> <td>    0.098</td> <td>  -42.177</td> <td> 0.000</td> <td>   -4.328</td> <td>   -3.944</td>\n",
       "</tr>\n",
       "<tr>\n",
       "  <th>last_evaluation</th>        <td>    0.7309</td> <td>    0.149</td> <td>    4.899</td> <td> 0.000</td> <td>    0.439</td> <td>    1.023</td>\n",
       "</tr>\n",
       "<tr>\n",
       "  <th>number_project</th>         <td>   -0.3151</td> <td>    0.021</td> <td>  -14.775</td> <td> 0.000</td> <td>   -0.357</td> <td>   -0.273</td>\n",
       "</tr>\n",
       "<tr>\n",
       "  <th>average_montly_hours</th>   <td>    0.0045</td> <td>    0.001</td> <td>    8.643</td> <td> 0.000</td> <td>    0.003</td> <td>    0.005</td>\n",
       "</tr>\n",
       "<tr>\n",
       "  <th>time_spend_company</th>     <td>    0.2678</td> <td>    0.016</td> <td>   17.192</td> <td> 0.000</td> <td>    0.237</td> <td>    0.298</td>\n",
       "</tr>\n",
       "<tr>\n",
       "  <th>work_accident</th>          <td>   -1.5298</td> <td>    0.090</td> <td>  -17.083</td> <td> 0.000</td> <td>   -1.705</td> <td>   -1.354</td>\n",
       "</tr>\n",
       "<tr>\n",
       "  <th>promotion_last_5years</th>  <td>   -1.4301</td> <td>    0.258</td> <td>   -5.552</td> <td> 0.000</td> <td>   -1.935</td> <td>   -0.925</td>\n",
       "</tr>\n",
       "<tr>\n",
       "  <th>department_IT</th>          <td>   -0.1067</td> <td> 4.58e+05</td> <td>-2.33e-07</td> <td> 1.000</td> <td>-8.97e+05</td> <td> 8.97e+05</td>\n",
       "</tr>\n",
       "<tr>\n",
       "  <th>department_RandD</th>       <td>   -0.5084</td> <td> 4.58e+05</td> <td>-1.11e-06</td> <td> 1.000</td> <td>-8.97e+05</td> <td> 8.97e+05</td>\n",
       "</tr>\n",
       "<tr>\n",
       "  <th>department_accounting</th>  <td>    0.0740</td> <td> 4.58e+05</td> <td> 1.62e-07</td> <td> 1.000</td> <td>-8.97e+05</td> <td> 8.97e+05</td>\n",
       "</tr>\n",
       "<tr>\n",
       "  <th>department_hr</th>          <td>    0.3063</td> <td> 4.58e+05</td> <td> 6.69e-07</td> <td> 1.000</td> <td>-8.97e+05</td> <td> 8.97e+05</td>\n",
       "</tr>\n",
       "<tr>\n",
       "  <th>department_management</th>  <td>   -0.3745</td> <td> 4.58e+05</td> <td>-8.18e-07</td> <td> 1.000</td> <td>-8.97e+05</td> <td> 8.97e+05</td>\n",
       "</tr>\n",
       "<tr>\n",
       "  <th>department_marketing</th>   <td>    0.0619</td> <td> 4.58e+05</td> <td> 1.35e-07</td> <td> 1.000</td> <td>-8.97e+05</td> <td> 8.97e+05</td>\n",
       "</tr>\n",
       "<tr>\n",
       "  <th>department_product_mng</th> <td>   -0.0793</td> <td> 4.58e+05</td> <td>-1.73e-07</td> <td> 1.000</td> <td>-8.97e+05</td> <td> 8.97e+05</td>\n",
       "</tr>\n",
       "<tr>\n",
       "  <th>department_sales</th>       <td>    0.0352</td> <td> 4.58e+05</td> <td> 7.69e-08</td> <td> 1.000</td> <td>-8.97e+05</td> <td> 8.97e+05</td>\n",
       "</tr>\n",
       "<tr>\n",
       "  <th>department_support</th>     <td>    0.1240</td> <td> 4.58e+05</td> <td> 2.71e-07</td> <td> 1.000</td> <td>-8.97e+05</td> <td> 8.97e+05</td>\n",
       "</tr>\n",
       "<tr>\n",
       "  <th>department_technical</th>   <td>    0.1441</td> <td> 4.58e+05</td> <td> 3.15e-07</td> <td> 1.000</td> <td>-8.97e+05</td> <td> 8.97e+05</td>\n",
       "</tr>\n",
       "<tr>\n",
       "  <th>salary_high</th>            <td>   -1.2269</td> <td> 1.54e+06</td> <td>-7.98e-07</td> <td> 1.000</td> <td>-3.01e+06</td> <td> 3.01e+06</td>\n",
       "</tr>\n",
       "<tr>\n",
       "  <th>salary_low</th>             <td>    0.7172</td> <td> 1.54e+06</td> <td> 4.67e-07</td> <td> 1.000</td> <td>-3.01e+06</td> <td> 3.01e+06</td>\n",
       "</tr>\n",
       "<tr>\n",
       "  <th>salary_medium</th>          <td>    0.1863</td> <td> 1.54e+06</td> <td> 1.21e-07</td> <td> 1.000</td> <td>-3.01e+06</td> <td> 3.01e+06</td>\n",
       "</tr>\n",
       "</table>"
      ],
      "text/plain": [
       "<class 'statsmodels.iolib.summary.Summary'>\n",
       "\"\"\"\n",
       "                           Logit Regression Results                           \n",
       "==============================================================================\n",
       "Dep. Variable:                  churn   No. Observations:                14999\n",
       "Model:                          Logit   Df Residuals:                    14980\n",
       "Method:                           MLE   Df Model:                           18\n",
       "Date:                Sat, 17 Nov 2018   Pseudo R-squ.:                  0.2195\n",
       "Time:                        00:00:17   Log-Likelihood:                -6424.9\n",
       "converged:                      False   LL-Null:                       -8232.3\n",
       "                                        LLR p-value:                     0.000\n",
       "==========================================================================================\n",
       "                             coef    std err          z      P>|z|      [0.025      0.975]\n",
       "------------------------------------------------------------------------------------------\n",
       "Intercept                 -0.3234        nan        nan        nan         nan         nan\n",
       "satisfaction_level        -4.1357      0.098    -42.177      0.000      -4.328      -3.944\n",
       "last_evaluation            0.7309      0.149      4.899      0.000       0.439       1.023\n",
       "number_project            -0.3151      0.021    -14.775      0.000      -0.357      -0.273\n",
       "average_montly_hours       0.0045      0.001      8.643      0.000       0.003       0.005\n",
       "time_spend_company         0.2678      0.016     17.192      0.000       0.237       0.298\n",
       "work_accident             -1.5298      0.090    -17.083      0.000      -1.705      -1.354\n",
       "promotion_last_5years     -1.4301      0.258     -5.552      0.000      -1.935      -0.925\n",
       "department_IT             -0.1067   4.58e+05  -2.33e-07      1.000   -8.97e+05    8.97e+05\n",
       "department_RandD          -0.5084   4.58e+05  -1.11e-06      1.000   -8.97e+05    8.97e+05\n",
       "department_accounting      0.0740   4.58e+05   1.62e-07      1.000   -8.97e+05    8.97e+05\n",
       "department_hr              0.3063   4.58e+05   6.69e-07      1.000   -8.97e+05    8.97e+05\n",
       "department_management     -0.3745   4.58e+05  -8.18e-07      1.000   -8.97e+05    8.97e+05\n",
       "department_marketing       0.0619   4.58e+05   1.35e-07      1.000   -8.97e+05    8.97e+05\n",
       "department_product_mng    -0.0793   4.58e+05  -1.73e-07      1.000   -8.97e+05    8.97e+05\n",
       "department_sales           0.0352   4.58e+05   7.69e-08      1.000   -8.97e+05    8.97e+05\n",
       "department_support         0.1240   4.58e+05   2.71e-07      1.000   -8.97e+05    8.97e+05\n",
       "department_technical       0.1441   4.58e+05   3.15e-07      1.000   -8.97e+05    8.97e+05\n",
       "salary_high               -1.2269   1.54e+06  -7.98e-07      1.000   -3.01e+06    3.01e+06\n",
       "salary_low                 0.7172   1.54e+06   4.67e-07      1.000   -3.01e+06    3.01e+06\n",
       "salary_medium              0.1863   1.54e+06   1.21e-07      1.000   -3.01e+06    3.01e+06\n",
       "==========================================================================================\n",
       "\"\"\""
      ]
     },
     "execution_count": 46,
     "metadata": {},
     "output_type": "execute_result"
    }
   ],
   "source": [
    "logit1.summary()"
   ]
  },
  {
   "cell_type": "code",
   "execution_count": 55,
   "metadata": {},
   "outputs": [
    {
     "name": "stderr",
     "output_type": "stream",
     "text": [
      "C:\\Users\\HP\\Anaconda3\\lib\\site-packages\\statsmodels\\discrete\\discrete_margins.py:343: RuntimeWarning: invalid value encountered in sqrt\n",
      "  return cov_me, np.sqrt(np.diag(cov_me))\n"
     ]
    },
    {
     "data": {
      "text/html": [
       "<table class=\"simpletable\">\n",
       "<caption>Logit Marginal Effects</caption>\n",
       "<tr>\n",
       "  <th>Dep. Variable:</th>  <td>churn</td> \n",
       "</tr>\n",
       "<tr>\n",
       "  <th>Method:</th>         <td>dydx</td>  \n",
       "</tr>\n",
       "<tr>\n",
       "  <th>At:</th>            <td>overall</td>\n",
       "</tr>\n",
       "</table>\n",
       "<table class=\"simpletable\">\n",
       "<tr>\n",
       "             <th></th>               <th>dy/dx</th>    <th>std err</th>      <th>z</th>      <th>P>|z|</th>  <th>[0.025</th>    <th>0.975]</th>  \n",
       "</tr>\n",
       "<tr>\n",
       "  <th>satisfaction_level</th>     <td>   -0.5700</td> <td>    0.011</td> <td>  -50.900</td> <td> 0.000</td> <td>   -0.592</td> <td>   -0.548</td>\n",
       "</tr>\n",
       "<tr>\n",
       "  <th>last_evaluation</th>        <td>    0.1007</td> <td>    0.020</td> <td>    4.941</td> <td> 0.000</td> <td>    0.061</td> <td>    0.141</td>\n",
       "</tr>\n",
       "<tr>\n",
       "  <th>number_project</th>         <td>   -0.0434</td> <td>    0.003</td> <td>  -15.024</td> <td> 0.000</td> <td>   -0.049</td> <td>   -0.038</td>\n",
       "</tr>\n",
       "<tr>\n",
       "  <th>average_montly_hours</th>   <td>    0.0006</td> <td> 7.05e-05</td> <td>    8.721</td> <td> 0.000</td> <td>    0.000</td> <td>    0.001</td>\n",
       "</tr>\n",
       "<tr>\n",
       "  <th>time_spend_company</th>     <td>    0.0369</td> <td>    0.002</td> <td>   17.852</td> <td> 0.000</td> <td>    0.033</td> <td>    0.041</td>\n",
       "</tr>\n",
       "<tr>\n",
       "  <th>work_accident</th>          <td>   -0.2108</td> <td>    0.012</td> <td>  -17.722</td> <td> 0.000</td> <td>   -0.234</td> <td>   -0.188</td>\n",
       "</tr>\n",
       "<tr>\n",
       "  <th>promotion_last_5years</th>  <td>   -0.1971</td> <td>    0.035</td> <td>   -5.567</td> <td> 0.000</td> <td>   -0.266</td> <td>   -0.128</td>\n",
       "</tr>\n",
       "<tr>\n",
       "  <th>department_IT</th>          <td>   -0.0147</td> <td> 6.31e+04</td> <td>-2.33e-07</td> <td> 1.000</td> <td>-1.24e+05</td> <td> 1.24e+05</td>\n",
       "</tr>\n",
       "<tr>\n",
       "  <th>department_RandD</th>       <td>   -0.0701</td> <td> 6.31e+04</td> <td>-1.11e-06</td> <td> 1.000</td> <td>-1.24e+05</td> <td> 1.24e+05</td>\n",
       "</tr>\n",
       "<tr>\n",
       "  <th>department_accounting</th>  <td>    0.0102</td> <td> 6.31e+04</td> <td> 1.62e-07</td> <td> 1.000</td> <td>-1.24e+05</td> <td> 1.24e+05</td>\n",
       "</tr>\n",
       "<tr>\n",
       "  <th>department_hr</th>          <td>    0.0422</td> <td> 6.31e+04</td> <td> 6.69e-07</td> <td> 1.000</td> <td>-1.24e+05</td> <td> 1.24e+05</td>\n",
       "</tr>\n",
       "<tr>\n",
       "  <th>department_management</th>  <td>   -0.0516</td> <td> 6.31e+04</td> <td>-8.18e-07</td> <td> 1.000</td> <td>-1.24e+05</td> <td> 1.24e+05</td>\n",
       "</tr>\n",
       "<tr>\n",
       "  <th>department_marketing</th>   <td>    0.0085</td> <td> 6.31e+04</td> <td> 1.35e-07</td> <td> 1.000</td> <td>-1.24e+05</td> <td> 1.24e+05</td>\n",
       "</tr>\n",
       "<tr>\n",
       "  <th>department_product_mng</th> <td>   -0.0109</td> <td> 6.31e+04</td> <td>-1.73e-07</td> <td> 1.000</td> <td>-1.24e+05</td> <td> 1.24e+05</td>\n",
       "</tr>\n",
       "<tr>\n",
       "  <th>department_sales</th>       <td>    0.0048</td> <td> 6.31e+04</td> <td> 7.69e-08</td> <td> 1.000</td> <td>-1.24e+05</td> <td> 1.24e+05</td>\n",
       "</tr>\n",
       "<tr>\n",
       "  <th>department_support</th>     <td>    0.0171</td> <td> 6.31e+04</td> <td> 2.71e-07</td> <td> 1.000</td> <td>-1.24e+05</td> <td> 1.24e+05</td>\n",
       "</tr>\n",
       "<tr>\n",
       "  <th>department_technical</th>   <td>    0.0199</td> <td> 6.31e+04</td> <td> 3.15e-07</td> <td> 1.000</td> <td>-1.24e+05</td> <td> 1.24e+05</td>\n",
       "</tr>\n",
       "<tr>\n",
       "  <th>salary_high</th>            <td>   -0.1691</td> <td> 2.12e+05</td> <td>-7.98e-07</td> <td> 1.000</td> <td>-4.15e+05</td> <td> 4.15e+05</td>\n",
       "</tr>\n",
       "<tr>\n",
       "  <th>salary_low</th>             <td>    0.0988</td> <td> 2.12e+05</td> <td> 4.67e-07</td> <td> 1.000</td> <td>-4.15e+05</td> <td> 4.15e+05</td>\n",
       "</tr>\n",
       "<tr>\n",
       "  <th>salary_medium</th>          <td>    0.0257</td> <td> 2.12e+05</td> <td> 1.21e-07</td> <td> 1.000</td> <td>-4.15e+05</td> <td> 4.15e+05</td>\n",
       "</tr>\n",
       "</table>"
      ],
      "text/plain": [
       "<class 'statsmodels.iolib.summary.Summary'>\n",
       "\"\"\"\n",
       "        Logit Marginal Effects       \n",
       "=====================================\n",
       "Dep. Variable:                  churn\n",
       "Method:                          dydx\n",
       "At:                           overall\n",
       "==========================================================================================\n",
       "                            dy/dx    std err          z      P>|z|      [0.025      0.975]\n",
       "------------------------------------------------------------------------------------------\n",
       "satisfaction_level        -0.5700      0.011    -50.900      0.000      -0.592      -0.548\n",
       "last_evaluation            0.1007      0.020      4.941      0.000       0.061       0.141\n",
       "number_project            -0.0434      0.003    -15.024      0.000      -0.049      -0.038\n",
       "average_montly_hours       0.0006   7.05e-05      8.721      0.000       0.000       0.001\n",
       "time_spend_company         0.0369      0.002     17.852      0.000       0.033       0.041\n",
       "work_accident             -0.2108      0.012    -17.722      0.000      -0.234      -0.188\n",
       "promotion_last_5years     -0.1971      0.035     -5.567      0.000      -0.266      -0.128\n",
       "department_IT             -0.0147   6.31e+04  -2.33e-07      1.000   -1.24e+05    1.24e+05\n",
       "department_RandD          -0.0701   6.31e+04  -1.11e-06      1.000   -1.24e+05    1.24e+05\n",
       "department_accounting      0.0102   6.31e+04   1.62e-07      1.000   -1.24e+05    1.24e+05\n",
       "department_hr              0.0422   6.31e+04   6.69e-07      1.000   -1.24e+05    1.24e+05\n",
       "department_management     -0.0516   6.31e+04  -8.18e-07      1.000   -1.24e+05    1.24e+05\n",
       "department_marketing       0.0085   6.31e+04   1.35e-07      1.000   -1.24e+05    1.24e+05\n",
       "department_product_mng    -0.0109   6.31e+04  -1.73e-07      1.000   -1.24e+05    1.24e+05\n",
       "department_sales           0.0048   6.31e+04   7.69e-08      1.000   -1.24e+05    1.24e+05\n",
       "department_support         0.0171   6.31e+04   2.71e-07      1.000   -1.24e+05    1.24e+05\n",
       "department_technical       0.0199   6.31e+04   3.15e-07      1.000   -1.24e+05    1.24e+05\n",
       "salary_high               -0.1691   2.12e+05  -7.98e-07      1.000   -4.15e+05    4.15e+05\n",
       "salary_low                 0.0988   2.12e+05   4.67e-07      1.000   -4.15e+05    4.15e+05\n",
       "salary_medium              0.0257   2.12e+05   1.21e-07      1.000   -4.15e+05    4.15e+05\n",
       "==========================================================================================\n",
       "\"\"\""
      ]
     },
     "execution_count": 55,
     "metadata": {},
     "output_type": "execute_result"
    }
   ],
   "source": [
    "#let's get marginal effects to interpret the results of logistic regression\n",
    "logit1.get_margeff().summary()"
   ]
  },
  {
   "cell_type": "markdown",
   "metadata": {},
   "source": [
    "<b>Interpreting for cont variable</b>. As=satisfaction_level is statistically significant at 5% sig level (P>|z|<=0.05), so there is sig relationship between churn and satisfaction_level. Incremental increase in satisfaction_level decreases the probability of churn on average by 0.57."
   ]
  },
  {
   "cell_type": "markdown",
   "metadata": {},
   "source": [
    "# Model 4. Logistic regression using cross validation"
   ]
  },
  {
   "cell_type": "code",
   "execution_count": 132,
   "metadata": {},
   "outputs": [
    {
     "data": {
      "text/plain": [
       "GridSearchCV(cv=5, error_score='raise',\n",
       "       estimator=LogisticRegression(C=1.0, class_weight='balanced', dual=False,\n",
       "          fit_intercept=True, intercept_scaling=1, max_iter=100,\n",
       "          multi_class='ovr', n_jobs=1, penalty='l2', random_state=42,\n",
       "          solver='liblinear', tol=0.0001, verbose=0, warm_start=False),\n",
       "       fit_params=None, iid=True, n_jobs=-1,\n",
       "       param_grid={'C': array([1.000e-03, 1.112e+00, 2.223e+00, 3.334e+00, 4.445e+00, 5.556e+00,\n",
       "       6.667e+00, 7.778e+00, 8.889e+00, 1.000e+01])},\n",
       "       pre_dispatch='2*n_jobs', refit=True, return_train_score='warn',\n",
       "       scoring=None, verbose=0)"
      ]
     },
     "execution_count": 132,
     "metadata": {},
     "output_type": "execute_result"
    }
   ],
   "source": [
    "#Logit from sklearn for prediction\n",
    "logit_sk1=LogisticRegression(random_state=42,class_weight=\"balanced\")\n",
    "grid_search3=GridSearchCV(logit_sk1,param_grid={\"C\":np.linspace(0.001,10,10)},cv=5,n_jobs=-1)\n",
    "grid_search3.fit(X,Y)"
   ]
  },
  {
   "cell_type": "code",
   "execution_count": 133,
   "metadata": {},
   "outputs": [
    {
     "data": {
      "text/plain": [
       "{'C': 1.1119999999999999}"
      ]
     },
     "execution_count": 133,
     "metadata": {},
     "output_type": "execute_result"
    }
   ],
   "source": [
    "grid_search3.best_params_"
   ]
  },
  {
   "cell_type": "code",
   "execution_count": 137,
   "metadata": {},
   "outputs": [],
   "source": [
    "best=list(grid_search3.best_params_.values())[0]"
   ]
  },
  {
   "cell_type": "code",
   "execution_count": 138,
   "metadata": {},
   "outputs": [
    {
     "data": {
      "text/plain": [
       "LogisticRegression(C=1.1119999999999999, class_weight=None, dual=False,\n",
       "          fit_intercept=True, intercept_scaling=1, max_iter=100,\n",
       "          multi_class='ovr', n_jobs=1, penalty='l2', random_state=42,\n",
       "          solver='liblinear', tol=0.0001, verbose=0, warm_start=False)"
      ]
     },
     "execution_count": 138,
     "metadata": {},
     "output_type": "execute_result"
    }
   ],
   "source": [
    "logit_sk1_1=LogisticRegression(C=best,random_state=42)\n",
    "logit_sk1_1.fit(x_train,y_train)"
   ]
  },
  {
   "cell_type": "code",
   "execution_count": 139,
   "metadata": {},
   "outputs": [
    {
     "name": "stdout",
     "output_type": "stream",
     "text": [
      "79.0 78.0\n"
     ]
    }
   ],
   "source": [
    "train_score_LR1=logit_sk1_1.score(x_train,y_train).round(2)*100\n",
    "test_score_LR1=logit_sk1_1.score(x_test,y_test).round(2)*100\n",
    "print(train_score_LR1,test_score_LR1)"
   ]
  },
  {
   "cell_type": "code",
   "execution_count": 140,
   "metadata": {},
   "outputs": [
    {
     "name": "stdout",
     "output_type": "stream",
     "text": [
      "33.0\n"
     ]
    }
   ],
   "source": [
    "ypred3=logit_sk1_1.predict(x_test)\n",
    "print(recall_score(y_test,ypred3).round(2)*100)"
   ]
  },
  {
   "cell_type": "code",
   "execution_count": 164,
   "metadata": {},
   "outputs": [
    {
     "name": "stdout",
     "output_type": "stream",
     "text": [
      "63.0\n"
     ]
    }
   ],
   "source": [
    "#calculating ROC-AUC score\n",
    "roc_auc3=roc_auc_score(y_test,ypred3).round(2)*100\n",
    "print(roc_auc3)"
   ]
  },
  {
   "cell_type": "code",
   "execution_count": 179,
   "metadata": {},
   "outputs": [],
   "source": [
    "#for constructing ROC curve, getting TPR,FPR for different Treshold values \n",
    "roc_curve_values2=roc_curve(y_test,ypred3)\n",
    "FPR2,TPR2,Tresholds2=roc_curve_values2"
   ]
  },
  {
   "cell_type": "code",
   "execution_count": 181,
   "metadata": {},
   "outputs": [
    {
     "data": {
      "image/png": "[encoded data removed]",
      "text/plain": [
       "<Figure size 432x288 with 1 Axes>"
      ]
     },
     "metadata": {},
     "output_type": "display_data"
    }
   ],
   "source": [
    "#Plotting ROC curve\n",
    "plt.figure()\n",
    "plt.plot(FPR2, TPR2, color='green', lw=2, label='ROC AUC = %0.1f'%roc_auc3)\n",
    "plt.plot([0, 1], [0, 1], color='green', linestyle='--')\n",
    "plt.xlabel('False Positive Rate')\n",
    "plt.ylabel('True Positive Rate')\n",
    "plt.xlim([0.0, 1.0])\n",
    "plt.ylim([0.0, 1.1])\n",
    "plt.title('ROC Curve for Logistic Regression')\n",
    "plt.legend(loc=\"lower right\")\n",
    "plt.show()"
   ]
  },
  {
   "cell_type": "markdown",
   "metadata": {},
   "source": [
    "# Model 5. Logistic regression with Scaled data"
   ]
  },
  {
   "cell_type": "code",
   "execution_count": 165,
   "metadata": {},
   "outputs": [
    {
     "data": {
      "text/plain": [
       "GridSearchCV(cv=5, error_score='raise',\n",
       "       estimator=LogisticRegression(C=1.0, class_weight='balanced', dual=False,\n",
       "          fit_intercept=True, intercept_scaling=1, max_iter=100,\n",
       "          multi_class='ovr', n_jobs=1, penalty='l2', random_state=42,\n",
       "          solver='liblinear', tol=0.0001, verbose=0, warm_start=False),\n",
       "       fit_params=None, iid=True, n_jobs=-1,\n",
       "       param_grid={'C': array([1.000e-03, 1.112e+00, 2.223e+00, 3.334e+00, 4.445e+00, 5.556e+00,\n",
       "       6.667e+00, 7.778e+00, 8.889e+00, 1.000e+01])},\n",
       "       pre_dispatch='2*n_jobs', refit=True, return_train_score='warn',\n",
       "       scoring=None, verbose=0)"
      ]
     },
     "execution_count": 165,
     "metadata": {},
     "output_type": "execute_result"
    }
   ],
   "source": [
    "#Logit from sklearn for prediction\n",
    "logit_sk2=LogisticRegression(random_state=42,class_weight=\"balanced\")\n",
    "grid_search4=GridSearchCV(logit_sk2,param_grid={\"C\":np.linspace(0.001,10,10)},cv=5,n_jobs=-1)\n",
    "grid_search4.fit(X_scaled,Y)"
   ]
  },
  {
   "cell_type": "code",
   "execution_count": 168,
   "metadata": {},
   "outputs": [],
   "source": [
    "grid_search4.best_params_\n",
    "best2=list(grid_search4.best_params_.values())[0]"
   ]
  },
  {
   "cell_type": "code",
   "execution_count": 169,
   "metadata": {},
   "outputs": [
    {
     "data": {
      "text/plain": [
       "LogisticRegression(C=1.1119999999999999, class_weight=None, dual=False,\n",
       "          fit_intercept=True, intercept_scaling=1, max_iter=100,\n",
       "          multi_class='ovr', n_jobs=1, penalty='l2', random_state=42,\n",
       "          solver='liblinear', tol=0.0001, verbose=0, warm_start=False)"
      ]
     },
     "execution_count": 169,
     "metadata": {},
     "output_type": "execute_result"
    }
   ],
   "source": [
    "logit_sk2_1=LogisticRegression(C=best2,random_state=42)\n",
    "logit_sk2_1.fit(x_train_scaled,y_train)"
   ]
  },
  {
   "cell_type": "code",
   "execution_count": 170,
   "metadata": {},
   "outputs": [
    {
     "name": "stdout",
     "output_type": "stream",
     "text": [
      "Train: 79.0\n",
      "Test: 78.0\n",
      "Recall: 33.0\n",
      "ROC AUC: 63.0\n"
     ]
    }
   ],
   "source": [
    "train_score_LR2=logit_sk2_1.score(x_train_scaled,y_train).round(2)*100\n",
    "test_score_LR2=logit_sk2_1.score(x_test_scaled,y_test).round(2)*100\n",
    "ypred4=logit_sk2_1.predict(x_test_scaled)\n",
    "print(\"Train:\",train_score_LR1)\n",
    "print(\"Test:\",test_score_LR1)\n",
    "print(\"Recall:\",recall_score(y_test,ypred3).round(2)*100)\n",
    "print(\"ROC AUC:\",roc_auc_score(y_test,ypred4).round(2)*100)"
   ]
  },
  {
   "cell_type": "markdown",
   "metadata": {},
   "source": [
    "# Predicting for new individual"
   ]
  },
  {
   "cell_type": "code",
   "execution_count": 175,
   "metadata": {},
   "outputs": [
    {
     "name": "stdout",
     "output_type": "stream",
     "text": [
      "<class 'pandas.core.frame.DataFrame'>\n",
      "Int64Index: 11249 entries, 14480 to 7270\n",
      "Data columns (total 20 columns):\n",
      "satisfaction_level        11249 non-null float64\n",
      "last_evaluation           11249 non-null float64\n",
      "number_project            11249 non-null int64\n",
      "average_montly_hours      11249 non-null int64\n",
      "time_spend_company        11249 non-null int64\n",
      "work_accident             11249 non-null int64\n",
      "promotion_last_5years     11249 non-null int64\n",
      "department_IT             11249 non-null uint8\n",
      "department_RandD          11249 non-null uint8\n",
      "department_accounting     11249 non-null uint8\n",
      "department_hr             11249 non-null uint8\n",
      "department_management     11249 non-null uint8\n",
      "department_marketing      11249 non-null uint8\n",
      "department_product_mng    11249 non-null uint8\n",
      "department_sales          11249 non-null uint8\n",
      "department_support        11249 non-null uint8\n",
      "department_technical      11249 non-null uint8\n",
      "salary_high               11249 non-null uint8\n",
      "salary_low                11249 non-null uint8\n",
      "salary_medium             11249 non-null uint8\n",
      "dtypes: float64(2), int64(5), uint8(13)\n",
      "memory usage: 845.9 KB\n"
     ]
    }
   ],
   "source": [
    "x_train.info()"
   ]
  },
  {
   "cell_type": "code",
   "execution_count": 176,
   "metadata": {},
   "outputs": [],
   "source": [
    "#Let's give each variable any value\n",
    "X_new=[[5,0.87,7,300,2,1,0,0,0,1,0,0,0,0,0,0,0,0,0,1]]"
   ]
  },
  {
   "cell_type": "code",
   "execution_count": 178,
   "metadata": {},
   "outputs": [
    {
     "name": "stdout",
     "output_type": "stream",
     "text": [
      "logit_pred: [0]\n",
      "tree_pred [0]\n"
     ]
    }
   ],
   "source": [
    "##Predicting for unseen X_new using logit and DT\n",
    "logit_pred=logit_sk1_1.predict(X_new)\n",
    "DT_pred=tree1_1.predict(X_new)\n",
    "print(\"logit_pred:\",logit_pred)\n",
    "print(\"tree_pred\",DT_pred)"
   ]
  },
  {
   "cell_type": "markdown",
   "metadata": {},
   "source": [
    "<b>both models predicted that this new employee won't churn</b>"
   ]
  },
  {
   "cell_type": "markdown",
   "metadata": {},
   "source": [
    "<h1>Printing results of models together</h1>"
   ]
  },
  {
   "cell_type": "code",
   "execution_count": 209,
   "metadata": {},
   "outputs": [
    {
     "name": "stdout",
     "output_type": "stream",
     "text": [
      "Recall scores for not scaled models\n",
      "Recall: 92.0\n",
      "Recall: 33.0\n",
      "\n",
      " ---------------------------------------\n",
      "ROC AUC scores for not scaled models\n",
      "ROC AUC: 93.0\n",
      "ROC AUC: 63.0\n",
      "\n",
      " ---------------------------------------\n",
      "Train scores for not scaled models\n",
      "Train scores: 94.0\n",
      "Train scores: 79.0\n",
      "\n",
      " ---------------------------------------\n",
      "Test scores for not scaled models\n",
      "Test scores: 93.0\n",
      "Test scores: 78.0\n",
      "\n",
      " ---------------------------------------\n",
      "Recall scores for scaled models\n",
      "Recall: 91.0\n",
      "Recall: 34.0\n",
      "\n",
      " ---------------------------------------\n",
      "ROC AUC scores for scaled models\n",
      "ROC AUC: 95.0\n",
      "ROC AUC: 63.0\n",
      "\n",
      " ---------------------------------------\n",
      "Train scores for scaled models\n",
      "Train scores: 97.0\n",
      "Train scores: 79.0\n",
      "\n",
      " ---------------------------------------\n",
      "Test scores for scaled models\n",
      "Test scores: 97.0\n",
      "Test scores: 78.0\n"
     ]
    }
   ],
   "source": [
    "#Printing recall for not scaled data models\n",
    "print(\"Recall scores for not scaled models\")\n",
    "for i in [tree1_1,logit_sk1_1]:\n",
    "    print(\"Recall:\",(recall_score(y_test,i.predict(x_test))).round(2)*100)\n",
    "print(\"\\n\",\"---------------------------------------\")\n",
    "\n",
    "#ROC AUC\n",
    "print(\"ROC AUC scores for not scaled models\")\n",
    "for i in [tree1_1,logit_sk1_1]:\n",
    "    print(\"ROC AUC:\",(roc_auc_score(y_test,i.predict(x_test))).round(2)*100)\n",
    "    \n",
    "print(\"\\n\",\"---------------------------------------\")\n",
    "print(\"Train scores for not scaled models\")\n",
    "for i in [tree1_1,logit_sk1_1]:\n",
    "    print(\"Train scores:\",(i.score(x_train,y_train)).round(2)*100)\n",
    "\n",
    "print(\"\\n\",\"---------------------------------------\")\n",
    "print(\"Test scores for not scaled models\")\n",
    "for i in [tree1_1,logit_sk1_1]:\n",
    "    print(\"Test scores:\",(i.score(x_test,y_test)).round(2)*100)\n",
    "\n",
    "print(\"\\n\",\"---------------------------------------\")\n",
    "print(\"Recall scores for scaled models\")\n",
    "for i in [tree2_1,logit_sk2_1]:\n",
    "    print(\"Recall:\",(recall_score(y_test,i.predict(x_test_scaled))).round(2)*100)\n",
    "\n",
    "print(\"\\n\",\"---------------------------------------\")\n",
    "print(\"ROC AUC scores for scaled models\")\n",
    "for i in [tree2_1,logit_sk2_1]:\n",
    "    print(\"ROC AUC:\",(roc_auc_score(y_test,i.predict(x_test_scaled))).round(2)*100)\n",
    "\n",
    "print(\"\\n\",\"---------------------------------------\")\n",
    "print(\"Train scores for scaled models\")\n",
    "for i in [tree2_1,logit_sk2_1]:\n",
    "    print(\"Train scores:\",(i.score(x_train_scaled,y_train)).round(2)*100)\n",
    "\n",
    "print(\"\\n\",\"---------------------------------------\")\n",
    "print(\"Test scores for scaled models\")\n",
    "for i in [tree2_1,logit_sk2_1]:\n",
    "    print(\"Test scores:\",(i.score(x_test_scaled,y_test)).round(2)*100)"
   ]
  },
  {
   "cell_type": "code",
   "execution_count": null,
   "metadata": {},
   "outputs": [],
   "source": []
  }
 ],
 "metadata": {
  "kernelspec": {
   "display_name": "Python 3",
   "language": "python",
   "name": "python3"
  },
  "language_info": {
   "codemirror_mode": {
    "name": "ipython",
    "version": 3
   },
   "file_extension": ".py",
   "mimetype": "text/x-python",
   "name": "python",
   "nbconvert_exporter": "python",
   "pygments_lexer": "ipython3",
   "version": "3.6.5"
  }
 },
 "nbformat": 4,
 "nbformat_minor": 2
}
