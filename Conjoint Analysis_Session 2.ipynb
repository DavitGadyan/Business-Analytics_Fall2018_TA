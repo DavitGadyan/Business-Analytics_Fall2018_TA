{
 "cells": [
  {
   "cell_type": "markdown",
   "metadata": {},
   "source": [
    "<h1>Conjoint Analysis with Linear Regression</h1>"
   ]
  },
  {
   "cell_type": "markdown",
   "metadata": {},
   "source": [
    "<h3>5 stages for conducting Conjoint Analysis:</h3>\n",
    "<ol>\n",
    "<li> defining the profiles - understand what are the characteristics that you want to compare and what are the levels of each of those features.\n",
    "<li> survey - use one of the survey tools, e.g. Google forms, to ask your customers to rank/rate the listed profiles (attention: not all theoretically possible profiles should be listed, choose only those that are reasonable).\n",
    "<li> data transformation - use a data analysis tool (Excvel in our case) to trnasform the data into \"analysis friendly\" form (0s and 1s in our case).\n",
    "<li> <b>estimation - use the transformed data to estimate utilities (using Python and statsmodels library in our case).</b>\n",
    "<li> calculation of importance - use the results of the analysis to calculate the importanc of each feature.\n",
    "</ol>"
   ]
  },
  {
   "cell_type": "markdown",
   "metadata": {},
   "source": [
    "<h3>Survey</h3>\n",
    "Last year, 33 students participated in a survey related to BA course. 12 class options were suggested to rate from relatively best(6) to relatively worst(1). An example of a class option is the following <I>[Applied class (using Python), conducted in the lab, final project:  startup idea]</I>. \n",
    "The collected data will be used to conduct conjoint analysis. \n",
    "<h3>Data transformation</h3>\n",
    "Excel was used to transform the original data. Then, <b>results</b> were saved to Excel for further calculations. "
   ]
  },
  {
   "cell_type": "code",
   "execution_count": 14,
   "metadata": {},
   "outputs": [],
   "source": [
    "import pandas as pd\n",
    "from statsmodels.formula.api import ols"
   ]
  },
  {
   "cell_type": "code",
   "execution_count": 3,
   "metadata": {},
   "outputs": [
    {
     "data": {
      "text/html": [
       "<div>\n",
       "<style scoped>\n",
       "    .dataframe tbody tr th:only-of-type {\n",
       "        vertical-align: middle;\n",
       "    }\n",
       "\n",
       "    .dataframe tbody tr th {\n",
       "        vertical-align: top;\n",
       "    }\n",
       "\n",
       "    .dataframe thead th {\n",
       "        text-align: right;\n",
       "    }\n",
       "</style>\n",
       "<table border=\"1\" class=\"dataframe\">\n",
       "  <thead>\n",
       "    <tr style=\"text-align: right;\">\n",
       "      <th></th>\n",
       "      <th>ID</th>\n",
       "      <th>Rank</th>\n",
       "      <th>A1</th>\n",
       "      <th>A2</th>\n",
       "      <th>A3</th>\n",
       "      <th>B1</th>\n",
       "      <th>B2</th>\n",
       "      <th>C1</th>\n",
       "      <th>C2</th>\n",
       "      <th>C3</th>\n",
       "    </tr>\n",
       "  </thead>\n",
       "  <tbody>\n",
       "    <tr>\n",
       "      <th>0</th>\n",
       "      <td>1</td>\n",
       "      <td>4</td>\n",
       "      <td>1</td>\n",
       "      <td>0</td>\n",
       "      <td>0</td>\n",
       "      <td>1</td>\n",
       "      <td>0</td>\n",
       "      <td>0</td>\n",
       "      <td>1</td>\n",
       "      <td>0</td>\n",
       "    </tr>\n",
       "    <tr>\n",
       "      <th>1</th>\n",
       "      <td>1</td>\n",
       "      <td>5</td>\n",
       "      <td>1</td>\n",
       "      <td>0</td>\n",
       "      <td>0</td>\n",
       "      <td>1</td>\n",
       "      <td>0</td>\n",
       "      <td>1</td>\n",
       "      <td>0</td>\n",
       "      <td>0</td>\n",
       "    </tr>\n",
       "    <tr>\n",
       "      <th>2</th>\n",
       "      <td>1</td>\n",
       "      <td>2</td>\n",
       "      <td>1</td>\n",
       "      <td>0</td>\n",
       "      <td>0</td>\n",
       "      <td>1</td>\n",
       "      <td>0</td>\n",
       "      <td>0</td>\n",
       "      <td>0</td>\n",
       "      <td>1</td>\n",
       "    </tr>\n",
       "    <tr>\n",
       "      <th>3</th>\n",
       "      <td>1</td>\n",
       "      <td>2</td>\n",
       "      <td>0</td>\n",
       "      <td>1</td>\n",
       "      <td>0</td>\n",
       "      <td>1</td>\n",
       "      <td>0</td>\n",
       "      <td>0</td>\n",
       "      <td>1</td>\n",
       "      <td>0</td>\n",
       "    </tr>\n",
       "    <tr>\n",
       "      <th>4</th>\n",
       "      <td>1</td>\n",
       "      <td>3</td>\n",
       "      <td>0</td>\n",
       "      <td>1</td>\n",
       "      <td>0</td>\n",
       "      <td>1</td>\n",
       "      <td>0</td>\n",
       "      <td>1</td>\n",
       "      <td>0</td>\n",
       "      <td>0</td>\n",
       "    </tr>\n",
       "  </tbody>\n",
       "</table>\n",
       "</div>"
      ],
      "text/plain": [
       "   ID  Rank  A1  A2  A3  B1  B2  C1  C2  C3\n",
       "0   1     4   1   0   0   1   0   0   1   0\n",
       "1   1     5   1   0   0   1   0   1   0   0\n",
       "2   1     2   1   0   0   1   0   0   0   1\n",
       "3   1     2   0   1   0   1   0   0   1   0\n",
       "4   1     3   0   1   0   1   0   1   0   0"
      ]
     },
     "execution_count": 3,
     "metadata": {},
     "output_type": "execute_result"
    }
   ],
   "source": [
    "Data=pd.read_excel(\"conjoint_survey.xlsx\")\n",
    "Data.head()"
   ]
  },
  {
   "cell_type": "code",
   "execution_count": 9,
   "metadata": {},
   "outputs": [
    {
     "name": "stdout",
     "output_type": "stream",
     "text": [
      "<class 'pandas.core.frame.DataFrame'>\n",
      "RangeIndex: 396 entries, 0 to 395\n",
      "Data columns (total 10 columns):\n",
      "ID      396 non-null int64\n",
      "Rank    396 non-null int64\n",
      "A1      396 non-null int64\n",
      "A2      396 non-null int64\n",
      "A3      396 non-null int64\n",
      "B1      396 non-null int64\n",
      "B2      396 non-null int64\n",
      "C1      396 non-null int64\n",
      "C2      396 non-null int64\n",
      "C3      396 non-null int64\n",
      "dtypes: int64(10)\n",
      "memory usage: 31.0 KB\n"
     ]
    }
   ],
   "source": [
    "Data.info()"
   ]
  },
  {
   "cell_type": "code",
   "execution_count": 8,
   "metadata": {},
   "outputs": [],
   "source": [
    "Model = ols(formula=\"Rank ~ A1 + A2 + A3 +B1 + B2 + C1 + C2 + C3\", data=Data)"
   ]
  },
  {
   "cell_type": "code",
   "execution_count": 10,
   "metadata": {},
   "outputs": [],
   "source": [
    "# let's used the model above to fit it to our data\n",
    "results = Model.fit()"
   ]
  },
  {
   "cell_type": "code",
   "execution_count": 11,
   "metadata": {},
   "outputs": [
    {
     "data": {
      "text/html": [
       "<table class=\"simpletable\">\n",
       "<caption>OLS Regression Results</caption>\n",
       "<tr>\n",
       "  <th>Dep. Variable:</th>          <td>Rank</td>       <th>  R-squared:         </th> <td>   0.096</td>\n",
       "</tr>\n",
       "<tr>\n",
       "  <th>Model:</th>                   <td>OLS</td>       <th>  Adj. R-squared:    </th> <td>   0.085</td>\n",
       "</tr>\n",
       "<tr>\n",
       "  <th>Method:</th>             <td>Least Squares</td>  <th>  F-statistic:       </th> <td>   8.317</td>\n",
       "</tr>\n",
       "<tr>\n",
       "  <th>Date:</th>             <td>Sat, 22 Sep 2018</td> <th>  Prob (F-statistic):</th> <td>1.74e-07</td>\n",
       "</tr>\n",
       "<tr>\n",
       "  <th>Time:</th>                 <td>20:21:28</td>     <th>  Log-Likelihood:    </th> <td> -761.28</td>\n",
       "</tr>\n",
       "<tr>\n",
       "  <th>No. Observations:</th>      <td>   396</td>      <th>  AIC:               </th> <td>   1535.</td>\n",
       "</tr>\n",
       "<tr>\n",
       "  <th>Df Residuals:</th>          <td>   390</td>      <th>  BIC:               </th> <td>   1558.</td>\n",
       "</tr>\n",
       "<tr>\n",
       "  <th>Df Model:</th>              <td>     5</td>      <th>                     </th>     <td> </td>   \n",
       "</tr>\n",
       "<tr>\n",
       "  <th>Covariance Type:</th>      <td>nonrobust</td>    <th>                     </th>     <td> </td>   \n",
       "</tr>\n",
       "</table>\n",
       "<table class=\"simpletable\">\n",
       "<tr>\n",
       "      <td></td>         <th>coef</th>     <th>std err</th>      <th>t</th>      <th>P>|t|</th>  <th>[0.025</th>    <th>0.975]</th>  \n",
       "</tr>\n",
       "<tr>\n",
       "  <th>Intercept</th> <td>    1.7001</td> <td>    0.041</td> <td>   41.711</td> <td> 0.000</td> <td>    1.620</td> <td>    1.780</td>\n",
       "</tr>\n",
       "<tr>\n",
       "  <th>A1</th>        <td>    0.5802</td> <td>    0.178</td> <td>    3.250</td> <td> 0.001</td> <td>    0.229</td> <td>    0.931</td>\n",
       "</tr>\n",
       "<tr>\n",
       "  <th>A2</th>        <td>    0.5701</td> <td>    0.108</td> <td>    5.270</td> <td> 0.000</td> <td>    0.357</td> <td>    0.783</td>\n",
       "</tr>\n",
       "<tr>\n",
       "  <th>A3</th>        <td>    0.5499</td> <td>    0.178</td> <td>    3.081</td> <td> 0.002</td> <td>    0.199</td> <td>    0.901</td>\n",
       "</tr>\n",
       "<tr>\n",
       "  <th>B1</th>        <td>    1.3349</td> <td>    0.120</td> <td>   11.104</td> <td> 0.000</td> <td>    1.099</td> <td>    1.571</td>\n",
       "</tr>\n",
       "<tr>\n",
       "  <th>B2</th>        <td>    0.3652</td> <td>    0.120</td> <td>    3.038</td> <td> 0.003</td> <td>    0.129</td> <td>    0.602</td>\n",
       "</tr>\n",
       "<tr>\n",
       "  <th>C1</th>        <td>    0.4657</td> <td>    0.119</td> <td>    3.905</td> <td> 0.000</td> <td>    0.231</td> <td>    0.700</td>\n",
       "</tr>\n",
       "<tr>\n",
       "  <th>C2</th>        <td>    0.8748</td> <td>    0.119</td> <td>    7.335</td> <td> 0.000</td> <td>    0.640</td> <td>    1.109</td>\n",
       "</tr>\n",
       "<tr>\n",
       "  <th>C3</th>        <td>    0.3596</td> <td>    0.119</td> <td>    3.016</td> <td> 0.003</td> <td>    0.125</td> <td>    0.594</td>\n",
       "</tr>\n",
       "</table>\n",
       "<table class=\"simpletable\">\n",
       "<tr>\n",
       "  <th>Omnibus:</th>       <td>74.177</td> <th>  Durbin-Watson:     </th> <td>   1.102</td>\n",
       "</tr>\n",
       "<tr>\n",
       "  <th>Prob(Omnibus):</th> <td> 0.000</td> <th>  Jarque-Bera (JB):  </th> <td>  16.991</td>\n",
       "</tr>\n",
       "<tr>\n",
       "  <th>Skew:</th>          <td>-0.109</td> <th>  Prob(JB):          </th> <td>0.000204</td>\n",
       "</tr>\n",
       "<tr>\n",
       "  <th>Kurtosis:</th>      <td> 2.009</td> <th>  Cond. No.          </th> <td>1.76e+16</td>\n",
       "</tr>\n",
       "</table><br/><br/>Warnings:<br/>[1] Standard Errors assume that the covariance matrix of the errors is correctly specified.<br/>[2] The smallest eigenvalue is 2.84e-30. This might indicate that there are<br/>strong multicollinearity problems or that the design matrix is singular."
      ],
      "text/plain": [
       "<class 'statsmodels.iolib.summary.Summary'>\n",
       "\"\"\"\n",
       "                            OLS Regression Results                            \n",
       "==============================================================================\n",
       "Dep. Variable:                   Rank   R-squared:                       0.096\n",
       "Model:                            OLS   Adj. R-squared:                  0.085\n",
       "Method:                 Least Squares   F-statistic:                     8.317\n",
       "Date:                Sat, 22 Sep 2018   Prob (F-statistic):           1.74e-07\n",
       "Time:                        20:21:28   Log-Likelihood:                -761.28\n",
       "No. Observations:                 396   AIC:                             1535.\n",
       "Df Residuals:                     390   BIC:                             1558.\n",
       "Df Model:                           5                                         \n",
       "Covariance Type:            nonrobust                                         \n",
       "==============================================================================\n",
       "                 coef    std err          t      P>|t|      [0.025      0.975]\n",
       "------------------------------------------------------------------------------\n",
       "Intercept      1.7001      0.041     41.711      0.000       1.620       1.780\n",
       "A1             0.5802      0.178      3.250      0.001       0.229       0.931\n",
       "A2             0.5701      0.108      5.270      0.000       0.357       0.783\n",
       "A3             0.5499      0.178      3.081      0.002       0.199       0.901\n",
       "B1             1.3349      0.120     11.104      0.000       1.099       1.571\n",
       "B2             0.3652      0.120      3.038      0.003       0.129       0.602\n",
       "C1             0.4657      0.119      3.905      0.000       0.231       0.700\n",
       "C2             0.8748      0.119      7.335      0.000       0.640       1.109\n",
       "C3             0.3596      0.119      3.016      0.003       0.125       0.594\n",
       "==============================================================================\n",
       "Omnibus:                       74.177   Durbin-Watson:                   1.102\n",
       "Prob(Omnibus):                  0.000   Jarque-Bera (JB):               16.991\n",
       "Skew:                          -0.109   Prob(JB):                     0.000204\n",
       "Kurtosis:                       2.009   Cond. No.                     1.76e+16\n",
       "==============================================================================\n",
       "\n",
       "Warnings:\n",
       "[1] Standard Errors assume that the covariance matrix of the errors is correctly specified.\n",
       "[2] The smallest eigenvalue is 2.84e-30. This might indicate that there are\n",
       "strong multicollinearity problems or that the design matrix is singular.\n",
       "\"\"\""
      ]
     },
     "execution_count": 11,
     "metadata": {},
     "output_type": "execute_result"
    }
   ],
   "source": [
    "# it fitted, thus, we can see the summary of the results now\n",
    "results.summary()"
   ]
  },
  {
   "cell_type": "code",
   "execution_count": 15,
   "metadata": {},
   "outputs": [
    {
     "data": {
      "text/plain": [
       "Intercept    1.700078\n",
       "A1           0.580161\n",
       "A2           0.570060\n",
       "A3           0.549858\n",
       "B1           1.334887\n",
       "B2           0.365190\n",
       "C1           0.465682\n",
       "C2           0.874773\n",
       "C3           0.359622\n",
       "dtype: float64"
      ]
     },
     "execution_count": 15,
     "metadata": {},
     "output_type": "execute_result"
    }
   ],
   "source": [
    "# for conjoint analysis what we are interested in most are the estimated coefficients/parameters\n",
    "# so let's get the parameters and save them as a new variable\n",
    "coef = results.params\n",
    "coef"
   ]
  },
  {
   "cell_type": "code",
   "execution_count": 16,
   "metadata": {},
   "outputs": [
    {
     "data": {
      "text/plain": [
       "pandas.core.series.Series"
      ]
     },
     "execution_count": 16,
     "metadata": {},
     "output_type": "execute_result"
    }
   ],
   "source": [
    "type(coef)"
   ]
  },
  {
   "cell_type": "code",
   "execution_count": 17,
   "metadata": {},
   "outputs": [],
   "source": [
    "# the type of this variable is not a DataFrame. Let's convert it.\n",
    "DFcoef= pd.DataFrame(coef)"
   ]
  },
  {
   "cell_type": "code",
   "execution_count": 18,
   "metadata": {},
   "outputs": [],
   "source": [
    "#once it is a DataFrame, we can already save it and continue to analyse in Excel\n",
    "DFcoef.to_excel(\"coef_conj_survey.xlsx\")"
   ]
  }
 ],
 "metadata": {
  "kernelspec": {
   "display_name": "Python 3",
   "language": "python",
   "name": "python3"
  },
  "language_info": {
   "codemirror_mode": {
    "name": "ipython",
    "version": 3
   },
   "file_extension": ".py",
   "mimetype": "text/x-python",
   "name": "python",
   "nbconvert_exporter": "python",
   "pygments_lexer": "ipython3",
   "version": "3.6.5"
  }
 },
 "nbformat": 4,
 "nbformat_minor": 2
}
