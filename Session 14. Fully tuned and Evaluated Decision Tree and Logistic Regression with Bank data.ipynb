{
 "cells": [
  {
   "cell_type": "markdown",
   "metadata": {},
   "source": [
    "<h1>Session 14. Fully tuned and Evaluated Decision Tree and Logistic Regression with Bank data</h1>\n",
    "<p>This notebook provides an example code of predicting whether the client will subscribe a term deposit or not \n",
    "<br>\n",
    "<b>Dependent variable (y)</b> - has the client subscribed a term deposit? (1-yes, 0-no)\n",
    "\n",
    "<br><br>\n",
    "\n",
    "The general sequence of steps that we will follow is the following:\n",
    "<ol>\n",
    "<li>Describing the data (checking for NAs, 0 variance,summary statistics of our variables, etc)\n",
    "<li>Separate data into numeric and objec datasets, so to be able to create dummy variables\n",
    "<li>Checking for correlations between numeric variables, and see that there are many correlated variables\n",
    "<li>Devide data into training and testing sets \n",
    "<li><b> Model 1. Decision tree without scaling the data</b>\n",
    "<li><b> Model 2. Decision tree with scaled data</b>\n",
    "<li><b> Model 3. Logistic Regression from statsmodel and interpretation of marginal effects</b>\n",
    "<li><b> Model 4. Logistic Regression without scaling the data</b>\n",
    "<li> Predicting for new individual using constructed models\n",
    "<li> Summarising results\n",
    "</ol>\n",
    "</p>"
   ]
  },
  {
   "cell_type": "code",
   "execution_count": 1,
   "metadata": {},
   "outputs": [],
   "source": [
    "import numpy as np\n",
    "import pandas as pd\n",
    "import matplotlib.pyplot as plt\n",
    "import seaborn as sns\n",
    "from sklearn.tree import DecisionTreeClassifier,export_graphviz \n",
    "from sklearn.model_selection import train_test_split\n",
    "from statsmodels.discrete.discrete_model import Logit\n",
    "from sklearn.linear_model import LogisticRegression\n",
    "from sklearn.metrics import confusion_matrix, classification_report\n",
    "from sklearn.model_selection import GridSearchCV\n",
    "from sklearn.metrics import recall_score, roc_auc_score, roc_curve\n",
    "from sklearn.preprocessing import StandardScaler"
   ]
  },
  {
   "cell_type": "code",
   "execution_count": 2,
   "metadata": {},
   "outputs": [],
   "source": [
    "data=pd.read_excel(\"bank.xlsx\")"
   ]
  },
  {
   "cell_type": "code",
   "execution_count": 3,
   "metadata": {},
   "outputs": [
    {
     "name": "stdout",
     "output_type": "stream",
     "text": [
      "<class 'pandas.core.frame.DataFrame'>\n",
      "RangeIndex: 4119 entries, 0 to 4118\n",
      "Data columns (total 21 columns):\n",
      "age               4119 non-null int64\n",
      "job               4119 non-null object\n",
      "marital           4119 non-null object\n",
      "education         4119 non-null object\n",
      "default           4119 non-null object\n",
      "housing           4119 non-null object\n",
      "loan              4119 non-null object\n",
      "contact           4119 non-null object\n",
      "month             4119 non-null object\n",
      "day_of_week       4119 non-null object\n",
      "duration          4119 non-null int64\n",
      "campaign          4119 non-null int64\n",
      "pdays             4119 non-null int64\n",
      "previous          4119 non-null int64\n",
      "poutcome          4119 non-null object\n",
      "emp_var_rate      4119 non-null float64\n",
      "cons_price_idx    4119 non-null float64\n",
      "cons_conf_idx     4119 non-null float64\n",
      "euribor3m         4119 non-null float64\n",
      "nr_employed       4119 non-null float64\n",
      "y                 4119 non-null int64\n",
      "dtypes: float64(5), int64(6), object(10)\n",
      "memory usage: 675.9+ KB\n"
     ]
    }
   ],
   "source": [
    "data.info()"
   ]
  },
  {
   "cell_type": "code",
   "execution_count": 4,
   "metadata": {},
   "outputs": [],
   "source": [
    "data_numeric=data.select_dtypes(exclude=\"object\")\n",
    "data_object=data.select_dtypes(include=\"object\")"
   ]
  },
  {
   "cell_type": "code",
   "execution_count": 5,
   "metadata": {},
   "outputs": [
    {
     "data": {
      "text/plain": [
       "age               False\n",
       "duration          False\n",
       "campaign          False\n",
       "pdays             False\n",
       "previous          False\n",
       "emp_var_rate      False\n",
       "cons_price_idx    False\n",
       "cons_conf_idx     False\n",
       "euribor3m         False\n",
       "nr_employed       False\n",
       "y                 False\n",
       "dtype: bool"
      ]
     },
     "execution_count": 5,
     "metadata": {},
     "output_type": "execute_result"
    }
   ],
   "source": [
    "data_numeric.var()==0"
   ]
  },
  {
   "cell_type": "code",
   "execution_count": 6,
   "metadata": {},
   "outputs": [
    {
     "name": "stdout",
     "output_type": "stream",
     "text": [
      "['blue_collar' 'services' 'admin_' 'entrepreneur' 'self_employed'\n",
      " 'technician' 'management' 'student' 'retired' 'housemaid' 'unemployed'\n",
      " 'unknown']\n",
      "['married' 'single' 'divorced' 'unknown']\n",
      "['basic_9y' 'high_school' 'university_degree' 'professional_course'\n",
      " 'basic_6y' 'basic_4y' 'unknown' 'illiterate']\n",
      "['no' 'unknown' 'yes']\n",
      "['yes' 'no' 'unknown']\n",
      "['no' 'unknown' 'yes']\n",
      "['cellular' 'telephone']\n",
      "['may' 'jun' 'nov' 'sep' 'jul' 'aug' 'mar' 'oct' 'apr' 'dec']\n",
      "['fri' 'wed' 'mon' 'thu' 'tue']\n",
      "['nonexistent' 'failure' 'success']\n"
     ]
    }
   ],
   "source": [
    "for i in data_object.columns:\n",
    "    print(data_object[i].unique())"
   ]
  },
  {
   "cell_type": "code",
   "execution_count": 7,
   "metadata": {},
   "outputs": [
    {
     "data": {
      "text/plain": [
       "job            12\n",
       "marital         4\n",
       "education       8\n",
       "default         3\n",
       "housing         3\n",
       "loan            3\n",
       "contact         2\n",
       "month          10\n",
       "day_of_week     5\n",
       "poutcome        3\n",
       "dtype: int64"
      ]
     },
     "execution_count": 7,
     "metadata": {},
     "output_type": "execute_result"
    }
   ],
   "source": [
    "data_object.nunique()"
   ]
  },
  {
   "cell_type": "code",
   "execution_count": 8,
   "metadata": {},
   "outputs": [],
   "source": [
    "data_dummies=pd.get_dummies(data_object,prefix=data_object.columns,drop_first=True)"
   ]
  },
  {
   "cell_type": "code",
   "execution_count": 9,
   "metadata": {},
   "outputs": [],
   "source": [
    "data_final=data_dummies.join(data_numeric)\n",
    "X=data_final.drop(\"y\",axis=1)\n",
    "Y=data_final.y\n",
    "x_train,x_test,y_train,y_test=train_test_split(X,Y,test_size=0.25,random_state=42)"
   ]
  },
  {
   "cell_type": "code",
   "execution_count": 10,
   "metadata": {},
   "outputs": [
    {
     "data": {
      "text/plain": [
       "0    89.05074\n",
       "1    10.94926\n",
       "Name: y, dtype: float64"
      ]
     },
     "execution_count": 10,
     "metadata": {},
     "output_type": "execute_result"
    }
   ],
   "source": [
    "Y.value_counts()/len(Y)*100"
   ]
  },
  {
   "cell_type": "markdown",
   "metadata": {},
   "source": [
    "# Model 1. Decision Tree with not balanced data"
   ]
  },
  {
   "cell_type": "code",
   "execution_count": 11,
   "metadata": {},
   "outputs": [
    {
     "data": {
      "text/plain": [
       "GridSearchCV(cv=5, error_score='raise',\n",
       "       estimator=DecisionTreeClassifier(class_weight=None, criterion='gini', max_depth=None,\n",
       "            max_features=None, max_leaf_nodes=None,\n",
       "            min_impurity_decrease=0.0, min_impurity_split=None,\n",
       "            min_samples_leaf=1, min_samples_split=2,\n",
       "            min_weight_fraction_leaf=0.0, presort=False, random_state=42,\n",
       "            splitter='best'),\n",
       "       fit_params=None, iid=True, n_jobs=-1,\n",
       "       param_grid={'max_depth': range(10, 16), 'min_samples_leaf': range(50, 150, 10), 'class_weight': ['balanced', None]},\n",
       "       pre_dispatch='2*n_jobs', refit=True, return_train_score='warn',\n",
       "       scoring='roc_auc', verbose=0)"
      ]
     },
     "execution_count": 11,
     "metadata": {},
     "output_type": "execute_result"
    }
   ],
   "source": [
    "gridsearch1=GridSearchCV(DecisionTreeClassifier(random_state=42),param_grid={\"max_depth\":range(10,16),\"min_samples_leaf\":range(50,150,10),\"class_weight\":[\"balanced\", None]},scoring=\"roc_auc\",cv=5,n_jobs=-1)\n",
    "gridsearch1.fit(X,Y)"
   ]
  },
  {
   "cell_type": "code",
   "execution_count": 12,
   "metadata": {},
   "outputs": [
    {
     "name": "stdout",
     "output_type": "stream",
     "text": [
      "{'class_weight': None, 'max_depth': 10, 'min_samples_leaf': 50}\n"
     ]
    }
   ],
   "source": [
    "print(gridsearch1.best_params_)"
   ]
  },
  {
   "cell_type": "code",
   "execution_count": 13,
   "metadata": {},
   "outputs": [
    {
     "data": {
      "text/plain": [
       "DecisionTreeClassifier(class_weight=None, criterion='gini', max_depth=10,\n",
       "            max_features=None, max_leaf_nodes=None,\n",
       "            min_impurity_decrease=0.0, min_impurity_split=None,\n",
       "            min_samples_leaf=70, min_samples_split=2,\n",
       "            min_weight_fraction_leaf=0.0, presort=False, random_state=42,\n",
       "            splitter='best')"
      ]
     },
     "execution_count": 13,
     "metadata": {},
     "output_type": "execute_result"
    }
   ],
   "source": [
    "tree1=DecisionTreeClassifier(class_weight=None,max_depth=10,min_samples_leaf=70,random_state=42)\n",
    "tree1.fit(x_train,y_train)"
   ]
  },
  {
   "cell_type": "code",
   "execution_count": 14,
   "metadata": {},
   "outputs": [
    {
     "name": "stdout",
     "output_type": "stream",
     "text": [
      "roc_auc: 0.7375808106465848\n",
      "train_score: 0.9190676594367109\n",
      "test_score: 0.9067961165048544\n",
      "recall: 0.5229357798165137\n"
     ]
    }
   ],
   "source": [
    "y_pred1=tree1.predict(x_test)\n",
    "print(\"roc_auc:\",roc_auc_score(y_test,y_pred1))\n",
    "print(\"train_score:\",tree1.score(x_train,y_train))\n",
    "print(\"test_score:\",tree1.score(x_test,y_test))\n",
    "print(\"recall:\",recall_score(y_test,y_pred1))"
   ]
  },
  {
   "cell_type": "code",
   "execution_count": 15,
   "metadata": {},
   "outputs": [
    {
     "name": "stdout",
     "output_type": "stream",
     "text": [
      "          0         1\n",
      "0  0.228261  0.771739\n",
      "1  1.000000  0.000000\n",
      "2  1.000000  0.000000\n",
      "3  0.426966  0.573034\n",
      "4  0.903226  0.096774\n",
      "5  1.000000  0.000000\n"
     ]
    }
   ],
   "source": [
    "#printing predicted probabilities for 0 and 1 classes, the probabilities for 1 class will be used to construct ROC curve\n",
    "print(pd.DataFrame(tree1.predict_proba(x_test)[:6,:]))"
   ]
  },
  {
   "cell_type": "code",
   "execution_count": 16,
   "metadata": {},
   "outputs": [
    {
     "name": "stdout",
     "output_type": "stream",
     "text": [
      "[0.         0.01628664 0.0369164  0.04777416 0.0781759  0.09337676\n",
      " 0.12269273 0.1465798  0.18241042 0.22258415 0.247557   0.29315961\n",
      " 0.330076   0.36047774 0.38870793 0.41042345 0.44082519 1.        ] [0.         0.19266055 0.40366972 0.52293578 0.6146789  0.73394495\n",
      " 0.78899083 0.80733945 0.85321101 0.93577982 0.96330275 0.98165138\n",
      " 0.98165138 0.98165138 0.99082569 0.99082569 0.99082569 1.        ]\n"
     ]
    }
   ],
   "source": [
    "#ROC curve\n",
    "FPR,TPR,tresholds=roc_curve(y_test,tree1.predict_proba(x_test)[:,1])\n",
    "print(FPR,TPR)"
   ]
  },
  {
   "cell_type": "code",
   "execution_count": 17,
   "metadata": {},
   "outputs": [
    {
     "data": {
      "image/png": "[encoded data removed]",
      "text/plain": [
       "<Figure size 432x288 with 1 Axes>"
      ]
     },
     "metadata": {},
     "output_type": "display_data"
    }
   ],
   "source": [
    "plt.plot(FPR,TPR,label=\"ROC AUC=%f\"%roc_auc_score(y_test,y_pred1))\n",
    "plt.plot([0,1],[0,1])\n",
    "plt.legend(loc=\"lower right\")\n",
    "plt.xlabel(\"FPR\")\n",
    "plt.ylabel(\"TPR\")\n",
    "plt.show()"
   ]
  },
  {
   "cell_type": "markdown",
   "metadata": {},
   "source": [
    "# Model 2. Decision Tree with scaled data"
   ]
  },
  {
   "cell_type": "code",
   "execution_count": 18,
   "metadata": {},
   "outputs": [],
   "source": [
    "#let's scale data\n",
    "scaler=StandardScaler()\n",
    "data_numeric_new=data_numeric.drop(\"y\",axis=1)\n",
    "scaler.fit(data_numeric_new)\n",
    "data_numeric_scaled=pd.DataFrame(scaler.transform(data_numeric_new),columns=data_numeric_new.columns)"
   ]
  },
  {
   "cell_type": "code",
   "execution_count": 19,
   "metadata": {},
   "outputs": [
    {
     "data": {
      "text/html": [
       "<div>\n",
       "<style scoped>\n",
       "    .dataframe tbody tr th:only-of-type {\n",
       "        vertical-align: middle;\n",
       "    }\n",
       "\n",
       "    .dataframe tbody tr th {\n",
       "        vertical-align: top;\n",
       "    }\n",
       "\n",
       "    .dataframe thead th {\n",
       "        text-align: right;\n",
       "    }\n",
       "</style>\n",
       "<table border=\"1\" class=\"dataframe\">\n",
       "  <thead>\n",
       "    <tr style=\"text-align: right;\">\n",
       "      <th></th>\n",
       "      <th>age</th>\n",
       "      <th>duration</th>\n",
       "      <th>campaign</th>\n",
       "      <th>pdays</th>\n",
       "      <th>previous</th>\n",
       "      <th>emp_var_rate</th>\n",
       "      <th>cons_price_idx</th>\n",
       "      <th>cons_conf_idx</th>\n",
       "      <th>euribor3m</th>\n",
       "      <th>nr_employed</th>\n",
       "    </tr>\n",
       "  </thead>\n",
       "  <tbody>\n",
       "    <tr>\n",
       "      <th>0</th>\n",
       "      <td>-0.980752</td>\n",
       "      <td>0.903952</td>\n",
       "      <td>-0.209228</td>\n",
       "      <td>0.201031</td>\n",
       "      <td>-0.351356</td>\n",
       "      <td>-1.206054</td>\n",
       "      <td>-1.185448</td>\n",
       "      <td>-1.240939</td>\n",
       "      <td>-1.331707</td>\n",
       "      <td>-0.914779</td>\n",
       "    </tr>\n",
       "    <tr>\n",
       "      <th>1</th>\n",
       "      <td>-0.107991</td>\n",
       "      <td>0.350300</td>\n",
       "      <td>0.569634</td>\n",
       "      <td>0.201031</td>\n",
       "      <td>-0.351356</td>\n",
       "      <td>0.649441</td>\n",
       "      <td>0.715193</td>\n",
       "      <td>0.892269</td>\n",
       "      <td>0.711698</td>\n",
       "      <td>0.332862</td>\n",
       "    </tr>\n",
       "    <tr>\n",
       "      <th>2</th>\n",
       "      <td>-1.465619</td>\n",
       "      <td>-0.116966</td>\n",
       "      <td>-0.598660</td>\n",
       "      <td>0.201031</td>\n",
       "      <td>-0.351356</td>\n",
       "      <td>0.841389</td>\n",
       "      <td>1.528273</td>\n",
       "      <td>-0.283172</td>\n",
       "      <td>0.773427</td>\n",
       "      <td>0.836535</td>\n",
       "    </tr>\n",
       "    <tr>\n",
       "      <th>3</th>\n",
       "      <td>-0.204965</td>\n",
       "      <td>-0.941553</td>\n",
       "      <td>0.180203</td>\n",
       "      <td>0.201031</td>\n",
       "      <td>-0.351356</td>\n",
       "      <td>0.841389</td>\n",
       "      <td>1.528273</td>\n",
       "      <td>-0.283172</td>\n",
       "      <td>0.771697</td>\n",
       "      <td>0.836535</td>\n",
       "    </tr>\n",
       "    <tr>\n",
       "      <th>4</th>\n",
       "      <td>0.667795</td>\n",
       "      <td>-0.780563</td>\n",
       "      <td>-0.598660</td>\n",
       "      <td>0.201031</td>\n",
       "      <td>-0.351356</td>\n",
       "      <td>-0.118350</td>\n",
       "      <td>-0.655478</td>\n",
       "      <td>-0.326707</td>\n",
       "      <td>0.328632</td>\n",
       "      <td>0.398028</td>\n",
       "    </tr>\n",
       "  </tbody>\n",
       "</table>\n",
       "</div>"
      ],
      "text/plain": [
       "        age  duration  campaign     pdays  previous  emp_var_rate  \\\n",
       "0 -0.980752  0.903952 -0.209228  0.201031 -0.351356     -1.206054   \n",
       "1 -0.107991  0.350300  0.569634  0.201031 -0.351356      0.649441   \n",
       "2 -1.465619 -0.116966 -0.598660  0.201031 -0.351356      0.841389   \n",
       "3 -0.204965 -0.941553  0.180203  0.201031 -0.351356      0.841389   \n",
       "4  0.667795 -0.780563 -0.598660  0.201031 -0.351356     -0.118350   \n",
       "\n",
       "   cons_price_idx  cons_conf_idx  euribor3m  nr_employed  \n",
       "0       -1.185448      -1.240939  -1.331707    -0.914779  \n",
       "1        0.715193       0.892269   0.711698     0.332862  \n",
       "2        1.528273      -0.283172   0.773427     0.836535  \n",
       "3        1.528273      -0.283172   0.771697     0.836535  \n",
       "4       -0.655478      -0.326707   0.328632     0.398028  "
      ]
     },
     "execution_count": 19,
     "metadata": {},
     "output_type": "execute_result"
    }
   ],
   "source": [
    "data_numeric_scaled.head()"
   ]
  },
  {
   "cell_type": "code",
   "execution_count": 20,
   "metadata": {},
   "outputs": [],
   "source": [
    "X_scaled=data_numeric_scaled.join(data_dummies)\n",
    "x_train_scaled,x_test_scaled,y_train,y_test=train_test_split(X_scaled,Y,test_size=0.25,random_state=42)"
   ]
  },
  {
   "cell_type": "code",
   "execution_count": 21,
   "metadata": {},
   "outputs": [
    {
     "name": "stdout",
     "output_type": "stream",
     "text": [
      "<class 'pandas.core.frame.DataFrame'>\n",
      "RangeIndex: 4119 entries, 0 to 4118\n",
      "Data columns (total 53 columns):\n",
      "age                              4119 non-null float64\n",
      "duration                         4119 non-null float64\n",
      "campaign                         4119 non-null float64\n",
      "pdays                            4119 non-null float64\n",
      "previous                         4119 non-null float64\n",
      "emp_var_rate                     4119 non-null float64\n",
      "cons_price_idx                   4119 non-null float64\n",
      "cons_conf_idx                    4119 non-null float64\n",
      "euribor3m                        4119 non-null float64\n",
      "nr_employed                      4119 non-null float64\n",
      "job_blue_collar                  4119 non-null uint8\n",
      "job_entrepreneur                 4119 non-null uint8\n",
      "job_housemaid                    4119 non-null uint8\n",
      "job_management                   4119 non-null uint8\n",
      "job_retired                      4119 non-null uint8\n",
      "job_self_employed                4119 non-null uint8\n",
      "job_services                     4119 non-null uint8\n",
      "job_student                      4119 non-null uint8\n",
      "job_technician                   4119 non-null uint8\n",
      "job_unemployed                   4119 non-null uint8\n",
      "job_unknown                      4119 non-null uint8\n",
      "marital_married                  4119 non-null uint8\n",
      "marital_single                   4119 non-null uint8\n",
      "marital_unknown                  4119 non-null uint8\n",
      "education_basic_6y               4119 non-null uint8\n",
      "education_basic_9y               4119 non-null uint8\n",
      "education_high_school            4119 non-null uint8\n",
      "education_illiterate             4119 non-null uint8\n",
      "education_professional_course    4119 non-null uint8\n",
      "education_university_degree      4119 non-null uint8\n",
      "education_unknown                4119 non-null uint8\n",
      "default_unknown                  4119 non-null uint8\n",
      "default_yes                      4119 non-null uint8\n",
      "housing_unknown                  4119 non-null uint8\n",
      "housing_yes                      4119 non-null uint8\n",
      "loan_unknown                     4119 non-null uint8\n",
      "loan_yes                         4119 non-null uint8\n",
      "contact_telephone                4119 non-null uint8\n",
      "month_aug                        4119 non-null uint8\n",
      "month_dec                        4119 non-null uint8\n",
      "month_jul                        4119 non-null uint8\n",
      "month_jun                        4119 non-null uint8\n",
      "month_mar                        4119 non-null uint8\n",
      "month_may                        4119 non-null uint8\n",
      "month_nov                        4119 non-null uint8\n",
      "month_oct                        4119 non-null uint8\n",
      "month_sep                        4119 non-null uint8\n",
      "day_of_week_mon                  4119 non-null uint8\n",
      "day_of_week_thu                  4119 non-null uint8\n",
      "day_of_week_tue                  4119 non-null uint8\n",
      "day_of_week_wed                  4119 non-null uint8\n",
      "poutcome_nonexistent             4119 non-null uint8\n",
      "poutcome_success                 4119 non-null uint8\n",
      "dtypes: float64(10), uint8(43)\n",
      "memory usage: 494.8 KB\n"
     ]
    }
   ],
   "source": [
    "X_scaled.info()"
   ]
  },
  {
   "cell_type": "code",
   "execution_count": 22,
   "metadata": {},
   "outputs": [
    {
     "data": {
      "text/plain": [
       "GridSearchCV(cv=5, error_score='raise',\n",
       "       estimator=DecisionTreeClassifier(class_weight=None, criterion='gini', max_depth=None,\n",
       "            max_features=None, max_leaf_nodes=None,\n",
       "            min_impurity_decrease=0.0, min_impurity_split=None,\n",
       "            min_samples_leaf=1, min_samples_split=2,\n",
       "            min_weight_fraction_leaf=0.0, presort=False, random_state=42,\n",
       "            splitter='best'),\n",
       "       fit_params=None, iid=True, n_jobs=-1,\n",
       "       param_grid={'max_depth': range(10, 16), 'min_samples_leaf': range(50, 150, 10), 'class_weight': ['balanced', None]},\n",
       "       pre_dispatch='2*n_jobs', refit=True, return_train_score='warn',\n",
       "       scoring=None, verbose=0)"
      ]
     },
     "execution_count": 22,
     "metadata": {},
     "output_type": "execute_result"
    }
   ],
   "source": [
    "gridsearch2=GridSearchCV(DecisionTreeClassifier(random_state=42),param_grid={\"max_depth\":range(10,16),\"min_samples_leaf\":range(50,150,10),\"class_weight\":[\"balanced\", None]},cv=5,n_jobs=-1)\n",
    "gridsearch2.fit(X_scaled,Y)"
   ]
  },
  {
   "cell_type": "code",
   "execution_count": 23,
   "metadata": {},
   "outputs": [
    {
     "name": "stdout",
     "output_type": "stream",
     "text": [
      "{'class_weight': None, 'max_depth': 10, 'min_samples_leaf': 50}\n"
     ]
    }
   ],
   "source": [
    "print(gridsearch1.best_params_)"
   ]
  },
  {
   "cell_type": "code",
   "execution_count": 24,
   "metadata": {},
   "outputs": [
    {
     "data": {
      "text/plain": [
       "DecisionTreeClassifier(class_weight=None, criterion='gini', max_depth=10,\n",
       "            max_features=None, max_leaf_nodes=None,\n",
       "            min_impurity_decrease=0.0, min_impurity_split=None,\n",
       "            min_samples_leaf=70, min_samples_split=2,\n",
       "            min_weight_fraction_leaf=0.0, presort=False, random_state=42,\n",
       "            splitter='best')"
      ]
     },
     "execution_count": 24,
     "metadata": {},
     "output_type": "execute_result"
    }
   ],
   "source": [
    "tree2=DecisionTreeClassifier(class_weight=None,max_depth=10,min_samples_leaf=70,random_state=42)\n",
    "tree2.fit(x_train_scaled,y_train)"
   ]
  },
  {
   "cell_type": "code",
   "execution_count": 25,
   "metadata": {},
   "outputs": [
    {
     "name": "stdout",
     "output_type": "stream",
     "text": [
      "roc_auc: 0.7375808106465848\n",
      "train_score: 0.9190676594367109\n",
      "test_score: 0.9067961165048544\n",
      "recall: 0.5229357798165137\n"
     ]
    }
   ],
   "source": [
    "y_pred2=tree2.predict(x_test_scaled)\n",
    "print(\"roc_auc:\",roc_auc_score(y_test,y_pred2))\n",
    "print(\"train_score:\",tree2.score(x_train_scaled,y_train))\n",
    "print(\"test_score:\",tree2.score(x_test_scaled,y_test))\n",
    "print(\"recall:\",recall_score(y_test,y_pred2))"
   ]
  },
  {
   "cell_type": "markdown",
   "metadata": {},
   "source": [
    "<b>No difference beween models with scaled and not scaled data.</b>"
   ]
  },
  {
   "cell_type": "markdown",
   "metadata": {},
   "source": [
    "# Model 3. Logit from statsmodel, interpreting results"
   ]
  },
  {
   "cell_type": "code",
   "execution_count": 26,
   "metadata": {},
   "outputs": [
    {
     "data": {
      "text/plain": [
       "'y~job_blue_collar+job_entrepreneur+job_housemaid+job_management+job_retired+job_self_employed+job_services+job_student+job_technician+job_unemployed+job_unknown+marital_married+marital_single+marital_unknown+education_basic_6y+education_basic_9y+education_high_school+education_illiterate+education_professional_course+education_university_degree+education_unknown+default_unknown+default_yes+housing_unknown+housing_yes+loan_unknown+loan_yes+contact_telephone+month_aug+month_dec+month_jul+month_jun+month_mar+month_may+month_nov+month_oct+month_sep+day_of_week_mon+day_of_week_thu+day_of_week_tue+day_of_week_wed+poutcome_nonexistent+poutcome_success+age+duration+campaign+pdays+previous+emp_var_rate+cons_price_idx+cons_conf_idx+euribor3m+nr_employed'"
      ]
     },
     "execution_count": 26,
     "metadata": {},
     "output_type": "execute_result"
    }
   ],
   "source": [
    "formula=\"y~\"+\"+\".join(X.columns)\n",
    "formula"
   ]
  },
  {
   "cell_type": "code",
   "execution_count": 27,
   "metadata": {},
   "outputs": [
    {
     "name": "stdout",
     "output_type": "stream",
     "text": [
      "Optimization terminated successfully.\n",
      "         Current function value: 0.193937\n",
      "         Iterations 17\n"
     ]
    }
   ],
   "source": [
    "logit1=Logit.from_formula(formula=formula,data=data_final).fit()"
   ]
  },
  {
   "cell_type": "code",
   "execution_count": 28,
   "metadata": {},
   "outputs": [
    {
     "data": {
      "text/html": [
       "<table class=\"simpletable\">\n",
       "<caption>Logit Regression Results</caption>\n",
       "<tr>\n",
       "  <th>Dep. Variable:</th>         <td>y</td>        <th>  No. Observations:  </th>   <td>  4119</td>  \n",
       "</tr>\n",
       "<tr>\n",
       "  <th>Model:</th>               <td>Logit</td>      <th>  Df Residuals:      </th>   <td>  4066</td>  \n",
       "</tr>\n",
       "<tr>\n",
       "  <th>Method:</th>               <td>MLE</td>       <th>  Df Model:          </th>   <td>    52</td>  \n",
       "</tr>\n",
       "<tr>\n",
       "  <th>Date:</th>          <td>Wed, 21 Nov 2018</td> <th>  Pseudo R-squ.:     </th>   <td>0.4386</td>  \n",
       "</tr>\n",
       "<tr>\n",
       "  <th>Time:</th>              <td>21:38:08</td>     <th>  Log-Likelihood:    </th>  <td> -798.83</td> \n",
       "</tr>\n",
       "<tr>\n",
       "  <th>converged:</th>           <td>True</td>       <th>  LL-Null:           </th>  <td> -1422.9</td> \n",
       "</tr>\n",
       "<tr>\n",
       "  <th> </th>                      <td> </td>        <th>  LLR p-value:       </th> <td>4.652e-227</td>\n",
       "</tr>\n",
       "</table>\n",
       "<table class=\"simpletable\">\n",
       "<tr>\n",
       "                <td></td>                   <th>coef</th>     <th>std err</th>      <th>z</th>      <th>P>|z|</th>  <th>[0.025</th>    <th>0.975]</th>  \n",
       "</tr>\n",
       "<tr>\n",
       "  <th>Intercept</th>                     <td> -144.7479</td> <td>  122.785</td> <td>   -1.179</td> <td> 0.238</td> <td> -385.402</td> <td>   95.906</td>\n",
       "</tr>\n",
       "<tr>\n",
       "  <th>job_blue_collar</th>               <td>   -0.2269</td> <td>    0.271</td> <td>   -0.839</td> <td> 0.402</td> <td>   -0.757</td> <td>    0.303</td>\n",
       "</tr>\n",
       "<tr>\n",
       "  <th>job_entrepreneur</th>              <td>   -0.7740</td> <td>    0.499</td> <td>   -1.552</td> <td> 0.121</td> <td>   -1.752</td> <td>    0.204</td>\n",
       "</tr>\n",
       "<tr>\n",
       "  <th>job_housemaid</th>                 <td>    0.2477</td> <td>    0.446</td> <td>    0.555</td> <td> 0.579</td> <td>   -0.627</td> <td>    1.122</td>\n",
       "</tr>\n",
       "<tr>\n",
       "  <th>job_management</th>                <td>   -0.3136</td> <td>    0.285</td> <td>   -1.099</td> <td> 0.272</td> <td>   -0.873</td> <td>    0.246</td>\n",
       "</tr>\n",
       "<tr>\n",
       "  <th>job_retired</th>                   <td>   -0.2069</td> <td>    0.346</td> <td>   -0.597</td> <td> 0.550</td> <td>   -0.886</td> <td>    0.472</td>\n",
       "</tr>\n",
       "<tr>\n",
       "  <th>job_self_employed</th>             <td>   -0.7305</td> <td>    0.416</td> <td>   -1.755</td> <td> 0.079</td> <td>   -1.547</td> <td>    0.086</td>\n",
       "</tr>\n",
       "<tr>\n",
       "  <th>job_services</th>                  <td>    0.1251</td> <td>    0.282</td> <td>    0.443</td> <td> 0.657</td> <td>   -0.428</td> <td>    0.678</td>\n",
       "</tr>\n",
       "<tr>\n",
       "  <th>job_student</th>                   <td>   -0.0737</td> <td>    0.398</td> <td>   -0.185</td> <td> 0.853</td> <td>   -0.854</td> <td>    0.707</td>\n",
       "</tr>\n",
       "<tr>\n",
       "  <th>job_technician</th>                <td>    0.2209</td> <td>    0.224</td> <td>    0.985</td> <td> 0.325</td> <td>   -0.219</td> <td>    0.661</td>\n",
       "</tr>\n",
       "<tr>\n",
       "  <th>job_unemployed</th>                <td>    0.3362</td> <td>    0.391</td> <td>    0.859</td> <td> 0.390</td> <td>   -0.430</td> <td>    1.103</td>\n",
       "</tr>\n",
       "<tr>\n",
       "  <th>job_unknown</th>                   <td>   -0.4624</td> <td>    0.725</td> <td>   -0.637</td> <td> 0.524</td> <td>   -1.884</td> <td>    0.959</td>\n",
       "</tr>\n",
       "<tr>\n",
       "  <th>marital_married</th>               <td>    0.2782</td> <td>    0.246</td> <td>    1.132</td> <td> 0.257</td> <td>   -0.203</td> <td>    0.760</td>\n",
       "</tr>\n",
       "<tr>\n",
       "  <th>marital_single</th>                <td>    0.3277</td> <td>    0.280</td> <td>    1.171</td> <td> 0.241</td> <td>   -0.221</td> <td>    0.876</td>\n",
       "</tr>\n",
       "<tr>\n",
       "  <th>marital_unknown</th>               <td>    0.2769</td> <td>    1.145</td> <td>    0.242</td> <td> 0.809</td> <td>   -1.966</td> <td>    2.520</td>\n",
       "</tr>\n",
       "<tr>\n",
       "  <th>education_basic_6y</th>            <td>    0.3219</td> <td>    0.408</td> <td>    0.789</td> <td> 0.430</td> <td>   -0.477</td> <td>    1.121</td>\n",
       "</tr>\n",
       "<tr>\n",
       "  <th>education_basic_9y</th>            <td>    0.2012</td> <td>    0.321</td> <td>    0.626</td> <td> 0.531</td> <td>   -0.429</td> <td>    0.831</td>\n",
       "</tr>\n",
       "<tr>\n",
       "  <th>education_high_school</th>         <td>    0.1515</td> <td>    0.307</td> <td>    0.494</td> <td> 0.621</td> <td>   -0.449</td> <td>    0.752</td>\n",
       "</tr>\n",
       "<tr>\n",
       "  <th>education_illiterate</th>          <td> -133.4699</td> <td> 2.78e+29</td> <td>-4.81e-28</td> <td> 1.000</td> <td>-5.44e+29</td> <td> 5.44e+29</td>\n",
       "</tr>\n",
       "<tr>\n",
       "  <th>education_professional_course</th> <td>    0.1169</td> <td>    0.336</td> <td>    0.348</td> <td> 0.728</td> <td>   -0.541</td> <td>    0.774</td>\n",
       "</tr>\n",
       "<tr>\n",
       "  <th>education_university_degree</th>   <td>    0.3189</td> <td>    0.309</td> <td>    1.033</td> <td> 0.302</td> <td>   -0.286</td> <td>    0.924</td>\n",
       "</tr>\n",
       "<tr>\n",
       "  <th>education_unknown</th>             <td>    0.2426</td> <td>    0.388</td> <td>    0.626</td> <td> 0.532</td> <td>   -0.518</td> <td>    1.003</td>\n",
       "</tr>\n",
       "<tr>\n",
       "  <th>default_unknown</th>               <td>    0.1453</td> <td>    0.210</td> <td>    0.692</td> <td> 0.489</td> <td>   -0.266</td> <td>    0.557</td>\n",
       "</tr>\n",
       "<tr>\n",
       "  <th>default_yes</th>                   <td> -130.3678</td> <td> 2.19e+29</td> <td>-5.96e-28</td> <td> 1.000</td> <td>-4.29e+29</td> <td> 4.29e+29</td>\n",
       "</tr>\n",
       "<tr>\n",
       "  <th>housing_unknown</th>               <td>   -0.2798</td> <td> 4.87e+07</td> <td>-5.75e-09</td> <td> 1.000</td> <td>-9.54e+07</td> <td> 9.54e+07</td>\n",
       "</tr>\n",
       "<tr>\n",
       "  <th>housing_yes</th>                   <td>   -0.0673</td> <td>    0.138</td> <td>   -0.489</td> <td> 0.625</td> <td>   -0.337</td> <td>    0.202</td>\n",
       "</tr>\n",
       "<tr>\n",
       "  <th>loan_unknown</th>                  <td>   -0.2798</td> <td> 4.87e+07</td> <td>-5.75e-09</td> <td> 1.000</td> <td>-9.54e+07</td> <td> 9.54e+07</td>\n",
       "</tr>\n",
       "<tr>\n",
       "  <th>loan_yes</th>                      <td>   -0.1144</td> <td>    0.187</td> <td>   -0.612</td> <td> 0.541</td> <td>   -0.481</td> <td>    0.252</td>\n",
       "</tr>\n",
       "<tr>\n",
       "  <th>contact_telephone</th>             <td>   -0.9556</td> <td>    0.278</td> <td>   -3.432</td> <td> 0.001</td> <td>   -1.501</td> <td>   -0.410</td>\n",
       "</tr>\n",
       "<tr>\n",
       "  <th>month_aug</th>                     <td>    0.4943</td> <td>    0.414</td> <td>    1.194</td> <td> 0.232</td> <td>   -0.317</td> <td>    1.306</td>\n",
       "</tr>\n",
       "<tr>\n",
       "  <th>month_dec</th>                     <td>    0.8877</td> <td>    0.676</td> <td>    1.313</td> <td> 0.189</td> <td>   -0.437</td> <td>    2.213</td>\n",
       "</tr>\n",
       "<tr>\n",
       "  <th>month_jul</th>                     <td>    0.0939</td> <td>    0.362</td> <td>    0.260</td> <td> 0.795</td> <td>   -0.615</td> <td>    0.803</td>\n",
       "</tr>\n",
       "<tr>\n",
       "  <th>month_jun</th>                     <td>    0.5517</td> <td>    0.434</td> <td>    1.270</td> <td> 0.204</td> <td>   -0.299</td> <td>    1.403</td>\n",
       "</tr>\n",
       "<tr>\n",
       "  <th>month_mar</th>                     <td>    2.4742</td> <td>    0.518</td> <td>    4.775</td> <td> 0.000</td> <td>    1.459</td> <td>    3.490</td>\n",
       "</tr>\n",
       "<tr>\n",
       "  <th>month_may</th>                     <td>   -0.3228</td> <td>    0.301</td> <td>   -1.074</td> <td> 0.283</td> <td>   -0.912</td> <td>    0.267</td>\n",
       "</tr>\n",
       "<tr>\n",
       "  <th>month_nov</th>                     <td>   -0.3241</td> <td>    0.419</td> <td>   -0.774</td> <td> 0.439</td> <td>   -1.145</td> <td>    0.497</td>\n",
       "</tr>\n",
       "<tr>\n",
       "  <th>month_oct</th>                     <td>    0.2817</td> <td>    0.528</td> <td>    0.534</td> <td> 0.593</td> <td>   -0.752</td> <td>    1.316</td>\n",
       "</tr>\n",
       "<tr>\n",
       "  <th>month_sep</th>                     <td>    0.1540</td> <td>    0.597</td> <td>    0.258</td> <td> 0.796</td> <td>   -1.015</td> <td>    1.323</td>\n",
       "</tr>\n",
       "<tr>\n",
       "  <th>day_of_week_mon</th>               <td>    0.1425</td> <td>    0.213</td> <td>    0.669</td> <td> 0.504</td> <td>   -0.275</td> <td>    0.560</td>\n",
       "</tr>\n",
       "<tr>\n",
       "  <th>day_of_week_thu</th>               <td>    0.1023</td> <td>    0.215</td> <td>    0.475</td> <td> 0.635</td> <td>   -0.320</td> <td>    0.524</td>\n",
       "</tr>\n",
       "<tr>\n",
       "  <th>day_of_week_tue</th>               <td>    0.0449</td> <td>    0.219</td> <td>    0.205</td> <td> 0.838</td> <td>   -0.384</td> <td>    0.474</td>\n",
       "</tr>\n",
       "<tr>\n",
       "  <th>day_of_week_wed</th>               <td>    0.3126</td> <td>    0.222</td> <td>    1.407</td> <td> 0.159</td> <td>   -0.123</td> <td>    0.748</td>\n",
       "</tr>\n",
       "<tr>\n",
       "  <th>poutcome_nonexistent</th>          <td>    0.5792</td> <td>    0.295</td> <td>    1.964</td> <td> 0.050</td> <td>    0.001</td> <td>    1.157</td>\n",
       "</tr>\n",
       "<tr>\n",
       "  <th>poutcome_success</th>              <td>    1.3273</td> <td>    0.635</td> <td>    2.089</td> <td> 0.037</td> <td>    0.082</td> <td>    2.572</td>\n",
       "</tr>\n",
       "<tr>\n",
       "  <th>age</th>                           <td>    0.0087</td> <td>    0.008</td> <td>    1.065</td> <td> 0.287</td> <td>   -0.007</td> <td>    0.025</td>\n",
       "</tr>\n",
       "<tr>\n",
       "  <th>duration</th>                      <td>    0.0053</td> <td>    0.000</td> <td>   20.167</td> <td> 0.000</td> <td>    0.005</td> <td>    0.006</td>\n",
       "</tr>\n",
       "<tr>\n",
       "  <th>campaign</th>                      <td>   -0.0999</td> <td>    0.046</td> <td>   -2.175</td> <td> 0.030</td> <td>   -0.190</td> <td>   -0.010</td>\n",
       "</tr>\n",
       "<tr>\n",
       "  <th>pdays</th>                         <td>   -0.0005</td> <td>    0.001</td> <td>   -0.769</td> <td> 0.442</td> <td>   -0.002</td> <td>    0.001</td>\n",
       "</tr>\n",
       "<tr>\n",
       "  <th>previous</th>                      <td>    0.1213</td> <td>    0.171</td> <td>    0.708</td> <td> 0.479</td> <td>   -0.215</td> <td>    0.457</td>\n",
       "</tr>\n",
       "<tr>\n",
       "  <th>emp_var_rate</th>                  <td>   -0.8653</td> <td>    0.465</td> <td>   -1.861</td> <td> 0.063</td> <td>   -1.777</td> <td>    0.046</td>\n",
       "</tr>\n",
       "<tr>\n",
       "  <th>cons_price_idx</th>                <td>    1.4090</td> <td>    0.811</td> <td>    1.738</td> <td> 0.082</td> <td>   -0.180</td> <td>    2.998</td>\n",
       "</tr>\n",
       "<tr>\n",
       "  <th>cons_conf_idx</th>                 <td>    0.0644</td> <td>    0.026</td> <td>    2.446</td> <td> 0.014</td> <td>    0.013</td> <td>    0.116</td>\n",
       "</tr>\n",
       "<tr>\n",
       "  <th>euribor3m</th>                     <td>   -0.1610</td> <td>    0.417</td> <td>   -0.386</td> <td> 0.700</td> <td>   -0.979</td> <td>    0.657</td>\n",
       "</tr>\n",
       "<tr>\n",
       "  <th>nr_employed</th>                   <td>    0.0022</td> <td>    0.010</td> <td>    0.217</td> <td> 0.828</td> <td>   -0.017</td> <td>    0.022</td>\n",
       "</tr>\n",
       "</table>"
      ],
      "text/plain": [
       "<class 'statsmodels.iolib.summary.Summary'>\n",
       "\"\"\"\n",
       "                           Logit Regression Results                           \n",
       "==============================================================================\n",
       "Dep. Variable:                      y   No. Observations:                 4119\n",
       "Model:                          Logit   Df Residuals:                     4066\n",
       "Method:                           MLE   Df Model:                           52\n",
       "Date:                Wed, 21 Nov 2018   Pseudo R-squ.:                  0.4386\n",
       "Time:                        21:38:08   Log-Likelihood:                -798.83\n",
       "converged:                       True   LL-Null:                       -1422.9\n",
       "                                        LLR p-value:                4.652e-227\n",
       "=================================================================================================\n",
       "                                    coef    std err          z      P>|z|      [0.025      0.975]\n",
       "-------------------------------------------------------------------------------------------------\n",
       "Intercept                      -144.7479    122.785     -1.179      0.238    -385.402      95.906\n",
       "job_blue_collar                  -0.2269      0.271     -0.839      0.402      -0.757       0.303\n",
       "job_entrepreneur                 -0.7740      0.499     -1.552      0.121      -1.752       0.204\n",
       "job_housemaid                     0.2477      0.446      0.555      0.579      -0.627       1.122\n",
       "job_management                   -0.3136      0.285     -1.099      0.272      -0.873       0.246\n",
       "job_retired                      -0.2069      0.346     -0.597      0.550      -0.886       0.472\n",
       "job_self_employed                -0.7305      0.416     -1.755      0.079      -1.547       0.086\n",
       "job_services                      0.1251      0.282      0.443      0.657      -0.428       0.678\n",
       "job_student                      -0.0737      0.398     -0.185      0.853      -0.854       0.707\n",
       "job_technician                    0.2209      0.224      0.985      0.325      -0.219       0.661\n",
       "job_unemployed                    0.3362      0.391      0.859      0.390      -0.430       1.103\n",
       "job_unknown                      -0.4624      0.725     -0.637      0.524      -1.884       0.959\n",
       "marital_married                   0.2782      0.246      1.132      0.257      -0.203       0.760\n",
       "marital_single                    0.3277      0.280      1.171      0.241      -0.221       0.876\n",
       "marital_unknown                   0.2769      1.145      0.242      0.809      -1.966       2.520\n",
       "education_basic_6y                0.3219      0.408      0.789      0.430      -0.477       1.121\n",
       "education_basic_9y                0.2012      0.321      0.626      0.531      -0.429       0.831\n",
       "education_high_school             0.1515      0.307      0.494      0.621      -0.449       0.752\n",
       "education_illiterate           -133.4699   2.78e+29  -4.81e-28      1.000   -5.44e+29    5.44e+29\n",
       "education_professional_course     0.1169      0.336      0.348      0.728      -0.541       0.774\n",
       "education_university_degree       0.3189      0.309      1.033      0.302      -0.286       0.924\n",
       "education_unknown                 0.2426      0.388      0.626      0.532      -0.518       1.003\n",
       "default_unknown                   0.1453      0.210      0.692      0.489      -0.266       0.557\n",
       "default_yes                    -130.3678   2.19e+29  -5.96e-28      1.000   -4.29e+29    4.29e+29\n",
       "housing_unknown                  -0.2798   4.87e+07  -5.75e-09      1.000   -9.54e+07    9.54e+07\n",
       "housing_yes                      -0.0673      0.138     -0.489      0.625      -0.337       0.202\n",
       "loan_unknown                     -0.2798   4.87e+07  -5.75e-09      1.000   -9.54e+07    9.54e+07\n",
       "loan_yes                         -0.1144      0.187     -0.612      0.541      -0.481       0.252\n",
       "contact_telephone                -0.9556      0.278     -3.432      0.001      -1.501      -0.410\n",
       "month_aug                         0.4943      0.414      1.194      0.232      -0.317       1.306\n",
       "month_dec                         0.8877      0.676      1.313      0.189      -0.437       2.213\n",
       "month_jul                         0.0939      0.362      0.260      0.795      -0.615       0.803\n",
       "month_jun                         0.5517      0.434      1.270      0.204      -0.299       1.403\n",
       "month_mar                         2.4742      0.518      4.775      0.000       1.459       3.490\n",
       "month_may                        -0.3228      0.301     -1.074      0.283      -0.912       0.267\n",
       "month_nov                        -0.3241      0.419     -0.774      0.439      -1.145       0.497\n",
       "month_oct                         0.2817      0.528      0.534      0.593      -0.752       1.316\n",
       "month_sep                         0.1540      0.597      0.258      0.796      -1.015       1.323\n",
       "day_of_week_mon                   0.1425      0.213      0.669      0.504      -0.275       0.560\n",
       "day_of_week_thu                   0.1023      0.215      0.475      0.635      -0.320       0.524\n",
       "day_of_week_tue                   0.0449      0.219      0.205      0.838      -0.384       0.474\n",
       "day_of_week_wed                   0.3126      0.222      1.407      0.159      -0.123       0.748\n",
       "poutcome_nonexistent              0.5792      0.295      1.964      0.050       0.001       1.157\n",
       "poutcome_success                  1.3273      0.635      2.089      0.037       0.082       2.572\n",
       "age                               0.0087      0.008      1.065      0.287      -0.007       0.025\n",
       "duration                          0.0053      0.000     20.167      0.000       0.005       0.006\n",
       "campaign                         -0.0999      0.046     -2.175      0.030      -0.190      -0.010\n",
       "pdays                            -0.0005      0.001     -0.769      0.442      -0.002       0.001\n",
       "previous                          0.1213      0.171      0.708      0.479      -0.215       0.457\n",
       "emp_var_rate                     -0.8653      0.465     -1.861      0.063      -1.777       0.046\n",
       "cons_price_idx                    1.4090      0.811      1.738      0.082      -0.180       2.998\n",
       "cons_conf_idx                     0.0644      0.026      2.446      0.014       0.013       0.116\n",
       "euribor3m                        -0.1610      0.417     -0.386      0.700      -0.979       0.657\n",
       "nr_employed                       0.0022      0.010      0.217      0.828      -0.017       0.022\n",
       "=================================================================================================\n",
       "\"\"\""
      ]
     },
     "execution_count": 28,
     "metadata": {},
     "output_type": "execute_result"
    }
   ],
   "source": [
    "logit1.summary()"
   ]
  },
  {
   "cell_type": "code",
   "execution_count": 29,
   "metadata": {},
   "outputs": [
    {
     "data": {
      "text/html": [
       "<table class=\"simpletable\">\n",
       "<caption>Logit Marginal Effects</caption>\n",
       "<tr>\n",
       "  <th>Dep. Variable:</th>    <td>y</td>   \n",
       "</tr>\n",
       "<tr>\n",
       "  <th>Method:</th>         <td>dydx</td>  \n",
       "</tr>\n",
       "<tr>\n",
       "  <th>At:</th>            <td>overall</td>\n",
       "</tr>\n",
       "</table>\n",
       "<table class=\"simpletable\">\n",
       "<tr>\n",
       "                <th></th>                   <th>dy/dx</th>    <th>std err</th>      <th>z</th>      <th>P>|z|</th>  <th>[0.025</th>    <th>0.975]</th>  \n",
       "</tr>\n",
       "<tr>\n",
       "  <th>job_blue_collar</th>               <td>   -0.0126</td> <td>    0.015</td> <td>   -0.840</td> <td> 0.401</td> <td>   -0.042</td> <td>    0.017</td>\n",
       "</tr>\n",
       "<tr>\n",
       "  <th>job_entrepreneur</th>              <td>   -0.0429</td> <td>    0.028</td> <td>   -1.544</td> <td> 0.123</td> <td>   -0.097</td> <td>    0.012</td>\n",
       "</tr>\n",
       "<tr>\n",
       "  <th>job_housemaid</th>                 <td>    0.0137</td> <td>    0.025</td> <td>    0.555</td> <td> 0.579</td> <td>   -0.035</td> <td>    0.062</td>\n",
       "</tr>\n",
       "<tr>\n",
       "  <th>job_management</th>                <td>   -0.0174</td> <td>    0.016</td> <td>   -1.101</td> <td> 0.271</td> <td>   -0.048</td> <td>    0.014</td>\n",
       "</tr>\n",
       "<tr>\n",
       "  <th>job_retired</th>                   <td>   -0.0115</td> <td>    0.019</td> <td>   -0.598</td> <td> 0.550</td> <td>   -0.049</td> <td>    0.026</td>\n",
       "</tr>\n",
       "<tr>\n",
       "  <th>job_self_employed</th>             <td>   -0.0405</td> <td>    0.023</td> <td>   -1.757</td> <td> 0.079</td> <td>   -0.086</td> <td>    0.005</td>\n",
       "</tr>\n",
       "<tr>\n",
       "  <th>job_services</th>                  <td>    0.0069</td> <td>    0.016</td> <td>    0.443</td> <td> 0.657</td> <td>   -0.024</td> <td>    0.038</td>\n",
       "</tr>\n",
       "<tr>\n",
       "  <th>job_student</th>                   <td>   -0.0041</td> <td>    0.022</td> <td>   -0.185</td> <td> 0.853</td> <td>   -0.047</td> <td>    0.039</td>\n",
       "</tr>\n",
       "<tr>\n",
       "  <th>job_technician</th>                <td>    0.0123</td> <td>    0.012</td> <td>    0.984</td> <td> 0.325</td> <td>   -0.012</td> <td>    0.037</td>\n",
       "</tr>\n",
       "<tr>\n",
       "  <th>job_unemployed</th>                <td>    0.0187</td> <td>    0.022</td> <td>    0.860</td> <td> 0.390</td> <td>   -0.024</td> <td>    0.061</td>\n",
       "</tr>\n",
       "<tr>\n",
       "  <th>job_unknown</th>                   <td>   -0.0257</td> <td>    0.040</td> <td>   -0.638</td> <td> 0.524</td> <td>   -0.105</td> <td>    0.053</td>\n",
       "</tr>\n",
       "<tr>\n",
       "  <th>marital_married</th>               <td>    0.0154</td> <td>    0.014</td> <td>    1.133</td> <td> 0.257</td> <td>   -0.011</td> <td>    0.042</td>\n",
       "</tr>\n",
       "<tr>\n",
       "  <th>marital_single</th>                <td>    0.0182</td> <td>    0.016</td> <td>    1.172</td> <td> 0.241</td> <td>   -0.012</td> <td>    0.049</td>\n",
       "</tr>\n",
       "<tr>\n",
       "  <th>marital_unknown</th>               <td>    0.0154</td> <td>    0.063</td> <td>    0.242</td> <td> 0.809</td> <td>   -0.109</td> <td>    0.140</td>\n",
       "</tr>\n",
       "<tr>\n",
       "  <th>education_basic_6y</th>            <td>    0.0179</td> <td>    0.023</td> <td>    0.790</td> <td> 0.430</td> <td>   -0.026</td> <td>    0.062</td>\n",
       "</tr>\n",
       "<tr>\n",
       "  <th>education_basic_9y</th>            <td>    0.0112</td> <td>    0.018</td> <td>    0.626</td> <td> 0.531</td> <td>   -0.024</td> <td>    0.046</td>\n",
       "</tr>\n",
       "<tr>\n",
       "  <th>education_high_school</th>         <td>    0.0084</td> <td>    0.017</td> <td>    0.494</td> <td> 0.621</td> <td>   -0.025</td> <td>    0.042</td>\n",
       "</tr>\n",
       "<tr>\n",
       "  <th>education_illiterate</th>          <td>   -7.4045</td> <td> 1.53e+28</td> <td>-4.84e-28</td> <td> 1.000</td> <td>   -3e+28</td> <td>    3e+28</td>\n",
       "</tr>\n",
       "<tr>\n",
       "  <th>education_professional_course</th> <td>    0.0065</td> <td>    0.019</td> <td>    0.348</td> <td> 0.728</td> <td>   -0.030</td> <td>    0.043</td>\n",
       "</tr>\n",
       "<tr>\n",
       "  <th>education_university_degree</th>   <td>    0.0177</td> <td>    0.017</td> <td>    1.033</td> <td> 0.302</td> <td>   -0.016</td> <td>    0.051</td>\n",
       "</tr>\n",
       "<tr>\n",
       "  <th>education_unknown</th>             <td>    0.0135</td> <td>    0.022</td> <td>    0.626</td> <td> 0.532</td> <td>   -0.029</td> <td>    0.056</td>\n",
       "</tr>\n",
       "<tr>\n",
       "  <th>default_unknown</th>               <td>    0.0081</td> <td>    0.012</td> <td>    0.692</td> <td> 0.489</td> <td>   -0.015</td> <td>    0.031</td>\n",
       "</tr>\n",
       "<tr>\n",
       "  <th>default_yes</th>                   <td>   -7.2324</td> <td> 9.52e+27</td> <td> -7.6e-28</td> <td> 1.000</td> <td>-1.87e+28</td> <td> 1.87e+28</td>\n",
       "</tr>\n",
       "<tr>\n",
       "  <th>housing_unknown</th>               <td>   -0.0155</td> <td>  2.7e+06</td> <td>-5.75e-09</td> <td> 1.000</td> <td>-5.29e+06</td> <td> 5.29e+06</td>\n",
       "</tr>\n",
       "<tr>\n",
       "  <th>housing_yes</th>                   <td>   -0.0037</td> <td>    0.008</td> <td>   -0.489</td> <td> 0.625</td> <td>   -0.019</td> <td>    0.011</td>\n",
       "</tr>\n",
       "<tr>\n",
       "  <th>loan_unknown</th>                  <td>   -0.0155</td> <td>  2.7e+06</td> <td>-5.75e-09</td> <td> 1.000</td> <td>-5.29e+06</td> <td> 5.29e+06</td>\n",
       "</tr>\n",
       "<tr>\n",
       "  <th>loan_yes</th>                      <td>   -0.0063</td> <td>    0.010</td> <td>   -0.612</td> <td> 0.541</td> <td>   -0.027</td> <td>    0.014</td>\n",
       "</tr>\n",
       "<tr>\n",
       "  <th>contact_telephone</th>             <td>   -0.0530</td> <td>    0.015</td> <td>   -3.451</td> <td> 0.001</td> <td>   -0.083</td> <td>   -0.023</td>\n",
       "</tr>\n",
       "<tr>\n",
       "  <th>month_aug</th>                     <td>    0.0274</td> <td>    0.023</td> <td>    1.194</td> <td> 0.233</td> <td>   -0.018</td> <td>    0.072</td>\n",
       "</tr>\n",
       "<tr>\n",
       "  <th>month_dec</th>                     <td>    0.0492</td> <td>    0.037</td> <td>    1.314</td> <td> 0.189</td> <td>   -0.024</td> <td>    0.123</td>\n",
       "</tr>\n",
       "<tr>\n",
       "  <th>month_jul</th>                     <td>    0.0052</td> <td>    0.020</td> <td>    0.260</td> <td> 0.795</td> <td>   -0.034</td> <td>    0.045</td>\n",
       "</tr>\n",
       "<tr>\n",
       "  <th>month_jun</th>                     <td>    0.0306</td> <td>    0.024</td> <td>    1.271</td> <td> 0.204</td> <td>   -0.017</td> <td>    0.078</td>\n",
       "</tr>\n",
       "<tr>\n",
       "  <th>month_mar</th>                     <td>    0.1373</td> <td>    0.029</td> <td>    4.815</td> <td> 0.000</td> <td>    0.081</td> <td>    0.193</td>\n",
       "</tr>\n",
       "<tr>\n",
       "  <th>month_may</th>                     <td>   -0.0179</td> <td>    0.017</td> <td>   -1.074</td> <td> 0.283</td> <td>   -0.051</td> <td>    0.015</td>\n",
       "</tr>\n",
       "<tr>\n",
       "  <th>month_nov</th>                     <td>   -0.0180</td> <td>    0.023</td> <td>   -0.774</td> <td> 0.439</td> <td>   -0.063</td> <td>    0.028</td>\n",
       "</tr>\n",
       "<tr>\n",
       "  <th>month_oct</th>                     <td>    0.0156</td> <td>    0.029</td> <td>    0.534</td> <td> 0.594</td> <td>   -0.042</td> <td>    0.073</td>\n",
       "</tr>\n",
       "<tr>\n",
       "  <th>month_sep</th>                     <td>    0.0085</td> <td>    0.033</td> <td>    0.258</td> <td> 0.796</td> <td>   -0.056</td> <td>    0.073</td>\n",
       "</tr>\n",
       "<tr>\n",
       "  <th>day_of_week_mon</th>               <td>    0.0079</td> <td>    0.012</td> <td>    0.669</td> <td> 0.504</td> <td>   -0.015</td> <td>    0.031</td>\n",
       "</tr>\n",
       "<tr>\n",
       "  <th>day_of_week_thu</th>               <td>    0.0057</td> <td>    0.012</td> <td>    0.475</td> <td> 0.635</td> <td>   -0.018</td> <td>    0.029</td>\n",
       "</tr>\n",
       "<tr>\n",
       "  <th>day_of_week_tue</th>               <td>    0.0025</td> <td>    0.012</td> <td>    0.205</td> <td> 0.838</td> <td>   -0.021</td> <td>    0.026</td>\n",
       "</tr>\n",
       "<tr>\n",
       "  <th>day_of_week_wed</th>               <td>    0.0173</td> <td>    0.012</td> <td>    1.407</td> <td> 0.159</td> <td>   -0.007</td> <td>    0.041</td>\n",
       "</tr>\n",
       "<tr>\n",
       "  <th>poutcome_nonexistent</th>          <td>    0.0321</td> <td>    0.016</td> <td>    1.967</td> <td> 0.049</td> <td>    0.000</td> <td>    0.064</td>\n",
       "</tr>\n",
       "<tr>\n",
       "  <th>poutcome_success</th>              <td>    0.0736</td> <td>    0.035</td> <td>    2.098</td> <td> 0.036</td> <td>    0.005</td> <td>    0.142</td>\n",
       "</tr>\n",
       "<tr>\n",
       "  <th>age</th>                           <td>    0.0005</td> <td>    0.000</td> <td>    1.066</td> <td> 0.286</td> <td>   -0.000</td> <td>    0.001</td>\n",
       "</tr>\n",
       "<tr>\n",
       "  <th>duration</th>                      <td>    0.0003</td> <td> 1.27e-05</td> <td>   23.003</td> <td> 0.000</td> <td>    0.000</td> <td>    0.000</td>\n",
       "</tr>\n",
       "<tr>\n",
       "  <th>campaign</th>                      <td>   -0.0055</td> <td>    0.003</td> <td>   -2.175</td> <td> 0.030</td> <td>   -0.011</td> <td>   -0.001</td>\n",
       "</tr>\n",
       "<tr>\n",
       "  <th>pdays</th>                         <td>-2.751e-05</td> <td> 3.58e-05</td> <td>   -0.769</td> <td> 0.442</td> <td>-9.77e-05</td> <td> 4.26e-05</td>\n",
       "</tr>\n",
       "<tr>\n",
       "  <th>previous</th>                      <td>    0.0067</td> <td>    0.010</td> <td>    0.708</td> <td> 0.479</td> <td>   -0.012</td> <td>    0.025</td>\n",
       "</tr>\n",
       "<tr>\n",
       "  <th>emp_var_rate</th>                  <td>   -0.0480</td> <td>    0.026</td> <td>   -1.861</td> <td> 0.063</td> <td>   -0.099</td> <td>    0.003</td>\n",
       "</tr>\n",
       "<tr>\n",
       "  <th>cons_price_idx</th>                <td>    0.0782</td> <td>    0.045</td> <td>    1.738</td> <td> 0.082</td> <td>   -0.010</td> <td>    0.166</td>\n",
       "</tr>\n",
       "<tr>\n",
       "  <th>cons_conf_idx</th>                 <td>    0.0036</td> <td>    0.001</td> <td>    2.453</td> <td> 0.014</td> <td>    0.001</td> <td>    0.006</td>\n",
       "</tr>\n",
       "<tr>\n",
       "  <th>euribor3m</th>                     <td>   -0.0089</td> <td>    0.023</td> <td>   -0.386</td> <td> 0.700</td> <td>   -0.054</td> <td>    0.036</td>\n",
       "</tr>\n",
       "<tr>\n",
       "  <th>nr_employed</th>                   <td>    0.0001</td> <td>    0.001</td> <td>    0.217</td> <td> 0.828</td> <td>   -0.001</td> <td>    0.001</td>\n",
       "</tr>\n",
       "</table>"
      ],
      "text/plain": [
       "<class 'statsmodels.iolib.summary.Summary'>\n",
       "\"\"\"\n",
       "        Logit Marginal Effects       \n",
       "=====================================\n",
       "Dep. Variable:                      y\n",
       "Method:                          dydx\n",
       "At:                           overall\n",
       "=================================================================================================\n",
       "                                   dy/dx    std err          z      P>|z|      [0.025      0.975]\n",
       "-------------------------------------------------------------------------------------------------\n",
       "job_blue_collar                  -0.0126      0.015     -0.840      0.401      -0.042       0.017\n",
       "job_entrepreneur                 -0.0429      0.028     -1.544      0.123      -0.097       0.012\n",
       "job_housemaid                     0.0137      0.025      0.555      0.579      -0.035       0.062\n",
       "job_management                   -0.0174      0.016     -1.101      0.271      -0.048       0.014\n",
       "job_retired                      -0.0115      0.019     -0.598      0.550      -0.049       0.026\n",
       "job_self_employed                -0.0405      0.023     -1.757      0.079      -0.086       0.005\n",
       "job_services                      0.0069      0.016      0.443      0.657      -0.024       0.038\n",
       "job_student                      -0.0041      0.022     -0.185      0.853      -0.047       0.039\n",
       "job_technician                    0.0123      0.012      0.984      0.325      -0.012       0.037\n",
       "job_unemployed                    0.0187      0.022      0.860      0.390      -0.024       0.061\n",
       "job_unknown                      -0.0257      0.040     -0.638      0.524      -0.105       0.053\n",
       "marital_married                   0.0154      0.014      1.133      0.257      -0.011       0.042\n",
       "marital_single                    0.0182      0.016      1.172      0.241      -0.012       0.049\n",
       "marital_unknown                   0.0154      0.063      0.242      0.809      -0.109       0.140\n",
       "education_basic_6y                0.0179      0.023      0.790      0.430      -0.026       0.062\n",
       "education_basic_9y                0.0112      0.018      0.626      0.531      -0.024       0.046\n",
       "education_high_school             0.0084      0.017      0.494      0.621      -0.025       0.042\n",
       "education_illiterate             -7.4045   1.53e+28  -4.84e-28      1.000      -3e+28       3e+28\n",
       "education_professional_course     0.0065      0.019      0.348      0.728      -0.030       0.043\n",
       "education_university_degree       0.0177      0.017      1.033      0.302      -0.016       0.051\n",
       "education_unknown                 0.0135      0.022      0.626      0.532      -0.029       0.056\n",
       "default_unknown                   0.0081      0.012      0.692      0.489      -0.015       0.031\n",
       "default_yes                      -7.2324   9.52e+27   -7.6e-28      1.000   -1.87e+28    1.87e+28\n",
       "housing_unknown                  -0.0155    2.7e+06  -5.75e-09      1.000   -5.29e+06    5.29e+06\n",
       "housing_yes                      -0.0037      0.008     -0.489      0.625      -0.019       0.011\n",
       "loan_unknown                     -0.0155    2.7e+06  -5.75e-09      1.000   -5.29e+06    5.29e+06\n",
       "loan_yes                         -0.0063      0.010     -0.612      0.541      -0.027       0.014\n",
       "contact_telephone                -0.0530      0.015     -3.451      0.001      -0.083      -0.023\n",
       "month_aug                         0.0274      0.023      1.194      0.233      -0.018       0.072\n",
       "month_dec                         0.0492      0.037      1.314      0.189      -0.024       0.123\n",
       "month_jul                         0.0052      0.020      0.260      0.795      -0.034       0.045\n",
       "month_jun                         0.0306      0.024      1.271      0.204      -0.017       0.078\n",
       "month_mar                         0.1373      0.029      4.815      0.000       0.081       0.193\n",
       "month_may                        -0.0179      0.017     -1.074      0.283      -0.051       0.015\n",
       "month_nov                        -0.0180      0.023     -0.774      0.439      -0.063       0.028\n",
       "month_oct                         0.0156      0.029      0.534      0.594      -0.042       0.073\n",
       "month_sep                         0.0085      0.033      0.258      0.796      -0.056       0.073\n",
       "day_of_week_mon                   0.0079      0.012      0.669      0.504      -0.015       0.031\n",
       "day_of_week_thu                   0.0057      0.012      0.475      0.635      -0.018       0.029\n",
       "day_of_week_tue                   0.0025      0.012      0.205      0.838      -0.021       0.026\n",
       "day_of_week_wed                   0.0173      0.012      1.407      0.159      -0.007       0.041\n",
       "poutcome_nonexistent              0.0321      0.016      1.967      0.049       0.000       0.064\n",
       "poutcome_success                  0.0736      0.035      2.098      0.036       0.005       0.142\n",
       "age                               0.0005      0.000      1.066      0.286      -0.000       0.001\n",
       "duration                          0.0003   1.27e-05     23.003      0.000       0.000       0.000\n",
       "campaign                         -0.0055      0.003     -2.175      0.030      -0.011      -0.001\n",
       "pdays                         -2.751e-05   3.58e-05     -0.769      0.442   -9.77e-05    4.26e-05\n",
       "previous                          0.0067      0.010      0.708      0.479      -0.012       0.025\n",
       "emp_var_rate                     -0.0480      0.026     -1.861      0.063      -0.099       0.003\n",
       "cons_price_idx                    0.0782      0.045      1.738      0.082      -0.010       0.166\n",
       "cons_conf_idx                     0.0036      0.001      2.453      0.014       0.001       0.006\n",
       "euribor3m                        -0.0089      0.023     -0.386      0.700      -0.054       0.036\n",
       "nr_employed                       0.0001      0.001      0.217      0.828      -0.001       0.001\n",
       "=================================================================================================\n",
       "\"\"\""
      ]
     },
     "execution_count": 29,
     "metadata": {},
     "output_type": "execute_result"
    }
   ],
   "source": [
    "#we should get marginal effects to be able to interpret results of logit\n",
    "logit1.get_margeff().summary()"
   ]
  },
  {
   "cell_type": "markdown",
   "metadata": {},
   "source": [
    "<b>As we can see from the summary and from marginal effects, p-value for cons_conf_idx is less than 0.05, so we can conclude that there is a significant relationship between dependent variable and cons_conf_idx. Incremental increase in cons_conf_idx will increase the probability of subscribing deposit on average by 0.36% (0.0036*100%) when other factors are held constant.</b>"
   ]
  },
  {
   "cell_type": "markdown",
   "metadata": {},
   "source": [
    "# Model 4. Logit from sklearn with not scaled data"
   ]
  },
  {
   "cell_type": "code",
   "execution_count": 30,
   "metadata": {},
   "outputs": [
    {
     "data": {
      "text/plain": [
       "GridSearchCV(cv=5, error_score='raise',\n",
       "       estimator=LogisticRegression(C=1.0, class_weight=None, dual=False, fit_intercept=True,\n",
       "          intercept_scaling=1, max_iter=100, multi_class='ovr', n_jobs=1,\n",
       "          penalty='l2', random_state=42, solver='liblinear', tol=0.0001,\n",
       "          verbose=0, warm_start=False),\n",
       "       fit_params=None, iid=True, n_jobs=-1,\n",
       "       param_grid={'C': array([1.00000e-04, 5.55564e+00, 1.11112e+01, 1.66667e+01, 2.22223e+01,\n",
       "       2.77778e+01, 3.33334e+01, 3.88889e+01, 4.44445e+01, 5.00000e+01]), 'class_weight': [None, 'balanced']},\n",
       "       pre_dispatch='2*n_jobs', refit=True, return_train_score='warn',\n",
       "       scoring='roc_auc', verbose=0)"
      ]
     },
     "execution_count": 30,
     "metadata": {},
     "output_type": "execute_result"
    }
   ],
   "source": [
    "gridsearch3=GridSearchCV(LogisticRegression(random_state=42),\n",
    "                         param_grid={\"C\":np.linspace(0.0001,50,10),\"class_weight\":[None,\"balanced\"]},\n",
    "                         scoring=\"roc_auc\",cv=5,n_jobs=-1)\n",
    "gridsearch3.fit(X,Y)"
   ]
  },
  {
   "cell_type": "code",
   "execution_count": 31,
   "metadata": {},
   "outputs": [
    {
     "name": "stdout",
     "output_type": "stream",
     "text": [
      "{'C': 11.111188888888888, 'class_weight': 'balanced'}\n"
     ]
    }
   ],
   "source": [
    "print(gridsearch3.best_params_)\n",
    "best=list(gridsearch3.best_params_.values())[0]"
   ]
  },
  {
   "cell_type": "code",
   "execution_count": 32,
   "metadata": {},
   "outputs": [
    {
     "data": {
      "text/plain": [
       "LogisticRegression(C=11.111188888888888, class_weight='balanced', dual=False,\n",
       "          fit_intercept=True, intercept_scaling=1, max_iter=100,\n",
       "          multi_class='ovr', n_jobs=1, penalty='l2', random_state=42,\n",
       "          solver='liblinear', tol=0.0001, verbose=0, warm_start=False)"
      ]
     },
     "execution_count": 32,
     "metadata": {},
     "output_type": "execute_result"
    }
   ],
   "source": [
    "logit2=LogisticRegression(C=best,random_state=42,class_weight=\"balanced\")\n",
    "logit2.fit(x_train,y_train)"
   ]
  },
  {
   "cell_type": "code",
   "execution_count": 33,
   "metadata": {},
   "outputs": [
    {
     "name": "stdout",
     "output_type": "stream",
     "text": [
      "roc_auc: 0.8492713345087609\n",
      "train_score: 0.8711557138232437\n",
      "test_score: 0.8533980582524272\n",
      "recall: 0.8440366972477065\n"
     ]
    }
   ],
   "source": [
    "y_pred3=logit2.predict(x_test)\n",
    "print(\"roc_auc:\",roc_auc_score(y_test,y_pred3))\n",
    "print(\"train_score:\",logit2.score(x_train,y_train))\n",
    "print(\"test_score:\",logit2.score(x_test,y_test))\n",
    "print(\"recall:\",recall_score(y_test,y_pred3))"
   ]
  },
  {
   "cell_type": "code",
   "execution_count": 34,
   "metadata": {},
   "outputs": [
    {
     "data": {
      "image/png": "[encoded data removed]",
      "text/plain": [
       "<Figure size 432x288 with 1 Axes>"
      ]
     },
     "metadata": {},
     "output_type": "display_data"
    }
   ],
   "source": [
    "#ROC curve\n",
    "FPR,TPR,tresholds=roc_curve(y_test,logit2.predict_proba(x_test)[:,1])\n",
    "plt.plot(FPR,TPR,label=\"ROC AUC=%f\"%roc_auc_score(y_test,y_pred3))\n",
    "plt.plot([0,1],[0,1])\n",
    "plt.legend(loc=\"lower right\")\n",
    "plt.xlabel(\"FPR\")\n",
    "plt.ylabel(\"TPR\")\n",
    "plt.show()"
   ]
  },
  {
   "cell_type": "markdown",
   "metadata": {},
   "source": [
    "<h1>Predicting for new individual using constructed models</h1>"
   ]
  },
  {
   "cell_type": "code",
   "execution_count": 35,
   "metadata": {},
   "outputs": [
    {
     "name": "stdout",
     "output_type": "stream",
     "text": [
      "<class 'pandas.core.frame.DataFrame'>\n",
      "RangeIndex: 4119 entries, 0 to 4118\n",
      "Data columns (total 54 columns):\n",
      "job_blue_collar                  4119 non-null uint8\n",
      "job_entrepreneur                 4119 non-null uint8\n",
      "job_housemaid                    4119 non-null uint8\n",
      "job_management                   4119 non-null uint8\n",
      "job_retired                      4119 non-null uint8\n",
      "job_self_employed                4119 non-null uint8\n",
      "job_services                     4119 non-null uint8\n",
      "job_student                      4119 non-null uint8\n",
      "job_technician                   4119 non-null uint8\n",
      "job_unemployed                   4119 non-null uint8\n",
      "job_unknown                      4119 non-null uint8\n",
      "marital_married                  4119 non-null uint8\n",
      "marital_single                   4119 non-null uint8\n",
      "marital_unknown                  4119 non-null uint8\n",
      "education_basic_6y               4119 non-null uint8\n",
      "education_basic_9y               4119 non-null uint8\n",
      "education_high_school            4119 non-null uint8\n",
      "education_illiterate             4119 non-null uint8\n",
      "education_professional_course    4119 non-null uint8\n",
      "education_university_degree      4119 non-null uint8\n",
      "education_unknown                4119 non-null uint8\n",
      "default_unknown                  4119 non-null uint8\n",
      "default_yes                      4119 non-null uint8\n",
      "housing_unknown                  4119 non-null uint8\n",
      "housing_yes                      4119 non-null uint8\n",
      "loan_unknown                     4119 non-null uint8\n",
      "loan_yes                         4119 non-null uint8\n",
      "contact_telephone                4119 non-null uint8\n",
      "month_aug                        4119 non-null uint8\n",
      "month_dec                        4119 non-null uint8\n",
      "month_jul                        4119 non-null uint8\n",
      "month_jun                        4119 non-null uint8\n",
      "month_mar                        4119 non-null uint8\n",
      "month_may                        4119 non-null uint8\n",
      "month_nov                        4119 non-null uint8\n",
      "month_oct                        4119 non-null uint8\n",
      "month_sep                        4119 non-null uint8\n",
      "day_of_week_mon                  4119 non-null uint8\n",
      "day_of_week_thu                  4119 non-null uint8\n",
      "day_of_week_tue                  4119 non-null uint8\n",
      "day_of_week_wed                  4119 non-null uint8\n",
      "poutcome_nonexistent             4119 non-null uint8\n",
      "poutcome_success                 4119 non-null uint8\n",
      "age                              4119 non-null int64\n",
      "duration                         4119 non-null int64\n",
      "campaign                         4119 non-null int64\n",
      "pdays                            4119 non-null int64\n",
      "previous                         4119 non-null int64\n",
      "emp_var_rate                     4119 non-null float64\n",
      "cons_price_idx                   4119 non-null float64\n",
      "cons_conf_idx                    4119 non-null float64\n",
      "euribor3m                        4119 non-null float64\n",
      "nr_employed                      4119 non-null float64\n",
      "y                                4119 non-null int64\n",
      "dtypes: float64(5), int64(6), uint8(43)\n",
      "memory usage: 527.0 KB\n"
     ]
    }
   ],
   "source": [
    "data_final.info()"
   ]
  },
  {
   "cell_type": "code",
   "execution_count": 36,
   "metadata": {},
   "outputs": [],
   "source": [
    "#let's give random values to each variable which will describe our new customer\n",
    "X_new=[[0,1,0,0,0,0,0,0,0,0,0,1,0,0,0,0,0,0,0,1,0,0,1,0,1,0,1,1,0,1,0,0,0,0,0,0,0,1,0,0,0,0,1,25,25,30,9,2,1.4,92,-36,4.2,5000]]"
   ]
  },
  {
   "cell_type": "code",
   "execution_count": 37,
   "metadata": {},
   "outputs": [
    {
     "name": "stdout",
     "output_type": "stream",
     "text": [
      "logit_pred: [0]\n",
      "tree_pred [0]\n"
     ]
    }
   ],
   "source": [
    "##Predicting for unseen X_new using logit and DT\n",
    "log_p=logit2.predict(X_new)\n",
    "DT_p=tree1.predict(X_new)\n",
    "print(\"logit_pred:\",log_p)\n",
    "print(\"tree_pred\",DT_p)"
   ]
  },
  {
   "cell_type": "markdown",
   "metadata": {},
   "source": [
    "<b>Both models predicted 0 class for our new customer. So, new customer won't subscribe deposit in our bank according to two models.</b>"
   ]
  },
  {
   "cell_type": "code",
   "execution_count": 38,
   "metadata": {},
   "outputs": [
    {
     "name": "stdout",
     "output_type": "stream",
     "text": [
      "Recall scores for not scaled models\n",
      "Recall: 52.0\n",
      "Recall: 84.0\n",
      "\n",
      " ---------------------------------------\n",
      "ROC AUC scores for not scaled models\n",
      "ROC AUC: 74.0\n",
      "ROC AUC: 85.0\n",
      "\n",
      " ---------------------------------------\n",
      "Train scores for not scaled models\n",
      "Train scores: 92.0\n",
      "Train scores: 87.0\n",
      "\n",
      " ---------------------------------------\n",
      "Test scores for not scaled models\n",
      "Test scores: 91.0\n",
      "Test scores: 85.0\n"
     ]
    }
   ],
   "source": [
    "#Printing recall for not scaled data models\n",
    "print(\"Recall scores for not scaled models\")\n",
    "for i in [tree1,logit2]:\n",
    "    print(\"Recall:\",(recall_score(y_test,i.predict(x_test))).round(2)*100)\n",
    "print(\"\\n\",\"---------------------------------------\")\n",
    "\n",
    "#ROC AUC\n",
    "print(\"ROC AUC scores for not scaled models\")\n",
    "for i in [tree1,logit2]:\n",
    "    print(\"ROC AUC:\",(roc_auc_score(y_test,i.predict(x_test))).round(2)*100)\n",
    "    \n",
    "print(\"\\n\",\"---------------------------------------\")\n",
    "print(\"Train scores for not scaled models\")\n",
    "for i in [tree1,logit2]:\n",
    "    print(\"Train scores:\",(i.score(x_train,y_train)).round(2)*100)\n",
    "\n",
    "print(\"\\n\",\"---------------------------------------\")\n",
    "print(\"Test scores for not scaled models\")\n",
    "for i in [tree1,logit2]:\n",
    "    print(\"Test scores:\",(i.score(x_test,y_test)).round(2)*100)"
   ]
  },
  {
   "cell_type": "markdown",
   "metadata": {},
   "source": [
    "<b>Accuracy</b> is higher for Decision tree but <b>ROC AUC</b> and <b>Recall scores</b> are less compared to logistic regression. "
   ]
  },
  {
   "cell_type": "code",
   "execution_count": null,
   "metadata": {},
   "outputs": [],
   "source": []
  }
 ],
 "metadata": {
  "kernelspec": {
   "display_name": "Python 3",
   "language": "python",
   "name": "python3"
  },
  "language_info": {
   "codemirror_mode": {
    "name": "ipython",
    "version": 3
   },
   "file_extension": ".py",
   "mimetype": "text/x-python",
   "name": "python",
   "nbconvert_exporter": "python",
   "pygments_lexer": "ipython3",
   "version": "3.6.5"
  }
 },
 "nbformat": 4,
 "nbformat_minor": 2
}
