{
 "cells": [
  {
   "cell_type": "markdown",
   "metadata": {},
   "source": [
    "<h1>Logistic Regression, Decision Tree</h1>"
   ]
  },
  {
   "cell_type": "markdown",
   "metadata": {},
   "source": [
    "y- has the client subscribed a term deposit? (1-yes, 0-no)"
   ]
  },
  {
   "cell_type": "code",
   "execution_count": 1,
   "metadata": {},
   "outputs": [],
   "source": [
    "import pandas as pd\n",
    "import matplotlib.pyplot as plt\n",
    "import numpy as np\n",
    "import seaborn as sns\n",
    "from sklearn.model_selection import train_test_split\n",
    "from sklearn.linear_model import LogisticRegression\n",
    "from statsmodels.discrete.discrete_model import Logit\n",
    "from sklearn.tree import DecisionTreeClassifier\n",
    "from sklearn.tree import export_graphviz"
   ]
  },
  {
   "cell_type": "code",
   "execution_count": 2,
   "metadata": {},
   "outputs": [],
   "source": [
    "data=pd.read_csv(\"bank.csv\")"
   ]
  },
  {
   "cell_type": "code",
   "execution_count": 3,
   "metadata": {},
   "outputs": [
    {
     "data": {
      "text/html": [
       "<div>\n",
       "<style scoped>\n",
       "    .dataframe tbody tr th:only-of-type {\n",
       "        vertical-align: middle;\n",
       "    }\n",
       "\n",
       "    .dataframe tbody tr th {\n",
       "        vertical-align: top;\n",
       "    }\n",
       "\n",
       "    .dataframe thead th {\n",
       "        text-align: right;\n",
       "    }\n",
       "</style>\n",
       "<table border=\"1\" class=\"dataframe\">\n",
       "  <thead>\n",
       "    <tr style=\"text-align: right;\">\n",
       "      <th></th>\n",
       "      <th>age</th>\n",
       "      <th>job</th>\n",
       "      <th>marital</th>\n",
       "      <th>education</th>\n",
       "      <th>default</th>\n",
       "      <th>housing</th>\n",
       "      <th>loan</th>\n",
       "      <th>contact</th>\n",
       "      <th>month</th>\n",
       "      <th>day_of_week</th>\n",
       "      <th>...</th>\n",
       "      <th>campaign</th>\n",
       "      <th>pdays</th>\n",
       "      <th>previous</th>\n",
       "      <th>poutcome</th>\n",
       "      <th>emp_var_rate</th>\n",
       "      <th>cons_price_idx</th>\n",
       "      <th>cons_conf_idx</th>\n",
       "      <th>euribor3m</th>\n",
       "      <th>nr_employed</th>\n",
       "      <th>y</th>\n",
       "    </tr>\n",
       "  </thead>\n",
       "  <tbody>\n",
       "    <tr>\n",
       "      <th>0</th>\n",
       "      <td>30</td>\n",
       "      <td>blue_collar</td>\n",
       "      <td>married</td>\n",
       "      <td>basic_9y</td>\n",
       "      <td>no</td>\n",
       "      <td>yes</td>\n",
       "      <td>no</td>\n",
       "      <td>cellular</td>\n",
       "      <td>may</td>\n",
       "      <td>fri</td>\n",
       "      <td>...</td>\n",
       "      <td>2</td>\n",
       "      <td>999</td>\n",
       "      <td>0</td>\n",
       "      <td>nonexistent</td>\n",
       "      <td>-1.8</td>\n",
       "      <td>92.893</td>\n",
       "      <td>-46.2</td>\n",
       "      <td>1.313</td>\n",
       "      <td>5099.1</td>\n",
       "      <td>0</td>\n",
       "    </tr>\n",
       "    <tr>\n",
       "      <th>1</th>\n",
       "      <td>39</td>\n",
       "      <td>services</td>\n",
       "      <td>single</td>\n",
       "      <td>high_school</td>\n",
       "      <td>no</td>\n",
       "      <td>no</td>\n",
       "      <td>no</td>\n",
       "      <td>telephone</td>\n",
       "      <td>may</td>\n",
       "      <td>fri</td>\n",
       "      <td>...</td>\n",
       "      <td>4</td>\n",
       "      <td>999</td>\n",
       "      <td>0</td>\n",
       "      <td>nonexistent</td>\n",
       "      <td>1.1</td>\n",
       "      <td>93.994</td>\n",
       "      <td>-36.4</td>\n",
       "      <td>4.855</td>\n",
       "      <td>5191.0</td>\n",
       "      <td>0</td>\n",
       "    </tr>\n",
       "    <tr>\n",
       "      <th>2</th>\n",
       "      <td>25</td>\n",
       "      <td>services</td>\n",
       "      <td>married</td>\n",
       "      <td>high_school</td>\n",
       "      <td>no</td>\n",
       "      <td>yes</td>\n",
       "      <td>no</td>\n",
       "      <td>telephone</td>\n",
       "      <td>jun</td>\n",
       "      <td>wed</td>\n",
       "      <td>...</td>\n",
       "      <td>1</td>\n",
       "      <td>999</td>\n",
       "      <td>0</td>\n",
       "      <td>nonexistent</td>\n",
       "      <td>1.4</td>\n",
       "      <td>94.465</td>\n",
       "      <td>-41.8</td>\n",
       "      <td>4.962</td>\n",
       "      <td>5228.1</td>\n",
       "      <td>0</td>\n",
       "    </tr>\n",
       "    <tr>\n",
       "      <th>3</th>\n",
       "      <td>38</td>\n",
       "      <td>services</td>\n",
       "      <td>married</td>\n",
       "      <td>basic_9y</td>\n",
       "      <td>no</td>\n",
       "      <td>unknown</td>\n",
       "      <td>unknown</td>\n",
       "      <td>telephone</td>\n",
       "      <td>jun</td>\n",
       "      <td>fri</td>\n",
       "      <td>...</td>\n",
       "      <td>3</td>\n",
       "      <td>999</td>\n",
       "      <td>0</td>\n",
       "      <td>nonexistent</td>\n",
       "      <td>1.4</td>\n",
       "      <td>94.465</td>\n",
       "      <td>-41.8</td>\n",
       "      <td>4.959</td>\n",
       "      <td>5228.1</td>\n",
       "      <td>0</td>\n",
       "    </tr>\n",
       "    <tr>\n",
       "      <th>4</th>\n",
       "      <td>47</td>\n",
       "      <td>admin_</td>\n",
       "      <td>married</td>\n",
       "      <td>university_degree</td>\n",
       "      <td>no</td>\n",
       "      <td>yes</td>\n",
       "      <td>no</td>\n",
       "      <td>cellular</td>\n",
       "      <td>nov</td>\n",
       "      <td>mon</td>\n",
       "      <td>...</td>\n",
       "      <td>1</td>\n",
       "      <td>999</td>\n",
       "      <td>0</td>\n",
       "      <td>nonexistent</td>\n",
       "      <td>-0.1</td>\n",
       "      <td>93.200</td>\n",
       "      <td>-42.0</td>\n",
       "      <td>4.191</td>\n",
       "      <td>5195.8</td>\n",
       "      <td>0</td>\n",
       "    </tr>\n",
       "  </tbody>\n",
       "</table>\n",
       "<p>5 rows × 21 columns</p>\n",
       "</div>"
      ],
      "text/plain": [
       "   age          job  marital          education default  housing     loan  \\\n",
       "0   30  blue_collar  married           basic_9y      no      yes       no   \n",
       "1   39     services   single        high_school      no       no       no   \n",
       "2   25     services  married        high_school      no      yes       no   \n",
       "3   38     services  married           basic_9y      no  unknown  unknown   \n",
       "4   47       admin_  married  university_degree      no      yes       no   \n",
       "\n",
       "     contact month day_of_week ...  campaign  pdays  previous     poutcome  \\\n",
       "0   cellular   may         fri ...         2    999         0  nonexistent   \n",
       "1  telephone   may         fri ...         4    999         0  nonexistent   \n",
       "2  telephone   jun         wed ...         1    999         0  nonexistent   \n",
       "3  telephone   jun         fri ...         3    999         0  nonexistent   \n",
       "4   cellular   nov         mon ...         1    999         0  nonexistent   \n",
       "\n",
       "  emp_var_rate  cons_price_idx  cons_conf_idx  euribor3m  nr_employed  y  \n",
       "0         -1.8          92.893          -46.2      1.313       5099.1  0  \n",
       "1          1.1          93.994          -36.4      4.855       5191.0  0  \n",
       "2          1.4          94.465          -41.8      4.962       5228.1  0  \n",
       "3          1.4          94.465          -41.8      4.959       5228.1  0  \n",
       "4         -0.1          93.200          -42.0      4.191       5195.8  0  \n",
       "\n",
       "[5 rows x 21 columns]"
      ]
     },
     "execution_count": 3,
     "metadata": {},
     "output_type": "execute_result"
    }
   ],
   "source": [
    "data.head()"
   ]
  },
  {
   "cell_type": "code",
   "execution_count": 4,
   "metadata": {},
   "outputs": [
    {
     "name": "stdout",
     "output_type": "stream",
     "text": [
      "<class 'pandas.core.frame.DataFrame'>\n",
      "RangeIndex: 4119 entries, 0 to 4118\n",
      "Data columns (total 21 columns):\n",
      "age               4119 non-null int64\n",
      "job               4119 non-null object\n",
      "marital           4119 non-null object\n",
      "education         4119 non-null object\n",
      "default           4119 non-null object\n",
      "housing           4119 non-null object\n",
      "loan              4119 non-null object\n",
      "contact           4119 non-null object\n",
      "month             4119 non-null object\n",
      "day_of_week       4119 non-null object\n",
      "duration          4119 non-null int64\n",
      "campaign          4119 non-null int64\n",
      "pdays             4119 non-null int64\n",
      "previous          4119 non-null int64\n",
      "poutcome          4119 non-null object\n",
      "emp_var_rate      4119 non-null float64\n",
      "cons_price_idx    4119 non-null float64\n",
      "cons_conf_idx     4119 non-null float64\n",
      "euribor3m         4119 non-null float64\n",
      "nr_employed       4119 non-null float64\n",
      "y                 4119 non-null int64\n",
      "dtypes: float64(5), int64(6), object(10)\n",
      "memory usage: 675.9+ KB\n"
     ]
    }
   ],
   "source": [
    "data.info()"
   ]
  },
  {
   "cell_type": "code",
   "execution_count": 5,
   "metadata": {},
   "outputs": [],
   "source": [
    "data_numeric=data.select_dtypes(exclude=\"object\")\n",
    "data_object=data.select_dtypes(include=\"object\")"
   ]
  },
  {
   "cell_type": "code",
   "execution_count": 7,
   "metadata": {},
   "outputs": [
    {
     "data": {
      "text/plain": [
       "age               False\n",
       "duration          False\n",
       "campaign          False\n",
       "pdays             False\n",
       "previous          False\n",
       "emp_var_rate      False\n",
       "cons_price_idx    False\n",
       "cons_conf_idx     False\n",
       "euribor3m         False\n",
       "nr_employed       False\n",
       "y                 False\n",
       "dtype: bool"
      ]
     },
     "execution_count": 7,
     "metadata": {},
     "output_type": "execute_result"
    }
   ],
   "source": [
    "data_numeric.var()==0"
   ]
  },
  {
   "cell_type": "code",
   "execution_count": 8,
   "metadata": {},
   "outputs": [
    {
     "name": "stdout",
     "output_type": "stream",
     "text": [
      "['blue_collar' 'services' 'admin_' 'entrepreneur' 'self_employed'\n",
      " 'technician' 'management' 'student' 'retired' 'housemaid' 'unemployed'\n",
      " 'unknown']\n",
      "['married' 'single' 'divorced' 'unknown']\n",
      "['basic_9y' 'high_school' 'university_degree' 'professional_course'\n",
      " 'basic_6y' 'basic_4y' 'unknown' 'illiterate']\n",
      "['no' 'unknown' 'yes']\n",
      "['yes' 'no' 'unknown']\n",
      "['no' 'unknown' 'yes']\n",
      "['cellular' 'telephone']\n",
      "['may' 'jun' 'nov' 'sep' 'jul' 'aug' 'mar' 'oct' 'apr' 'dec']\n",
      "['fri' 'wed' 'mon' 'thu' 'tue']\n",
      "['nonexistent' 'failure' 'success']\n"
     ]
    }
   ],
   "source": [
    "for i in data_object.columns:\n",
    "    print(data_object[i].unique())"
   ]
  },
  {
   "cell_type": "code",
   "execution_count": 6,
   "metadata": {},
   "outputs": [],
   "source": [
    "data_dummies=pd.get_dummies(data_object,prefix=data_object.columns,drop_first=True)"
   ]
  },
  {
   "cell_type": "code",
   "execution_count": 9,
   "metadata": {},
   "outputs": [
    {
     "data": {
      "text/plain": [
       "<matplotlib.axes._subplots.AxesSubplot at 0x1aae3a72e80>"
      ]
     },
     "execution_count": 9,
     "metadata": {},
     "output_type": "execute_result"
    },
    {
     "data": {
      "image/png": "[encoded data removed]",
      "text/plain": [
       "<Figure size 432x288 with 2 Axes>"
      ]
     },
     "metadata": {},
     "output_type": "display_data"
    }
   ],
   "source": [
    "sns.heatmap(data_numeric.corr())"
   ]
  },
  {
   "cell_type": "code",
   "execution_count": 10,
   "metadata": {},
   "outputs": [],
   "source": [
    "data_final=data_numeric.join(data_dummies)"
   ]
  },
  {
   "cell_type": "markdown",
   "metadata": {},
   "source": [
    "# Logistic Regression"
   ]
  },
  {
   "cell_type": "code",
   "execution_count": 11,
   "metadata": {},
   "outputs": [
    {
     "data": {
      "image/png": "[encoded data removed]",
      "text/plain": [
       "<Figure size 648x432 with 1 Axes>"
      ]
     },
     "metadata": {},
     "output_type": "display_data"
    }
   ],
   "source": [
    "#to see the difference between linear regression and logistic regression\n",
    "#first, let's see how line fits data \n",
    "plt.figure(figsize=(9,6))\n",
    "sns.regplot(data_final.duration,data_final.y)\n",
    "plt.show()"
   ]
  },
  {
   "cell_type": "code",
   "execution_count": 12,
   "metadata": {},
   "outputs": [
    {
     "data": {
      "image/png": "[encoded data removed]",
      "text/plain": [
       "<Figure size 648x432 with 1 Axes>"
      ]
     },
     "metadata": {},
     "output_type": "display_data"
    }
   ],
   "source": [
    "#now, let's see how sigmoid curve fits the data\n",
    "plt.figure(figsize=(9,6))\n",
    "sns.regplot(data_final.duration,data_final.y, logistic=True)\n",
    "plt.show() "
   ]
  },
  {
   "cell_type": "markdown",
   "metadata": {},
   "source": [
    "as can be seen the sigmoind curve models the data better"
   ]
  },
  {
   "cell_type": "code",
   "execution_count": 13,
   "metadata": {},
   "outputs": [
    {
     "data": {
      "text/plain": [
       "0    89.05074\n",
       "1    10.94926\n",
       "Name: y, dtype: float64"
      ]
     },
     "execution_count": 13,
     "metadata": {},
     "output_type": "execute_result"
    }
   ],
   "source": [
    "data_final.y.value_counts()/len(data_final)*100"
   ]
  },
  {
   "cell_type": "markdown",
   "metadata": {},
   "source": [
    "89% of customers haven't subscribed to deposit.This means that without any model we will probably clasify a new record (a new customer) as 0, but we want to do better than this very naive classification. "
   ]
  },
  {
   "cell_type": "code",
   "execution_count": 14,
   "metadata": {},
   "outputs": [],
   "source": [
    "Y=data_final.y\n",
    "X=data_final.drop(\"y\",axis=1)\n",
    "x_train,x_test,y_train,y_test=train_test_split(X,Y,test_size=0.25,random_state=42)"
   ]
  },
  {
   "cell_type": "code",
   "execution_count": 15,
   "metadata": {},
   "outputs": [
    {
     "data": {
      "text/plain": [
       "'y~age+duration+campaign+pdays+previous+emp_var_rate+cons_price_idx+cons_conf_idx+euribor3m+nr_employed+job_blue_collar+job_entrepreneur+job_housemaid+job_management+job_retired+job_self_employed+job_services+job_student+job_technician+job_unemployed+job_unknown+marital_married+marital_single+marital_unknown+education_basic_6y+education_basic_9y+education_high_school+education_illiterate+education_professional_course+education_university_degree+education_unknown+default_unknown+default_yes+housing_unknown+housing_yes+loan_unknown+loan_yes+contact_telephone+month_aug+month_dec+month_jul+month_jun+month_mar+month_may+month_nov+month_oct+month_sep+day_of_week_mon+day_of_week_thu+day_of_week_tue+day_of_week_wed+poutcome_nonexistent+poutcome_success'"
      ]
     },
     "execution_count": 15,
     "metadata": {},
     "output_type": "execute_result"
    }
   ],
   "source": [
    "formula='y~'+'+'.join(X.columns.tolist())\n",
    "formula"
   ]
  },
  {
   "cell_type": "code",
   "execution_count": 16,
   "metadata": {},
   "outputs": [
    {
     "name": "stdout",
     "output_type": "stream",
     "text": [
      "Optimization terminated successfully.\n",
      "         Current function value: 0.193937\n",
      "         Iterations 17\n"
     ]
    }
   ],
   "source": [
    "#using statsmodel for interpretability\n",
    "logit=Logit.from_formula(formula=formula, data=data_final).fit()"
   ]
  },
  {
   "cell_type": "code",
   "execution_count": 17,
   "metadata": {},
   "outputs": [
    {
     "name": "stderr",
     "output_type": "stream",
     "text": [
      "C:\\Users\\HP\\Anaconda3\\lib\\site-packages\\statsmodels\\base\\model.py:1092: RuntimeWarning: invalid value encountered in sqrt\n",
      "  bse_ = np.sqrt(np.diag(self.cov_params()))\n",
      "C:\\Users\\HP\\Anaconda3\\lib\\site-packages\\scipy\\stats\\_distn_infrastructure.py:879: RuntimeWarning: invalid value encountered in greater\n",
      "  return (self.a < x) & (x < self.b)\n",
      "C:\\Users\\HP\\Anaconda3\\lib\\site-packages\\scipy\\stats\\_distn_infrastructure.py:879: RuntimeWarning: invalid value encountered in less\n",
      "  return (self.a < x) & (x < self.b)\n",
      "C:\\Users\\HP\\Anaconda3\\lib\\site-packages\\scipy\\stats\\_distn_infrastructure.py:1821: RuntimeWarning: invalid value encountered in less_equal\n",
      "  cond2 = cond0 & (x <= self.a)\n"
     ]
    },
    {
     "data": {
      "text/html": [
       "<table class=\"simpletable\">\n",
       "<caption>Logit Regression Results</caption>\n",
       "<tr>\n",
       "  <th>Dep. Variable:</th>         <td>y</td>        <th>  No. Observations:  </th>   <td>  4119</td>  \n",
       "</tr>\n",
       "<tr>\n",
       "  <th>Model:</th>               <td>Logit</td>      <th>  Df Residuals:      </th>   <td>  4066</td>  \n",
       "</tr>\n",
       "<tr>\n",
       "  <th>Method:</th>               <td>MLE</td>       <th>  Df Model:          </th>   <td>    52</td>  \n",
       "</tr>\n",
       "<tr>\n",
       "  <th>Date:</th>          <td>Tue, 06 Nov 2018</td> <th>  Pseudo R-squ.:     </th>   <td>0.4386</td>  \n",
       "</tr>\n",
       "<tr>\n",
       "  <th>Time:</th>              <td>17:15:11</td>     <th>  Log-Likelihood:    </th>  <td> -798.83</td> \n",
       "</tr>\n",
       "<tr>\n",
       "  <th>converged:</th>           <td>True</td>       <th>  LL-Null:           </th>  <td> -1422.9</td> \n",
       "</tr>\n",
       "<tr>\n",
       "  <th> </th>                      <td> </td>        <th>  LLR p-value:       </th> <td>4.652e-227</td>\n",
       "</tr>\n",
       "</table>\n",
       "<table class=\"simpletable\">\n",
       "<tr>\n",
       "                <td></td>                   <th>coef</th>     <th>std err</th>      <th>z</th>      <th>P>|z|</th>  <th>[0.025</th>    <th>0.975]</th>  \n",
       "</tr>\n",
       "<tr>\n",
       "  <th>Intercept</th>                     <td> -144.7479</td> <td>  127.746</td> <td>   -1.133</td> <td> 0.257</td> <td> -395.125</td> <td>  105.629</td>\n",
       "</tr>\n",
       "<tr>\n",
       "  <th>age</th>                           <td>    0.0087</td> <td>    0.008</td> <td>    1.061</td> <td> 0.289</td> <td>   -0.007</td> <td>    0.025</td>\n",
       "</tr>\n",
       "<tr>\n",
       "  <th>duration</th>                      <td>    0.0053</td> <td>    0.000</td> <td>   19.653</td> <td> 0.000</td> <td>    0.005</td> <td>    0.006</td>\n",
       "</tr>\n",
       "<tr>\n",
       "  <th>campaign</th>                      <td>   -0.0999</td> <td>    0.090</td> <td>   -1.104</td> <td> 0.270</td> <td>   -0.277</td> <td>    0.077</td>\n",
       "</tr>\n",
       "<tr>\n",
       "  <th>pdays</th>                         <td>   -0.0005</td> <td>    0.001</td> <td>   -0.594</td> <td> 0.553</td> <td>   -0.002</td> <td>    0.001</td>\n",
       "</tr>\n",
       "<tr>\n",
       "  <th>previous</th>                      <td>    0.1213</td> <td>      nan</td> <td>      nan</td> <td>   nan</td> <td>      nan</td> <td>      nan</td>\n",
       "</tr>\n",
       "<tr>\n",
       "  <th>emp_var_rate</th>                  <td>   -0.8653</td> <td>    0.408</td> <td>   -2.122</td> <td> 0.034</td> <td>   -1.664</td> <td>   -0.066</td>\n",
       "</tr>\n",
       "<tr>\n",
       "  <th>cons_price_idx</th>                <td>    1.4090</td> <td>    0.280</td> <td>    5.026</td> <td> 0.000</td> <td>    0.860</td> <td>    1.959</td>\n",
       "</tr>\n",
       "<tr>\n",
       "  <th>cons_conf_idx</th>                 <td>    0.0644</td> <td>    0.024</td> <td>    2.662</td> <td> 0.008</td> <td>    0.017</td> <td>    0.112</td>\n",
       "</tr>\n",
       "<tr>\n",
       "  <th>euribor3m</th>                     <td>   -0.1610</td> <td>    0.325</td> <td>   -0.496</td> <td> 0.620</td> <td>   -0.797</td> <td>    0.475</td>\n",
       "</tr>\n",
       "<tr>\n",
       "  <th>nr_employed</th>                   <td>    0.0022</td> <td>    0.007</td> <td>    0.299</td> <td> 0.765</td> <td>   -0.012</td> <td>    0.016</td>\n",
       "</tr>\n",
       "<tr>\n",
       "  <th>job_blue_collar</th>               <td>   -0.2269</td> <td>    0.266</td> <td>   -0.854</td> <td> 0.393</td> <td>   -0.747</td> <td>    0.294</td>\n",
       "</tr>\n",
       "<tr>\n",
       "  <th>job_entrepreneur</th>              <td>   -0.7740</td> <td>    0.492</td> <td>   -1.574</td> <td> 0.116</td> <td>   -1.738</td> <td>    0.190</td>\n",
       "</tr>\n",
       "<tr>\n",
       "  <th>job_housemaid</th>                 <td>    0.2477</td> <td>    0.429</td> <td>    0.578</td> <td> 0.564</td> <td>   -0.593</td> <td>    1.088</td>\n",
       "</tr>\n",
       "<tr>\n",
       "  <th>job_management</th>                <td>   -0.3136</td> <td>    0.287</td> <td>   -1.093</td> <td> 0.274</td> <td>   -0.876</td> <td>    0.249</td>\n",
       "</tr>\n",
       "<tr>\n",
       "  <th>job_retired</th>                   <td>   -0.2069</td> <td>    0.346</td> <td>   -0.598</td> <td> 0.550</td> <td>   -0.885</td> <td>    0.472</td>\n",
       "</tr>\n",
       "<tr>\n",
       "  <th>job_self_employed</th>             <td>   -0.7305</td> <td>    0.421</td> <td>   -1.737</td> <td> 0.082</td> <td>   -1.555</td> <td>    0.094</td>\n",
       "</tr>\n",
       "<tr>\n",
       "  <th>job_services</th>                  <td>    0.1251</td> <td>    0.269</td> <td>    0.466</td> <td> 0.642</td> <td>   -0.402</td> <td>    0.652</td>\n",
       "</tr>\n",
       "<tr>\n",
       "  <th>job_student</th>                   <td>   -0.0737</td> <td>    0.383</td> <td>   -0.193</td> <td> 0.847</td> <td>   -0.823</td> <td>    0.676</td>\n",
       "</tr>\n",
       "<tr>\n",
       "  <th>job_technician</th>                <td>    0.2209</td> <td>    0.225</td> <td>    0.980</td> <td> 0.327</td> <td>   -0.221</td> <td>    0.663</td>\n",
       "</tr>\n",
       "<tr>\n",
       "  <th>job_unemployed</th>                <td>    0.3362</td> <td>    0.389</td> <td>    0.864</td> <td> 0.388</td> <td>   -0.427</td> <td>    1.099</td>\n",
       "</tr>\n",
       "<tr>\n",
       "  <th>job_unknown</th>                   <td>   -0.4624</td> <td>    0.743</td> <td>   -0.622</td> <td> 0.534</td> <td>   -1.919</td> <td>    0.994</td>\n",
       "</tr>\n",
       "<tr>\n",
       "  <th>marital_married</th>               <td>    0.2782</td> <td>    0.253</td> <td>    1.100</td> <td> 0.271</td> <td>   -0.217</td> <td>    0.774</td>\n",
       "</tr>\n",
       "<tr>\n",
       "  <th>marital_single</th>                <td>    0.3277</td> <td>    0.278</td> <td>    1.177</td> <td> 0.239</td> <td>   -0.218</td> <td>    0.873</td>\n",
       "</tr>\n",
       "<tr>\n",
       "  <th>marital_unknown</th>               <td>    0.2769</td> <td>    1.152</td> <td>    0.240</td> <td> 0.810</td> <td>   -1.980</td> <td>    2.534</td>\n",
       "</tr>\n",
       "<tr>\n",
       "  <th>education_basic_6y</th>            <td>    0.3219</td> <td>    0.407</td> <td>    0.790</td> <td> 0.430</td> <td>   -0.477</td> <td>    1.121</td>\n",
       "</tr>\n",
       "<tr>\n",
       "  <th>education_basic_9y</th>            <td>    0.2012</td> <td>    0.315</td> <td>    0.639</td> <td> 0.523</td> <td>   -0.416</td> <td>    0.818</td>\n",
       "</tr>\n",
       "<tr>\n",
       "  <th>education_high_school</th>         <td>    0.1515</td> <td>    0.306</td> <td>    0.495</td> <td> 0.620</td> <td>   -0.448</td> <td>    0.751</td>\n",
       "</tr>\n",
       "<tr>\n",
       "  <th>education_illiterate</th>          <td> -133.4698</td> <td> 2.78e+29</td> <td>-4.81e-28</td> <td> 1.000</td> <td>-5.44e+29</td> <td> 5.44e+29</td>\n",
       "</tr>\n",
       "<tr>\n",
       "  <th>education_professional_course</th> <td>    0.1169</td> <td>    0.337</td> <td>    0.347</td> <td> 0.728</td> <td>   -0.543</td> <td>    0.776</td>\n",
       "</tr>\n",
       "<tr>\n",
       "  <th>education_university_degree</th>   <td>    0.3189</td> <td>    0.308</td> <td>    1.036</td> <td> 0.300</td> <td>   -0.284</td> <td>    0.922</td>\n",
       "</tr>\n",
       "<tr>\n",
       "  <th>education_unknown</th>             <td>    0.2426</td> <td>    0.388</td> <td>    0.625</td> <td> 0.532</td> <td>   -0.518</td> <td>    1.003</td>\n",
       "</tr>\n",
       "<tr>\n",
       "  <th>default_unknown</th>               <td>    0.1453</td> <td>    0.209</td> <td>    0.695</td> <td> 0.487</td> <td>   -0.264</td> <td>    0.555</td>\n",
       "</tr>\n",
       "<tr>\n",
       "  <th>default_yes</th>                   <td> -130.3669</td> <td> 2.19e+29</td> <td>-5.96e-28</td> <td> 1.000</td> <td>-4.29e+29</td> <td> 4.29e+29</td>\n",
       "</tr>\n",
       "<tr>\n",
       "  <th>housing_unknown</th>               <td>   -0.2798</td> <td>      nan</td> <td>      nan</td> <td>   nan</td> <td>      nan</td> <td>      nan</td>\n",
       "</tr>\n",
       "<tr>\n",
       "  <th>housing_yes</th>                   <td>   -0.0673</td> <td>    0.115</td> <td>   -0.584</td> <td> 0.559</td> <td>   -0.293</td> <td>    0.159</td>\n",
       "</tr>\n",
       "<tr>\n",
       "  <th>loan_unknown</th>                  <td>   -0.2798</td> <td>      nan</td> <td>      nan</td> <td>   nan</td> <td>      nan</td> <td>      nan</td>\n",
       "</tr>\n",
       "<tr>\n",
       "  <th>loan_yes</th>                      <td>   -0.1144</td> <td>      nan</td> <td>      nan</td> <td>   nan</td> <td>      nan</td> <td>      nan</td>\n",
       "</tr>\n",
       "<tr>\n",
       "  <th>contact_telephone</th>             <td>   -0.9556</td> <td>    0.280</td> <td>   -3.411</td> <td> 0.001</td> <td>   -1.505</td> <td>   -0.407</td>\n",
       "</tr>\n",
       "<tr>\n",
       "  <th>month_aug</th>                     <td>    0.4943</td> <td>    0.305</td> <td>    1.619</td> <td> 0.105</td> <td>   -0.104</td> <td>    1.093</td>\n",
       "</tr>\n",
       "<tr>\n",
       "  <th>month_dec</th>                     <td>    0.8877</td> <td>    0.570</td> <td>    1.559</td> <td> 0.119</td> <td>   -0.229</td> <td>    2.004</td>\n",
       "</tr>\n",
       "<tr>\n",
       "  <th>month_jul</th>                     <td>    0.0939</td> <td>    0.442</td> <td>    0.213</td> <td> 0.832</td> <td>   -0.772</td> <td>    0.960</td>\n",
       "</tr>\n",
       "<tr>\n",
       "  <th>month_jun</th>                     <td>    0.5517</td> <td>    0.488</td> <td>    1.131</td> <td> 0.258</td> <td>   -0.404</td> <td>    1.508</td>\n",
       "</tr>\n",
       "<tr>\n",
       "  <th>month_mar</th>                     <td>    2.4742</td> <td>    0.501</td> <td>    4.938</td> <td> 0.000</td> <td>    1.492</td> <td>    3.456</td>\n",
       "</tr>\n",
       "<tr>\n",
       "  <th>month_may</th>                     <td>   -0.3228</td> <td>    0.404</td> <td>   -0.799</td> <td> 0.424</td> <td>   -1.114</td> <td>    0.469</td>\n",
       "</tr>\n",
       "<tr>\n",
       "  <th>month_nov</th>                     <td>   -0.3241</td> <td>    0.424</td> <td>   -0.765</td> <td> 0.444</td> <td>   -1.155</td> <td>    0.506</td>\n",
       "</tr>\n",
       "<tr>\n",
       "  <th>month_oct</th>                     <td>    0.2817</td> <td>    0.479</td> <td>    0.588</td> <td> 0.557</td> <td>   -0.658</td> <td>    1.221</td>\n",
       "</tr>\n",
       "<tr>\n",
       "  <th>month_sep</th>                     <td>    0.1540</td> <td>    0.663</td> <td>    0.232</td> <td> 0.816</td> <td>   -1.145</td> <td>    1.453</td>\n",
       "</tr>\n",
       "<tr>\n",
       "  <th>day_of_week_mon</th>               <td>    0.1425</td> <td>    0.212</td> <td>    0.673</td> <td> 0.501</td> <td>   -0.272</td> <td>    0.557</td>\n",
       "</tr>\n",
       "<tr>\n",
       "  <th>day_of_week_thu</th>               <td>    0.1023</td> <td>    0.217</td> <td>    0.471</td> <td> 0.638</td> <td>   -0.324</td> <td>    0.528</td>\n",
       "</tr>\n",
       "<tr>\n",
       "  <th>day_of_week_tue</th>               <td>    0.0449</td> <td>    0.220</td> <td>    0.204</td> <td> 0.838</td> <td>   -0.386</td> <td>    0.476</td>\n",
       "</tr>\n",
       "<tr>\n",
       "  <th>day_of_week_wed</th>               <td>    0.3126</td> <td>    0.225</td> <td>    1.389</td> <td> 0.165</td> <td>   -0.129</td> <td>    0.754</td>\n",
       "</tr>\n",
       "<tr>\n",
       "  <th>poutcome_nonexistent</th>          <td>    0.5792</td> <td>    0.303</td> <td>    1.913</td> <td> 0.056</td> <td>   -0.014</td> <td>    1.173</td>\n",
       "</tr>\n",
       "<tr>\n",
       "  <th>poutcome_success</th>              <td>    1.3273</td> <td>    0.910</td> <td>    1.458</td> <td> 0.145</td> <td>   -0.457</td> <td>    3.111</td>\n",
       "</tr>\n",
       "</table>"
      ],
      "text/plain": [
       "<class 'statsmodels.iolib.summary.Summary'>\n",
       "\"\"\"\n",
       "                           Logit Regression Results                           \n",
       "==============================================================================\n",
       "Dep. Variable:                      y   No. Observations:                 4119\n",
       "Model:                          Logit   Df Residuals:                     4066\n",
       "Method:                           MLE   Df Model:                           52\n",
       "Date:                Tue, 06 Nov 2018   Pseudo R-squ.:                  0.4386\n",
       "Time:                        17:15:11   Log-Likelihood:                -798.83\n",
       "converged:                       True   LL-Null:                       -1422.9\n",
       "                                        LLR p-value:                4.652e-227\n",
       "=================================================================================================\n",
       "                                    coef    std err          z      P>|z|      [0.025      0.975]\n",
       "-------------------------------------------------------------------------------------------------\n",
       "Intercept                      -144.7479    127.746     -1.133      0.257    -395.125     105.629\n",
       "age                               0.0087      0.008      1.061      0.289      -0.007       0.025\n",
       "duration                          0.0053      0.000     19.653      0.000       0.005       0.006\n",
       "campaign                         -0.0999      0.090     -1.104      0.270      -0.277       0.077\n",
       "pdays                            -0.0005      0.001     -0.594      0.553      -0.002       0.001\n",
       "previous                          0.1213        nan        nan        nan         nan         nan\n",
       "emp_var_rate                     -0.8653      0.408     -2.122      0.034      -1.664      -0.066\n",
       "cons_price_idx                    1.4090      0.280      5.026      0.000       0.860       1.959\n",
       "cons_conf_idx                     0.0644      0.024      2.662      0.008       0.017       0.112\n",
       "euribor3m                        -0.1610      0.325     -0.496      0.620      -0.797       0.475\n",
       "nr_employed                       0.0022      0.007      0.299      0.765      -0.012       0.016\n",
       "job_blue_collar                  -0.2269      0.266     -0.854      0.393      -0.747       0.294\n",
       "job_entrepreneur                 -0.7740      0.492     -1.574      0.116      -1.738       0.190\n",
       "job_housemaid                     0.2477      0.429      0.578      0.564      -0.593       1.088\n",
       "job_management                   -0.3136      0.287     -1.093      0.274      -0.876       0.249\n",
       "job_retired                      -0.2069      0.346     -0.598      0.550      -0.885       0.472\n",
       "job_self_employed                -0.7305      0.421     -1.737      0.082      -1.555       0.094\n",
       "job_services                      0.1251      0.269      0.466      0.642      -0.402       0.652\n",
       "job_student                      -0.0737      0.383     -0.193      0.847      -0.823       0.676\n",
       "job_technician                    0.2209      0.225      0.980      0.327      -0.221       0.663\n",
       "job_unemployed                    0.3362      0.389      0.864      0.388      -0.427       1.099\n",
       "job_unknown                      -0.4624      0.743     -0.622      0.534      -1.919       0.994\n",
       "marital_married                   0.2782      0.253      1.100      0.271      -0.217       0.774\n",
       "marital_single                    0.3277      0.278      1.177      0.239      -0.218       0.873\n",
       "marital_unknown                   0.2769      1.152      0.240      0.810      -1.980       2.534\n",
       "education_basic_6y                0.3219      0.407      0.790      0.430      -0.477       1.121\n",
       "education_basic_9y                0.2012      0.315      0.639      0.523      -0.416       0.818\n",
       "education_high_school             0.1515      0.306      0.495      0.620      -0.448       0.751\n",
       "education_illiterate           -133.4698   2.78e+29  -4.81e-28      1.000   -5.44e+29    5.44e+29\n",
       "education_professional_course     0.1169      0.337      0.347      0.728      -0.543       0.776\n",
       "education_university_degree       0.3189      0.308      1.036      0.300      -0.284       0.922\n",
       "education_unknown                 0.2426      0.388      0.625      0.532      -0.518       1.003\n",
       "default_unknown                   0.1453      0.209      0.695      0.487      -0.264       0.555\n",
       "default_yes                    -130.3669   2.19e+29  -5.96e-28      1.000   -4.29e+29    4.29e+29\n",
       "housing_unknown                  -0.2798        nan        nan        nan         nan         nan\n",
       "housing_yes                      -0.0673      0.115     -0.584      0.559      -0.293       0.159\n",
       "loan_unknown                     -0.2798        nan        nan        nan         nan         nan\n",
       "loan_yes                         -0.1144        nan        nan        nan         nan         nan\n",
       "contact_telephone                -0.9556      0.280     -3.411      0.001      -1.505      -0.407\n",
       "month_aug                         0.4943      0.305      1.619      0.105      -0.104       1.093\n",
       "month_dec                         0.8877      0.570      1.559      0.119      -0.229       2.004\n",
       "month_jul                         0.0939      0.442      0.213      0.832      -0.772       0.960\n",
       "month_jun                         0.5517      0.488      1.131      0.258      -0.404       1.508\n",
       "month_mar                         2.4742      0.501      4.938      0.000       1.492       3.456\n",
       "month_may                        -0.3228      0.404     -0.799      0.424      -1.114       0.469\n",
       "month_nov                        -0.3241      0.424     -0.765      0.444      -1.155       0.506\n",
       "month_oct                         0.2817      0.479      0.588      0.557      -0.658       1.221\n",
       "month_sep                         0.1540      0.663      0.232      0.816      -1.145       1.453\n",
       "day_of_week_mon                   0.1425      0.212      0.673      0.501      -0.272       0.557\n",
       "day_of_week_thu                   0.1023      0.217      0.471      0.638      -0.324       0.528\n",
       "day_of_week_tue                   0.0449      0.220      0.204      0.838      -0.386       0.476\n",
       "day_of_week_wed                   0.3126      0.225      1.389      0.165      -0.129       0.754\n",
       "poutcome_nonexistent              0.5792      0.303      1.913      0.056      -0.014       1.173\n",
       "poutcome_success                  1.3273      0.910      1.458      0.145      -0.457       3.111\n",
       "=================================================================================================\n",
       "\"\"\""
      ]
     },
     "execution_count": 17,
     "metadata": {},
     "output_type": "execute_result"
    }
   ],
   "source": [
    "logit.summary()"
   ]
  },
  {
   "cell_type": "code",
   "execution_count": 18,
   "metadata": {},
   "outputs": [
    {
     "data": {
      "text/plain": [
       "Intercept                        1.370261e-63\n",
       "age                              1.008706e+00\n",
       "duration                         1.005274e+00\n",
       "campaign                         9.049501e-01\n",
       "pdays                            9.995042e-01\n",
       "previous                         1.128917e+00\n",
       "emp_var_rate                     4.209073e-01\n",
       "cons_price_idx                   4.092012e+00\n",
       "cons_conf_idx                    1.066535e+00\n",
       "euribor3m                        8.512942e-01\n",
       "nr_employed                      1.002158e+00\n",
       "job_blue_collar                  7.970251e-01\n",
       "job_entrepreneur                 4.611866e-01\n",
       "job_housemaid                    1.281068e+00\n",
       "job_management                   7.308005e-01\n",
       "job_retired                      8.131241e-01\n",
       "job_self_employed                4.816684e-01\n",
       "job_services                     1.133258e+00\n",
       "job_student                      9.289745e-01\n",
       "job_technician                   1.247157e+00\n",
       "job_unemployed                   1.399639e+00\n",
       "job_unknown                      6.297884e-01\n",
       "marital_married                  1.320737e+00\n",
       "marital_single                   1.387720e+00\n",
       "marital_unknown                  1.319100e+00\n",
       "education_basic_6y               1.379766e+00\n",
       "education_basic_9y               1.222868e+00\n",
       "education_high_school            1.163614e+00\n",
       "education_illiterate             1.083470e-58\n",
       "education_professional_course    1.123957e+00\n",
       "education_university_degree      1.375554e+00\n",
       "education_unknown                1.274595e+00\n",
       "default_unknown                  1.156358e+00\n",
       "default_yes                      2.411945e-57\n",
       "housing_unknown                  7.559474e-01\n",
       "housing_yes                      9.349081e-01\n",
       "loan_unknown                     7.559474e-01\n",
       "loan_yes                         8.918689e-01\n",
       "contact_telephone                3.845711e-01\n",
       "month_aug                        1.639404e+00\n",
       "month_dec                        2.429631e+00\n",
       "month_jul                        1.098477e+00\n",
       "month_jun                        1.736228e+00\n",
       "month_mar                        1.187189e+01\n",
       "month_may                        7.240992e-01\n",
       "month_nov                        7.231698e-01\n",
       "month_oct                        1.325324e+00\n",
       "month_sep                        1.166529e+00\n",
       "day_of_week_mon                  1.153126e+00\n",
       "day_of_week_thu                  1.107753e+00\n",
       "day_of_week_tue                  1.045872e+00\n",
       "day_of_week_wed                  1.366929e+00\n",
       "poutcome_nonexistent             1.784666e+00\n",
       "poutcome_success                 3.770740e+00\n",
       "dtype: float64"
      ]
     },
     "execution_count": 18,
     "metadata": {},
     "output_type": "execute_result"
    }
   ],
   "source": [
    "#to be able to interepret how each variable changes the odds of subscribing to deposit(1-yes),\n",
    "#we should calculate the exponential value of coefs\n",
    "np.exp(logit.params)"
   ]
  },
  {
   "cell_type": "markdown",
   "metadata": {},
   "source": [
    "<b>Interpreting the coef of cons_price_idx: As can be seen from the summary p-value of cons_price_idx is positive, so there is statistically significant relationship between cons_price_idx and probability of subscribing to deposit. As the coef of cons_price_idx is positive (1.4090, see in summary), then the unit increase of cons_price_idx increases the probability of sunsvribing to deposit. To see how the odds are changing, we calculated exp value of coefs. So, 1 unit increase in cons_price_idx on average increases the odds of subscribing to deposit by 4 times. </b>"
   ]
  },
  {
   "cell_type": "code",
   "execution_count": 19,
   "metadata": {},
   "outputs": [],
   "source": [
    "#skleran for prediction\n",
    "logit_sk=LogisticRegression()"
   ]
  },
  {
   "cell_type": "code",
   "execution_count": 20,
   "metadata": {},
   "outputs": [],
   "source": [
    "logit_sk=logit_sk.fit(x_train,y_train)"
   ]
  },
  {
   "cell_type": "code",
   "execution_count": 21,
   "metadata": {},
   "outputs": [
    {
     "data": {
      "text/plain": [
       "0.9106796116504854"
      ]
     },
     "execution_count": 21,
     "metadata": {},
     "output_type": "execute_result"
    }
   ],
   "source": [
    "logit_sk.score(x_test,y_test)"
   ]
  },
  {
   "cell_type": "markdown",
   "metadata": {},
   "source": [
    "# Decision Tree"
   ]
  },
  {
   "cell_type": "code",
   "execution_count": 22,
   "metadata": {},
   "outputs": [
    {
     "data": {
      "text/plain": [
       "DecisionTreeClassifier(class_weight=None, criterion='gini', max_depth=None,\n",
       "            max_features=None, max_leaf_nodes=None,\n",
       "            min_impurity_decrease=0.0, min_impurity_split=None,\n",
       "            min_samples_leaf=100, min_samples_split=2,\n",
       "            min_weight_fraction_leaf=0.0, presort=False, random_state=42,\n",
       "            splitter='best')"
      ]
     },
     "execution_count": 22,
     "metadata": {},
     "output_type": "execute_result"
    }
   ],
   "source": [
    "tree_1=DecisionTreeClassifier(random_state=42,min_samples_leaf=100)\n",
    "tree_1.fit(x_train,y_train)"
   ]
  },
  {
   "cell_type": "code",
   "execution_count": 23,
   "metadata": {},
   "outputs": [
    {
     "data": {
      "text/plain": [
       "0.9048543689320389"
      ]
     },
     "execution_count": 23,
     "metadata": {},
     "output_type": "execute_result"
    }
   ],
   "source": [
    "tree_1.score(x_test,y_test)"
   ]
  },
  {
   "cell_type": "code",
   "execution_count": 24,
   "metadata": {},
   "outputs": [],
   "source": [
    "importances=tree_1.feature_importances_\n",
    "importances=pd.DataFrame(data=importances, index=X.columns, columns=['importances'])"
   ]
  },
  {
   "cell_type": "code",
   "execution_count": 25,
   "metadata": {},
   "outputs": [],
   "source": [
    "#let's visually see the tree\n",
    "tree_gr=export_graphviz(tree_1,out_file=\"tree.dot\", class_names=True, feature_names=X.columns, filled=True) \n",
    "#Go to http://webgraphviz.com/, enter the code from the word file saved"
   ]
  },
  {
   "cell_type": "code",
   "execution_count": 26,
   "metadata": {
    "scrolled": true
   },
   "outputs": [
    {
     "data": {
      "text/html": [
       "<div>\n",
       "<style scoped>\n",
       "    .dataframe tbody tr th:only-of-type {\n",
       "        vertical-align: middle;\n",
       "    }\n",
       "\n",
       "    .dataframe tbody tr th {\n",
       "        vertical-align: top;\n",
       "    }\n",
       "\n",
       "    .dataframe thead th {\n",
       "        text-align: right;\n",
       "    }\n",
       "</style>\n",
       "<table border=\"1\" class=\"dataframe\">\n",
       "  <thead>\n",
       "    <tr style=\"text-align: right;\">\n",
       "      <th></th>\n",
       "      <th>importances</th>\n",
       "    </tr>\n",
       "  </thead>\n",
       "  <tbody>\n",
       "    <tr>\n",
       "      <th>duration</th>\n",
       "      <td>0.583937</td>\n",
       "    </tr>\n",
       "    <tr>\n",
       "      <th>nr_employed</th>\n",
       "      <td>0.394979</td>\n",
       "    </tr>\n",
       "    <tr>\n",
       "      <th>euribor3m</th>\n",
       "      <td>0.011983</td>\n",
       "    </tr>\n",
       "    <tr>\n",
       "      <th>cons_conf_idx</th>\n",
       "      <td>0.007800</td>\n",
       "    </tr>\n",
       "    <tr>\n",
       "      <th>contact_telephone</th>\n",
       "      <td>0.001014</td>\n",
       "    </tr>\n",
       "    <tr>\n",
       "      <th>education_university_degree</th>\n",
       "      <td>0.000222</td>\n",
       "    </tr>\n",
       "    <tr>\n",
       "      <th>emp_var_rate</th>\n",
       "      <td>0.000064</td>\n",
       "    </tr>\n",
       "    <tr>\n",
       "      <th>loan_unknown</th>\n",
       "      <td>0.000000</td>\n",
       "    </tr>\n",
       "    <tr>\n",
       "      <th>month_aug</th>\n",
       "      <td>0.000000</td>\n",
       "    </tr>\n",
       "    <tr>\n",
       "      <th>loan_yes</th>\n",
       "      <td>0.000000</td>\n",
       "    </tr>\n",
       "    <tr>\n",
       "      <th>age</th>\n",
       "      <td>0.000000</td>\n",
       "    </tr>\n",
       "    <tr>\n",
       "      <th>housing_yes</th>\n",
       "      <td>0.000000</td>\n",
       "    </tr>\n",
       "    <tr>\n",
       "      <th>month_jul</th>\n",
       "      <td>0.000000</td>\n",
       "    </tr>\n",
       "    <tr>\n",
       "      <th>housing_unknown</th>\n",
       "      <td>0.000000</td>\n",
       "    </tr>\n",
       "    <tr>\n",
       "      <th>default_yes</th>\n",
       "      <td>0.000000</td>\n",
       "    </tr>\n",
       "    <tr>\n",
       "      <th>default_unknown</th>\n",
       "      <td>0.000000</td>\n",
       "    </tr>\n",
       "    <tr>\n",
       "      <th>month_dec</th>\n",
       "      <td>0.000000</td>\n",
       "    </tr>\n",
       "    <tr>\n",
       "      <th>month_may</th>\n",
       "      <td>0.000000</td>\n",
       "    </tr>\n",
       "    <tr>\n",
       "      <th>month_jun</th>\n",
       "      <td>0.000000</td>\n",
       "    </tr>\n",
       "    <tr>\n",
       "      <th>month_mar</th>\n",
       "      <td>0.000000</td>\n",
       "    </tr>\n",
       "    <tr>\n",
       "      <th>month_nov</th>\n",
       "      <td>0.000000</td>\n",
       "    </tr>\n",
       "    <tr>\n",
       "      <th>month_oct</th>\n",
       "      <td>0.000000</td>\n",
       "    </tr>\n",
       "    <tr>\n",
       "      <th>month_sep</th>\n",
       "      <td>0.000000</td>\n",
       "    </tr>\n",
       "    <tr>\n",
       "      <th>day_of_week_mon</th>\n",
       "      <td>0.000000</td>\n",
       "    </tr>\n",
       "    <tr>\n",
       "      <th>day_of_week_thu</th>\n",
       "      <td>0.000000</td>\n",
       "    </tr>\n",
       "    <tr>\n",
       "      <th>day_of_week_tue</th>\n",
       "      <td>0.000000</td>\n",
       "    </tr>\n",
       "    <tr>\n",
       "      <th>day_of_week_wed</th>\n",
       "      <td>0.000000</td>\n",
       "    </tr>\n",
       "    <tr>\n",
       "      <th>poutcome_nonexistent</th>\n",
       "      <td>0.000000</td>\n",
       "    </tr>\n",
       "    <tr>\n",
       "      <th>education_unknown</th>\n",
       "      <td>0.000000</td>\n",
       "    </tr>\n",
       "    <tr>\n",
       "      <th>education_high_school</th>\n",
       "      <td>0.000000</td>\n",
       "    </tr>\n",
       "    <tr>\n",
       "      <th>education_professional_course</th>\n",
       "      <td>0.000000</td>\n",
       "    </tr>\n",
       "    <tr>\n",
       "      <th>job_self_employed</th>\n",
       "      <td>0.000000</td>\n",
       "    </tr>\n",
       "    <tr>\n",
       "      <th>campaign</th>\n",
       "      <td>0.000000</td>\n",
       "    </tr>\n",
       "    <tr>\n",
       "      <th>pdays</th>\n",
       "      <td>0.000000</td>\n",
       "    </tr>\n",
       "    <tr>\n",
       "      <th>previous</th>\n",
       "      <td>0.000000</td>\n",
       "    </tr>\n",
       "    <tr>\n",
       "      <th>cons_price_idx</th>\n",
       "      <td>0.000000</td>\n",
       "    </tr>\n",
       "    <tr>\n",
       "      <th>job_blue_collar</th>\n",
       "      <td>0.000000</td>\n",
       "    </tr>\n",
       "    <tr>\n",
       "      <th>job_entrepreneur</th>\n",
       "      <td>0.000000</td>\n",
       "    </tr>\n",
       "    <tr>\n",
       "      <th>job_housemaid</th>\n",
       "      <td>0.000000</td>\n",
       "    </tr>\n",
       "    <tr>\n",
       "      <th>job_management</th>\n",
       "      <td>0.000000</td>\n",
       "    </tr>\n",
       "    <tr>\n",
       "      <th>job_retired</th>\n",
       "      <td>0.000000</td>\n",
       "    </tr>\n",
       "    <tr>\n",
       "      <th>job_services</th>\n",
       "      <td>0.000000</td>\n",
       "    </tr>\n",
       "    <tr>\n",
       "      <th>education_illiterate</th>\n",
       "      <td>0.000000</td>\n",
       "    </tr>\n",
       "    <tr>\n",
       "      <th>job_student</th>\n",
       "      <td>0.000000</td>\n",
       "    </tr>\n",
       "    <tr>\n",
       "      <th>job_technician</th>\n",
       "      <td>0.000000</td>\n",
       "    </tr>\n",
       "    <tr>\n",
       "      <th>job_unemployed</th>\n",
       "      <td>0.000000</td>\n",
       "    </tr>\n",
       "    <tr>\n",
       "      <th>job_unknown</th>\n",
       "      <td>0.000000</td>\n",
       "    </tr>\n",
       "    <tr>\n",
       "      <th>marital_married</th>\n",
       "      <td>0.000000</td>\n",
       "    </tr>\n",
       "    <tr>\n",
       "      <th>marital_single</th>\n",
       "      <td>0.000000</td>\n",
       "    </tr>\n",
       "    <tr>\n",
       "      <th>marital_unknown</th>\n",
       "      <td>0.000000</td>\n",
       "    </tr>\n",
       "    <tr>\n",
       "      <th>education_basic_6y</th>\n",
       "      <td>0.000000</td>\n",
       "    </tr>\n",
       "    <tr>\n",
       "      <th>education_basic_9y</th>\n",
       "      <td>0.000000</td>\n",
       "    </tr>\n",
       "    <tr>\n",
       "      <th>poutcome_success</th>\n",
       "      <td>0.000000</td>\n",
       "    </tr>\n",
       "  </tbody>\n",
       "</table>\n",
       "</div>"
      ],
      "text/plain": [
       "                               importances\n",
       "duration                          0.583937\n",
       "nr_employed                       0.394979\n",
       "euribor3m                         0.011983\n",
       "cons_conf_idx                     0.007800\n",
       "contact_telephone                 0.001014\n",
       "education_university_degree       0.000222\n",
       "emp_var_rate                      0.000064\n",
       "loan_unknown                      0.000000\n",
       "month_aug                         0.000000\n",
       "loan_yes                          0.000000\n",
       "age                               0.000000\n",
       "housing_yes                       0.000000\n",
       "month_jul                         0.000000\n",
       "housing_unknown                   0.000000\n",
       "default_yes                       0.000000\n",
       "default_unknown                   0.000000\n",
       "month_dec                         0.000000\n",
       "month_may                         0.000000\n",
       "month_jun                         0.000000\n",
       "month_mar                         0.000000\n",
       "month_nov                         0.000000\n",
       "month_oct                         0.000000\n",
       "month_sep                         0.000000\n",
       "day_of_week_mon                   0.000000\n",
       "day_of_week_thu                   0.000000\n",
       "day_of_week_tue                   0.000000\n",
       "day_of_week_wed                   0.000000\n",
       "poutcome_nonexistent              0.000000\n",
       "education_unknown                 0.000000\n",
       "education_high_school             0.000000\n",
       "education_professional_course     0.000000\n",
       "job_self_employed                 0.000000\n",
       "campaign                          0.000000\n",
       "pdays                             0.000000\n",
       "previous                          0.000000\n",
       "cons_price_idx                    0.000000\n",
       "job_blue_collar                   0.000000\n",
       "job_entrepreneur                  0.000000\n",
       "job_housemaid                     0.000000\n",
       "job_management                    0.000000\n",
       "job_retired                       0.000000\n",
       "job_services                      0.000000\n",
       "education_illiterate              0.000000\n",
       "job_student                       0.000000\n",
       "job_technician                    0.000000\n",
       "job_unemployed                    0.000000\n",
       "job_unknown                       0.000000\n",
       "marital_married                   0.000000\n",
       "marital_single                    0.000000\n",
       "marital_unknown                   0.000000\n",
       "education_basic_6y                0.000000\n",
       "education_basic_9y                0.000000\n",
       "poutcome_success                  0.000000"
      ]
     },
     "execution_count": 26,
     "metadata": {},
     "output_type": "execute_result"
    }
   ],
   "source": [
    "importances.sort_values(by=\"importances\", ascending=False)"
   ]
  },
  {
   "cell_type": "markdown",
   "metadata": {},
   "source": [
    "As can be seen from importances, only first several variables have significant influence on tree classification. "
   ]
  },
  {
   "cell_type": "code",
   "execution_count": 30,
   "metadata": {},
   "outputs": [
    {
     "data": {
      "text/plain": [
       "0.9048543689320389"
      ]
     },
     "execution_count": 30,
     "metadata": {},
     "output_type": "execute_result"
    }
   ],
   "source": [
    "#let's cut the tree\n",
    "tree_2=DecisionTreeClassifier(max_depth=3,min_samples_leaf=100,random_state=42)\n",
    "tree_2.fit(x_train,y_train)\n",
    "tree_2.score(x_test,y_test)"
   ]
  },
  {
   "cell_type": "code",
   "execution_count": 29,
   "metadata": {},
   "outputs": [],
   "source": [
    "#let's visually see the tree\n",
    "tree_gr=export_graphviz(tree_2,out_file=\"tree2.dot\", class_names=True, feature_names=X.columns, filled=True) \n",
    "#Go to http://webgraphviz.com/, enter the code from the word file saved"
   ]
  },
  {
   "cell_type": "code",
   "execution_count": null,
   "metadata": {},
   "outputs": [],
   "source": []
  }
 ],
 "metadata": {
  "kernelspec": {
   "display_name": "Python 3",
   "language": "python",
   "name": "python3"
  },
  "language_info": {
   "codemirror_mode": {
    "name": "ipython",
    "version": 3
   },
   "file_extension": ".py",
   "mimetype": "text/x-python",
   "name": "python",
   "nbconvert_exporter": "python",
   "pygments_lexer": "ipython3",
   "version": "3.6.5"
  }
 },
 "nbformat": 4,
 "nbformat_minor": 2
}
