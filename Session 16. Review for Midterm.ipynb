{
 "cells": [
  {
   "cell_type": "markdown",
   "metadata": {},
   "source": [
    "<h1 style=\"text-align:center\">General sequence of steps that we will follow</h1>\n",
    "![Sequence_of_analysis.png](https://raw.githubusercontent.com/Parandzem-S/Business-Analitics_Fall2018_TA/master/Sequence_of_analysis.png)"
   ]
  },
  {
   "cell_type": "code",
   "execution_count": 7,
   "metadata": {},
   "outputs": [],
   "source": [
    "import numpy as np\n",
    "import pandas as pd\n",
    "import matplotlib.pyplot as plt\n",
    "import seaborn as sns\n",
    "from sklearn.tree import DecisionTreeClassifier,export_graphviz \n",
    "from sklearn.model_selection import train_test_split\n",
    "from statsmodels.discrete.discrete_model import Logit\n",
    "from sklearn.linear_model import LogisticRegression\n",
    "from sklearn.metrics import confusion_matrix, classification_report\n",
    "from sklearn.model_selection import GridSearchCV\n",
    "from sklearn.metrics import recall_score, roc_auc_score, roc_curve\n",
    "from sklearn.preprocessing import StandardScaler"
   ]
  },
  {
   "cell_type": "markdown",
   "metadata": {},
   "source": [
    "# Step 1. Formulate problem"
   ]
  },
  {
   "cell_type": "markdown",
   "metadata": {},
   "source": [
    "### We want to analyse the data about 201 stocks and understand whether a stock is going to pay dividend or not."
   ]
  },
  {
   "cell_type": "markdown",
   "metadata": {},
   "source": [
    "# Step 2. Data Collection"
   ]
  },
  {
   "cell_type": "markdown",
   "metadata": {},
   "source": [
    "### We will skip this step as we're using the already collected data. Let's read data."
   ]
  },
  {
   "cell_type": "code",
   "execution_count": 13,
   "metadata": {},
   "outputs": [],
   "source": [
    "data=pd.read_excel(\"dividend.xlsx\")"
   ]
  },
  {
   "cell_type": "markdown",
   "metadata": {},
   "source": [
    "# Step 3. Summary Statistics and Visualization"
   ]
  },
  {
   "cell_type": "code",
   "execution_count": 14,
   "metadata": {},
   "outputs": [
    {
     "data": {
      "text/html": [
       "<div>\n",
       "<style scoped>\n",
       "    .dataframe tbody tr th:only-of-type {\n",
       "        vertical-align: middle;\n",
       "    }\n",
       "\n",
       "    .dataframe tbody tr th {\n",
       "        vertical-align: top;\n",
       "    }\n",
       "\n",
       "    .dataframe thead th {\n",
       "        text-align: right;\n",
       "    }\n",
       "</style>\n",
       "<table border=\"1\" class=\"dataframe\">\n",
       "  <thead>\n",
       "    <tr style=\"text-align: right;\">\n",
       "      <th></th>\n",
       "      <th>dividend</th>\n",
       "      <th>fcfps</th>\n",
       "      <th>earnings_growth</th>\n",
       "      <th>de</th>\n",
       "      <th>mcap</th>\n",
       "      <th>current_ratio</th>\n",
       "      <th>country</th>\n",
       "    </tr>\n",
       "  </thead>\n",
       "  <tbody>\n",
       "    <tr>\n",
       "      <th>0</th>\n",
       "      <td>0</td>\n",
       "      <td>2.75</td>\n",
       "      <td>-19.25</td>\n",
       "      <td>1.11</td>\n",
       "      <td>545.0</td>\n",
       "      <td>0.924056</td>\n",
       "      <td>US</td>\n",
       "    </tr>\n",
       "    <tr>\n",
       "      <th>1</th>\n",
       "      <td>1</td>\n",
       "      <td>4.96</td>\n",
       "      <td>0.83</td>\n",
       "      <td>1.09</td>\n",
       "      <td>630.0</td>\n",
       "      <td>1.468572</td>\n",
       "      <td>EUR</td>\n",
       "    </tr>\n",
       "    <tr>\n",
       "      <th>2</th>\n",
       "      <td>1</td>\n",
       "      <td>2.78</td>\n",
       "      <td>1.09</td>\n",
       "      <td>0.19</td>\n",
       "      <td>562.0</td>\n",
       "      <td>1.975875</td>\n",
       "      <td>US</td>\n",
       "    </tr>\n",
       "    <tr>\n",
       "      <th>3</th>\n",
       "      <td>0</td>\n",
       "      <td>0.43</td>\n",
       "      <td>12.97</td>\n",
       "      <td>1.70</td>\n",
       "      <td>388.0</td>\n",
       "      <td>1.941998</td>\n",
       "      <td>Other</td>\n",
       "    </tr>\n",
       "    <tr>\n",
       "      <th>4</th>\n",
       "      <td>1</td>\n",
       "      <td>2.94</td>\n",
       "      <td>2.44</td>\n",
       "      <td>1.83</td>\n",
       "      <td>684.0</td>\n",
       "      <td>2.487467</td>\n",
       "      <td>EUR</td>\n",
       "    </tr>\n",
       "  </tbody>\n",
       "</table>\n",
       "</div>"
      ],
      "text/plain": [
       "   dividend  fcfps  earnings_growth    de   mcap  current_ratio country\n",
       "0         0   2.75           -19.25  1.11  545.0       0.924056      US\n",
       "1         1   4.96             0.83  1.09  630.0       1.468572     EUR\n",
       "2         1   2.78             1.09  0.19  562.0       1.975875      US\n",
       "3         0   0.43            12.97  1.70  388.0       1.941998   Other\n",
       "4         1   2.94             2.44  1.83  684.0       2.487467     EUR"
      ]
     },
     "execution_count": 14,
     "metadata": {},
     "output_type": "execute_result"
    }
   ],
   "source": [
    "data.head()"
   ]
  },
  {
   "cell_type": "markdown",
   "metadata": {},
   "source": [
    "### Dependent variable is dividend: 1-pays dividend, 0-does not pay dividend."
   ]
  },
  {
   "cell_type": "code",
   "execution_count": 15,
   "metadata": {},
   "outputs": [
    {
     "name": "stdout",
     "output_type": "stream",
     "text": [
      "<class 'pandas.core.frame.DataFrame'>\n",
      "RangeIndex: 201 entries, 0 to 200\n",
      "Data columns (total 7 columns):\n",
      "dividend           201 non-null int64\n",
      "fcfps              201 non-null float64\n",
      "earnings_growth    201 non-null float64\n",
      "de                 200 non-null float64\n",
      "mcap               200 non-null float64\n",
      "current_ratio      200 non-null float64\n",
      "country            200 non-null object\n",
      "dtypes: float64(5), int64(1), object(1)\n",
      "memory usage: 11.1+ KB\n"
     ]
    }
   ],
   "source": [
    "data.info()"
   ]
  },
  {
   "cell_type": "markdown",
   "metadata": {},
   "source": [
    "### We see that there are missing values."
   ]
  },
  {
   "cell_type": "code",
   "execution_count": 19,
   "metadata": {},
   "outputs": [
    {
     "data": {
      "text/html": [
       "<div>\n",
       "<style scoped>\n",
       "    .dataframe tbody tr th:only-of-type {\n",
       "        vertical-align: middle;\n",
       "    }\n",
       "\n",
       "    .dataframe tbody tr th {\n",
       "        vertical-align: top;\n",
       "    }\n",
       "\n",
       "    .dataframe thead th {\n",
       "        text-align: right;\n",
       "    }\n",
       "</style>\n",
       "<table border=\"1\" class=\"dataframe\">\n",
       "  <thead>\n",
       "    <tr style=\"text-align: right;\">\n",
       "      <th></th>\n",
       "      <th>dividend</th>\n",
       "      <th>fcfps</th>\n",
       "      <th>earnings_growth</th>\n",
       "      <th>de</th>\n",
       "      <th>mcap</th>\n",
       "      <th>current_ratio</th>\n",
       "    </tr>\n",
       "  </thead>\n",
       "  <tbody>\n",
       "    <tr>\n",
       "      <th>count</th>\n",
       "      <td>200.000000</td>\n",
       "      <td>200.000000</td>\n",
       "      <td>200.000000</td>\n",
       "      <td>200.000000</td>\n",
       "      <td>200.000000</td>\n",
       "      <td>200.000000</td>\n",
       "    </tr>\n",
       "    <tr>\n",
       "      <th>mean</th>\n",
       "      <td>0.510000</td>\n",
       "      <td>2.265900</td>\n",
       "      <td>11.592550</td>\n",
       "      <td>2.138400</td>\n",
       "      <td>417.930000</td>\n",
       "      <td>1.502255</td>\n",
       "    </tr>\n",
       "    <tr>\n",
       "      <th>std</th>\n",
       "      <td>0.501154</td>\n",
       "      <td>1.279698</td>\n",
       "      <td>15.012439</td>\n",
       "      <td>1.047242</td>\n",
       "      <td>186.584011</td>\n",
       "      <td>0.716991</td>\n",
       "    </tr>\n",
       "    <tr>\n",
       "      <th>min</th>\n",
       "      <td>0.000000</td>\n",
       "      <td>0.070000</td>\n",
       "      <td>-19.250000</td>\n",
       "      <td>0.060000</td>\n",
       "      <td>103.000000</td>\n",
       "      <td>0.001436</td>\n",
       "    </tr>\n",
       "    <tr>\n",
       "      <th>25%</th>\n",
       "      <td>0.000000</td>\n",
       "      <td>1.295000</td>\n",
       "      <td>0.170000</td>\n",
       "      <td>1.450000</td>\n",
       "      <td>289.500000</td>\n",
       "      <td>1.038044</td>\n",
       "    </tr>\n",
       "    <tr>\n",
       "      <th>50%</th>\n",
       "      <td>1.000000</td>\n",
       "      <td>2.085000</td>\n",
       "      <td>11.055000</td>\n",
       "      <td>2.195000</td>\n",
       "      <td>380.500000</td>\n",
       "      <td>1.508622</td>\n",
       "    </tr>\n",
       "    <tr>\n",
       "      <th>75%</th>\n",
       "      <td>1.000000</td>\n",
       "      <td>3.040000</td>\n",
       "      <td>24.157500</td>\n",
       "      <td>2.930000</td>\n",
       "      <td>551.250000</td>\n",
       "      <td>1.960627</td>\n",
       "    </tr>\n",
       "    <tr>\n",
       "      <th>max</th>\n",
       "      <td>1.000000</td>\n",
       "      <td>5.000000</td>\n",
       "      <td>40.100000</td>\n",
       "      <td>3.990000</td>\n",
       "      <td>799.000000</td>\n",
       "      <td>2.905462</td>\n",
       "    </tr>\n",
       "  </tbody>\n",
       "</table>\n",
       "</div>"
      ],
      "text/plain": [
       "         dividend       fcfps  earnings_growth          de        mcap  \\\n",
       "count  200.000000  200.000000       200.000000  200.000000  200.000000   \n",
       "mean     0.510000    2.265900        11.592550    2.138400  417.930000   \n",
       "std      0.501154    1.279698        15.012439    1.047242  186.584011   \n",
       "min      0.000000    0.070000       -19.250000    0.060000  103.000000   \n",
       "25%      0.000000    1.295000         0.170000    1.450000  289.500000   \n",
       "50%      1.000000    2.085000        11.055000    2.195000  380.500000   \n",
       "75%      1.000000    3.040000        24.157500    2.930000  551.250000   \n",
       "max      1.000000    5.000000        40.100000    3.990000  799.000000   \n",
       "\n",
       "       current_ratio  \n",
       "count     200.000000  \n",
       "mean        1.502255  \n",
       "std         0.716991  \n",
       "min         0.001436  \n",
       "25%         1.038044  \n",
       "50%         1.508622  \n",
       "75%         1.960627  \n",
       "max         2.905462  "
      ]
     },
     "execution_count": 19,
     "metadata": {},
     "output_type": "execute_result"
    }
   ],
   "source": [
    "data.describe()"
   ]
  },
  {
   "cell_type": "code",
   "execution_count": 149,
   "metadata": {},
   "outputs": [
    {
     "data": {
      "image/png": "[encoded data removed]",
      "text/plain": [
       "<Figure size 432x288 with 1 Axes>"
      ]
     },
     "metadata": {},
     "output_type": "display_data"
    },
    {
     "name": "stdout",
     "output_type": "stream",
     "text": [
      "1    51.0\n",
      "0    49.0\n",
      "Name: dividend, dtype: float64\n"
     ]
    }
   ],
   "source": [
    "sns.countplot(data.dividend)\n",
    "plt.show()\n",
    "print((data.dividend.value_counts()/len(data)*100).round(2))"
   ]
  },
  {
   "cell_type": "markdown",
   "metadata": {},
   "source": [
    "### We have almost balanced data."
   ]
  },
  {
   "cell_type": "code",
   "execution_count": 32,
   "metadata": {},
   "outputs": [
    {
     "data": {
      "image/png": "[encoded data removed]",
      "text/plain": [
       "<Figure size 432x288 with 1 Axes>"
      ]
     },
     "metadata": {},
     "output_type": "display_data"
    },
    {
     "data": {
      "image/png": "[encoded data removed]",
      "text/plain": [
       "<Figure size 432x288 with 1 Axes>"
      ]
     },
     "metadata": {},
     "output_type": "display_data"
    },
    {
     "data": {
      "image/png": "[encoded data removed]",
      "text/plain": [
       "<Figure size 432x288 with 1 Axes>"
      ]
     },
     "metadata": {},
     "output_type": "display_data"
    },
    {
     "data": {
      "image/png": "[encoded data removed]",
      "text/plain": [
       "<Figure size 432x288 with 1 Axes>"
      ]
     },
     "metadata": {},
     "output_type": "display_data"
    },
    {
     "data": {
      "image/png": "[encoded data removed]",
      "text/plain": [
       "<Figure size 432x288 with 1 Axes>"
      ]
     },
     "metadata": {},
     "output_type": "display_data"
    }
   ],
   "source": [
    "for i in data.iloc[:,1:6]:\n",
    "  plt.boxplot(data[i])\n",
    "  plt.title(i)\n",
    "  plt.show()"
   ]
  },
  {
   "cell_type": "markdown",
   "metadata": {},
   "source": [
    "### No outliers. "
   ]
  },
  {
   "cell_type": "code",
   "execution_count": 20,
   "metadata": {},
   "outputs": [
    {
     "data": {
      "image/png": "[encoded data removed]",
      "text/plain": [
       "<Figure size 432x288 with 1 Axes>"
      ]
     },
     "metadata": {},
     "output_type": "display_data"
    }
   ],
   "source": [
    "#let's see whether there is diiference in distribution of market capitalization by stocks which paid and didn't pay dividends\n",
    "sns.set_style(\"darkgrid\")\n",
    "sns.boxplot(data.dividend,data.mcap,showmeans=True)\n",
    "plt.show()"
   ]
  },
  {
   "cell_type": "code",
   "execution_count": 21,
   "metadata": {},
   "outputs": [
    {
     "data": {
      "image/png": "[encoded data removed]",
      "text/plain": [
       "<Figure size 432x288 with 1 Axes>"
      ]
     },
     "metadata": {},
     "output_type": "display_data"
    }
   ],
   "source": [
    "#let's see whether there is diiference in distribution of current ratio by stocks which paid and didn't pay dividends\n",
    "sns.set_style(\"darkgrid\")\n",
    "sns.boxplot(data.dividend,data.current_ratio,showmeans=True)\n",
    "plt.show()"
   ]
  },
  {
   "cell_type": "markdown",
   "metadata": {},
   "source": [
    "### We saw that in both cases there are quite visibe differences of mean and median values of mcap and current_ratio for stocks which paid and didn't pay dividends."
   ]
  },
  {
   "cell_type": "code",
   "execution_count": 33,
   "metadata": {},
   "outputs": [
    {
     "name": "stderr",
     "output_type": "stream",
     "text": [
      "C:\\Users\\HP\\Anaconda3\\lib\\site-packages\\matplotlib\\axes\\_axes.py:6462: UserWarning: The 'normed' kwarg is deprecated, and has been replaced by the 'density' kwarg.\n",
      "  warnings.warn(\"The 'normed' kwarg is deprecated, and has been \"\n"
     ]
    },
    {
     "data": {
      "image/png": "[encoded data removed]",
      "text/plain": [
       "<Figure size 432x288 with 1 Axes>"
      ]
     },
     "metadata": {},
     "output_type": "display_data"
    }
   ],
   "source": [
    "#plot the distribution using seaborn\n",
    "sns.distplot(data.mcap)\n",
    "plt.show()"
   ]
  },
  {
   "cell_type": "code",
   "execution_count": 54,
   "metadata": {},
   "outputs": [
    {
     "data": {
      "image/png": "[encoded data removed]",
      "text/plain": [
       "<Figure size 432x288 with 1 Axes>"
      ]
     },
     "metadata": {},
     "output_type": "display_data"
    }
   ],
   "source": [
    "#kernel density estimation\n",
    "for col in [data.fcfps,data.current_ratio]:\n",
    "    sns.kdeplot(col, shade=True)"
   ]
  },
  {
   "cell_type": "code",
   "execution_count": 127,
   "metadata": {},
   "outputs": [
    {
     "data": {
      "image/png": "[encoded data removed]",
      "text/plain": [
       "<Figure size 432x288 with 2 Axes>"
      ]
     },
     "metadata": {},
     "output_type": "display_data"
    }
   ],
   "source": [
    "#Lets check for correlations\n",
    "sns.heatmap(data.corr().abs().round(2),annot=True)\n",
    "plt.show()"
   ]
  },
  {
   "cell_type": "markdown",
   "metadata": {},
   "source": [
    "### No variables with correlation above 75%."
   ]
  },
  {
   "cell_type": "markdown",
   "metadata": {},
   "source": [
    "# Step 4. Transform data"
   ]
  },
  {
   "cell_type": "markdown",
   "metadata": {},
   "source": [
    "### As we saw above that we have NAs, let's drop them."
   ]
  },
  {
   "cell_type": "code",
   "execution_count": 56,
   "metadata": {},
   "outputs": [
    {
     "name": "stdout",
     "output_type": "stream",
     "text": [
      "<class 'pandas.core.frame.DataFrame'>\n",
      "Int64Index: 200 entries, 0 to 199\n",
      "Data columns (total 7 columns):\n",
      "dividend           200 non-null int64\n",
      "fcfps              200 non-null float64\n",
      "earnings_growth    200 non-null float64\n",
      "de                 200 non-null float64\n",
      "mcap               200 non-null float64\n",
      "current_ratio      200 non-null float64\n",
      "country            200 non-null object\n",
      "dtypes: float64(5), int64(1), object(1)\n",
      "memory usage: 12.5+ KB\n"
     ]
    }
   ],
   "source": [
    "data=data.dropna()\n",
    "data.info() #now there are no outliers"
   ]
  },
  {
   "cell_type": "code",
   "execution_count": 59,
   "metadata": {},
   "outputs": [],
   "source": [
    "#let's devide into object and numeric datasets\n",
    "data_object=data.select_dtypes(include=\"object\")\n",
    "data_numeric=data.select_dtypes(exclude=\"object\")"
   ]
  },
  {
   "cell_type": "code",
   "execution_count": 67,
   "metadata": {},
   "outputs": [
    {
     "name": "stdout",
     "output_type": "stream",
     "text": [
      "[EUR      71\n",
      "US       71\n",
      "Other    58\n",
      "Name: country, dtype: int64]\n"
     ]
    }
   ],
   "source": [
    "#let's check number of uniques values of object variables\n",
    "print([data_object[i].value_counts() for i in data_object.columns])"
   ]
  },
  {
   "cell_type": "code",
   "execution_count": 72,
   "metadata": {},
   "outputs": [
    {
     "name": "stdout",
     "output_type": "stream",
     "text": [
      "dividend           False\n",
      "fcfps              False\n",
      "earnings_growth    False\n",
      "de                 False\n",
      "mcap               False\n",
      "current_ratio      False\n",
      "dtype: bool\n"
     ]
    }
   ],
   "source": [
    "#let's check for 0 variance of numeric variables\n",
    "print(data_numeric.var()==0)"
   ]
  },
  {
   "cell_type": "code",
   "execution_count": 73,
   "metadata": {},
   "outputs": [],
   "source": [
    "#let's conver object variables into dummies, join back datasets\n",
    "#Do train-test split\n",
    "data_dummies=pd.get_dummies(data_object,drop_first=True)\n",
    "data_final=data_dummies.join(data_numeric)\n",
    "X=data_final.drop(\"dividend\",axis=1)\n",
    "Y=data_final.dividend\n",
    "x_train,x_test,y_train,y_test=train_test_split(X,Y,test_size=0.25,random_state=42)"
   ]
  },
  {
   "cell_type": "markdown",
   "metadata": {},
   "source": [
    "# Step 5. Modeling"
   ]
  },
  {
   "cell_type": "markdown",
   "metadata": {},
   "source": [
    "<b>Lets create 3 models: \n",
    "- Model 1-Logistic Regression from statsmodel\n",
    "- Model 2-Logistic Regression from sklearn\n",
    "- Model 3-Decision Tree Classification\n",
    "</b>"
   ]
  },
  {
   "cell_type": "markdown",
   "metadata": {},
   "source": [
    "<h3>Model 1.Logistic Regression from statsmodel </h3>"
   ]
  },
  {
   "cell_type": "code",
   "execution_count": 76,
   "metadata": {},
   "outputs": [
    {
     "data": {
      "text/plain": [
       "'dividend~country_Other+country_US+fcfps+earnings_growth+de+mcap+current_ratio'"
      ]
     },
     "execution_count": 76,
     "metadata": {},
     "output_type": "execute_result"
    }
   ],
   "source": [
    "formula=\"dividend~\"+\"+\".join(X.columns)\n",
    "formula"
   ]
  },
  {
   "cell_type": "code",
   "execution_count": 80,
   "metadata": {},
   "outputs": [
    {
     "name": "stdout",
     "output_type": "stream",
     "text": [
      "Optimization terminated successfully.\n",
      "         Current function value: 0.089581\n",
      "         Iterations 11\n"
     ]
    }
   ],
   "source": [
    "model1=Logit.from_formula(formula=formula,data=data_final).fit()"
   ]
  },
  {
   "cell_type": "code",
   "execution_count": 81,
   "metadata": {},
   "outputs": [
    {
     "data": {
      "text/html": [
       "<table class=\"simpletable\">\n",
       "<caption>Logit Regression Results</caption>\n",
       "<tr>\n",
       "  <th>Dep. Variable:</th>     <td>dividend</td>     <th>  No. Observations:  </th>  <td>   200</td>  \n",
       "</tr>\n",
       "<tr>\n",
       "  <th>Model:</th>               <td>Logit</td>      <th>  Df Residuals:      </th>  <td>   192</td>  \n",
       "</tr>\n",
       "<tr>\n",
       "  <th>Method:</th>               <td>MLE</td>       <th>  Df Model:          </th>  <td>     7</td>  \n",
       "</tr>\n",
       "<tr>\n",
       "  <th>Date:</th>          <td>Thu, 29 Nov 2018</td> <th>  Pseudo R-squ.:     </th>  <td>0.8707</td>  \n",
       "</tr>\n",
       "<tr>\n",
       "  <th>Time:</th>              <td>01:33:48</td>     <th>  Log-Likelihood:    </th> <td> -17.916</td> \n",
       "</tr>\n",
       "<tr>\n",
       "  <th>converged:</th>           <td>True</td>       <th>  LL-Null:           </th> <td> -138.59</td> \n",
       "</tr>\n",
       "<tr>\n",
       "  <th> </th>                      <td> </td>        <th>  LLR p-value:       </th> <td>1.922e-48</td>\n",
       "</tr>\n",
       "</table>\n",
       "<table class=\"simpletable\">\n",
       "<tr>\n",
       "         <td></td>            <th>coef</th>     <th>std err</th>      <th>z</th>      <th>P>|z|</th>  <th>[0.025</th>    <th>0.975]</th>  \n",
       "</tr>\n",
       "<tr>\n",
       "  <th>Intercept</th>       <td>  -25.9746</td> <td>    7.427</td> <td>   -3.498</td> <td> 0.000</td> <td>  -40.531</td> <td>  -11.419</td>\n",
       "</tr>\n",
       "<tr>\n",
       "  <th>country_Other</th>   <td>    1.3084</td> <td>    1.091</td> <td>    1.200</td> <td> 0.230</td> <td>   -0.829</td> <td>    3.446</td>\n",
       "</tr>\n",
       "<tr>\n",
       "  <th>country_US</th>      <td>    2.5355</td> <td>    1.400</td> <td>    1.812</td> <td> 0.070</td> <td>   -0.208</td> <td>    5.279</td>\n",
       "</tr>\n",
       "<tr>\n",
       "  <th>fcfps</th>           <td>    2.2713</td> <td>    0.711</td> <td>    3.195</td> <td> 0.001</td> <td>    0.878</td> <td>    3.665</td>\n",
       "</tr>\n",
       "<tr>\n",
       "  <th>earnings_growth</th> <td>    0.1334</td> <td>    0.041</td> <td>    3.256</td> <td> 0.001</td> <td>    0.053</td> <td>    0.214</td>\n",
       "</tr>\n",
       "<tr>\n",
       "  <th>de</th>              <td>   -0.8549</td> <td>    0.540</td> <td>   -1.582</td> <td> 0.114</td> <td>   -1.914</td> <td>    0.204</td>\n",
       "</tr>\n",
       "<tr>\n",
       "  <th>mcap</th>            <td>    0.0255</td> <td>    0.007</td> <td>    3.454</td> <td> 0.001</td> <td>    0.011</td> <td>    0.040</td>\n",
       "</tr>\n",
       "<tr>\n",
       "  <th>current_ratio</th>   <td>    6.5094</td> <td>    2.223</td> <td>    2.928</td> <td> 0.003</td> <td>    2.152</td> <td>   10.867</td>\n",
       "</tr>\n",
       "</table><br/><br/>Possibly complete quasi-separation: A fraction 0.53 of observations can be<br/>perfectly predicted. This might indicate that there is complete<br/>quasi-separation. In this case some parameters will not be identified."
      ],
      "text/plain": [
       "<class 'statsmodels.iolib.summary.Summary'>\n",
       "\"\"\"\n",
       "                           Logit Regression Results                           \n",
       "==============================================================================\n",
       "Dep. Variable:               dividend   No. Observations:                  200\n",
       "Model:                          Logit   Df Residuals:                      192\n",
       "Method:                           MLE   Df Model:                            7\n",
       "Date:                Thu, 29 Nov 2018   Pseudo R-squ.:                  0.8707\n",
       "Time:                        01:33:48   Log-Likelihood:                -17.916\n",
       "converged:                       True   LL-Null:                       -138.59\n",
       "                                        LLR p-value:                 1.922e-48\n",
       "===================================================================================\n",
       "                      coef    std err          z      P>|z|      [0.025      0.975]\n",
       "-----------------------------------------------------------------------------------\n",
       "Intercept         -25.9746      7.427     -3.498      0.000     -40.531     -11.419\n",
       "country_Other       1.3084      1.091      1.200      0.230      -0.829       3.446\n",
       "country_US          2.5355      1.400      1.812      0.070      -0.208       5.279\n",
       "fcfps               2.2713      0.711      3.195      0.001       0.878       3.665\n",
       "earnings_growth     0.1334      0.041      3.256      0.001       0.053       0.214\n",
       "de                 -0.8549      0.540     -1.582      0.114      -1.914       0.204\n",
       "mcap                0.0255      0.007      3.454      0.001       0.011       0.040\n",
       "current_ratio       6.5094      2.223      2.928      0.003       2.152      10.867\n",
       "===================================================================================\n",
       "\n",
       "Possibly complete quasi-separation: A fraction 0.53 of observations can be\n",
       "perfectly predicted. This might indicate that there is complete\n",
       "quasi-separation. In this case some parameters will not be identified.\n",
       "\"\"\""
      ]
     },
     "execution_count": 81,
     "metadata": {},
     "output_type": "execute_result"
    }
   ],
   "source": [
    "model1.summary()"
   ]
  },
  {
   "cell_type": "markdown",
   "metadata": {},
   "source": [
    "### From the summary of the model, we see that there are 4 statistically significant variables (without intercept): "
   ]
  },
  {
   "cell_type": "code",
   "execution_count": 125,
   "metadata": {},
   "outputs": [
    {
     "name": "stdout",
     "output_type": "stream",
     "text": [
      "Intercept           True\n",
      "country_Other      False\n",
      "country_US         False\n",
      "fcfps               True\n",
      "earnings_growth     True\n",
      "de                 False\n",
      "mcap                True\n",
      "current_ratio       True\n",
      "dtype: bool\n"
     ]
    }
   ],
   "source": [
    "print(model1.pvalues<=0.05)"
   ]
  },
  {
   "cell_type": "markdown",
   "metadata": {},
   "source": [
    "### Let's get marginal effects to be able to interpret how much each variable changes the probability of paying dividend"
   ]
  },
  {
   "cell_type": "code",
   "execution_count": 129,
   "metadata": {},
   "outputs": [
    {
     "data": {
      "text/html": [
       "<table class=\"simpletable\">\n",
       "<caption>Logit Marginal Effects</caption>\n",
       "<tr>\n",
       "  <th>Dep. Variable:</th> <td>dividend</td>\n",
       "</tr>\n",
       "<tr>\n",
       "  <th>Method:</th>          <td>dydx</td>  \n",
       "</tr>\n",
       "<tr>\n",
       "  <th>At:</th>             <td>overall</td>\n",
       "</tr>\n",
       "</table>\n",
       "<table class=\"simpletable\">\n",
       "<tr>\n",
       "         <th></th>            <th>dy/dx</th>    <th>std err</th>      <th>z</th>      <th>P>|z|</th>  <th>[0.025</th>    <th>0.975]</th>  \n",
       "</tr>\n",
       "<tr>\n",
       "  <th>country_Other</th>   <td>    0.0359</td> <td>    0.029</td> <td>    1.257</td> <td> 0.209</td> <td>   -0.020</td> <td>    0.092</td>\n",
       "</tr>\n",
       "<tr>\n",
       "  <th>country_US</th>      <td>    0.0697</td> <td>    0.035</td> <td>    2.007</td> <td> 0.045</td> <td>    0.002</td> <td>    0.138</td>\n",
       "</tr>\n",
       "<tr>\n",
       "  <th>fcfps</th>           <td>    0.0624</td> <td>    0.013</td> <td>    4.802</td> <td> 0.000</td> <td>    0.037</td> <td>    0.088</td>\n",
       "</tr>\n",
       "<tr>\n",
       "  <th>earnings_growth</th> <td>    0.0037</td> <td>    0.001</td> <td>    5.443</td> <td> 0.000</td> <td>    0.002</td> <td>    0.005</td>\n",
       "</tr>\n",
       "<tr>\n",
       "  <th>de</th>              <td>   -0.0235</td> <td>    0.014</td> <td>   -1.668</td> <td> 0.095</td> <td>   -0.051</td> <td>    0.004</td>\n",
       "</tr>\n",
       "<tr>\n",
       "  <th>mcap</th>            <td>    0.0007</td> <td>    0.000</td> <td>    5.901</td> <td> 0.000</td> <td>    0.000</td> <td>    0.001</td>\n",
       "</tr>\n",
       "<tr>\n",
       "  <th>current_ratio</th>   <td>    0.1788</td> <td>    0.047</td> <td>    3.793</td> <td> 0.000</td> <td>    0.086</td> <td>    0.271</td>\n",
       "</tr>\n",
       "</table>"
      ],
      "text/plain": [
       "<class 'statsmodels.iolib.summary.Summary'>\n",
       "\"\"\"\n",
       "        Logit Marginal Effects       \n",
       "=====================================\n",
       "Dep. Variable:               dividend\n",
       "Method:                          dydx\n",
       "At:                           overall\n",
       "===================================================================================\n",
       "                     dy/dx    std err          z      P>|z|      [0.025      0.975]\n",
       "-----------------------------------------------------------------------------------\n",
       "country_Other       0.0359      0.029      1.257      0.209      -0.020       0.092\n",
       "country_US          0.0697      0.035      2.007      0.045       0.002       0.138\n",
       "fcfps               0.0624      0.013      4.802      0.000       0.037       0.088\n",
       "earnings_growth     0.0037      0.001      5.443      0.000       0.002       0.005\n",
       "de                 -0.0235      0.014     -1.668      0.095      -0.051       0.004\n",
       "mcap                0.0007      0.000      5.901      0.000       0.000       0.001\n",
       "current_ratio       0.1788      0.047      3.793      0.000       0.086       0.271\n",
       "===================================================================================\n",
       "\"\"\""
      ]
     },
     "execution_count": 129,
     "metadata": {},
     "output_type": "execute_result"
    }
   ],
   "source": [
    "model1.get_margeff().summary()"
   ]
  },
  {
   "cell_type": "markdown",
   "metadata": {},
   "source": [
    "### Interpreting for categorical variable: US stocks have on average 6.97% higher probabilty of paying dividends compared to European stocks when other factors held constant.\n",
    "### Interpreting for continous variable: Incremental increase in current ratio increases the probability of paying dividends on average by 17.88% when other factors held constant.  "
   ]
  },
  {
   "cell_type": "markdown",
   "metadata": {},
   "source": [
    "## Model Fitting"
   ]
  },
  {
   "cell_type": "code",
   "execution_count": 151,
   "metadata": {},
   "outputs": [],
   "source": [
    "#getting best parameters for Logit and DT\n",
    "gridsearch1=GridSearchCV(LogisticRegression(random_state=42),param_grid={\"penalty\":[\"l1\",\"l2\"],\"C\":np.linspace(0.0001,50,20),\n",
    "                                                                          \"class_weight\":[\"balanced\", None]},\n",
    "                                                            scoring=\"roc_auc\",\n",
    "                                                            cv=5,n_jobs=-1).fit(X,Y)\n",
    "gridsearch2=GridSearchCV(DecisionTreeClassifier(random_state=42),param_grid={\"max_depth\":(5,15),\"min_samples_leaf\":(20,100),\n",
    "                                                                             \"class_weight\":[\"balanced\"]},\n",
    "                                                                scoring=\"roc_auc\",\n",
    "                                                                cv=5,n_jobs=-1).fit(X,Y)"
   ]
  },
  {
   "cell_type": "code",
   "execution_count": 155,
   "metadata": {},
   "outputs": [
    {
     "name": "stdout",
     "output_type": "stream",
     "text": [
      "Best Parameters of Logit: [21.052689473684207, 'balanced', 'l2']\n",
      "Best Parameters of DT: ['balanced', 5, 20]\n"
     ]
    }
   ],
   "source": [
    "best1=list(gridsearch1.best_params_.values())\n",
    "best2=list(gridsearch2.best_params_.values())\n",
    "print(\"Best Parameters of Logit:\",best1)\n",
    "print(\"Best Parameters of DT:\",best2)"
   ]
  },
  {
   "cell_type": "code",
   "execution_count": 156,
   "metadata": {},
   "outputs": [],
   "source": [
    "#Fitting models\n",
    "logit=LogisticRegression(C=best1[0],penalty=best1[2],class_weight=best1[1],random_state=42).fit(x_train,y_train)\n",
    "tree=DecisionTreeClassifier(class_weight=best2[0],random_state=42, max_depth=best2[1],\n",
    "                            min_samples_leaf=best2[2]).fit(x_train,y_train)"
   ]
  },
  {
   "cell_type": "markdown",
   "metadata": {},
   "source": [
    "## Model Evaluation "
   ]
  },
  {
   "cell_type": "markdown",
   "metadata": {},
   "source": [
    "### Confusion matrix"
   ]
  },
  {
   "cell_type": "code",
   "execution_count": 158,
   "metadata": {},
   "outputs": [
    {
     "data": {
      "image/png": "[encoded data removed]",
      "text/plain": [
       "<Figure size 432x288 with 2 Axes>"
      ]
     },
     "metadata": {},
     "output_type": "display_data"
    },
    {
     "data": {
      "image/png": "[encoded data removed]",
      "text/plain": [
       "<Figure size 432x288 with 2 Axes>"
      ]
     },
     "metadata": {},
     "output_type": "display_data"
    }
   ],
   "source": [
    "#let's print confusion matrix for logit and decision tree\n",
    "for i in [logit,tree]:\n",
    "    sns.heatmap(confusion_matrix(y_test,i.predict(x_test)).T,annot=True)\n",
    "    plt.xlabel(\"Real\")\n",
    "    plt.ylabel(\"predic\")\n",
    "    plt.show()"
   ]
  },
  {
   "cell_type": "markdown",
   "metadata": {},
   "source": [
    "### Classification_report"
   ]
  },
  {
   "cell_type": "code",
   "execution_count": 160,
   "metadata": {},
   "outputs": [
    {
     "name": "stdout",
     "output_type": "stream",
     "text": [
      "             precision    recall  f1-score   support\n",
      "\n",
      "          0       0.96      1.00      0.98        23\n",
      "          1       1.00      0.96      0.98        27\n",
      "\n",
      "avg / total       0.98      0.98      0.98        50\n",
      "\n",
      "             precision    recall  f1-score   support\n",
      "\n",
      "          0       0.85      0.96      0.90        23\n",
      "          1       0.96      0.85      0.90        27\n",
      "\n",
      "avg / total       0.91      0.90      0.90        50\n",
      "\n"
     ]
    }
   ],
   "source": [
    "for i in [logit,tree]:\n",
    "    print(classification_report(y_test,i.predict(x_test)))"
   ]
  },
  {
   "cell_type": "markdown",
   "metadata": {},
   "source": [
    "###  Roc_AUC, Accuracy, Recall"
   ]
  },
  {
   "cell_type": "code",
   "execution_count": 163,
   "metadata": {},
   "outputs": [
    {
     "name": "stdout",
     "output_type": "stream",
     "text": [
      "roc_auc= 98.14814814814814\n",
      "roc_auc= 90.41867954911433\n",
      "recall= 96.29629629629629\n",
      "recall= 85.18518518518519\n",
      "accuracy train= 95.33333333333334\n",
      "accuracy train= 87.33333333333333\n",
      "accuracy test= 98.0\n",
      "accuracy test= 90.0\n"
     ]
    }
   ],
   "source": [
    "for i in [logit,tree]:\n",
    "    print(\"roc_auc=\",roc_auc_score(y_test,i.predict(x_test))*100)\n",
    "for i in [logit,tree]:\n",
    "    print(\"recall=\",recall_score(y_test,i.predict(x_test))*100)\n",
    "for i in [logit,tree]:\n",
    "    print(\"accuracy train=\",i.score(x_train,y_train)*100) \n",
    "for i in [logit,tree]:\n",
    "    print(\"accuracy test=\",i.score(x_test,y_test)*100)"
   ]
  },
  {
   "cell_type": "markdown",
   "metadata": {},
   "source": [
    "### Avereage cross validation roc_auc"
   ]
  },
  {
   "cell_type": "code",
   "execution_count": 193,
   "metadata": {},
   "outputs": [
    {
     "name": "stdout",
     "output_type": "stream",
     "text": [
      "Logit Avereage cross validation roc_auc: 0.9931428571428572\n",
      "Tree Avereage cross validation roc_auc: 0.9316851503759398\n"
     ]
    }
   ],
   "source": [
    "print(\"Logit Avereage cross validation roc_auc:\", gridsearch1.best_score_)\n",
    "print(\"Tree Avereage cross validation roc_auc:\", gridsearch2.best_score_)"
   ]
  },
  {
   "cell_type": "markdown",
   "metadata": {},
   "source": [
    "### ROC Curve"
   ]
  },
  {
   "cell_type": "markdown",
   "metadata": {},
   "source": [
    "### Logit"
   ]
  },
  {
   "cell_type": "code",
   "execution_count": 178,
   "metadata": {},
   "outputs": [
    {
     "name": "stdout",
     "output_type": "stream",
     "text": [
      "[0.         0.         0.08695652 0.08695652 1.        ] [0.03703704 0.96296296 0.96296296 1.         1.        ]\n"
     ]
    }
   ],
   "source": [
    "FPR,TPR,tresholds=roc_curve(y_test,logit.predict_proba(x_test)[:,1])\n",
    "print(FPR,TPR)"
   ]
  },
  {
   "cell_type": "code",
   "execution_count": 179,
   "metadata": {},
   "outputs": [
    {
     "data": {
      "image/png": "[encoded data removed]",
      "text/plain": [
       "<Figure size 432x288 with 1 Axes>"
      ]
     },
     "metadata": {},
     "output_type": "display_data"
    }
   ],
   "source": [
    "plt.plot(FPR,TPR,label=\"ROC AUC=%f\"%roc_auc_score(y_test,logit.predict(x_test)))\n",
    "plt.plot([0,1],[0,1])\n",
    "plt.legend(loc=\"lower right\")\n",
    "plt.xlabel(\"FPR\")\n",
    "plt.ylabel(\"TPR\")\n",
    "plt.show()"
   ]
  },
  {
   "cell_type": "markdown",
   "metadata": {},
   "source": [
    "### Tree"
   ]
  },
  {
   "cell_type": "code",
   "execution_count": 192,
   "metadata": {},
   "outputs": [
    {
     "data": {
      "image/png": "[encoded data removed]",
      "text/plain": [
       "<Figure size 432x288 with 1 Axes>"
      ]
     },
     "metadata": {},
     "output_type": "display_data"
    }
   ],
   "source": [
    "FPR1,TPR1,tresholds1=roc_curve(y_test,tree.predict_proba(x_test)[:,1])\n",
    "plt.figure(figsize=(6,4))\n",
    "plt.plot(FPR1,TPR1,label=\"ROC AUC=%f\"%roc_auc_score(y_test,tree.predict(x_test)))\n",
    "plt.plot([0,1],[0,1])\n",
    "plt.legend(loc=\"lower right\")\n",
    "plt.xlabel(\"FPR\")\n",
    "plt.ylabel(\"TPR\")\n",
    "plt.show()"
   ]
  },
  {
   "cell_type": "code",
   "execution_count": null,
   "metadata": {},
   "outputs": [],
   "source": []
  }
 ],
 "metadata": {
  "kernelspec": {
   "display_name": "Python 3",
   "language": "python",
   "name": "python3"
  },
  "language_info": {
   "codemirror_mode": {
    "name": "ipython",
    "version": 3
   },
   "file_extension": ".py",
   "mimetype": "text/x-python",
   "name": "python",
   "nbconvert_exporter": "python",
   "pygments_lexer": "ipython3",
   "version": "3.6.5"
  }
 },
 "nbformat": 4,
 "nbformat_minor": 2
}
